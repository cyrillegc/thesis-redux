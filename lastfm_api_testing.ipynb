{
 "cells": [
  {
   "cell_type": "code",
   "execution_count": 6,
   "id": "b4622849-39d2-41d4-a7ee-7db5244b6eaf",
   "metadata": {},
   "outputs": [],
   "source": [
    "import pylast"
   ]
  },
  {
   "cell_type": "code",
   "execution_count": 8,
   "id": "e7aa82e6-c4cf-4c20-af26-fdf48bb32c92",
   "metadata": {},
   "outputs": [],
   "source": [
    "API_KEY = \"661beceeb77110f9007ba0b34998cd32\"\n",
    "API_SECRET = \"4e843bc0d781685b2b382d7ecfc54b3b\"\n",
    "network = pylast.LastFMNetwork(\n",
    "    api_key=API_KEY,\n",
    "    api_secret=API_SECRET,\n",
    ")"
   ]
  },
  {
   "cell_type": "code",
   "execution_count": 41,
   "id": "cedacdc9-eda7-450c-9aab-8b481b9fac44",
   "metadata": {},
   "outputs": [
    {
     "data": {
      "text/plain": [
       "pylast.Album('The Peacocks', \"It's Time For\", pylast.LastFMNetwork('661beceeb77110f9007ba0b34998cd32', '4e843bc0d781685b2b382d7ecfc54b3b', '', '', ''))"
      ]
     },
     "execution_count": 41,
     "metadata": {},
     "output_type": "execute_result"
    }
   ],
   "source": [
    "artist = network.get_artist('Peacocks')\n",
    "top = artist.get_top_albums()\n",
    "top[0][0]"
   ]
  }
 ],
 "metadata": {
  "kernelspec": {
   "display_name": "Python 3 (ipykernel)",
   "language": "python",
   "name": "python3"
  },
  "language_info": {
   "codemirror_mode": {
    "name": "ipython",
    "version": 3
   },
   "file_extension": ".py",
   "mimetype": "text/x-python",
   "name": "python",
   "nbconvert_exporter": "python",
   "pygments_lexer": "ipython3",
   "version": "3.8.9"
  }
 },
 "nbformat": 4,
 "nbformat_minor": 5
}
