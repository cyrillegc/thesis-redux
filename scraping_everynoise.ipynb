{
 "cells": [
  {
   "cell_type": "code",
   "execution_count": 50,
   "id": "9d7e9da0-5b88-49e9-b744-37003ddede31",
   "metadata": {},
   "outputs": [],
   "source": [
    "import requests\n",
    "import time\n",
    "import pickle\n",
    "from bs4 import BeautifulSoup\n",
    "import re\n",
    "import json\n",
    "import pandas as pd\n",
    "import os\n",
    "from tqdm import tqdm"
   ]
  },
  {
   "cell_type": "code",
   "execution_count": 51,
   "id": "091e4bb9-13e3-43a4-bf00-5accc0305ea1",
   "metadata": {
    "tags": []
   },
   "outputs": [],
   "source": [
    "url = 'https://everynoise.com/everynoise1d.cgi?scope=all'\n",
    "response = requests.get(BASE_URL)\n",
    "soup = BeautifulSoup(response.content, 'html.parser')"
   ]
  },
  {
   "cell_type": "code",
   "execution_count": 52,
   "id": "525b419a-2087-4fd2-9fc3-65acc9746eed",
   "metadata": {
    "tags": []
   },
   "outputs": [
    {
     "data": {
      "text/plain": [
       "5602"
      ]
     },
     "execution_count": 52,
     "metadata": {},
     "output_type": "execute_result"
    }
   ],
   "source": [
    "everynoise_dict = dict()\n",
    "count = 0\n",
    "\n",
    "all_links = soup.find_all('a')\n",
    "for link in all_links:\n",
    "    href = link.get('href')\n",
    "    if '?root=' in href:\n",
    "        genre_id = re.findall(r'(?<=\\?root=).+(?=&scope=all)', href)[0]\n",
    "        \n",
    "        # remove special characters from genre_id to match id in wikidata\n",
    "        genre_id = re.sub(r'%20', '', genre_id)  # remove space\n",
    "        genre_id = re.sub(r'%26', '', genre_id)  # remove &\n",
    "        genre_id = re.sub(r'%27', '', genre_id)  # remove '\n",
    "        genre_id = re.sub(r'%2B', '', genre_id)  # remove +\n",
    "        genre_id = re.sub(r'%C3%BA', '', genre_id)  # remove ú\n",
    "        genre_id = re.sub(r'%3A', '', genre_id)  # remove :\n",
    "        genre_id = re.sub(r'-', '', genre_id)\n",
    "        \n",
    "        # check that genre_id is only made of alpha-num characters\n",
    "        non_alphanum = re.findall(r'\\W', genre_id)\n",
    "        if non_alphanum:\n",
    "            print(genre_id)\n",
    "        \n",
    "        genre_name = link.text\n",
    "        everynoise_dict[count] = {'everynoise_id': genre_id, 'everynoise_name': genre_name}\n",
    "        count += 1\n",
    "        \n",
    "len(everynoise_dict)"
   ]
  },
  {
   "cell_type": "code",
   "execution_count": 53,
   "id": "dd09e457-5eda-4e5a-b60c-490883064341",
   "metadata": {},
   "outputs": [
    {
     "data": {
      "text/html": [
       "<div>\n",
       "<style scoped>\n",
       "    .dataframe tbody tr th:only-of-type {\n",
       "        vertical-align: middle;\n",
       "    }\n",
       "\n",
       "    .dataframe tbody tr th {\n",
       "        vertical-align: top;\n",
       "    }\n",
       "\n",
       "    .dataframe thead th {\n",
       "        text-align: right;\n",
       "    }\n",
       "</style>\n",
       "<table border=\"1\" class=\"dataframe\">\n",
       "  <thead>\n",
       "    <tr style=\"text-align: right;\">\n",
       "      <th></th>\n",
       "      <th>everynoise_id</th>\n",
       "      <th>everynoise_name</th>\n",
       "    </tr>\n",
       "  </thead>\n",
       "  <tbody>\n",
       "    <tr>\n",
       "      <th>0</th>\n",
       "      <td>21stcenturyclassical</td>\n",
       "      <td>21st century classical</td>\n",
       "    </tr>\n",
       "    <tr>\n",
       "      <th>1</th>\n",
       "      <td>432hz</td>\n",
       "      <td>432hz</td>\n",
       "    </tr>\n",
       "    <tr>\n",
       "      <th>2</th>\n",
       "      <td>48g</td>\n",
       "      <td>48g</td>\n",
       "    </tr>\n",
       "    <tr>\n",
       "      <th>3</th>\n",
       "      <td>5thwaveemo</td>\n",
       "      <td>5th wave emo</td>\n",
       "    </tr>\n",
       "    <tr>\n",
       "      <th>4</th>\n",
       "      <td>8bit</td>\n",
       "      <td>8-bit</td>\n",
       "    </tr>\n",
       "    <tr>\n",
       "      <th>...</th>\n",
       "      <td>...</td>\n",
       "      <td>...</td>\n",
       "    </tr>\n",
       "    <tr>\n",
       "      <th>5597</th>\n",
       "      <td>zouglou</td>\n",
       "      <td>zouglou</td>\n",
       "    </tr>\n",
       "    <tr>\n",
       "      <th>5598</th>\n",
       "      <td>zouk</td>\n",
       "      <td>zouk</td>\n",
       "    </tr>\n",
       "    <tr>\n",
       "      <th>5599</th>\n",
       "      <td>zoukriddim</td>\n",
       "      <td>zouk riddim</td>\n",
       "    </tr>\n",
       "    <tr>\n",
       "      <th>5600</th>\n",
       "      <td>zurichindie</td>\n",
       "      <td>zurich indie</td>\n",
       "    </tr>\n",
       "    <tr>\n",
       "      <th>5601</th>\n",
       "      <td>zydeco</td>\n",
       "      <td>zydeco</td>\n",
       "    </tr>\n",
       "  </tbody>\n",
       "</table>\n",
       "<p>5602 rows × 2 columns</p>\n",
       "</div>"
      ],
      "text/plain": [
       "             everynoise_id         everynoise_name\n",
       "0     21stcenturyclassical  21st century classical\n",
       "1                    432hz                   432hz\n",
       "2                      48g                     48g\n",
       "3               5thwaveemo            5th wave emo\n",
       "4                     8bit                   8-bit\n",
       "...                    ...                     ...\n",
       "5597               zouglou                 zouglou\n",
       "5598                  zouk                    zouk\n",
       "5599            zoukriddim             zouk riddim\n",
       "5600           zurichindie            zurich indie\n",
       "5601                zydeco                  zydeco\n",
       "\n",
       "[5602 rows x 2 columns]"
      ]
     },
     "execution_count": 53,
     "metadata": {},
     "output_type": "execute_result"
    }
   ],
   "source": [
    "everynoise_df = pd.DataFrame.from_dict(everynoise_dict, orient='index')\n",
    "everynoise_df = everynoise_df.sort_values(by=['everynoise_id']).reset_index(drop=True)\n",
    "everynoise_df.to_csv('data/data_everynoise_genres.csv', encoding='utf-8')\n",
    "everynoise_df"
   ]
  }
 ],
 "metadata": {
  "kernelspec": {
   "display_name": "Python 3 (ipykernel)",
   "language": "python",
   "name": "python3"
  },
  "language_info": {
   "codemirror_mode": {
    "name": "ipython",
    "version": 3
   },
   "file_extension": ".py",
   "mimetype": "text/x-python",
   "name": "python",
   "nbconvert_exporter": "python",
   "pygments_lexer": "ipython3",
   "version": "3.8.9"
  }
 },
 "nbformat": 4,
 "nbformat_minor": 5
}