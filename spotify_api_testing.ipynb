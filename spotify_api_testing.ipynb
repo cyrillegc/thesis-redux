{
 "cells": [
  {
   "cell_type": "code",
   "execution_count": 3,
   "id": "1169d969-b622-4a89-89c0-ac2ae3f568b8",
   "metadata": {},
   "outputs": [],
   "source": [
    "import pandas as pd\n",
    "import spotipy\n",
    "from spotipy.oauth2 import SpotifyClientCredentials\n",
    "import time\n",
    "from difflib import SequenceMatcher\n",
    "from tqdm import tqdm\n",
    "from bs4 import BeautifulSoup\n",
    "import requests\n",
    "import re"
   ]
  },
  {
   "cell_type": "code",
   "execution_count": 84,
   "id": "23498d65-af85-44b1-a867-dee5e095c65e",
   "metadata": {},
   "outputs": [],
   "source": [
    "APP_CLIENT_ID = \"668e0c3c0e374ae9baeb91ddcd72d537\"\n",
    "APP_CLIENT_SECRET = \"b14c0ec7a011407aa78cb688151a69a7\"\n",
    "CRAWL_MATCH_FOLDER = 'crawl/spotify_matching/'\n",
    "\n",
    "sp = spotipy.Spotify(auth_manager=SpotifyClientCredentials(client_id=APP_CLIENT_ID, client_secret=APP_CLIENT_SECRET))"
   ]
  },
  {
   "cell_type": "code",
   "execution_count": 3,
   "id": "31d6d96e-8183-49c1-95b7-81dd7a11ad31",
   "metadata": {},
   "outputs": [
    {
     "data": {
      "text/html": [
       "<div>\n",
       "<style scoped>\n",
       "    .dataframe tbody tr th:only-of-type {\n",
       "        vertical-align: middle;\n",
       "    }\n",
       "\n",
       "    .dataframe tbody tr th {\n",
       "        vertical-align: top;\n",
       "    }\n",
       "\n",
       "    .dataframe thead th {\n",
       "        text-align: right;\n",
       "    }\n",
       "</style>\n",
       "<table border=\"1\" class=\"dataframe\">\n",
       "  <thead>\n",
       "    <tr style=\"text-align: right;\">\n",
       "      <th></th>\n",
       "      <th>artist_name</th>\n",
       "    </tr>\n",
       "  </thead>\n",
       "  <tbody>\n",
       "    <tr>\n",
       "      <th>/artists/3684861-chk-chk-chk</th>\n",
       "      <td>!!! (Chk Chk Chk)</td>\n",
       "    </tr>\n",
       "    <tr>\n",
       "      <th>/artists/694091-kadebostan</th>\n",
       "      <td>!!!Kadebostan!!!</td>\n",
       "    </tr>\n",
       "    <tr>\n",
       "      <th>/artists/5929284-brothers-in-bamako</th>\n",
       "      <td>\"Brothers In Bamako\"</td>\n",
       "    </tr>\n",
       "    <tr>\n",
       "      <th>/artists/8704378-floyd-division-the-austrian-pink-floyd-tribute-band</th>\n",
       "      <td>\"Floyd Division\" The Austrian Pink Floyd Tribu...</td>\n",
       "    </tr>\n",
       "    <tr>\n",
       "      <th>/artists/7172094-jazzetcetera-stewy-von-wattenwyl-group-feat-lisette-spinnler</th>\n",
       "      <td>\"Jazz...etcetera\" Stewy von Wattenwyl Group,  ...</td>\n",
       "    </tr>\n",
       "    <tr>\n",
       "      <th>...</th>\n",
       "      <td>...</td>\n",
       "    </tr>\n",
       "    <tr>\n",
       "      <th>/artists/4301-and-you-will-know-us-by-the-trail-of-dead</th>\n",
       "      <td>…And You Will Know Us by the Trail of Dead</td>\n",
       "    </tr>\n",
       "    <tr>\n",
       "      <th>/artists/1099500-euuroshima</th>\n",
       "      <td>€urOshima</td>\n",
       "    </tr>\n",
       "    <tr>\n",
       "      <th>/artists/9573874-belize-it</th>\n",
       "      <td>≈ Belize ≈</td>\n",
       "    </tr>\n",
       "    <tr>\n",
       "      <th>/artists/8889739-luo-chai-cao-yuan-wwww-prairie-wwww</th>\n",
       "      <td>落差草原 WWWW / Prairie WWWW</td>\n",
       "    </tr>\n",
       "    <tr>\n",
       "      <th>/artists/5427898-heymoonshaker</th>\n",
       "      <td>﻿﻿heymoonshaker</td>\n",
       "    </tr>\n",
       "  </tbody>\n",
       "</table>\n",
       "<p>32231 rows × 1 columns</p>\n",
       "</div>"
      ],
      "text/plain": [
       "                                                                                          artist_name\n",
       "/artists/3684861-chk-chk-chk                                                        !!! (Chk Chk Chk)\n",
       "/artists/694091-kadebostan                                                           !!!Kadebostan!!!\n",
       "/artists/5929284-brothers-in-bamako                                              \"Brothers In Bamako\"\n",
       "/artists/8704378-floyd-division-the-austrian-pi...  \"Floyd Division\" The Austrian Pink Floyd Tribu...\n",
       "/artists/7172094-jazzetcetera-stewy-von-wattenw...  \"Jazz...etcetera\" Stewy von Wattenwyl Group,  ...\n",
       "...                                                                                               ...\n",
       "/artists/4301-and-you-will-know-us-by-the-trail...         …And You Will Know Us by the Trail of Dead\n",
       "/artists/1099500-euuroshima                                                                 €urOshima\n",
       "/artists/9573874-belize-it                                                                ≈ Belize ≈ \n",
       "/artists/8889739-luo-chai-cao-yuan-wwww-prairie...                           落差草原 WWWW / Prairie WWWW\n",
       "/artists/5427898-heymoonshaker                                                        ﻿﻿heymoonshaker\n",
       "\n",
       "[32231 rows x 1 columns]"
      ]
     },
     "execution_count": 3,
     "metadata": {},
     "output_type": "execute_result"
    }
   ],
   "source": [
    "with open('data/data_artists.csv', encoding='utf-8') as artists_file:\n",
    "    artists_df = pd.read_csv(artists_file, index_col=0)\n",
    "\n",
    "artists_df"
   ]
  },
  {
   "cell_type": "code",
   "execution_count": 4,
   "id": "4fafdef8-4cdd-4c53-90c0-6ee8f07f83c0",
   "metadata": {},
   "outputs": [],
   "source": [
    "# get the similarity between two strings\n",
    "\n",
    "def similar(a, b):\n",
    "    return SequenceMatcher(None, a, b).ratio()"
   ]
  },
  {
   "cell_type": "code",
   "execution_count": 83,
   "id": "3f141ab6-6785-4c18-b2bc-f55e3287f9ed",
   "metadata": {},
   "outputs": [],
   "source": [
    "# save data at regular interval during process\n",
    "\n",
    "def save_temp_data(data_df, save_path):\n",
    "    data_df.to_csv(save_path, encoding='utf-8')\n",
    "    print(save_path)"
   ]
  },
  {
   "cell_type": "code",
   "execution_count": 6,
   "id": "c151604a-cfcf-4b5c-a6f9-3c4e1078ea9f",
   "metadata": {
    "collapsed": true,
    "jupyter": {
     "outputs_hidden": true
    },
    "tags": []
   },
   "outputs": [
    {
     "name": "stderr",
     "output_type": "stream",
     "text": [
      "100it [01:49,  1.11s/it]"
     ]
    },
    {
     "name": "stdout",
     "output_type": "stream",
     "text": [
      "crawl/spotify/temp_data_artists_matched.csv\n"
     ]
    },
    {
     "name": "stderr",
     "output_type": "stream",
     "text": [
      "200it [03:37,  1.11s/it]"
     ]
    },
    {
     "name": "stdout",
     "output_type": "stream",
     "text": [
      "crawl/spotify/temp_data_artists_matched.csv\n"
     ]
    },
    {
     "name": "stderr",
     "output_type": "stream",
     "text": [
      "300it [05:25,  1.15s/it]"
     ]
    },
    {
     "name": "stdout",
     "output_type": "stream",
     "text": [
      "crawl/spotify/temp_data_artists_matched.csv\n"
     ]
    },
    {
     "name": "stderr",
     "output_type": "stream",
     "text": [
      "400it [07:14,  1.11s/it]"
     ]
    },
    {
     "name": "stdout",
     "output_type": "stream",
     "text": [
      "crawl/spotify/temp_data_artists_matched.csv\n"
     ]
    },
    {
     "name": "stderr",
     "output_type": "stream",
     "text": [
      "500it [09:02,  1.11s/it]"
     ]
    },
    {
     "name": "stdout",
     "output_type": "stream",
     "text": [
      "crawl/spotify/temp_data_artists_matched.csv\n"
     ]
    },
    {
     "name": "stderr",
     "output_type": "stream",
     "text": [
      "600it [10:51,  1.12s/it]"
     ]
    },
    {
     "name": "stdout",
     "output_type": "stream",
     "text": [
      "crawl/spotify/temp_data_artists_matched.csv\n"
     ]
    },
    {
     "name": "stderr",
     "output_type": "stream",
     "text": [
      "700it [12:40,  1.20s/it]"
     ]
    },
    {
     "name": "stdout",
     "output_type": "stream",
     "text": [
      "crawl/spotify/temp_data_artists_matched.csv\n"
     ]
    },
    {
     "name": "stderr",
     "output_type": "stream",
     "text": [
      "800it [14:30,  1.15s/it]"
     ]
    },
    {
     "name": "stdout",
     "output_type": "stream",
     "text": [
      "crawl/spotify/temp_data_artists_matched.csv\n"
     ]
    },
    {
     "name": "stderr",
     "output_type": "stream",
     "text": [
      "900it [16:19,  1.11s/it]"
     ]
    },
    {
     "name": "stdout",
     "output_type": "stream",
     "text": [
      "crawl/spotify/temp_data_artists_matched.csv\n"
     ]
    },
    {
     "name": "stderr",
     "output_type": "stream",
     "text": [
      "1000it [18:08,  1.12s/it]"
     ]
    },
    {
     "name": "stdout",
     "output_type": "stream",
     "text": [
      "crawl/spotify/temp_data_artists_matched.csv\n"
     ]
    },
    {
     "name": "stderr",
     "output_type": "stream",
     "text": [
      "1100it [19:58,  1.15s/it]"
     ]
    },
    {
     "name": "stdout",
     "output_type": "stream",
     "text": [
      "crawl/spotify/temp_data_artists_matched.csv\n"
     ]
    },
    {
     "name": "stderr",
     "output_type": "stream",
     "text": [
      "1200it [21:48,  1.13s/it]"
     ]
    },
    {
     "name": "stdout",
     "output_type": "stream",
     "text": [
      "crawl/spotify/temp_data_artists_matched.csv\n"
     ]
    },
    {
     "name": "stderr",
     "output_type": "stream",
     "text": [
      "1300it [23:38,  1.11s/it]"
     ]
    },
    {
     "name": "stdout",
     "output_type": "stream",
     "text": [
      "crawl/spotify/temp_data_artists_matched.csv\n"
     ]
    },
    {
     "name": "stderr",
     "output_type": "stream",
     "text": [
      "1400it [25:28,  1.12s/it]"
     ]
    },
    {
     "name": "stdout",
     "output_type": "stream",
     "text": [
      "crawl/spotify/temp_data_artists_matched.csv\n"
     ]
    },
    {
     "name": "stderr",
     "output_type": "stream",
     "text": [
      "1500it [27:18,  1.10s/it]"
     ]
    },
    {
     "name": "stdout",
     "output_type": "stream",
     "text": [
      "crawl/spotify/temp_data_artists_matched.csv\n"
     ]
    },
    {
     "name": "stderr",
     "output_type": "stream",
     "text": [
      "1600it [29:06,  1.11s/it]"
     ]
    },
    {
     "name": "stdout",
     "output_type": "stream",
     "text": [
      "crawl/spotify/temp_data_artists_matched.csv\n"
     ]
    },
    {
     "name": "stderr",
     "output_type": "stream",
     "text": [
      "1700it [30:54,  1.11s/it]"
     ]
    },
    {
     "name": "stdout",
     "output_type": "stream",
     "text": [
      "crawl/spotify/temp_data_artists_matched.csv\n"
     ]
    },
    {
     "name": "stderr",
     "output_type": "stream",
     "text": [
      "1800it [32:42,  1.10s/it]"
     ]
    },
    {
     "name": "stdout",
     "output_type": "stream",
     "text": [
      "crawl/spotify/temp_data_artists_matched.csv\n"
     ]
    },
    {
     "name": "stderr",
     "output_type": "stream",
     "text": [
      "1900it [34:30,  1.10s/it]"
     ]
    },
    {
     "name": "stdout",
     "output_type": "stream",
     "text": [
      "crawl/spotify/temp_data_artists_matched.csv\n"
     ]
    },
    {
     "name": "stderr",
     "output_type": "stream",
     "text": [
      "2000it [36:18,  1.10s/it]"
     ]
    },
    {
     "name": "stdout",
     "output_type": "stream",
     "text": [
      "crawl/spotify/temp_data_artists_matched.csv\n"
     ]
    },
    {
     "name": "stderr",
     "output_type": "stream",
     "text": [
      "2100it [38:06,  1.09s/it]"
     ]
    },
    {
     "name": "stdout",
     "output_type": "stream",
     "text": [
      "crawl/spotify/temp_data_artists_matched.csv\n"
     ]
    },
    {
     "name": "stderr",
     "output_type": "stream",
     "text": [
      "2200it [39:56,  1.10s/it]"
     ]
    },
    {
     "name": "stdout",
     "output_type": "stream",
     "text": [
      "crawl/spotify/temp_data_artists_matched.csv\n"
     ]
    },
    {
     "name": "stderr",
     "output_type": "stream",
     "text": [
      "2300it [41:44,  1.09s/it]"
     ]
    },
    {
     "name": "stdout",
     "output_type": "stream",
     "text": [
      "crawl/spotify/temp_data_artists_matched.csv\n"
     ]
    },
    {
     "name": "stderr",
     "output_type": "stream",
     "text": [
      "2400it [43:32,  1.11s/it]"
     ]
    },
    {
     "name": "stdout",
     "output_type": "stream",
     "text": [
      "crawl/spotify/temp_data_artists_matched.csv\n"
     ]
    },
    {
     "name": "stderr",
     "output_type": "stream",
     "text": [
      "2500it [45:20,  1.11s/it]"
     ]
    },
    {
     "name": "stdout",
     "output_type": "stream",
     "text": [
      "crawl/spotify/temp_data_artists_matched.csv\n"
     ]
    },
    {
     "name": "stderr",
     "output_type": "stream",
     "text": [
      "2600it [47:08,  1.09s/it]"
     ]
    },
    {
     "name": "stdout",
     "output_type": "stream",
     "text": [
      "crawl/spotify/temp_data_artists_matched.csv\n"
     ]
    },
    {
     "name": "stderr",
     "output_type": "stream",
     "text": [
      "2700it [48:56,  1.09s/it]"
     ]
    },
    {
     "name": "stdout",
     "output_type": "stream",
     "text": [
      "crawl/spotify/temp_data_artists_matched.csv\n"
     ]
    },
    {
     "name": "stderr",
     "output_type": "stream",
     "text": [
      "2800it [50:44,  1.09s/it]"
     ]
    },
    {
     "name": "stdout",
     "output_type": "stream",
     "text": [
      "crawl/spotify/temp_data_artists_matched.csv\n"
     ]
    },
    {
     "name": "stderr",
     "output_type": "stream",
     "text": [
      "2900it [52:32,  1.11s/it]"
     ]
    },
    {
     "name": "stdout",
     "output_type": "stream",
     "text": [
      "crawl/spotify/temp_data_artists_matched.csv\n"
     ]
    },
    {
     "name": "stderr",
     "output_type": "stream",
     "text": [
      "3000it [54:20,  1.09s/it]"
     ]
    },
    {
     "name": "stdout",
     "output_type": "stream",
     "text": [
      "crawl/spotify/temp_data_artists_matched.csv\n"
     ]
    },
    {
     "name": "stderr",
     "output_type": "stream",
     "text": [
      "3100it [56:08,  1.10s/it]"
     ]
    },
    {
     "name": "stdout",
     "output_type": "stream",
     "text": [
      "crawl/spotify/temp_data_artists_matched.csv\n"
     ]
    },
    {
     "name": "stderr",
     "output_type": "stream",
     "text": [
      "3200it [57:57,  1.10s/it]"
     ]
    },
    {
     "name": "stdout",
     "output_type": "stream",
     "text": [
      "crawl/spotify/temp_data_artists_matched.csv\n"
     ]
    },
    {
     "name": "stderr",
     "output_type": "stream",
     "text": [
      "3300it [59:45,  1.11s/it]"
     ]
    },
    {
     "name": "stdout",
     "output_type": "stream",
     "text": [
      "crawl/spotify/temp_data_artists_matched.csv\n"
     ]
    },
    {
     "name": "stderr",
     "output_type": "stream",
     "text": [
      "3400it [1:01:33,  1.14s/it]"
     ]
    },
    {
     "name": "stdout",
     "output_type": "stream",
     "text": [
      "crawl/spotify/temp_data_artists_matched.csv\n"
     ]
    },
    {
     "name": "stderr",
     "output_type": "stream",
     "text": [
      "3500it [1:03:22,  1.10s/it]"
     ]
    },
    {
     "name": "stdout",
     "output_type": "stream",
     "text": [
      "crawl/spotify/temp_data_artists_matched.csv\n"
     ]
    },
    {
     "name": "stderr",
     "output_type": "stream",
     "text": [
      "3600it [1:05:10,  1.11s/it]"
     ]
    },
    {
     "name": "stdout",
     "output_type": "stream",
     "text": [
      "crawl/spotify/temp_data_artists_matched.csv\n"
     ]
    },
    {
     "name": "stderr",
     "output_type": "stream",
     "text": [
      "3700it [1:06:58,  1.10s/it]"
     ]
    },
    {
     "name": "stdout",
     "output_type": "stream",
     "text": [
      "crawl/spotify/temp_data_artists_matched.csv\n"
     ]
    },
    {
     "name": "stderr",
     "output_type": "stream",
     "text": [
      "3800it [1:08:46,  1.11s/it]"
     ]
    },
    {
     "name": "stdout",
     "output_type": "stream",
     "text": [
      "crawl/spotify/temp_data_artists_matched.csv\n"
     ]
    },
    {
     "name": "stderr",
     "output_type": "stream",
     "text": [
      "3900it [1:10:34,  1.09s/it]"
     ]
    },
    {
     "name": "stdout",
     "output_type": "stream",
     "text": [
      "crawl/spotify/temp_data_artists_matched.csv\n"
     ]
    },
    {
     "name": "stderr",
     "output_type": "stream",
     "text": [
      "4000it [1:12:23,  1.11s/it]"
     ]
    },
    {
     "name": "stdout",
     "output_type": "stream",
     "text": [
      "crawl/spotify/temp_data_artists_matched.csv\n"
     ]
    },
    {
     "name": "stderr",
     "output_type": "stream",
     "text": [
      "4100it [1:14:11,  1.10s/it]"
     ]
    },
    {
     "name": "stdout",
     "output_type": "stream",
     "text": [
      "crawl/spotify/temp_data_artists_matched.csv\n"
     ]
    },
    {
     "name": "stderr",
     "output_type": "stream",
     "text": [
      "4200it [1:15:59,  1.11s/it]"
     ]
    },
    {
     "name": "stdout",
     "output_type": "stream",
     "text": [
      "crawl/spotify/temp_data_artists_matched.csv\n"
     ]
    },
    {
     "name": "stderr",
     "output_type": "stream",
     "text": [
      "4300it [1:17:47,  1.09s/it]"
     ]
    },
    {
     "name": "stdout",
     "output_type": "stream",
     "text": [
      "crawl/spotify/temp_data_artists_matched.csv\n"
     ]
    },
    {
     "name": "stderr",
     "output_type": "stream",
     "text": [
      "4400it [1:19:35,  1.10s/it]"
     ]
    },
    {
     "name": "stdout",
     "output_type": "stream",
     "text": [
      "crawl/spotify/temp_data_artists_matched.csv\n"
     ]
    },
    {
     "name": "stderr",
     "output_type": "stream",
     "text": [
      "4500it [1:21:23,  1.10s/it]"
     ]
    },
    {
     "name": "stdout",
     "output_type": "stream",
     "text": [
      "crawl/spotify/temp_data_artists_matched.csv\n"
     ]
    },
    {
     "name": "stderr",
     "output_type": "stream",
     "text": [
      "4600it [1:23:10,  1.10s/it]"
     ]
    },
    {
     "name": "stdout",
     "output_type": "stream",
     "text": [
      "crawl/spotify/temp_data_artists_matched.csv\n"
     ]
    },
    {
     "name": "stderr",
     "output_type": "stream",
     "text": [
      "4700it [1:24:58,  1.10s/it]"
     ]
    },
    {
     "name": "stdout",
     "output_type": "stream",
     "text": [
      "crawl/spotify/temp_data_artists_matched.csv\n"
     ]
    },
    {
     "name": "stderr",
     "output_type": "stream",
     "text": [
      "4800it [1:26:46,  1.10s/it]"
     ]
    },
    {
     "name": "stdout",
     "output_type": "stream",
     "text": [
      "crawl/spotify/temp_data_artists_matched.csv\n"
     ]
    },
    {
     "name": "stderr",
     "output_type": "stream",
     "text": [
      "4900it [1:28:34,  1.09s/it]"
     ]
    },
    {
     "name": "stdout",
     "output_type": "stream",
     "text": [
      "crawl/spotify/temp_data_artists_matched.csv\n"
     ]
    },
    {
     "name": "stderr",
     "output_type": "stream",
     "text": [
      "5000it [1:30:22,  1.10s/it]"
     ]
    },
    {
     "name": "stdout",
     "output_type": "stream",
     "text": [
      "crawl/spotify/temp_data_artists_matched.csv\n"
     ]
    },
    {
     "name": "stderr",
     "output_type": "stream",
     "text": [
      "5100it [1:32:12,  1.10s/it]"
     ]
    },
    {
     "name": "stdout",
     "output_type": "stream",
     "text": [
      "crawl/spotify/temp_data_artists_matched.csv\n"
     ]
    },
    {
     "name": "stderr",
     "output_type": "stream",
     "text": [
      "5200it [1:34:00,  1.10s/it]"
     ]
    },
    {
     "name": "stdout",
     "output_type": "stream",
     "text": [
      "crawl/spotify/temp_data_artists_matched.csv\n"
     ]
    },
    {
     "name": "stderr",
     "output_type": "stream",
     "text": [
      "5300it [1:35:48,  1.10s/it]"
     ]
    },
    {
     "name": "stdout",
     "output_type": "stream",
     "text": [
      "crawl/spotify/temp_data_artists_matched.csv\n"
     ]
    },
    {
     "name": "stderr",
     "output_type": "stream",
     "text": [
      "5400it [1:37:36,  1.10s/it]"
     ]
    },
    {
     "name": "stdout",
     "output_type": "stream",
     "text": [
      "crawl/spotify/temp_data_artists_matched.csv\n"
     ]
    },
    {
     "name": "stderr",
     "output_type": "stream",
     "text": [
      "5500it [1:39:24,  1.11s/it]"
     ]
    },
    {
     "name": "stdout",
     "output_type": "stream",
     "text": [
      "crawl/spotify/temp_data_artists_matched.csv\n"
     ]
    },
    {
     "name": "stderr",
     "output_type": "stream",
     "text": [
      "5600it [1:41:11,  1.10s/it]"
     ]
    },
    {
     "name": "stdout",
     "output_type": "stream",
     "text": [
      "crawl/spotify/temp_data_artists_matched.csv\n"
     ]
    },
    {
     "name": "stderr",
     "output_type": "stream",
     "text": [
      "5700it [1:42:59,  1.09s/it]"
     ]
    },
    {
     "name": "stdout",
     "output_type": "stream",
     "text": [
      "crawl/spotify/temp_data_artists_matched.csv\n"
     ]
    },
    {
     "name": "stderr",
     "output_type": "stream",
     "text": [
      "5800it [1:44:47,  1.11s/it]"
     ]
    },
    {
     "name": "stdout",
     "output_type": "stream",
     "text": [
      "crawl/spotify/temp_data_artists_matched.csv\n"
     ]
    },
    {
     "name": "stderr",
     "output_type": "stream",
     "text": [
      "5900it [1:46:35,  1.10s/it]"
     ]
    },
    {
     "name": "stdout",
     "output_type": "stream",
     "text": [
      "crawl/spotify/temp_data_artists_matched.csv\n"
     ]
    },
    {
     "name": "stderr",
     "output_type": "stream",
     "text": [
      "6000it [1:48:22,  1.12s/it]"
     ]
    },
    {
     "name": "stdout",
     "output_type": "stream",
     "text": [
      "crawl/spotify/temp_data_artists_matched.csv\n"
     ]
    },
    {
     "name": "stderr",
     "output_type": "stream",
     "text": [
      "6100it [1:50:11,  1.12s/it]"
     ]
    },
    {
     "name": "stdout",
     "output_type": "stream",
     "text": [
      "crawl/spotify/temp_data_artists_matched.csv\n"
     ]
    },
    {
     "name": "stderr",
     "output_type": "stream",
     "text": [
      "6200it [1:51:59,  1.10s/it]"
     ]
    },
    {
     "name": "stdout",
     "output_type": "stream",
     "text": [
      "crawl/spotify/temp_data_artists_matched.csv\n"
     ]
    },
    {
     "name": "stderr",
     "output_type": "stream",
     "text": [
      "6300it [1:53:47,  1.09s/it]"
     ]
    },
    {
     "name": "stdout",
     "output_type": "stream",
     "text": [
      "crawl/spotify/temp_data_artists_matched.csv\n"
     ]
    },
    {
     "name": "stderr",
     "output_type": "stream",
     "text": [
      "6400it [1:55:35,  1.09s/it]"
     ]
    },
    {
     "name": "stdout",
     "output_type": "stream",
     "text": [
      "crawl/spotify/temp_data_artists_matched.csv\n"
     ]
    },
    {
     "name": "stderr",
     "output_type": "stream",
     "text": [
      "6500it [1:57:23,  1.11s/it]"
     ]
    },
    {
     "name": "stdout",
     "output_type": "stream",
     "text": [
      "crawl/spotify/temp_data_artists_matched.csv\n"
     ]
    },
    {
     "name": "stderr",
     "output_type": "stream",
     "text": [
      "6600it [1:59:11,  1.11s/it]"
     ]
    },
    {
     "name": "stdout",
     "output_type": "stream",
     "text": [
      "crawl/spotify/temp_data_artists_matched.csv\n"
     ]
    },
    {
     "name": "stderr",
     "output_type": "stream",
     "text": [
      "6700it [2:00:59,  1.10s/it]"
     ]
    },
    {
     "name": "stdout",
     "output_type": "stream",
     "text": [
      "crawl/spotify/temp_data_artists_matched.csv\n"
     ]
    },
    {
     "name": "stderr",
     "output_type": "stream",
     "text": [
      "6800it [2:02:48,  1.08s/it]"
     ]
    },
    {
     "name": "stdout",
     "output_type": "stream",
     "text": [
      "crawl/spotify/temp_data_artists_matched.csv\n"
     ]
    },
    {
     "name": "stderr",
     "output_type": "stream",
     "text": [
      "6900it [2:04:36,  1.11s/it]"
     ]
    },
    {
     "name": "stdout",
     "output_type": "stream",
     "text": [
      "crawl/spotify/temp_data_artists_matched.csv\n"
     ]
    },
    {
     "name": "stderr",
     "output_type": "stream",
     "text": [
      "7000it [2:06:23,  1.10s/it]"
     ]
    },
    {
     "name": "stdout",
     "output_type": "stream",
     "text": [
      "crawl/spotify/temp_data_artists_matched.csv\n"
     ]
    },
    {
     "name": "stderr",
     "output_type": "stream",
     "text": [
      "7100it [2:08:11,  1.09s/it]"
     ]
    },
    {
     "name": "stdout",
     "output_type": "stream",
     "text": [
      "crawl/spotify/temp_data_artists_matched.csv\n"
     ]
    },
    {
     "name": "stderr",
     "output_type": "stream",
     "text": [
      "7200it [2:09:59,  1.10s/it]"
     ]
    },
    {
     "name": "stdout",
     "output_type": "stream",
     "text": [
      "crawl/spotify/temp_data_artists_matched.csv\n"
     ]
    },
    {
     "name": "stderr",
     "output_type": "stream",
     "text": [
      "7300it [2:11:49,  1.10s/it]"
     ]
    },
    {
     "name": "stdout",
     "output_type": "stream",
     "text": [
      "crawl/spotify/temp_data_artists_matched.csv\n"
     ]
    },
    {
     "name": "stderr",
     "output_type": "stream",
     "text": [
      "7400it [2:13:37,  1.09s/it]"
     ]
    },
    {
     "name": "stdout",
     "output_type": "stream",
     "text": [
      "crawl/spotify/temp_data_artists_matched.csv\n"
     ]
    },
    {
     "name": "stderr",
     "output_type": "stream",
     "text": [
      "7500it [2:15:25,  1.10s/it]"
     ]
    },
    {
     "name": "stdout",
     "output_type": "stream",
     "text": [
      "crawl/spotify/temp_data_artists_matched.csv\n"
     ]
    },
    {
     "name": "stderr",
     "output_type": "stream",
     "text": [
      "7600it [2:17:13,  1.10s/it]"
     ]
    },
    {
     "name": "stdout",
     "output_type": "stream",
     "text": [
      "crawl/spotify/temp_data_artists_matched.csv\n"
     ]
    },
    {
     "name": "stderr",
     "output_type": "stream",
     "text": [
      "7700it [2:19:01,  1.09s/it]"
     ]
    },
    {
     "name": "stdout",
     "output_type": "stream",
     "text": [
      "crawl/spotify/temp_data_artists_matched.csv\n"
     ]
    },
    {
     "name": "stderr",
     "output_type": "stream",
     "text": [
      "7800it [2:20:49,  1.10s/it]"
     ]
    },
    {
     "name": "stdout",
     "output_type": "stream",
     "text": [
      "crawl/spotify/temp_data_artists_matched.csv\n"
     ]
    },
    {
     "name": "stderr",
     "output_type": "stream",
     "text": [
      "7831it [2:21:23,  1.08s/it]\n"
     ]
    },
    {
     "data": {
      "text/html": [
       "<div>\n",
       "<style scoped>\n",
       "    .dataframe tbody tr th:only-of-type {\n",
       "        vertical-align: middle;\n",
       "    }\n",
       "\n",
       "    .dataframe tbody tr th {\n",
       "        vertical-align: top;\n",
       "    }\n",
       "\n",
       "    .dataframe thead th {\n",
       "        text-align: right;\n",
       "    }\n",
       "</style>\n",
       "<table border=\"1\" class=\"dataframe\">\n",
       "  <thead>\n",
       "    <tr style=\"text-align: right;\">\n",
       "      <th></th>\n",
       "      <th>artist_name</th>\n",
       "      <th>spotify_name</th>\n",
       "      <th>spotify_id</th>\n",
       "      <th>spotify_similarity</th>\n",
       "      <th>spotify_popularity</th>\n",
       "    </tr>\n",
       "  </thead>\n",
       "  <tbody>\n",
       "    <tr>\n",
       "      <th>/artists/3684861-chk-chk-chk</th>\n",
       "      <td>!!! (Chk Chk Chk)</td>\n",
       "      <td>NaN</td>\n",
       "      <td>NaN</td>\n",
       "      <td>NaN</td>\n",
       "      <td>NaN</td>\n",
       "    </tr>\n",
       "    <tr>\n",
       "      <th>/artists/694091-kadebostan</th>\n",
       "      <td>!!!Kadebostan!!!</td>\n",
       "      <td>NaN</td>\n",
       "      <td>NaN</td>\n",
       "      <td>NaN</td>\n",
       "      <td>NaN</td>\n",
       "    </tr>\n",
       "    <tr>\n",
       "      <th>/artists/5929284-brothers-in-bamako</th>\n",
       "      <td>\"Brothers In Bamako\"</td>\n",
       "      <td>NaN</td>\n",
       "      <td>NaN</td>\n",
       "      <td>NaN</td>\n",
       "      <td>NaN</td>\n",
       "    </tr>\n",
       "    <tr>\n",
       "      <th>/artists/8704378-floyd-division-the-austrian-pink-floyd-tribute-band</th>\n",
       "      <td>\"Floyd Division\" The Austrian Pink Floyd Tribu...</td>\n",
       "      <td>NaN</td>\n",
       "      <td>NaN</td>\n",
       "      <td>NaN</td>\n",
       "      <td>NaN</td>\n",
       "    </tr>\n",
       "    <tr>\n",
       "      <th>/artists/7172094-jazzetcetera-stewy-von-wattenwyl-group-feat-lisette-spinnler</th>\n",
       "      <td>\"Jazz...etcetera\" Stewy von Wattenwyl Group,  ...</td>\n",
       "      <td>NaN</td>\n",
       "      <td>NaN</td>\n",
       "      <td>NaN</td>\n",
       "      <td>NaN</td>\n",
       "    </tr>\n",
       "    <tr>\n",
       "      <th>...</th>\n",
       "      <td>...</td>\n",
       "      <td>...</td>\n",
       "      <td>...</td>\n",
       "      <td>...</td>\n",
       "      <td>...</td>\n",
       "    </tr>\n",
       "    <tr>\n",
       "      <th>/artists/4301-and-you-will-know-us-by-the-trail-of-dead</th>\n",
       "      <td>…And You Will Know Us by the Trail of Dead</td>\n",
       "      <td>...And You Will Know Us by the Trail of Dead</td>\n",
       "      <td>6wBUn8gMP85n8dPu6LoUcF</td>\n",
       "      <td>0.95</td>\n",
       "      <td>39.0</td>\n",
       "    </tr>\n",
       "    <tr>\n",
       "      <th>/artists/1099500-euuroshima</th>\n",
       "      <td>€urOshima</td>\n",
       "      <td>Taro Urashima</td>\n",
       "      <td>5RSxs4Rb82wINvjv5KJ7JK</td>\n",
       "      <td>0.55</td>\n",
       "      <td>36.0</td>\n",
       "    </tr>\n",
       "    <tr>\n",
       "      <th>/artists/9573874-belize-it</th>\n",
       "      <td>≈ Belize ≈</td>\n",
       "      <td>≈ Belize ≈</td>\n",
       "      <td>3b8bBMsmGoBd8gYn1pngNc</td>\n",
       "      <td>0.95</td>\n",
       "      <td>15.0</td>\n",
       "    </tr>\n",
       "    <tr>\n",
       "      <th>/artists/8889739-luo-chai-cao-yuan-wwww-prairie-wwww</th>\n",
       "      <td>落差草原 WWWW / Prairie WWWW</td>\n",
       "      <td>NaN</td>\n",
       "      <td>NaN</td>\n",
       "      <td>NaN</td>\n",
       "      <td>NaN</td>\n",
       "    </tr>\n",
       "    <tr>\n",
       "      <th>/artists/5427898-heymoonshaker</th>\n",
       "      <td>﻿﻿heymoonshaker</td>\n",
       "      <td>Heymoonshaker</td>\n",
       "      <td>1ar2o79WFRJbq4lci6jq55</td>\n",
       "      <td>0.86</td>\n",
       "      <td>26.0</td>\n",
       "    </tr>\n",
       "  </tbody>\n",
       "</table>\n",
       "<p>32231 rows × 5 columns</p>\n",
       "</div>"
      ],
      "text/plain": [
       "                                                                                          artist_name  \\\n",
       "/artists/3684861-chk-chk-chk                                                        !!! (Chk Chk Chk)   \n",
       "/artists/694091-kadebostan                                                           !!!Kadebostan!!!   \n",
       "/artists/5929284-brothers-in-bamako                                              \"Brothers In Bamako\"   \n",
       "/artists/8704378-floyd-division-the-austrian-pi...  \"Floyd Division\" The Austrian Pink Floyd Tribu...   \n",
       "/artists/7172094-jazzetcetera-stewy-von-wattenw...  \"Jazz...etcetera\" Stewy von Wattenwyl Group,  ...   \n",
       "...                                                                                               ...   \n",
       "/artists/4301-and-you-will-know-us-by-the-trail...         …And You Will Know Us by the Trail of Dead   \n",
       "/artists/1099500-euuroshima                                                                 €urOshima   \n",
       "/artists/9573874-belize-it                                                                ≈ Belize ≈    \n",
       "/artists/8889739-luo-chai-cao-yuan-wwww-prairie...                           落差草原 WWWW / Prairie WWWW   \n",
       "/artists/5427898-heymoonshaker                                                        ﻿﻿heymoonshaker   \n",
       "\n",
       "                                                                                    spotify_name  \\\n",
       "/artists/3684861-chk-chk-chk                                                                 NaN   \n",
       "/artists/694091-kadebostan                                                                   NaN   \n",
       "/artists/5929284-brothers-in-bamako                                                          NaN   \n",
       "/artists/8704378-floyd-division-the-austrian-pi...                                           NaN   \n",
       "/artists/7172094-jazzetcetera-stewy-von-wattenw...                                           NaN   \n",
       "...                                                                                          ...   \n",
       "/artists/4301-and-you-will-know-us-by-the-trail...  ...And You Will Know Us by the Trail of Dead   \n",
       "/artists/1099500-euuroshima                                                        Taro Urashima   \n",
       "/artists/9573874-belize-it                                                            ≈ Belize ≈   \n",
       "/artists/8889739-luo-chai-cao-yuan-wwww-prairie...                                           NaN   \n",
       "/artists/5427898-heymoonshaker                                                     Heymoonshaker   \n",
       "\n",
       "                                                                spotify_id  \\\n",
       "/artists/3684861-chk-chk-chk                                           NaN   \n",
       "/artists/694091-kadebostan                                             NaN   \n",
       "/artists/5929284-brothers-in-bamako                                    NaN   \n",
       "/artists/8704378-floyd-division-the-austrian-pi...                     NaN   \n",
       "/artists/7172094-jazzetcetera-stewy-von-wattenw...                     NaN   \n",
       "...                                                                    ...   \n",
       "/artists/4301-and-you-will-know-us-by-the-trail...  6wBUn8gMP85n8dPu6LoUcF   \n",
       "/artists/1099500-euuroshima                         5RSxs4Rb82wINvjv5KJ7JK   \n",
       "/artists/9573874-belize-it                          3b8bBMsmGoBd8gYn1pngNc   \n",
       "/artists/8889739-luo-chai-cao-yuan-wwww-prairie...                     NaN   \n",
       "/artists/5427898-heymoonshaker                      1ar2o79WFRJbq4lci6jq55   \n",
       "\n",
       "                                                    spotify_similarity  \\\n",
       "/artists/3684861-chk-chk-chk                                       NaN   \n",
       "/artists/694091-kadebostan                                         NaN   \n",
       "/artists/5929284-brothers-in-bamako                                NaN   \n",
       "/artists/8704378-floyd-division-the-austrian-pi...                 NaN   \n",
       "/artists/7172094-jazzetcetera-stewy-von-wattenw...                 NaN   \n",
       "...                                                                ...   \n",
       "/artists/4301-and-you-will-know-us-by-the-trail...                0.95   \n",
       "/artists/1099500-euuroshima                                       0.55   \n",
       "/artists/9573874-belize-it                                        0.95   \n",
       "/artists/8889739-luo-chai-cao-yuan-wwww-prairie...                 NaN   \n",
       "/artists/5427898-heymoonshaker                                    0.86   \n",
       "\n",
       "                                                    spotify_popularity  \n",
       "/artists/3684861-chk-chk-chk                                       NaN  \n",
       "/artists/694091-kadebostan                                         NaN  \n",
       "/artists/5929284-brothers-in-bamako                                NaN  \n",
       "/artists/8704378-floyd-division-the-austrian-pi...                 NaN  \n",
       "/artists/7172094-jazzetcetera-stewy-von-wattenw...                 NaN  \n",
       "...                                                                ...  \n",
       "/artists/4301-and-you-will-know-us-by-the-trail...                39.0  \n",
       "/artists/1099500-euuroshima                                       36.0  \n",
       "/artists/9573874-belize-it                                        15.0  \n",
       "/artists/8889739-luo-chai-cao-yuan-wwww-prairie...                 NaN  \n",
       "/artists/5427898-heymoonshaker                                    26.0  \n",
       "\n",
       "[32231 rows x 5 columns]"
      ]
     },
     "execution_count": 6,
     "metadata": {},
     "output_type": "execute_result"
    }
   ],
   "source": [
    "# get the spotify id of every artist by searching the artist name on spotify\n",
    "\n",
    "counter = 0\n",
    "artists_matched_dict = dict()\n",
    "artists_matched_df = artists_df.copy()\n",
    "save_path = CRAWL_MATCH_FOLDER + 'temp_data_artists_matched.csv'\n",
    "\n",
    "for idx, row in tqdm(artists_df.iloc[24400:].iterrows()):\n",
    "    artist_name = row['artist_name']\n",
    "    query_string = artist_name.lower()\n",
    "    \n",
    "    # query the artist name through spotify search engine\n",
    "    results = sp.search(q=query_string, type='artist', limit=50, market='NO')\n",
    "    artist_query_list = list()\n",
    "    \n",
    "    for result in results['artists']['items']:\n",
    "        # find the similarity between the spotify name and the query name\n",
    "        similarity = round(similar(result['name'], artist_name), 2)\n",
    "        \n",
    "        artist_query_list.append({\n",
    "            'spotify_name': result['name'],\n",
    "            'spotify_id': result['id'],\n",
    "            'spotify_similarity': similarity,\n",
    "            'spotify_popularity': result['popularity'],\n",
    "        })\n",
    "    \n",
    "    # if the name yields results\n",
    "    if artist_query_list:\n",
    "        # get the spotify artist whose name is closer to the query and whose spotify popularity is the highest\n",
    "        artist_match = sorted(artist_query_list, key=lambda k: (k['spotify_similarity'], k['spotify_popularity']), reverse=True)[0]\n",
    "        for key, value in artist_match.items():\n",
    "            artists_matched_df.loc[idx, key] = value\n",
    "            \n",
    "    time.sleep(1)\n",
    "    counter += 1\n",
    "    \n",
    "    # save data at regular interval\n",
    "    if counter % 100 == 0:\n",
    "        save_temp_data(artists_matched_df, save_path)\n",
    "    \n",
    "artists_matched_df"
   ]
  },
  {
   "cell_type": "code",
   "execution_count": 85,
   "id": "3e1622e5-220f-42d7-bdad-0181ae27a5c4",
   "metadata": {},
   "outputs": [],
   "source": [
    "# open all temp csv files \n",
    "\n",
    "with open(CRAWL_MATCH_FOLDER + 'backup_09222021_0858/temp_data_artists_matched.csv', encoding='utf-8') as temp_file_1:\n",
    "    temp_0_df = pd.read_csv(temp_file_1, index_col=0).iloc[:17000]\n",
    "    \n",
    "with open(CRAWL_MATCH_FOLDER + 'backup_09222021_1621/temp_data_artists_matched.csv', encoding='utf-8') as temp_file_2:\n",
    "    temp_17000_df = pd.read_csv(temp_file_2, index_col=0).iloc[17000:21500]\n",
    "    \n",
    "with open(CRAWL_MATCH_FOLDER + 'backup_09222021_2105/temp_data_artists_matched.csv', encoding='utf-8') as temp_file_3:\n",
    "    temp_21500_df = pd.read_csv(temp_file_3, index_col=0).iloc[21500:24400]\n",
    "\n",
    "with open(CRAWL_MATCH_FOLDER + 'backup_09242021_1052/temp_data_artists_matched.csv', encoding='utf-8') as temp_file_4:\n",
    "    temp_24400_df = pd.read_csv(temp_file_4, index_col=0).iloc[24400:]"
   ]
  },
  {
   "cell_type": "code",
   "execution_count": 59,
   "id": "d4b7eb5f-e6cb-4d52-8bef-81a65a7e8915",
   "metadata": {},
   "outputs": [
    {
     "data": {
      "text/html": [
       "<div>\n",
       "<style scoped>\n",
       "    .dataframe tbody tr th:only-of-type {\n",
       "        vertical-align: middle;\n",
       "    }\n",
       "\n",
       "    .dataframe tbody tr th {\n",
       "        vertical-align: top;\n",
       "    }\n",
       "\n",
       "    .dataframe thead th {\n",
       "        text-align: right;\n",
       "    }\n",
       "</style>\n",
       "<table border=\"1\" class=\"dataframe\">\n",
       "  <thead>\n",
       "    <tr style=\"text-align: right;\">\n",
       "      <th></th>\n",
       "      <th>artist_name</th>\n",
       "      <th>spotify_name</th>\n",
       "      <th>spotify_id</th>\n",
       "      <th>spotify_similarity</th>\n",
       "      <th>spotify_popularity</th>\n",
       "    </tr>\n",
       "  </thead>\n",
       "  <tbody>\n",
       "    <tr>\n",
       "      <th>/artists/3684861-chk-chk-chk</th>\n",
       "      <td>!!! (Chk Chk Chk)</td>\n",
       "      <td>!!!</td>\n",
       "      <td>1mmehjf7eHA10uHMisZGJg</td>\n",
       "      <td>0.30</td>\n",
       "      <td>46.0</td>\n",
       "    </tr>\n",
       "    <tr>\n",
       "      <th>/artists/694091-kadebostan</th>\n",
       "      <td>!!!Kadebostan!!!</td>\n",
       "      <td>Kadebostan</td>\n",
       "      <td>6hWRK8VkzbYP9p17M5APJR</td>\n",
       "      <td>0.77</td>\n",
       "      <td>10.0</td>\n",
       "    </tr>\n",
       "    <tr>\n",
       "      <th>/artists/5929284-brothers-in-bamako</th>\n",
       "      <td>\"Brothers In Bamako\"</td>\n",
       "      <td>NaN</td>\n",
       "      <td>NaN</td>\n",
       "      <td>NaN</td>\n",
       "      <td>NaN</td>\n",
       "    </tr>\n",
       "    <tr>\n",
       "      <th>/artists/8704378-floyd-division-the-austrian-pink-floyd-tribute-band</th>\n",
       "      <td>\"Floyd Division\" The Austrian Pink Floyd Tribu...</td>\n",
       "      <td>NaN</td>\n",
       "      <td>NaN</td>\n",
       "      <td>NaN</td>\n",
       "      <td>NaN</td>\n",
       "    </tr>\n",
       "    <tr>\n",
       "      <th>/artists/7172094-jazzetcetera-stewy-von-wattenwyl-group-feat-lisette-spinnler</th>\n",
       "      <td>\"Jazz...etcetera\" Stewy von Wattenwyl Group,  ...</td>\n",
       "      <td>NaN</td>\n",
       "      <td>NaN</td>\n",
       "      <td>NaN</td>\n",
       "      <td>NaN</td>\n",
       "    </tr>\n",
       "    <tr>\n",
       "      <th>...</th>\n",
       "      <td>...</td>\n",
       "      <td>...</td>\n",
       "      <td>...</td>\n",
       "      <td>...</td>\n",
       "      <td>...</td>\n",
       "    </tr>\n",
       "    <tr>\n",
       "      <th>/artists/4301-and-you-will-know-us-by-the-trail-of-dead</th>\n",
       "      <td>…And You Will Know Us by the Trail of Dead</td>\n",
       "      <td>...And You Will Know Us by the Trail of Dead</td>\n",
       "      <td>6wBUn8gMP85n8dPu6LoUcF</td>\n",
       "      <td>0.95</td>\n",
       "      <td>39.0</td>\n",
       "    </tr>\n",
       "    <tr>\n",
       "      <th>/artists/1099500-euuroshima</th>\n",
       "      <td>€urOshima</td>\n",
       "      <td>Taro Urashima</td>\n",
       "      <td>5RSxs4Rb82wINvjv5KJ7JK</td>\n",
       "      <td>0.55</td>\n",
       "      <td>36.0</td>\n",
       "    </tr>\n",
       "    <tr>\n",
       "      <th>/artists/9573874-belize-it</th>\n",
       "      <td>≈ Belize ≈</td>\n",
       "      <td>≈ Belize ≈</td>\n",
       "      <td>3b8bBMsmGoBd8gYn1pngNc</td>\n",
       "      <td>0.95</td>\n",
       "      <td>15.0</td>\n",
       "    </tr>\n",
       "    <tr>\n",
       "      <th>/artists/8889739-luo-chai-cao-yuan-wwww-prairie-wwww</th>\n",
       "      <td>落差草原 WWWW / Prairie WWWW</td>\n",
       "      <td>NaN</td>\n",
       "      <td>NaN</td>\n",
       "      <td>NaN</td>\n",
       "      <td>NaN</td>\n",
       "    </tr>\n",
       "    <tr>\n",
       "      <th>/artists/5427898-heymoonshaker</th>\n",
       "      <td>﻿﻿heymoonshaker</td>\n",
       "      <td>Heymoonshaker</td>\n",
       "      <td>1ar2o79WFRJbq4lci6jq55</td>\n",
       "      <td>0.86</td>\n",
       "      <td>26.0</td>\n",
       "    </tr>\n",
       "  </tbody>\n",
       "</table>\n",
       "<p>32231 rows × 5 columns</p>\n",
       "</div>"
      ],
      "text/plain": [
       "                                                                                          artist_name  \\\n",
       "/artists/3684861-chk-chk-chk                                                        !!! (Chk Chk Chk)   \n",
       "/artists/694091-kadebostan                                                           !!!Kadebostan!!!   \n",
       "/artists/5929284-brothers-in-bamako                                              \"Brothers In Bamako\"   \n",
       "/artists/8704378-floyd-division-the-austrian-pi...  \"Floyd Division\" The Austrian Pink Floyd Tribu...   \n",
       "/artists/7172094-jazzetcetera-stewy-von-wattenw...  \"Jazz...etcetera\" Stewy von Wattenwyl Group,  ...   \n",
       "...                                                                                               ...   \n",
       "/artists/4301-and-you-will-know-us-by-the-trail...         …And You Will Know Us by the Trail of Dead   \n",
       "/artists/1099500-euuroshima                                                                 €urOshima   \n",
       "/artists/9573874-belize-it                                                                ≈ Belize ≈    \n",
       "/artists/8889739-luo-chai-cao-yuan-wwww-prairie...                           落差草原 WWWW / Prairie WWWW   \n",
       "/artists/5427898-heymoonshaker                                                        ﻿﻿heymoonshaker   \n",
       "\n",
       "                                                                                    spotify_name  \\\n",
       "/artists/3684861-chk-chk-chk                                                                 !!!   \n",
       "/artists/694091-kadebostan                                                            Kadebostan   \n",
       "/artists/5929284-brothers-in-bamako                                                          NaN   \n",
       "/artists/8704378-floyd-division-the-austrian-pi...                                           NaN   \n",
       "/artists/7172094-jazzetcetera-stewy-von-wattenw...                                           NaN   \n",
       "...                                                                                          ...   \n",
       "/artists/4301-and-you-will-know-us-by-the-trail...  ...And You Will Know Us by the Trail of Dead   \n",
       "/artists/1099500-euuroshima                                                        Taro Urashima   \n",
       "/artists/9573874-belize-it                                                            ≈ Belize ≈   \n",
       "/artists/8889739-luo-chai-cao-yuan-wwww-prairie...                                           NaN   \n",
       "/artists/5427898-heymoonshaker                                                     Heymoonshaker   \n",
       "\n",
       "                                                                spotify_id  \\\n",
       "/artists/3684861-chk-chk-chk                        1mmehjf7eHA10uHMisZGJg   \n",
       "/artists/694091-kadebostan                          6hWRK8VkzbYP9p17M5APJR   \n",
       "/artists/5929284-brothers-in-bamako                                    NaN   \n",
       "/artists/8704378-floyd-division-the-austrian-pi...                     NaN   \n",
       "/artists/7172094-jazzetcetera-stewy-von-wattenw...                     NaN   \n",
       "...                                                                    ...   \n",
       "/artists/4301-and-you-will-know-us-by-the-trail...  6wBUn8gMP85n8dPu6LoUcF   \n",
       "/artists/1099500-euuroshima                         5RSxs4Rb82wINvjv5KJ7JK   \n",
       "/artists/9573874-belize-it                          3b8bBMsmGoBd8gYn1pngNc   \n",
       "/artists/8889739-luo-chai-cao-yuan-wwww-prairie...                     NaN   \n",
       "/artists/5427898-heymoonshaker                      1ar2o79WFRJbq4lci6jq55   \n",
       "\n",
       "                                                    spotify_similarity  \\\n",
       "/artists/3684861-chk-chk-chk                                      0.30   \n",
       "/artists/694091-kadebostan                                        0.77   \n",
       "/artists/5929284-brothers-in-bamako                                NaN   \n",
       "/artists/8704378-floyd-division-the-austrian-pi...                 NaN   \n",
       "/artists/7172094-jazzetcetera-stewy-von-wattenw...                 NaN   \n",
       "...                                                                ...   \n",
       "/artists/4301-and-you-will-know-us-by-the-trail...                0.95   \n",
       "/artists/1099500-euuroshima                                       0.55   \n",
       "/artists/9573874-belize-it                                        0.95   \n",
       "/artists/8889739-luo-chai-cao-yuan-wwww-prairie...                 NaN   \n",
       "/artists/5427898-heymoonshaker                                    0.86   \n",
       "\n",
       "                                                    spotify_popularity  \n",
       "/artists/3684861-chk-chk-chk                                      46.0  \n",
       "/artists/694091-kadebostan                                        10.0  \n",
       "/artists/5929284-brothers-in-bamako                                NaN  \n",
       "/artists/8704378-floyd-division-the-austrian-pi...                 NaN  \n",
       "/artists/7172094-jazzetcetera-stewy-von-wattenw...                 NaN  \n",
       "...                                                                ...  \n",
       "/artists/4301-and-you-will-know-us-by-the-trail...                39.0  \n",
       "/artists/1099500-euuroshima                                       36.0  \n",
       "/artists/9573874-belize-it                                        15.0  \n",
       "/artists/8889739-luo-chai-cao-yuan-wwww-prairie...                 NaN  \n",
       "/artists/5427898-heymoonshaker                                    26.0  \n",
       "\n",
       "[32231 rows x 5 columns]"
      ]
     },
     "execution_count": 59,
     "metadata": {},
     "output_type": "execute_result"
    }
   ],
   "source": [
    "# merge all temp csv files\n",
    "\n",
    "artists_matched_df = pd.concat([temp_0_df, temp_17000_df, temp_21500_df, temp_24400_df])\n",
    "csv_filename = 'data/data_artists_matched.csv'\n",
    "artists_matched_df.to_csv(csv_filename, encoding='utf-8')\n",
    "artists_matched_df"
   ]
  },
  {
   "cell_type": "code",
   "execution_count": 58,
   "id": "2de33774-24a7-4b75-b179-2118c3ecb149",
   "metadata": {},
   "outputs": [
    {
     "data": {
      "text/html": [
       "<div>\n",
       "<style scoped>\n",
       "    .dataframe tbody tr th:only-of-type {\n",
       "        vertical-align: middle;\n",
       "    }\n",
       "\n",
       "    .dataframe tbody tr th {\n",
       "        vertical-align: top;\n",
       "    }\n",
       "\n",
       "    .dataframe thead th {\n",
       "        text-align: right;\n",
       "    }\n",
       "</style>\n",
       "<table border=\"1\" class=\"dataframe\">\n",
       "  <thead>\n",
       "    <tr style=\"text-align: right;\">\n",
       "      <th></th>\n",
       "      <th>artist_name</th>\n",
       "      <th>spotify_name</th>\n",
       "      <th>spotify_id</th>\n",
       "      <th>spotify_similarity</th>\n",
       "      <th>spotify_popularity</th>\n",
       "    </tr>\n",
       "  </thead>\n",
       "  <tbody>\n",
       "    <tr>\n",
       "      <th>/artists/5929284-brothers-in-bamako</th>\n",
       "      <td>\"Brothers In Bamako\"</td>\n",
       "      <td>NaN</td>\n",
       "      <td>NaN</td>\n",
       "      <td>NaN</td>\n",
       "      <td>NaN</td>\n",
       "    </tr>\n",
       "    <tr>\n",
       "      <th>/artists/8704378-floyd-division-the-austrian-pink-floyd-tribute-band</th>\n",
       "      <td>\"Floyd Division\" The Austrian Pink Floyd Tribu...</td>\n",
       "      <td>NaN</td>\n",
       "      <td>NaN</td>\n",
       "      <td>NaN</td>\n",
       "      <td>NaN</td>\n",
       "    </tr>\n",
       "    <tr>\n",
       "      <th>/artists/7172094-jazzetcetera-stewy-von-wattenwyl-group-feat-lisette-spinnler</th>\n",
       "      <td>\"Jazz...etcetera\" Stewy von Wattenwyl Group,  ...</td>\n",
       "      <td>NaN</td>\n",
       "      <td>NaN</td>\n",
       "      <td>NaN</td>\n",
       "      <td>NaN</td>\n",
       "    </tr>\n",
       "    <tr>\n",
       "      <th>/artists/7809989-and-francis-fruit</th>\n",
       "      <td>&amp; Francis Fruit</td>\n",
       "      <td>NaN</td>\n",
       "      <td>NaN</td>\n",
       "      <td>NaN</td>\n",
       "      <td>NaN</td>\n",
       "    </tr>\n",
       "    <tr>\n",
       "      <th>/artists/888062-food-for-ya-soul</th>\n",
       "      <td>*FOOD FOR YA SOUL*</td>\n",
       "      <td>NaN</td>\n",
       "      <td>NaN</td>\n",
       "      <td>NaN</td>\n",
       "      <td>NaN</td>\n",
       "    </tr>\n",
       "    <tr>\n",
       "      <th>...</th>\n",
       "      <td>...</td>\n",
       "      <td>...</td>\n",
       "      <td>...</td>\n",
       "      <td>...</td>\n",
       "      <td>...</td>\n",
       "    </tr>\n",
       "    <tr>\n",
       "      <th>/artists/7382169-eric-fernandez-choeurs-de-cordoue</th>\n",
       "      <td>Éric Fernandez Choeurs De Cordoue</td>\n",
       "      <td>NaN</td>\n",
       "      <td>NaN</td>\n",
       "      <td>NaN</td>\n",
       "      <td>NaN</td>\n",
       "    </tr>\n",
       "    <tr>\n",
       "      <th>/artists/7859544-opfelboum-und-palme</th>\n",
       "      <td>Öpfelboum Und Palme</td>\n",
       "      <td>NaN</td>\n",
       "      <td>NaN</td>\n",
       "      <td>NaN</td>\n",
       "      <td>NaN</td>\n",
       "    </tr>\n",
       "    <tr>\n",
       "      <th>/artists/4686513-ubers-meer</th>\n",
       "      <td>Übers Meer</td>\n",
       "      <td>NaN</td>\n",
       "      <td>NaN</td>\n",
       "      <td>NaN</td>\n",
       "      <td>NaN</td>\n",
       "    </tr>\n",
       "    <tr>\n",
       "      <th>/artists/4043776-uberreel</th>\n",
       "      <td>überreel</td>\n",
       "      <td>NaN</td>\n",
       "      <td>NaN</td>\n",
       "      <td>NaN</td>\n",
       "      <td>NaN</td>\n",
       "    </tr>\n",
       "    <tr>\n",
       "      <th>/artists/8889739-luo-chai-cao-yuan-wwww-prairie-wwww</th>\n",
       "      <td>落差草原 WWWW / Prairie WWWW</td>\n",
       "      <td>NaN</td>\n",
       "      <td>NaN</td>\n",
       "      <td>NaN</td>\n",
       "      <td>NaN</td>\n",
       "    </tr>\n",
       "  </tbody>\n",
       "</table>\n",
       "<p>3694 rows × 5 columns</p>\n",
       "</div>"
      ],
      "text/plain": [
       "                                                                                          artist_name  \\\n",
       "/artists/5929284-brothers-in-bamako                                              \"Brothers In Bamako\"   \n",
       "/artists/8704378-floyd-division-the-austrian-pi...  \"Floyd Division\" The Austrian Pink Floyd Tribu...   \n",
       "/artists/7172094-jazzetcetera-stewy-von-wattenw...  \"Jazz...etcetera\" Stewy von Wattenwyl Group,  ...   \n",
       "/artists/7809989-and-francis-fruit                                                    & Francis Fruit   \n",
       "/artists/888062-food-for-ya-soul                                                   *FOOD FOR YA SOUL*   \n",
       "...                                                                                               ...   \n",
       "/artists/7382169-eric-fernandez-choeurs-de-cordoue                  Éric Fernandez Choeurs De Cordoue   \n",
       "/artists/7859544-opfelboum-und-palme                                              Öpfelboum Und Palme   \n",
       "/artists/4686513-ubers-meer                                                                Übers Meer   \n",
       "/artists/4043776-uberreel                                                                    überreel   \n",
       "/artists/8889739-luo-chai-cao-yuan-wwww-prairie...                           落差草原 WWWW / Prairie WWWW   \n",
       "\n",
       "                                                   spotify_name spotify_id  \\\n",
       "/artists/5929284-brothers-in-bamako                         NaN        NaN   \n",
       "/artists/8704378-floyd-division-the-austrian-pi...          NaN        NaN   \n",
       "/artists/7172094-jazzetcetera-stewy-von-wattenw...          NaN        NaN   \n",
       "/artists/7809989-and-francis-fruit                          NaN        NaN   \n",
       "/artists/888062-food-for-ya-soul                            NaN        NaN   \n",
       "...                                                         ...        ...   \n",
       "/artists/7382169-eric-fernandez-choeurs-de-cordoue          NaN        NaN   \n",
       "/artists/7859544-opfelboum-und-palme                        NaN        NaN   \n",
       "/artists/4686513-ubers-meer                                 NaN        NaN   \n",
       "/artists/4043776-uberreel                                   NaN        NaN   \n",
       "/artists/8889739-luo-chai-cao-yuan-wwww-prairie...          NaN        NaN   \n",
       "\n",
       "                                                    spotify_similarity  \\\n",
       "/artists/5929284-brothers-in-bamako                                NaN   \n",
       "/artists/8704378-floyd-division-the-austrian-pi...                 NaN   \n",
       "/artists/7172094-jazzetcetera-stewy-von-wattenw...                 NaN   \n",
       "/artists/7809989-and-francis-fruit                                 NaN   \n",
       "/artists/888062-food-for-ya-soul                                   NaN   \n",
       "...                                                                ...   \n",
       "/artists/7382169-eric-fernandez-choeurs-de-cordoue                 NaN   \n",
       "/artists/7859544-opfelboum-und-palme                               NaN   \n",
       "/artists/4686513-ubers-meer                                        NaN   \n",
       "/artists/4043776-uberreel                                          NaN   \n",
       "/artists/8889739-luo-chai-cao-yuan-wwww-prairie...                 NaN   \n",
       "\n",
       "                                                    spotify_popularity  \n",
       "/artists/5929284-brothers-in-bamako                                NaN  \n",
       "/artists/8704378-floyd-division-the-austrian-pi...                 NaN  \n",
       "/artists/7172094-jazzetcetera-stewy-von-wattenw...                 NaN  \n",
       "/artists/7809989-and-francis-fruit                                 NaN  \n",
       "/artists/888062-food-for-ya-soul                                   NaN  \n",
       "...                                                                ...  \n",
       "/artists/7382169-eric-fernandez-choeurs-de-cordoue                 NaN  \n",
       "/artists/7859544-opfelboum-und-palme                               NaN  \n",
       "/artists/4686513-ubers-meer                                        NaN  \n",
       "/artists/4043776-uberreel                                          NaN  \n",
       "/artists/8889739-luo-chai-cao-yuan-wwww-prairie...                 NaN  \n",
       "\n",
       "[3694 rows x 5 columns]"
      ]
     },
     "execution_count": 58,
     "metadata": {},
     "output_type": "execute_result"
    }
   ],
   "source": [
    "# save all the artists without a spotify match\n",
    "\n",
    "no_match_df = artists_matched_df[artists_matched_df['spotify_id'].isna()]\n",
    "no_match_df.to_csv(CRAWL_MATCH_FOLDER + 'no_match.csv', encoding='utf-8')\n",
    "no_match_df"
   ]
  },
  {
   "cell_type": "markdown",
   "id": "e7afedfc-9426-4bbf-8652-06a9ca574603",
   "metadata": {},
   "source": [
    "---"
   ]
  },
  {
   "cell_type": "code",
   "execution_count": 79,
   "id": "3ffc7d5c-e74c-4107-940a-d7ab53e88294",
   "metadata": {},
   "outputs": [],
   "source": [
    "with open('data/data_artists_matched.csv', encoding='utf-8') as matched_file:\n",
    "    artists_matched_df = pd.read_csv(matched_file, index_col=0)\n",
    "    \n",
    "spotify_artists_df = artists_matched_df.copy()"
   ]
  },
  {
   "cell_type": "code",
   "execution_count": 80,
   "id": "e8035178-c283-465e-9e0f-d7912a424c1f",
   "metadata": {},
   "outputs": [],
   "source": [
    "# get monthly number of listeners of an artist by scrapping Spotify website (data not available through API)\n",
    "\n",
    "def get_spotify_listeners(artist_url):\n",
    "    response = requests.get(artist_url)\n",
    "    soup = BeautifulSoup(response.content, 'html.parser')\n",
    "    listeners_text = str(soup.find('meta', {'property': 'og:description'}))\n",
    "    listeners_nbr = re.findall(r'[0-9]+\\.*[0-9]*[MK]*', listeners_text)[0]\n",
    "    \n",
    "    # remove K and M and multiply by 1,000 or 1,000,000\n",
    "    if 'K' in listeners_nbr:\n",
    "        listeners_nbr = listeners_nbr.replace('K', '')\n",
    "        listeners_nbr = float(listeners_nbr)*1000\n",
    "    elif 'M' in listeners_nbr:\n",
    "        listeners_nbr = listeners_nbr.replace('M', '')\n",
    "        listeners_nbr = float(listeners_nbr)*1000000\n",
    "    \n",
    "    return int(listeners_nbr)"
   ]
  },
  {
   "cell_type": "code",
   "execution_count": 81,
   "id": "47f3531c-64b1-4fd3-aedc-d20600e6f405",
   "metadata": {},
   "outputs": [],
   "source": [
    "# get spotify related artists for an artist\n",
    "\n",
    "def get_spotify_related_artists(spotify_id):\n",
    "    related_artist_count = 1\n",
    "    related_artists_list = list()\n",
    "    related_artists_dict = dict()\n",
    "    \n",
    "    related_artists = sp.artist_related_artists(spotify_id)\n",
    "    \n",
    "    for related_artist in related_artists['artists']:\n",
    "        related_name = related_artist['name']\n",
    "        related_id = related_artist['id']\n",
    "        related_popularity = related_artist['popularity']\n",
    "        related_artists_list.append({\n",
    "            'spotify_id': related_id,\n",
    "            'spotify_name': related_name,\n",
    "            'spotify_popularity': related_popularity,\n",
    "        })\n",
    "    \n",
    "    # sort list of related artists by popularity (desc.)\n",
    "    related_artists_list = sorted(related_artists_list, key=lambda k: (k['spotify_popularity']), reverse=True)\n",
    "    \n",
    "    # limit to 10 related artists (10 most popular)\n",
    "    related_artists_list = related_artists_list[:10]\n",
    "\n",
    "    for related_artist in related_artists_list:\n",
    "        related_id = related_artist['spotify_id']\n",
    "        related_id_col_name = 'spotify_related_id_' + str(related_artist_count)\n",
    "        related_artists_dict[related_id_col_name] = related_id\n",
    "\n",
    "        related_name = related_artist['spotify_name']\n",
    "        related_name_col_name = 'spotify_related_name_' + str(related_artist_count)\n",
    "        related_artists_dict[related_name_col_name] = related_name\n",
    "\n",
    "        related_artist_count += 1\n",
    "    \n",
    "    return related_artists_dict"
   ]
  },
  {
   "cell_type": "code",
   "execution_count": 82,
   "id": "87a4d3ff-112a-4d0d-b190-08302449d5ab",
   "metadata": {},
   "outputs": [
    {
     "name": "stderr",
     "output_type": "stream",
     "text": [
      "5it [00:05,  1.05s/it]\n"
     ]
    },
    {
     "data": {
      "text/html": [
       "<div>\n",
       "<style scoped>\n",
       "    .dataframe tbody tr th:only-of-type {\n",
       "        vertical-align: middle;\n",
       "    }\n",
       "\n",
       "    .dataframe tbody tr th {\n",
       "        vertical-align: top;\n",
       "    }\n",
       "\n",
       "    .dataframe thead th {\n",
       "        text-align: right;\n",
       "    }\n",
       "</style>\n",
       "<table border=\"1\" class=\"dataframe\">\n",
       "  <thead>\n",
       "    <tr style=\"text-align: right;\">\n",
       "      <th></th>\n",
       "      <th>artist_name</th>\n",
       "      <th>spotify_name</th>\n",
       "      <th>spotify_id</th>\n",
       "      <th>spotify_similarity</th>\n",
       "      <th>spotify_popularity</th>\n",
       "      <th>spotify_followers</th>\n",
       "      <th>spotify_listeners</th>\n",
       "      <th>spotify_genre_1</th>\n",
       "      <th>spotify_genre_2</th>\n",
       "      <th>spotify_genre_3</th>\n",
       "      <th>spotify_genre_4</th>\n",
       "    </tr>\n",
       "  </thead>\n",
       "  <tbody>\n",
       "    <tr>\n",
       "      <th>/artists/5673729-mara-simpson</th>\n",
       "      <td>Mara Simpson</td>\n",
       "      <td>Mara Simpson</td>\n",
       "      <td>1qn02YVZeKMegZimHpELHH</td>\n",
       "      <td>1.0</td>\n",
       "      <td>5.0</td>\n",
       "      <td>1648.0</td>\n",
       "      <td>754.0</td>\n",
       "      <td>NaN</td>\n",
       "      <td>NaN</td>\n",
       "      <td>NaN</td>\n",
       "      <td>NaN</td>\n",
       "    </tr>\n",
       "    <tr>\n",
       "      <th>/artists/171669-mara-tremblay</th>\n",
       "      <td>Mara Tremblay</td>\n",
       "      <td>Mara Tremblay</td>\n",
       "      <td>1tt3YXVP4AltaStku4rpf3</td>\n",
       "      <td>1.0</td>\n",
       "      <td>25.0</td>\n",
       "      <td>7938.0</td>\n",
       "      <td>16400.0</td>\n",
       "      <td>auteur-compositeur-interprete quebecois</td>\n",
       "      <td>chanson quebecois</td>\n",
       "      <td>indie quebecois</td>\n",
       "      <td>rock quebecois</td>\n",
       "    </tr>\n",
       "    <tr>\n",
       "      <th>/artists/190281-maral-salmassi</th>\n",
       "      <td>Maral Salmassi</td>\n",
       "      <td>Maral Salmassi</td>\n",
       "      <td>6HIYk8vTuSUfGb5nL69pA8</td>\n",
       "      <td>1.0</td>\n",
       "      <td>3.0</td>\n",
       "      <td>327.0</td>\n",
       "      <td>370.0</td>\n",
       "      <td>NaN</td>\n",
       "      <td>NaN</td>\n",
       "      <td>NaN</td>\n",
       "      <td>NaN</td>\n",
       "    </tr>\n",
       "    <tr>\n",
       "      <th>/artists/4911773-marama</th>\n",
       "      <td>Marama</td>\n",
       "      <td>Marama</td>\n",
       "      <td>4GepMkTgrIZECoCC55vqjW</td>\n",
       "      <td>1.0</td>\n",
       "      <td>59.0</td>\n",
       "      <td>924022.0</td>\n",
       "      <td>1000000.0</td>\n",
       "      <td>cumbia pop</td>\n",
       "      <td>NaN</td>\n",
       "      <td>NaN</td>\n",
       "      <td>NaN</td>\n",
       "    </tr>\n",
       "    <tr>\n",
       "      <th>/artists/9899404-marama-tribe</th>\n",
       "      <td>Marama Tribe</td>\n",
       "      <td>NaN</td>\n",
       "      <td>NaN</td>\n",
       "      <td>NaN</td>\n",
       "      <td>NaN</td>\n",
       "      <td>NaN</td>\n",
       "      <td>NaN</td>\n",
       "      <td>NaN</td>\n",
       "      <td>NaN</td>\n",
       "      <td>NaN</td>\n",
       "      <td>NaN</td>\n",
       "    </tr>\n",
       "    <tr>\n",
       "      <th>/artists/4380208-marant</th>\n",
       "      <td>Marant</td>\n",
       "      <td>Marant</td>\n",
       "      <td>1tVtTRAbLaZ6zPLUAIPr7G</td>\n",
       "      <td>1.0</td>\n",
       "      <td>0.0</td>\n",
       "      <td>NaN</td>\n",
       "      <td>NaN</td>\n",
       "      <td>NaN</td>\n",
       "      <td>NaN</td>\n",
       "      <td>NaN</td>\n",
       "      <td>NaN</td>\n",
       "    </tr>\n",
       "    <tr>\n",
       "      <th>/artists/7268979-marash-and-dave</th>\n",
       "      <td>Marash &amp; Dave</td>\n",
       "      <td>Marash &amp; Dave</td>\n",
       "      <td>3DQEDvFZRbNY7fmfPvZT4M</td>\n",
       "      <td>1.0</td>\n",
       "      <td>14.0</td>\n",
       "      <td>NaN</td>\n",
       "      <td>NaN</td>\n",
       "      <td>NaN</td>\n",
       "      <td>NaN</td>\n",
       "      <td>NaN</td>\n",
       "      <td>NaN</td>\n",
       "    </tr>\n",
       "    <tr>\n",
       "      <th>/artists/5100433-marathonmann</th>\n",
       "      <td>Marathonmann</td>\n",
       "      <td>Marathonmann</td>\n",
       "      <td>4pwbGvFeHqazMZ6EDjlPxr</td>\n",
       "      <td>1.0</td>\n",
       "      <td>29.0</td>\n",
       "      <td>NaN</td>\n",
       "      <td>NaN</td>\n",
       "      <td>NaN</td>\n",
       "      <td>NaN</td>\n",
       "      <td>NaN</td>\n",
       "      <td>NaN</td>\n",
       "    </tr>\n",
       "    <tr>\n",
       "      <th>/artists/2589906-maraton</th>\n",
       "      <td>Maraton</td>\n",
       "      <td>Maraton</td>\n",
       "      <td>53qQqFUd1AkyB3r4LDLbZq</td>\n",
       "      <td>1.0</td>\n",
       "      <td>28.0</td>\n",
       "      <td>NaN</td>\n",
       "      <td>NaN</td>\n",
       "      <td>NaN</td>\n",
       "      <td>NaN</td>\n",
       "      <td>NaN</td>\n",
       "      <td>NaN</td>\n",
       "    </tr>\n",
       "    <tr>\n",
       "      <th>/artists/8848904-marbled-eye</th>\n",
       "      <td>Marbled Eye</td>\n",
       "      <td>Marbled Eye</td>\n",
       "      <td>3V6GV39cSmmExOhjdcM60D</td>\n",
       "      <td>1.0</td>\n",
       "      <td>19.0</td>\n",
       "      <td>NaN</td>\n",
       "      <td>NaN</td>\n",
       "      <td>NaN</td>\n",
       "      <td>NaN</td>\n",
       "      <td>NaN</td>\n",
       "      <td>NaN</td>\n",
       "    </tr>\n",
       "  </tbody>\n",
       "</table>\n",
       "</div>"
      ],
      "text/plain": [
       "                                     artist_name    spotify_name  \\\n",
       "/artists/5673729-mara-simpson       Mara Simpson    Mara Simpson   \n",
       "/artists/171669-mara-tremblay      Mara Tremblay   Mara Tremblay   \n",
       "/artists/190281-maral-salmassi    Maral Salmassi  Maral Salmassi   \n",
       "/artists/4911773-marama                   Marama          Marama   \n",
       "/artists/9899404-marama-tribe       Marama Tribe             NaN   \n",
       "/artists/4380208-marant                   Marant          Marant   \n",
       "/artists/7268979-marash-and-dave   Marash & Dave   Marash & Dave   \n",
       "/artists/5100433-marathonmann       Marathonmann    Marathonmann   \n",
       "/artists/2589906-maraton                 Maraton         Maraton   \n",
       "/artists/8848904-marbled-eye         Marbled Eye     Marbled Eye   \n",
       "\n",
       "                                              spotify_id  spotify_similarity  \\\n",
       "/artists/5673729-mara-simpson     1qn02YVZeKMegZimHpELHH                 1.0   \n",
       "/artists/171669-mara-tremblay     1tt3YXVP4AltaStku4rpf3                 1.0   \n",
       "/artists/190281-maral-salmassi    6HIYk8vTuSUfGb5nL69pA8                 1.0   \n",
       "/artists/4911773-marama           4GepMkTgrIZECoCC55vqjW                 1.0   \n",
       "/artists/9899404-marama-tribe                        NaN                 NaN   \n",
       "/artists/4380208-marant           1tVtTRAbLaZ6zPLUAIPr7G                 1.0   \n",
       "/artists/7268979-marash-and-dave  3DQEDvFZRbNY7fmfPvZT4M                 1.0   \n",
       "/artists/5100433-marathonmann     4pwbGvFeHqazMZ6EDjlPxr                 1.0   \n",
       "/artists/2589906-maraton          53qQqFUd1AkyB3r4LDLbZq                 1.0   \n",
       "/artists/8848904-marbled-eye      3V6GV39cSmmExOhjdcM60D                 1.0   \n",
       "\n",
       "                                  spotify_popularity  spotify_followers  \\\n",
       "/artists/5673729-mara-simpson                    5.0             1648.0   \n",
       "/artists/171669-mara-tremblay                   25.0             7938.0   \n",
       "/artists/190281-maral-salmassi                   3.0              327.0   \n",
       "/artists/4911773-marama                         59.0           924022.0   \n",
       "/artists/9899404-marama-tribe                    NaN                NaN   \n",
       "/artists/4380208-marant                          0.0                NaN   \n",
       "/artists/7268979-marash-and-dave                14.0                NaN   \n",
       "/artists/5100433-marathonmann                   29.0                NaN   \n",
       "/artists/2589906-maraton                        28.0                NaN   \n",
       "/artists/8848904-marbled-eye                    19.0                NaN   \n",
       "\n",
       "                                  spotify_listeners  \\\n",
       "/artists/5673729-mara-simpson                 754.0   \n",
       "/artists/171669-mara-tremblay               16400.0   \n",
       "/artists/190281-maral-salmassi                370.0   \n",
       "/artists/4911773-marama                   1000000.0   \n",
       "/artists/9899404-marama-tribe                   NaN   \n",
       "/artists/4380208-marant                         NaN   \n",
       "/artists/7268979-marash-and-dave                NaN   \n",
       "/artists/5100433-marathonmann                   NaN   \n",
       "/artists/2589906-maraton                        NaN   \n",
       "/artists/8848904-marbled-eye                    NaN   \n",
       "\n",
       "                                                          spotify_genre_1  \\\n",
       "/artists/5673729-mara-simpson                                         NaN   \n",
       "/artists/171669-mara-tremblay     auteur-compositeur-interprete quebecois   \n",
       "/artists/190281-maral-salmassi                                        NaN   \n",
       "/artists/4911773-marama                                        cumbia pop   \n",
       "/artists/9899404-marama-tribe                                         NaN   \n",
       "/artists/4380208-marant                                               NaN   \n",
       "/artists/7268979-marash-and-dave                                      NaN   \n",
       "/artists/5100433-marathonmann                                         NaN   \n",
       "/artists/2589906-maraton                                              NaN   \n",
       "/artists/8848904-marbled-eye                                          NaN   \n",
       "\n",
       "                                    spotify_genre_2  spotify_genre_3  \\\n",
       "/artists/5673729-mara-simpson                   NaN              NaN   \n",
       "/artists/171669-mara-tremblay     chanson quebecois  indie quebecois   \n",
       "/artists/190281-maral-salmassi                  NaN              NaN   \n",
       "/artists/4911773-marama                         NaN              NaN   \n",
       "/artists/9899404-marama-tribe                   NaN              NaN   \n",
       "/artists/4380208-marant                         NaN              NaN   \n",
       "/artists/7268979-marash-and-dave                NaN              NaN   \n",
       "/artists/5100433-marathonmann                   NaN              NaN   \n",
       "/artists/2589906-maraton                        NaN              NaN   \n",
       "/artists/8848904-marbled-eye                    NaN              NaN   \n",
       "\n",
       "                                 spotify_genre_4  \n",
       "/artists/5673729-mara-simpson                NaN  \n",
       "/artists/171669-mara-tremblay     rock quebecois  \n",
       "/artists/190281-maral-salmassi               NaN  \n",
       "/artists/4911773-marama                      NaN  \n",
       "/artists/9899404-marama-tribe                NaN  \n",
       "/artists/4380208-marant                      NaN  \n",
       "/artists/7268979-marash-and-dave             NaN  \n",
       "/artists/5100433-marathonmann                NaN  \n",
       "/artists/2589906-maraton                     NaN  \n",
       "/artists/8848904-marbled-eye                 NaN  "
      ]
     },
     "execution_count": 82,
     "metadata": {},
     "output_type": "execute_result"
    }
   ],
   "source": [
    "# get spotify data for each artist\n",
    "\n",
    "for idx, row in tqdm(spotify_artists_df.iloc[17300:17305].iterrows()):\n",
    "    spotify_id = row['spotify_id']\n",
    "    \n",
    "    # if artist has a spotify id\n",
    "    if pd.notna(spotify_id):\n",
    "        artist_info = sp.artist(spotify_id)\n",
    "        \n",
    "        url = artist_info['external_urls']['spotify']\n",
    "        followers = artist_info['followers']['total']\n",
    "        genres_list = artist_info['genres']\n",
    "        listeners = get_spotify_listeners(url)\n",
    "        \n",
    "        spotify_artists_df.loc[idx, 'spotify_followers'] = followers\n",
    "        spotify_artists_df.loc[idx, 'spotify_listeners'] = listeners\n",
    "        \n",
    "        genre_count = 1\n",
    "        for genre in genres_list:\n",
    "            genre_col_name = 'spotify_genre_' + str(genre_count)\n",
    "            spotify_artists_df.loc[idx, genre_col_name] = genre\n",
    "            genre_count += 1\n",
    "\n",
    "        time.sleep(1)\n",
    "        \n",
    "spotify_artists_df.iloc[17300:17310]"
   ]
  }
 ],
 "metadata": {
  "kernelspec": {
   "display_name": "Python 3 (ipykernel)",
   "language": "python",
   "name": "python3"
  },
  "language_info": {
   "codemirror_mode": {
    "name": "ipython",
    "version": 3
   },
   "file_extension": ".py",
   "mimetype": "text/x-python",
   "name": "python",
   "nbconvert_exporter": "python",
   "pygments_lexer": "ipython3",
   "version": "3.8.9"
  }
 },
 "nbformat": 4,
 "nbformat_minor": 5
}
