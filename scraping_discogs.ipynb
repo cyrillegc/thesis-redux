{
 "cells": [
  {
   "cell_type": "code",
   "execution_count": 1,
   "id": "4a061050-fcd9-4b7c-a70c-69236b573b26",
   "metadata": {},
   "outputs": [],
   "source": [
    "import requests\n",
    "import time\n",
    "import pickle\n",
    "from bs4 import BeautifulSoup\n",
    "import re\n",
    "import json\n",
    "import pandas as pd\n",
    "import os\n",
    "from tqdm import tqdm"
   ]
  },
  {
   "cell_type": "code",
   "execution_count": 2,
   "id": "17478066-4f94-42c0-9b8a-f720c12112e8",
   "metadata": {},
   "outputs": [],
   "source": [
    "BASE_URL = 'https://reference.discogs.com/'\n",
    "DATA_FOLDER = 'data/'\n",
    "CRAWL_FOLDER = 'crawl/discogs/'\n",
    "TESTING = False"
   ]
  },
  {
   "cell_type": "code",
   "execution_count": 3,
   "id": "fdbaa25d-34ac-453e-8a85-4348f4721d2d",
   "metadata": {},
   "outputs": [],
   "source": [
    "# get genre of a style\n",
    "\n",
    "def get_genre_of_style(style_url):\n",
    "    genre_dict = dict()\n",
    "    \n",
    "    query_url = BASE_URL + style_url\n",
    "    response = requests.get(query_url)\n",
    "    soup = BeautifulSoup(response.content, 'html.parser')\n",
    "    \n",
    "    try:\n",
    "        genre_info = soup.find('td', text='Related Genre/s').find_next('td').li.a\n",
    "        genre_url = genre_info['href']\n",
    "        genre_name = genre_info['title']\n",
    "    \n",
    "        genre_dict = {\n",
    "            'genre_url': genre_url,\n",
    "            'genre_name': genre_name,\n",
    "        }\n",
    "    except AttributeError:\n",
    "        pass\n",
    "    \n",
    "    return genre_dict"
   ]
  },
  {
   "cell_type": "code",
   "execution_count": 6,
   "id": "baad18b0-a5b2-488a-bc47-93807c145cf9",
   "metadata": {
    "tags": []
   },
   "outputs": [],
   "source": [
    "# get all the styles available in discogs\n",
    "\n",
    "def get_discogs_styles():\n",
    "    page_nbr = 1\n",
    "    discogs_styles_dict = dict()\n",
    "\n",
    "    while page_nbr < 17:\n",
    "        query_url = BASE_URL + 'browse/style?page=' + str(page_nbr)\n",
    "        response = requests.get(query_url)\n",
    "        soup = BeautifulSoup(response.content, 'html.parser')\n",
    "\n",
    "        styles_data = soup.find(attrs={'id': 'cards'})['data-props']\n",
    "        styles_data_dict = json.loads(styles_data)\n",
    "\n",
    "        styles_data_dict['data']['entities'][0]\n",
    "        for style in styles_data_dict['data']['entities']:\n",
    "            style_url = style['url']\n",
    "            style_name = style['title']\n",
    "            print(style_url)\n",
    "\n",
    "            genre_dict = get_genre_of_style(style_url)\n",
    "            if genre_dict:\n",
    "                genre_url = genre_dict['genre_url']\n",
    "                genre_name = genre_dict['genre_name']\n",
    "            else:\n",
    "                genre_url = ''\n",
    "                genre_name = ''\n",
    "\n",
    "            discogs_styles_dict[style_url] = {\n",
    "                'style_name': style_name,\n",
    "                'genre_url': genre_url,\n",
    "                'genre_name': genre_name,\n",
    "            }\n",
    "\n",
    "        page_nbr += 1\n",
    "\n",
    "    return discogs_styles_dict"
   ]
  },
  {
   "cell_type": "code",
   "execution_count": 7,
   "id": "a169b0ca-9414-47dd-915e-b64191f8ded4",
   "metadata": {},
   "outputs": [],
   "source": [
    "# save discogs styles to csv\n",
    "\n",
    "def save_discogs_styles(discogs_styles_dict):\n",
    "    discogs_styles_dict = get_discogs_styles()\n",
    "    discogs_styles_df = pd.DataFrame.from_dict(discogs_styles_dict, orient='index')\n",
    "    discogs_styles_df.to_csv('data/data_discogs_styles.csv', encoding='utf-8')"
   ]
  }
 ],
 "metadata": {
  "kernelspec": {
   "display_name": "Python 3 (ipykernel)",
   "language": "python",
   "name": "python3"
  },
  "language_info": {
   "codemirror_mode": {
    "name": "ipython",
    "version": 3
   },
   "file_extension": ".py",
   "mimetype": "text/x-python",
   "name": "python",
   "nbconvert_exporter": "python",
   "pygments_lexer": "ipython3",
   "version": "3.8.9"
  }
 },
 "nbformat": 4,
 "nbformat_minor": 5
}
