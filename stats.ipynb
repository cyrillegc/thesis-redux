{
 "cells": [
  {
   "cell_type": "code",
   "execution_count": 1,
   "id": "8c57d0f6-8515-4aac-bbdb-04d4b34143a0",
   "metadata": {},
   "outputs": [],
   "source": [
    "import pandas as pd\n",
    "from tqdm import tqdm\n",
    "import numpy as np\n",
    "import statistics\n",
    "from sklearn import preprocessing\n",
    "import plotly.figure_factory as ff\n",
    "import plotly.express as px\n",
    "import plotly.graph_objects as go\n",
    "import networkx as nx"
   ]
  },
  {
   "cell_type": "code",
   "execution_count": 2,
   "id": "aa243e52-3b52-4a97-abb9-57358f7c6fce",
   "metadata": {
    "tags": []
   },
   "outputs": [],
   "source": [
    "with open('data/songkick/data_songkick_concerts_artists.csv', encoding='utf-8') as file_concerts:\n",
    "    concerts_artists_df = pd.read_csv(file_concerts, index_col=0)\n",
    "    \n",
    "with open('data/songkick/data_songkick_concerts_light.csv', encoding='utf-8') as file_concerts:\n",
    "    concerts_df = pd.read_csv(file_concerts, index_col=0)\n",
    "    concerts_df.index.name = 'concert_id'\n",
    "    \n",
    "with open('data/songkick/data_songkick_venues.csv', encoding='utf-8') as file_venues:\n",
    "    venues_df = pd.read_csv(file_venues, index_col=0)\n",
    "    venues_df.index.name = 'venue_id'\n",
    "    \n",
    "with open('data/songkick/data_songkick_artists.csv', encoding='utf-8') as file_sk_artists:\n",
    "    songkick_artists_df = pd.read_csv(file_sk_artists, index_col=0)\n",
    "    \n",
    "with open('data/spotify/data_spotify_artists_light.csv', encoding='utf-8') as file_artists:\n",
    "    artists_df = pd.read_csv(file_artists, index_col=0)\n",
    "    artists_df.index.name = 'artist_id'\n",
    "\n",
    "with open('data/spotify/data_spotify_top_genres_v3.csv', encoding='utf-8') as file_genres:\n",
    "    spotify_genres_df = pd.read_csv(file_genres, index_col=0)\n",
    "    \n",
    "with open('data/wikidata/data_wikidata_top_genres.csv', encoding='utf-8') as file_genres:\n",
    "    wikidata_genres_df = pd.read_csv(file_genres, index_col=0)\n",
    "    \n",
    "with open('data/wikidata/data_wikidata_unique_top_genres_manual.csv', encoding='utf-8') as file_genres:\n",
    "    wikidata_unique_genres_df = pd.read_csv(file_genres, index_col=0)\n",
    "    \n",
    "with open('data/wikidata/data_wikidata_top_genres_list_manual.csv', encoding='utf-8') as file_genres:\n",
    "    wikidata_manual_top_genres_df = pd.read_csv(file_genres, index_col=0)"
   ]
  },
  {
   "cell_type": "markdown",
   "id": "5af33cff-c8d5-494f-9c32-6cba30ccf1ab",
   "metadata": {
    "jp-MarkdownHeadingCollapsed": true,
    "tags": []
   },
   "source": [
    "## Songkick stats"
   ]
  },
  {
   "cell_type": "code",
   "execution_count": 67,
   "id": "d83cc046-4a96-421a-ab40-3cab9857da52",
   "metadata": {},
   "outputs": [
    {
     "data": {
      "text/html": [
       "<div>\n",
       "<style scoped>\n",
       "    .dataframe tbody tr th:only-of-type {\n",
       "        vertical-align: middle;\n",
       "    }\n",
       "\n",
       "    .dataframe tbody tr th {\n",
       "        vertical-align: top;\n",
       "    }\n",
       "\n",
       "    .dataframe thead th {\n",
       "        text-align: right;\n",
       "    }\n",
       "</style>\n",
       "<table border=\"1\" class=\"dataframe\">\n",
       "  <thead>\n",
       "    <tr style=\"text-align: right;\">\n",
       "      <th></th>\n",
       "      <th>concert_id</th>\n",
       "      <th>artist_id</th>\n",
       "      <th>venue_id</th>\n",
       "      <th>startDate</th>\n",
       "      <th>locality</th>\n",
       "      <th>longitude</th>\n",
       "      <th>latitude</th>\n",
       "    </tr>\n",
       "  </thead>\n",
       "  <tbody>\n",
       "    <tr>\n",
       "      <th>32066</th>\n",
       "      <td>/concerts/36259569</td>\n",
       "      <td>/artists/8755459-use-fr</td>\n",
       "      <td>/venues/2837343</td>\n",
       "      <td>2019-03-28</td>\n",
       "      <td>Lausanne</td>\n",
       "      <td>6.63141</td>\n",
       "      <td>46.52012</td>\n",
       "    </tr>\n",
       "    <tr>\n",
       "      <th>32067</th>\n",
       "      <td>/concerts/36259569</td>\n",
       "      <td>/artists/482962-frustration</td>\n",
       "      <td>/venues/2837343</td>\n",
       "      <td>2019-03-28</td>\n",
       "      <td>Lausanne</td>\n",
       "      <td>6.63141</td>\n",
       "      <td>46.52012</td>\n",
       "    </tr>\n",
       "  </tbody>\n",
       "</table>\n",
       "</div>"
      ],
      "text/plain": [
       "               concert_id                    artist_id         venue_id  \\\n",
       "32066  /concerts/36259569      /artists/8755459-use-fr  /venues/2837343   \n",
       "32067  /concerts/36259569  /artists/482962-frustration  /venues/2837343   \n",
       "\n",
       "        startDate  locality  longitude  latitude  \n",
       "32066  2019-03-28  Lausanne    6.63141  46.52012  \n",
       "32067  2019-03-28  Lausanne    6.63141  46.52012  "
      ]
     },
     "execution_count": 67,
     "metadata": {},
     "output_type": "execute_result"
    }
   ],
   "source": [
    "full_songkick_df = concerts_artists_df.merge(concerts_df[['venue_id', 'startDate']], left_on='concert_id', right_index=True)\n",
    "full_songkick_df = full_songkick_df.merge(venues_df[['locality', 'longitude', 'latitude']], left_on='venue_id', right_index=True)\n",
    "full_songkick_df.loc[full_songkick_df['concert_id'] == '/concerts/36259569']"
   ]
  },
  {
   "cell_type": "code",
   "execution_count": 36,
   "id": "e722ac6d-879d-42ad-b955-b1baf38c6675",
   "metadata": {},
   "outputs": [
    {
     "data": {
      "text/plain": [
       "concert_id    117760\n",
       "artist_id     117760\n",
       "venue_id      117760\n",
       "startDate     117760\n",
       "locality      117760\n",
       "longitude     109292\n",
       "latitude      109292\n",
       "dtype: int64"
      ]
     },
     "execution_count": 36,
     "metadata": {},
     "output_type": "execute_result"
    }
   ],
   "source": [
    "full_songkick_df.count()"
   ]
  },
  {
   "cell_type": "code",
   "execution_count": 39,
   "id": "c103b7fb-35b4-49e3-839d-7957c98c2758",
   "metadata": {},
   "outputs": [
    {
     "data": {
      "text/html": [
       "<div>\n",
       "<style scoped>\n",
       "    .dataframe tbody tr th:only-of-type {\n",
       "        vertical-align: middle;\n",
       "    }\n",
       "\n",
       "    .dataframe tbody tr th {\n",
       "        vertical-align: top;\n",
       "    }\n",
       "\n",
       "    .dataframe thead th {\n",
       "        text-align: right;\n",
       "    }\n",
       "</style>\n",
       "<table border=\"1\" class=\"dataframe\">\n",
       "  <thead>\n",
       "    <tr style=\"text-align: right;\">\n",
       "      <th></th>\n",
       "      <th>concert_id</th>\n",
       "      <th>artist_id</th>\n",
       "      <th>venue_id</th>\n",
       "      <th>startDate</th>\n",
       "      <th>locality</th>\n",
       "      <th>longitude</th>\n",
       "      <th>latitude</th>\n",
       "    </tr>\n",
       "  </thead>\n",
       "  <tbody>\n",
       "    <tr>\n",
       "      <th>9</th>\n",
       "      <td>/festivals/3250138</td>\n",
       "      <td>/artists/10069604-flavio-stonex</td>\n",
       "      <td>/venues/1943879</td>\n",
       "      <td>2019-10-12</td>\n",
       "      <td>Mels</td>\n",
       "      <td>9.42400</td>\n",
       "      <td>47.04380</td>\n",
       "    </tr>\n",
       "    <tr>\n",
       "      <th>10</th>\n",
       "      <td>/concerts/32335899</td>\n",
       "      <td>/artists/11032-jazz-connection</td>\n",
       "      <td>/venues/1943879</td>\n",
       "      <td>2018-08-11</td>\n",
       "      <td>Mels</td>\n",
       "      <td>9.42400</td>\n",
       "      <td>47.04380</td>\n",
       "    </tr>\n",
       "    <tr>\n",
       "      <th>11</th>\n",
       "      <td>/concerts/32335884</td>\n",
       "      <td>/artists/11032-jazz-connection</td>\n",
       "      <td>/venues/1943879</td>\n",
       "      <td>2018-08-10</td>\n",
       "      <td>Mels</td>\n",
       "      <td>9.42400</td>\n",
       "      <td>47.04380</td>\n",
       "    </tr>\n",
       "    <tr>\n",
       "      <th>12</th>\n",
       "      <td>/concerts/13429724</td>\n",
       "      <td>/artists/2865626-james-lann</td>\n",
       "      <td>/venues/1943879</td>\n",
       "      <td>2012-08-10</td>\n",
       "      <td>Mels</td>\n",
       "      <td>9.42400</td>\n",
       "      <td>47.04380</td>\n",
       "    </tr>\n",
       "    <tr>\n",
       "      <th>4</th>\n",
       "      <td>/festivals/3250141</td>\n",
       "      <td>/artists/10069604-flavio-stonex</td>\n",
       "      <td>/venues/2077709</td>\n",
       "      <td>2020-10-17</td>\n",
       "      <td>Mels</td>\n",
       "      <td>NaN</td>\n",
       "      <td>NaN</td>\n",
       "    </tr>\n",
       "    <tr>\n",
       "      <th>...</th>\n",
       "      <td>...</td>\n",
       "      <td>...</td>\n",
       "      <td>...</td>\n",
       "      <td>...</td>\n",
       "      <td>...</td>\n",
       "      <td>...</td>\n",
       "      <td>...</td>\n",
       "    </tr>\n",
       "    <tr>\n",
       "      <th>117755</th>\n",
       "      <td>/concerts/14836234</td>\n",
       "      <td>/artists/456971-funeral-for-a-friend</td>\n",
       "      <td>/venues/2148724</td>\n",
       "      <td>2013-04-07</td>\n",
       "      <td>Zürich</td>\n",
       "      <td>8.49986</td>\n",
       "      <td>47.38732</td>\n",
       "    </tr>\n",
       "    <tr>\n",
       "      <th>117756</th>\n",
       "      <td>/concerts/14836234</td>\n",
       "      <td>/artists/4578008-tidal-sleep</td>\n",
       "      <td>/venues/2148724</td>\n",
       "      <td>2013-04-07</td>\n",
       "      <td>Zürich</td>\n",
       "      <td>8.49986</td>\n",
       "      <td>47.38732</td>\n",
       "    </tr>\n",
       "    <tr>\n",
       "      <th>117757</th>\n",
       "      <td>/concerts/14836234</td>\n",
       "      <td>/artists/424864-silverstein</td>\n",
       "      <td>/venues/2148724</td>\n",
       "      <td>2013-04-07</td>\n",
       "      <td>Zürich</td>\n",
       "      <td>8.49986</td>\n",
       "      <td>47.38732</td>\n",
       "    </tr>\n",
       "    <tr>\n",
       "      <th>117758</th>\n",
       "      <td>/concerts/16089124</td>\n",
       "      <td>/artists/6316464-vatsgoed</td>\n",
       "      <td>/venues/2148724</td>\n",
       "      <td>2013-04-05</td>\n",
       "      <td>Zürich</td>\n",
       "      <td>8.49986</td>\n",
       "      <td>47.38732</td>\n",
       "    </tr>\n",
       "    <tr>\n",
       "      <th>117759</th>\n",
       "      <td>/festivals/469459</td>\n",
       "      <td>/artists/2408878-trip-to-dover</td>\n",
       "      <td>/venues/4401114</td>\n",
       "      <td>2015-08-14</td>\n",
       "      <td>Zürich</td>\n",
       "      <td>NaN</td>\n",
       "      <td>NaN</td>\n",
       "    </tr>\n",
       "  </tbody>\n",
       "</table>\n",
       "<p>97619 rows × 7 columns</p>\n",
       "</div>"
      ],
      "text/plain": [
       "                concert_id                             artist_id  \\\n",
       "9       /festivals/3250138       /artists/10069604-flavio-stonex   \n",
       "10      /concerts/32335899        /artists/11032-jazz-connection   \n",
       "11      /concerts/32335884        /artists/11032-jazz-connection   \n",
       "12      /concerts/13429724           /artists/2865626-james-lann   \n",
       "4       /festivals/3250141       /artists/10069604-flavio-stonex   \n",
       "...                    ...                                   ...   \n",
       "117755  /concerts/14836234  /artists/456971-funeral-for-a-friend   \n",
       "117756  /concerts/14836234          /artists/4578008-tidal-sleep   \n",
       "117757  /concerts/14836234           /artists/424864-silverstein   \n",
       "117758  /concerts/16089124             /artists/6316464-vatsgoed   \n",
       "117759   /festivals/469459        /artists/2408878-trip-to-dover   \n",
       "\n",
       "               venue_id   startDate locality  longitude  latitude  \n",
       "9       /venues/1943879  2019-10-12     Mels    9.42400  47.04380  \n",
       "10      /venues/1943879  2018-08-11     Mels    9.42400  47.04380  \n",
       "11      /venues/1943879  2018-08-10     Mels    9.42400  47.04380  \n",
       "12      /venues/1943879  2012-08-10     Mels    9.42400  47.04380  \n",
       "4       /venues/2077709  2020-10-17     Mels        NaN       NaN  \n",
       "...                 ...         ...      ...        ...       ...  \n",
       "117755  /venues/2148724  2013-04-07   Zürich    8.49986  47.38732  \n",
       "117756  /venues/2148724  2013-04-07   Zürich    8.49986  47.38732  \n",
       "117757  /venues/2148724  2013-04-07   Zürich    8.49986  47.38732  \n",
       "117758  /venues/2148724  2013-04-05   Zürich    8.49986  47.38732  \n",
       "117759  /venues/4401114  2015-08-14   Zürich        NaN       NaN  \n",
       "\n",
       "[97619 rows x 7 columns]"
      ]
     },
     "execution_count": 39,
     "metadata": {},
     "output_type": "execute_result"
    }
   ],
   "source": [
    "date_filter = full_songkick_df[(full_songkick_df['startDate'] > '2010-01-01') & (full_songkick_df['startDate'] < '2020-01-01')].index\n",
    "filtered_songkick_df = full_songkick_df.iloc[date_filter]\n",
    "filtered_songkick_df"
   ]
  },
  {
   "cell_type": "code",
   "execution_count": 41,
   "id": "96041e8a-ddec-4a5f-b59a-4b77c7b199f6",
   "metadata": {},
   "outputs": [
    {
     "data": {
      "text/plain": [
       "concert_id    97619\n",
       "artist_id     97619\n",
       "venue_id      97619\n",
       "startDate     97619\n",
       "locality      97619\n",
       "longitude     91099\n",
       "latitude      91099\n",
       "dtype: int64"
      ]
     },
     "execution_count": 41,
     "metadata": {},
     "output_type": "execute_result"
    }
   ],
   "source": [
    "filtered_songkick_df.count()"
   ]
  },
  {
   "cell_type": "markdown",
   "id": "35b23a31-2fd2-4213-9f9f-aa8178146f68",
   "metadata": {},
   "source": [
    "## Wikidata stats"
   ]
  },
  {
   "cell_type": "code",
   "execution_count": 65,
   "id": "996dfd1a-4812-4f51-8d17-010cf62aa7e6",
   "metadata": {},
   "outputs": [
    {
     "data": {
      "text/plain": [
       "genre_id              4579\n",
       "genre_name            4574\n",
       "genre_name_edited     4570\n",
       "top_genre_id          1403\n",
       "top_genre_name        1403\n",
       "unique_top_genre         2\n",
       "everynoise_id         1385\n",
       "everynoise_name       1385\n",
       "discogs_genre_name      14\n",
       "discogs_style_name     555\n",
       "dtype: int64"
      ]
     },
     "execution_count": 65,
     "metadata": {},
     "output_type": "execute_result"
    }
   ],
   "source": [
    "wikidata_genres_df.nunique()"
   ]
  },
  {
   "cell_type": "code",
   "execution_count": 55,
   "id": "a3f1aefc-7201-4724-9bb1-ffe5a277a050",
   "metadata": {},
   "outputs": [
    {
     "data": {
      "text/plain": [
       "top_genre           50\n",
       "manual_top_genre    27\n",
       "dtype: int64"
      ]
     },
     "execution_count": 55,
     "metadata": {},
     "output_type": "execute_result"
    }
   ],
   "source": [
    "wikidata_manual_top_genres_df.count()"
   ]
  },
  {
   "cell_type": "code",
   "execution_count": 62,
   "id": "1f9eca4e-095a-420c-81a2-1434bd763d52",
   "metadata": {},
   "outputs": [
    {
     "data": {
      "text/html": [
       "<div>\n",
       "<style scoped>\n",
       "    .dataframe tbody tr th:only-of-type {\n",
       "        vertical-align: middle;\n",
       "    }\n",
       "\n",
       "    .dataframe tbody tr th {\n",
       "        vertical-align: top;\n",
       "    }\n",
       "\n",
       "    .dataframe thead th {\n",
       "        text-align: right;\n",
       "    }\n",
       "</style>\n",
       "<table border=\"1\" class=\"dataframe\">\n",
       "  <thead>\n",
       "    <tr style=\"text-align: right;\">\n",
       "      <th></th>\n",
       "      <th>spotify_popularity</th>\n",
       "      <th>spotify_followers</th>\n",
       "      <th>spotify_listeners</th>\n",
       "    </tr>\n",
       "    <tr>\n",
       "      <th>artist_id</th>\n",
       "      <th></th>\n",
       "      <th></th>\n",
       "      <th></th>\n",
       "    </tr>\n",
       "  </thead>\n",
       "  <tbody>\n",
       "    <tr>\n",
       "      <th>/artists/3684861-chk-chk-chk</th>\n",
       "      <td>46.0</td>\n",
       "      <td>133869.0</td>\n",
       "      <td>341800.0</td>\n",
       "    </tr>\n",
       "    <tr>\n",
       "      <th>/artists/694091-kadebostan</th>\n",
       "      <td>10.0</td>\n",
       "      <td>1342.0</td>\n",
       "      <td>2000.0</td>\n",
       "    </tr>\n",
       "    <tr>\n",
       "      <th>/artists/7433784-pyramids-jazz</th>\n",
       "      <td>26.0</td>\n",
       "      <td>1132.0</td>\n",
       "      <td>25100.0</td>\n",
       "    </tr>\n",
       "    <tr>\n",
       "      <th>/artists/8375378-agcrew</th>\n",
       "      <td>29.0</td>\n",
       "      <td>17632.0</td>\n",
       "      <td>28100.0</td>\n",
       "    </tr>\n",
       "    <tr>\n",
       "      <th>/artists/44425-smoove</th>\n",
       "      <td>0.0</td>\n",
       "      <td>1.0</td>\n",
       "      <td>28100.0</td>\n",
       "    </tr>\n",
       "    <tr>\n",
       "      <th>...</th>\n",
       "      <td>...</td>\n",
       "      <td>...</td>\n",
       "      <td>...</td>\n",
       "    </tr>\n",
       "    <tr>\n",
       "      <th>/artists/9915344-stas-mikhailov</th>\n",
       "      <td>2.0</td>\n",
       "      <td>52.0</td>\n",
       "      <td>226.0</td>\n",
       "    </tr>\n",
       "    <tr>\n",
       "      <th>/artists/4301-and-you-will-know-us-by-the-trail-of-dead</th>\n",
       "      <td>39.0</td>\n",
       "      <td>63953.0</td>\n",
       "      <td>96600.0</td>\n",
       "    </tr>\n",
       "    <tr>\n",
       "      <th>/artists/1099500-euuroshima</th>\n",
       "      <td>36.0</td>\n",
       "      <td>14555.0</td>\n",
       "      <td>90100.0</td>\n",
       "    </tr>\n",
       "    <tr>\n",
       "      <th>/artists/9573874-belize-it</th>\n",
       "      <td>15.0</td>\n",
       "      <td>6696.0</td>\n",
       "      <td>5100.0</td>\n",
       "    </tr>\n",
       "    <tr>\n",
       "      <th>/artists/5427898-heymoonshaker</th>\n",
       "      <td>26.0</td>\n",
       "      <td>15944.0</td>\n",
       "      <td>18600.0</td>\n",
       "    </tr>\n",
       "  </tbody>\n",
       "</table>\n",
       "<p>28537 rows × 3 columns</p>\n",
       "</div>"
      ],
      "text/plain": [
       "                                                    spotify_popularity  \\\n",
       "artist_id                                                                \n",
       "/artists/3684861-chk-chk-chk                                      46.0   \n",
       "/artists/694091-kadebostan                                        10.0   \n",
       "/artists/7433784-pyramids-jazz                                    26.0   \n",
       "/artists/8375378-agcrew                                           29.0   \n",
       "/artists/44425-smoove                                              0.0   \n",
       "...                                                                ...   \n",
       "/artists/9915344-stas-mikhailov                                    2.0   \n",
       "/artists/4301-and-you-will-know-us-by-the-trail...                39.0   \n",
       "/artists/1099500-euuroshima                                       36.0   \n",
       "/artists/9573874-belize-it                                        15.0   \n",
       "/artists/5427898-heymoonshaker                                    26.0   \n",
       "\n",
       "                                                    spotify_followers  \\\n",
       "artist_id                                                               \n",
       "/artists/3684861-chk-chk-chk                                 133869.0   \n",
       "/artists/694091-kadebostan                                     1342.0   \n",
       "/artists/7433784-pyramids-jazz                                 1132.0   \n",
       "/artists/8375378-agcrew                                       17632.0   \n",
       "/artists/44425-smoove                                             1.0   \n",
       "...                                                               ...   \n",
       "/artists/9915344-stas-mikhailov                                  52.0   \n",
       "/artists/4301-and-you-will-know-us-by-the-trail...            63953.0   \n",
       "/artists/1099500-euuroshima                                   14555.0   \n",
       "/artists/9573874-belize-it                                     6696.0   \n",
       "/artists/5427898-heymoonshaker                                15944.0   \n",
       "\n",
       "                                                    spotify_listeners  \n",
       "artist_id                                                              \n",
       "/artists/3684861-chk-chk-chk                                 341800.0  \n",
       "/artists/694091-kadebostan                                     2000.0  \n",
       "/artists/7433784-pyramids-jazz                                25100.0  \n",
       "/artists/8375378-agcrew                                       28100.0  \n",
       "/artists/44425-smoove                                         28100.0  \n",
       "...                                                               ...  \n",
       "/artists/9915344-stas-mikhailov                                 226.0  \n",
       "/artists/4301-and-you-will-know-us-by-the-trail...            96600.0  \n",
       "/artists/1099500-euuroshima                                   90100.0  \n",
       "/artists/9573874-belize-it                                     5100.0  \n",
       "/artists/5427898-heymoonshaker                                18600.0  \n",
       "\n",
       "[28537 rows x 3 columns]"
      ]
     },
     "execution_count": 62,
     "metadata": {},
     "output_type": "execute_result"
    }
   ],
   "source": [
    "artists_matched_df = artists_df.loc[pd.notna(artists_df['spotify_id'])]\n",
    "spotify_popularity = artists_matched_df['spotify_popularity']\n",
    "spotify_followers = artists_matched_df['spotify_followers']\n",
    "spotify_listeners = artists_matched_df['spotify_listeners']\n",
    "artists_matched_stats_df = artists_matched_df[['spotify_popularity', 'spotify_followers', 'spotify_listeners']]\n",
    "artists_matched_stats_df"
   ]
  },
  {
   "cell_type": "code",
   "execution_count": 4,
   "id": "e38f8a6b-7046-45aa-b524-9dd2c13f66e0",
   "metadata": {},
   "outputs": [
    {
     "data": {
      "text/plain": [
       "{'nbr_songkick_artists': 32231,\n",
       " 'nbr_spotify_artists': 28537,\n",
       " 'nbr_songkick_artists_unmatched': 3694,\n",
       " 'nbr_duplicate_matches': 0,\n",
       " 'mean_popularity': 22.91,\n",
       " 'median_popularity': 19.0,\n",
       " 'mean_followers': 181024.72,\n",
       " 'median_followers': 2385.0,\n",
       " 'mean_listeners': 484408.12,\n",
       " 'median_listeners': 7000.0}"
      ]
     },
     "execution_count": 4,
     "metadata": {},
     "output_type": "execute_result"
    }
   ],
   "source": [
    "# artists stats\n",
    "\n",
    "nbr_songkick_artists = len(artists_df)\n",
    "nbr_spotify_artists = len(artists_matched_df)\n",
    "nbr_songkick_artists_unmatched = nbr_songkick_artists - nbr_spotify_artists\n",
    "\n",
    "unique_spotify_id = artists_df['spotify_id'].value_counts()\n",
    "idx_list = list()\n",
    "\"\"\"\n",
    "for idx in list(unique_spotify_id[unique_spotify_id > 1].index):\n",
    "    idx_list.extend(list(artists_df.loc[artists_df['spotify_id'] == idx].index))\n",
    "\"\"\"\n",
    "nbr_duplicate_matches = len(idx_list)\n",
    "\n",
    "mean_popularity = round(spotify_popularity.mean(), 2)\n",
    "median_popularity = statistics.median(spotify_popularity)\n",
    "mean_followers = round(spotify_followers.mean(), 2)\n",
    "median_followers = statistics.median(spotify_followers)\n",
    "mean_listeners = round(spotify_listeners.mean(), 2)\n",
    "median_listeners = statistics.median(spotify_listeners)\n",
    "\n",
    "artists_stats = {\n",
    "    'nbr_songkick_artists': nbr_songkick_artists,\n",
    "    'nbr_spotify_artists': nbr_spotify_artists,\n",
    "    'nbr_songkick_artists_unmatched': nbr_songkick_artists_unmatched,\n",
    "    'nbr_duplicate_matches': nbr_duplicate_matches,\n",
    "    'mean_popularity': mean_popularity,\n",
    "    'median_popularity': median_popularity,\n",
    "    'mean_followers': mean_followers,\n",
    "    'median_followers': median_followers,\n",
    "    'mean_listeners': mean_listeners,\n",
    "    'median_listeners': median_listeners,\n",
    "}\n",
    "artists_stats"
   ]
  },
  {
   "cell_type": "code",
   "execution_count": 128,
   "id": "27b819ec-8265-479c-8f23-e52fb80590be",
   "metadata": {
    "tags": []
   },
   "outputs": [],
   "source": [
    "standardizer = preprocessing.StandardScaler()\n",
    "minmax = preprocessing.MinMaxScaler()\n",
    "normalizer = preprocessing.Normalizer()\n",
    "\n",
    "t = np.asarray(spotify_popularity).reshape(-1,1)\n",
    "std_popularity = standardizer.fit_transform(t)"
   ]
  },
  {
   "cell_type": "code",
   "execution_count": 129,
   "id": "c07c7e52-c868-434f-87b4-db7977973277",
   "metadata": {},
   "outputs": [
    {
     "data": {
      "text/plain": [
       "array([[8.78358831e-03, 1.90947572e-03, 4.96463687e-03, ...,\n",
       "        6.87411259e-03, 2.86421358e-03, 4.96463687e-03],\n",
       "       [5.25723450e-04, 5.27023336e-06, 4.44553216e-06, ...,\n",
       "        5.71596472e-05, 2.62961867e-05, 6.26144565e-05],\n",
       "       [7.69671717e-04, 4.50363790e-06, 5.65206556e-05, ...,\n",
       "        2.02888887e-04, 1.14842766e-05, 4.18838325e-05]])"
      ]
     },
     "execution_count": 129,
     "metadata": {},
     "output_type": "execute_result"
    }
   ],
   "source": [
    "stats_array = artists_matched_stats_df.values\n",
    "stats_std = standardizer.fit_transform(stats_array.T)\n",
    "stats_norm = normalizer.fit_transform(stats_array.T)\n",
    "stats_norm"
   ]
  },
  {
   "cell_type": "code",
   "execution_count": 54,
   "id": "3693d935-dd2f-438d-bb16-ae6e51d8a74d",
   "metadata": {},
   "outputs": [
    {
     "name": "stdout",
     "output_type": "stream",
     "text": [
      "[ 1 -1  2]\n",
      "[ 9 54 34 95 20 76 79 56 19 20]\n"
     ]
    }
   ],
   "source": [
    "X = np.asarray([1, -1, 2])\n",
    "print(X)\n",
    "x1 = np.random.randint(0, 100, 10)\n",
    "print(x1)\n",
    "normalizer.transform"
   ]
  },
  {
   "cell_type": "code",
   "execution_count": 135,
   "id": "9cab0c94-a17d-43b1-815d-2e3386237e94",
   "metadata": {},
   "outputs": [
    {
     "data": {
      "text/plain": [
       "array([[4.60000e+01, 1.00000e+01, 2.60000e+01, ..., 3.60000e+01,\n",
       "        1.50000e+01, 2.60000e+01],\n",
       "       [1.33869e+05, 1.34200e+03, 1.13200e+03, ..., 1.45550e+04,\n",
       "        6.69600e+03, 1.59440e+04],\n",
       "       [3.41800e+05, 2.00000e+03, 2.51000e+04, ..., 9.01000e+04,\n",
       "        5.10000e+03, 1.86000e+04]])"
      ]
     },
     "execution_count": 135,
     "metadata": {},
     "output_type": "execute_result"
    }
   ],
   "source": [
    "stats_array.T"
   ]
  },
  {
   "cell_type": "code",
   "execution_count": 136,
   "id": "86bb59d2-9a6c-435a-b7f3-ba3deb57fa48",
   "metadata": {},
   "outputs": [
    {
     "data": {
      "application/vnd.plotly.v1+json": {
       "config": {
        "plotlyServerURL": "https://plot.ly"
       },
       "data": [
        {
         "legendgroup": "spotify_popularity",
         "marker": {
          "color": "rgb(31, 119, 180)"
         },
         "mode": "lines",
         "name": "spotify_popularity",
         "showlegend": true,
         "type": "scatter",
         "x": [
          0,
          0.192,
          0.384,
          0.576,
          0.768,
          0.96,
          1.152,
          1.344,
          1.536,
          1.728,
          1.92,
          2.112,
          2.304,
          2.496,
          2.688,
          2.88,
          3.072,
          3.264,
          3.456,
          3.648,
          3.84,
          4.032,
          4.224,
          4.416,
          4.608,
          4.8,
          4.992,
          5.184,
          5.376,
          5.568,
          5.76,
          5.952,
          6.144,
          6.336,
          6.528,
          6.72,
          6.912,
          7.104,
          7.296,
          7.488,
          7.68,
          7.872,
          8.064,
          8.256,
          8.448,
          8.64,
          8.832,
          9.024,
          9.216,
          9.408,
          9.6,
          9.792,
          9.984,
          10.176,
          10.368,
          10.56,
          10.752,
          10.944,
          11.136,
          11.328,
          11.52,
          11.712,
          11.904,
          12.096,
          12.288,
          12.48,
          12.672,
          12.864,
          13.056,
          13.248,
          13.44,
          13.632,
          13.824,
          14.016,
          14.208,
          14.4,
          14.592,
          14.784,
          14.976,
          15.168,
          15.36,
          15.552,
          15.744,
          15.936,
          16.128,
          16.32,
          16.512,
          16.704,
          16.896,
          17.088,
          17.28,
          17.472,
          17.664,
          17.856,
          18.048,
          18.24,
          18.432,
          18.624,
          18.816,
          19.008,
          19.2,
          19.392,
          19.584,
          19.776,
          19.968,
          20.16,
          20.352,
          20.544,
          20.736,
          20.928,
          21.12,
          21.312,
          21.504,
          21.696,
          21.888,
          22.08,
          22.272,
          22.464,
          22.656,
          22.848,
          23.04,
          23.232,
          23.424,
          23.616,
          23.808,
          24,
          24.192,
          24.384,
          24.576,
          24.768,
          24.96,
          25.152,
          25.344,
          25.536,
          25.728,
          25.92,
          26.112,
          26.304,
          26.496,
          26.688,
          26.88,
          27.072,
          27.264,
          27.456,
          27.648,
          27.84,
          28.032,
          28.224,
          28.416,
          28.608,
          28.8,
          28.992,
          29.184,
          29.376,
          29.568,
          29.76,
          29.952,
          30.144,
          30.336,
          30.528,
          30.72,
          30.912,
          31.104,
          31.296,
          31.488,
          31.68,
          31.872,
          32.064,
          32.256,
          32.448,
          32.64,
          32.832,
          33.024,
          33.216,
          33.408,
          33.6,
          33.792,
          33.984,
          34.176,
          34.368,
          34.56,
          34.752,
          34.944,
          35.136,
          35.328,
          35.52,
          35.712,
          35.904,
          36.096,
          36.288,
          36.48,
          36.672,
          36.864,
          37.056,
          37.248,
          37.44,
          37.632,
          37.824,
          38.016,
          38.208,
          38.4,
          38.592,
          38.784,
          38.976,
          39.168,
          39.36,
          39.552,
          39.744,
          39.936,
          40.128,
          40.32,
          40.512,
          40.704,
          40.896,
          41.088,
          41.28,
          41.472,
          41.664,
          41.856,
          42.048,
          42.24,
          42.432,
          42.624,
          42.816,
          43.008,
          43.2,
          43.392,
          43.584,
          43.776,
          43.968,
          44.16,
          44.352,
          44.544,
          44.736,
          44.928,
          45.12,
          45.312,
          45.504,
          45.696,
          45.888,
          46.08,
          46.272,
          46.464,
          46.656,
          46.848,
          47.04,
          47.232,
          47.424,
          47.616,
          47.808,
          48,
          48.192,
          48.384,
          48.576,
          48.768,
          48.96,
          49.152,
          49.344,
          49.536,
          49.728,
          49.92,
          50.112,
          50.304,
          50.496,
          50.688,
          50.88,
          51.072,
          51.264,
          51.456,
          51.648,
          51.84,
          52.032,
          52.224,
          52.416,
          52.608,
          52.8,
          52.992,
          53.184,
          53.376,
          53.568,
          53.76,
          53.952,
          54.144,
          54.336,
          54.528,
          54.72,
          54.912,
          55.104,
          55.296,
          55.488,
          55.68,
          55.872,
          56.064,
          56.256,
          56.448,
          56.64,
          56.832,
          57.024,
          57.216,
          57.408,
          57.6,
          57.792,
          57.984,
          58.176,
          58.368,
          58.56,
          58.752,
          58.944,
          59.136,
          59.328,
          59.52,
          59.712,
          59.904,
          60.096,
          60.288,
          60.48,
          60.672,
          60.864,
          61.056,
          61.248,
          61.44,
          61.632,
          61.824,
          62.016,
          62.208,
          62.4,
          62.592,
          62.784,
          62.976,
          63.168,
          63.36,
          63.552,
          63.744,
          63.936,
          64.128,
          64.32,
          64.512,
          64.704,
          64.896,
          65.088,
          65.28,
          65.472,
          65.664,
          65.856,
          66.048,
          66.24,
          66.432,
          66.624,
          66.816,
          67.008,
          67.2,
          67.392,
          67.584,
          67.776,
          67.968,
          68.16,
          68.352,
          68.544,
          68.736,
          68.928,
          69.12,
          69.312,
          69.504,
          69.696,
          69.888,
          70.08,
          70.272,
          70.464,
          70.656,
          70.848,
          71.04,
          71.232,
          71.424,
          71.616,
          71.808,
          72,
          72.192,
          72.384,
          72.576,
          72.768,
          72.96,
          73.152,
          73.344,
          73.536,
          73.728,
          73.92,
          74.112,
          74.304,
          74.496,
          74.688,
          74.88,
          75.072,
          75.264,
          75.456,
          75.648,
          75.84,
          76.032,
          76.224,
          76.416,
          76.608,
          76.8,
          76.992,
          77.184,
          77.376,
          77.568,
          77.76,
          77.952,
          78.144,
          78.336,
          78.528,
          78.72,
          78.912,
          79.104,
          79.296,
          79.488,
          79.68,
          79.872,
          80.064,
          80.256,
          80.448,
          80.64,
          80.832,
          81.024,
          81.216,
          81.408,
          81.6,
          81.792,
          81.984,
          82.176,
          82.368,
          82.56,
          82.752,
          82.944,
          83.136,
          83.328,
          83.52,
          83.712,
          83.904,
          84.096,
          84.288,
          84.48,
          84.672,
          84.864,
          85.056,
          85.248,
          85.44,
          85.632,
          85.824,
          86.016,
          86.208,
          86.4,
          86.592,
          86.784,
          86.976,
          87.168,
          87.36,
          87.552,
          87.744,
          87.936,
          88.128,
          88.32,
          88.512,
          88.704,
          88.896,
          89.088,
          89.28,
          89.472,
          89.664,
          89.856,
          90.048,
          90.24,
          90.432,
          90.624,
          90.816,
          91.008,
          91.2,
          91.392,
          91.584,
          91.776,
          91.968,
          92.16,
          92.352,
          92.544,
          92.736,
          92.928,
          93.12,
          93.312,
          93.504,
          93.696,
          93.888,
          94.08,
          94.272,
          94.464,
          94.656,
          94.848,
          95.04,
          95.232,
          95.424,
          95.616,
          95.808
         ],
         "xaxis": "x",
         "y": [
          0.01046631661518744,
          0.010571936079583007,
          0.010677719043140887,
          0.010783649175028675,
          0.0108897099442152,
          0.010995884623099524,
          0.011102156291259258,
          0.01120850783931743,
          0.011314921972927118,
          0.011421381216872938,
          0.011527867919288424,
          0.011634364255988256,
          0.011740852234914195,
          0.01184731370069355,
          0.011953730339308844,
          0.0120600836828774,
          0.012166355114539295,
          0.01227252587345229,
          0.012378577059892069,
          0.012484489640456085,
          0.012590244453369412,
          0.012695822213890593,
          0.012801203519815745,
          0.01290636885707885,
          0.013011298605446251,
          0.013115973044303194,
          0.013220372358530241,
          0.013324476644467316,
          0.013428265915963005,
          0.013531720110506752,
          0.01363481909544147,
          0.013737542674254012,
          0.01383987059294094,
          0.013941782546446877,
          0.014043258185172767,
          0.014144277121551193,
          0.01424481893668597,
          0.014344863187053022,
          0.014444389411259645,
          0.01454337713685909,
          0.014641805887217415,
          0.014739655188429434,
          0.014836904576280655,
          0.014933533603251873,
          0.01502952184556324,
          0.015124848910254429,
          0.015219494442297558,
          0.015313438131739418,
          0.015406659720869652,
          0.015499139011411272,
          0.015590855871730128,
          0.015681790244059683,
          0.01577192215173755,
          0.015861231706450186,
          0.015949699115482077,
          0.016037304688965817,
          0.016124028847129303,
          0.016209852127536437,
          0.01629475519231758,
          0.016378718835385993,
          0.016461723989636624,
          0.016543751734123358,
          0.016624783301211064,
          0.01670480008369864,
          0.016783783641909338,
          0.016861715710744497,
          0.016938578206697055,
          0.017014353234820975,
          0.017089023095652942,
          0.017162570292082496,
          0.01723497753616694,
          0.01730622775588731,
          0.01737630410184171,
          0.017445189953872342,
          0.017512868927622622,
          0.017579324881020722,
          0.017644541920685996,
          0.017708504408254708,
          0.017771196966621536,
          0.01783260448609343,
          0.017892712130452286,
          0.017951505342923117,
          0.018008969852044303,
          0.018065091677436685,
          0.018119857135468126,
          0.018173252844810462,
          0.018225265731885563,
          0.01827588303619749,
          0.01832509231554767,
          0.018372881451130096,
          0.01841923865250366,
          0.01846415246243875,
          0.01850761176163531,
          0.01854960577330967,
          0.018590124067647474,
          0.01862915656612014,
          0.018666693545662378,
          0.01870272564270828,
          0.01873724385708368,
          0.01877023955575255,
          0.018801704476415163,
          0.018831630730956006,
          0.018860010808739374,
          0.018886837579750737,
          0.01891210429758208,
          0.018935804602259375,
          0.018957932522910618,
          0.018978482480272802,
          0.018997449289036402,
          0.019014828160025934,
          0.019030614702215367,
          0.01904480492457715,
          0.019057395237763796,
          0.019068382455621015,
          0.019077763796531512,
          0.019085536884588652,
          0.01909169975059928,
          0.01909625083291517,
          0.019099188978092495,
          0.019100513441379068,
          0.01910022388702895,
          0.019098320388444282,
          0.01909480342814431,
          0.01908967389756149,
          0.019082933096664947,
          0.019074582733411408,
          0.01906462492302394,
          0.019053062187099,
          0.019039897452542198,
          0.019025134050333545,
          0.019008775714122773,
          0.018990826578655678,
          0.01897129117803231,
          0.018950174443798155,
          0.018927481702869304,
          0.018903218675292925,
          0.018877391471844324,
          0.018850006591462017,
          0.01882107091852228,
          0.018790591719954862,
          0.01875857664220144,
          0.018725033708018726,
          0.018689971313127968,
          0.018653398222712902,
          0.01861532356776817,
          0.018575756841300282,
          0.01853470789438343,
          0.01849218693207238,
          0.018448204509174823,
          0.01840277152588565,
          0.01835589922328569,
          0.018307599178707494,
          0.018257883300970817,
          0.018206763825490597,
          0.018154253309260227,
          0.018100364625712934,
          0.01804511095946431,
          0.017988505800938918,
          0.0179305629408841,
          0.017871296464774044,
          0.017810720747107336,
          0.017748850445601216,
          0.01768570049528579,
          0.01762128610250158,
          0.01755562273880372,
          0.017488726134776277,
          0.017420612273760114,
          0.01735129738549779,
          0.01728079793969908,
          0.017209130639530598,
          0.017136312415033203,
          0.017062360416470735,
          0.016987292007613796,
          0.016911124758962212,
          0.01683387644090988,
          0.01675556501685569,
          0.01667620863626431,
          0.016595825627680468,
          0.01651443449170062,
          0.01643205389390561,
          0.016348702657758205,
          0.016264399757469208,
          0.016179164310835915,
          0.01609301557205673,
          0.0160059729245256,
          0.01591805587361011,
          0.015829284039416948,
          0.015739677149548423,
          0.01564925503185382,
          0.015558037607179205,
          0.015466044882119464,
          0.015373296941776091,
          0.015279813942524458,
          0.015185616104794145,
          0.015090723705865833,
          0.014995157072688418,
          0.01489893657471974,
          0.01480208261679448,
          0.014704615632022577,
          0.014606556074721664,
          0.014507924413386757,
          0.014408741123700605,
          0.014309026681587867,
          0.014208801556316434,
          0.014108086203648961,
          0.01400690105904779,
          0.013905266530936284,
          0.013803202994019595,
          0.013700730782667814,
          0.013597870184364374,
          0.013494641433222569,
          0.01339106470357292,
          0.013287160103624133,
          0.013182947669200243,
          0.013078447357556599,
          0.012973679041277109,
          0.012868662502255254,
          0.012763417425761234,
          0.012657963394597538,
          0.012552319883345174,
          0.012446506252702735,
          0.012340541743920394,
          0.012234445473330822,
          0.012128236426979003,
          0.012021933455352785,
          0.011915555268216003,
          0.01180912042954583,
          0.01170264735257607,
          0.011596154294947893,
          0.011489659353969542,
          0.011383180461986404,
          0.011276735381862761,
          0.01117034170257656,
          0.01106401683492822,
          0.01095777800736474,
          0.01085164226192003,
          0.010745626450272426,
          0.010639747229920268,
          0.010534021060476316,
          0.010428464200081727,
          0.010323092701940184,
          0.010217922410972784,
          0.01011296896059413,
          0.010008247769610037,
          0.009903774039237171,
          0.009799562750244887,
          0.009695628660219429,
          0.009591986300950595,
          0.009488649975940905,
          0.00938563375803723,
          0.009282951487184736,
          0.00918061676830302,
          0.009078642969284106,
          0.00897704321911206,
          0.008875830406103739,
          0.00877501717627031,
          0.008674615931798933,
          0.00857463882965407,
          0.008475097780297761,
          0.008376004446528114,
          0.008277370242435272,
          0.00817920633247401,
          0.008081523630652053,
          0.007984332799833174,
          0.007887644251154055,
          0.00779146814355385,
          0.007695814383415333,
          0.007600692624316463,
          0.007506112266891119,
          0.007412082458797786,
          0.0073186120947948225,
          0.0072257098169209765,
          0.007133384014779718,
          0.00704164282592598,
          0.0069504941363537414,
          0.006859945581082982,
          0.006770004544844413,
          0.0066806781628603535,
          0.006591973321720151,
          0.006503896660348419,
          0.006416454571064406,
          0.0063296532007307595,
          0.006243498451989873,
          0.006157995984586066,
          0.0060731512167717435,
          0.005988969326795667,
          0.005905455254471507,
          0.005822613702824746,
          0.005740449139816032,
          0.005658965800139036,
          0.00557816768709089,
          0.005498058574513198,
          0.005418642008801691,
          0.005339921310982491,
          0.005261899578852999,
          0.005184579689185427,
          0.005107964299990872,
          0.005032055852842009,
          0.00495685657525231,
          0.00488236848310976,
          0.004808593383163057,
          0.004735532875558255,
          0.004663188356423805,
          0.004591561020501963,
          0.004520651863824558,
          0.004450461686431063,
          0.004380991095126982,
          0.0043122405062805255,
          0.004244210148655573,
          0.004176900066278944,
          0.004110310121339978,
          0.0040444399971204855,
          0.003979289200953066,
          0.003914857067205919,
          0.0038511427602921405,
          0.0037881452777016925,
          0.003725863453054063,
          0.0036642959591698054,
          0.003603441311159082,
          0.003543297869525379,
          0.00348386384328258,
          0.003425137293083622,
          0.003367116134358954,
          0.0033097981404630566,
          0.003253180945827324,
          0.0031972620491175787,
          0.003142038816394593,
          0.0030875084842759597,
          0.0030336681630976827,
          0.002980514840073939,
          0.0029280453824534285,
          0.0028762565406707935,
          0.002825144951491608,
          0.002774707141149483,
          0.002724939528473825,
          0.0026758384280068694,
          0.002627400053108593,
          0.0025796205190481885,
          0.0025324958460807385,
          0.0024860219625079017,
          0.0024401947077212416,
          0.0023950098352271214,
          0.002350463015651857,
          0.002306549839726092,
          0.00226326582124718,
          0.002220606400018602,
          0.0021785669447652546,
          0.0021371427560237127,
          0.002096329069006397,
          0.0020561210564387497,
          0.002016513831368494,
          0.001977502449946107,
          0.001939081914175639,
          0.0019012471746351098,
          0.0018639931331656506,
          0.0018273146455287193,
          0.0017912065240305855,
          0.0017556635401135229,
          0.0017206804269129375,
          0.0016862518817799496,
          0.001652372568768722,
          0.0016190371210881157,
          0.0015862401435170223,
          0.0015539762147830337,
          0.0015222398899038523,
          0.0014910257024911538,
          0.0014603281670163872,
          0.0014301417810382714,
          0.0014004610273915408,
          0.001371280376336749,
          0.001342594287670758,
          0.001314397212797744,
          0.001286683596760468,
          0.0012594478802316269,
          0.0012326845014651326,
          0.0012063878982071774,
          0.0011805525095669879,
          0.0011551727778471666,
          0.0011302431503335995,
          0.0011057580810448493,
          0.0010817120324410861,
          0.0010580994770925055,
          0.00103491489930735,
          0.001012152796719514,
          0.0009898076818359023,
          0.0009678740835435679,
          0.0009463465485768302,
          0.0009252196429444594,
          0.00090448795331715,
          0.0008841460883754238,
          0.0008641886801182083,
          0.0008446103851322919,
          0.0008254058858229101,
          0.000806569891605716,
          0.0007880971400604279,
          0.0007699823980464148,
          0.0007522204627805795,
          0.0007348061628778026,
          0.0007177343593543463,
          0.0007009999465945143,
          0.0006845978532809849,
          0.0006685230432891482,
          0.0006527705165458823,
          0.0006373353098531274,
          0.0006222124976767155,
          0.0006073971929008346,
          0.0005928845475486064,
          0.0005786697534691765,
          0.000564748042991814,
          0.0005511146895474389,
          0.0005377650082580859,
          0.0005246943564947467,
          0.0005118981344041003,
          0.0004993717854046066,
          0.0004871107966524647,
          0.0004751106994779372,
          0.00046336706979254795,
          0.0004518755284676573,
          0.0004406317416849425,
          0.00042963142125929734,
          0.0004188703249346603,
          0.00040834425665332467,
          0.0003980490667992253,
          0.0003879806524157629,
          0.00037813495739866737,
          0.00036850797266446185,
          0.00035909573629503214,
          0.0003498943336588616,
          0.0003408998975094426,
          0.0003321086080614136,
          0.000323516693044948,
          0.0003151204277389262,
          0.0003069161349834248,
          0.00029890018517204746,
          0.0002910689962246279,
          0.0002834190335408306,
          0.0002759468099351618,
          0.0002686488855539291,
          0.0002615218677746428,
          0.00025456241108839223,
          0.00024776721696569034,
          0.00024113303370630826,
          0.00023465665627358116,
          0.0002283349261137049,
          0.000222164730960494,
          0.0002161430046261104,
          0.00021026672677822362,
          0.00020453292270410282,
          0.00019893866306209057,
          0.00019348106362094782,
          0.0001881572849875089,
          0.0001829645323231251,
          0.00017790005504932457,
          0.00017296114654314886,
          0.00016814514382259497,
          0.00016344942722259573,
          0.00015887142006196426,
          0.00015440858830171984,
          0.0001500584401952045,
          0.00014581852593040232,
          0.00014168643726484708,
          0.00013765980715352283,
          0.0001337363093701334,
          0.00012991365812211632,
          0.00012618960765978083,
          0.0001225619518799208,
          0.00011902852392426932,
          0.00011558719577313397,
          0.00011223587783456395,
          0.00010897251852937341,
          0.00010579510387235618,
          0.00010270165705000687,
          9.969023799506211e-05,
          9.675894295816779e-05,
          9.390590407697012e-05,
          9.112928894291933e-05,
          8.842730016607373e-05,
          8.579817493817535e-05,
          8.324018459427217e-05,
          8.075163417314234e-05,
          7.833086197678291e-05,
          7.597623912920345e-05,
          7.368616913477334e-05,
          7.145908743634833e-05,
          6.929346097341228e-05,
          6.718778774044613e-05,
          6.514059634574482e-05,
          6.315044557088272e-05,
          6.121592393103335e-05,
          5.933564923633148e-05,
          5.7508268154469847e-05,
          5.573245577470671e-05,
          5.4006915173461405e-05,
          5.23303769816646e-05,
          5.0701598954024996e-05,
          4.9119365540368504e-05,
          4.758248745919946e-05,
          4.6089801273626956e-05,
          4.464016896979541e-05,
          4.323247753794891e-05
         ],
         "yaxis": "y"
        },
        {
         "legendgroup": "spotify_followers",
         "marker": {
          "color": "rgb(255, 127, 14)"
         },
         "mode": "lines",
         "name": "spotify_followers",
         "showlegend": true,
         "type": "scatter",
         "visible": "legendonly",
         "x": [
          0,
          170628.092,
          341256.184,
          511884.276,
          682512.368,
          853140.46,
          1023768.552,
          1194396.644,
          1365024.736,
          1535652.828,
          1706280.92,
          1876909.012,
          2047537.104,
          2218165.196,
          2388793.288,
          2559421.38,
          2730049.472,
          2900677.564,
          3071305.656,
          3241933.748,
          3412561.84,
          3583189.932,
          3753818.024,
          3924446.116,
          4095074.208,
          4265702.3,
          4436330.392,
          4606958.484,
          4777586.576,
          4948214.668,
          5118842.76,
          5289470.852,
          5460098.944,
          5630727.036,
          5801355.128,
          5971983.22,
          6142611.312,
          6313239.404,
          6483867.496,
          6654495.588,
          6825123.68,
          6995751.772,
          7166379.864,
          7337007.956,
          7507636.048,
          7678264.14,
          7848892.232,
          8019520.324,
          8190148.416,
          8360776.508,
          8531404.6,
          8702032.692,
          8872660.784,
          9043288.876,
          9213916.968,
          9384545.06,
          9555173.152,
          9725801.244,
          9896429.336,
          10067057.428,
          10237685.52,
          10408313.612,
          10578941.704,
          10749569.796,
          10920197.888,
          11090825.98,
          11261454.072,
          11432082.164,
          11602710.256,
          11773338.348,
          11943966.44,
          12114594.532,
          12285222.624,
          12455850.716,
          12626478.808,
          12797106.9,
          12967734.992,
          13138363.084,
          13308991.176,
          13479619.268,
          13650247.36,
          13820875.452,
          13991503.544,
          14162131.636,
          14332759.728,
          14503387.82,
          14674015.912,
          14844644.004,
          15015272.096,
          15185900.188,
          15356528.28,
          15527156.372,
          15697784.464,
          15868412.556,
          16039040.648,
          16209668.74,
          16380296.832,
          16550924.924,
          16721553.016,
          16892181.108,
          17062809.2,
          17233437.292,
          17404065.384,
          17574693.476,
          17745321.568,
          17915949.66,
          18086577.752,
          18257205.844,
          18427833.936,
          18598462.028,
          18769090.12,
          18939718.212,
          19110346.304,
          19280974.396,
          19451602.488,
          19622230.58,
          19792858.672,
          19963486.764,
          20134114.856,
          20304742.948,
          20475371.04,
          20645999.132,
          20816627.224,
          20987255.316,
          21157883.408,
          21328511.5,
          21499139.592,
          21669767.684,
          21840395.776,
          22011023.868,
          22181651.96,
          22352280.052,
          22522908.144,
          22693536.236,
          22864164.328,
          23034792.42,
          23205420.512,
          23376048.604,
          23546676.696,
          23717304.788,
          23887932.88,
          24058560.972,
          24229189.064,
          24399817.156,
          24570445.248,
          24741073.34,
          24911701.432,
          25082329.524,
          25252957.616,
          25423585.708,
          25594213.8,
          25764841.892,
          25935469.984,
          26106098.076,
          26276726.168,
          26447354.26,
          26617982.352,
          26788610.444,
          26959238.536,
          27129866.628,
          27300494.72,
          27471122.812,
          27641750.904,
          27812378.996,
          27983007.088,
          28153635.18,
          28324263.272,
          28494891.364,
          28665519.456,
          28836147.548,
          29006775.64,
          29177403.732,
          29348031.824,
          29518659.916,
          29689288.008,
          29859916.1,
          30030544.192,
          30201172.284,
          30371800.376,
          30542428.468,
          30713056.56,
          30883684.652,
          31054312.744,
          31224940.836,
          31395568.928,
          31566197.02,
          31736825.112,
          31907453.204,
          32078081.296,
          32248709.388,
          32419337.48,
          32589965.572,
          32760593.664,
          32931221.756,
          33101849.848,
          33272477.94,
          33443106.032,
          33613734.124,
          33784362.216,
          33954990.308,
          34125618.4,
          34296246.492,
          34466874.584,
          34637502.676,
          34808130.768,
          34978758.86,
          35149386.952,
          35320015.044,
          35490643.136,
          35661271.228,
          35831899.32,
          36002527.412,
          36173155.504,
          36343783.596,
          36514411.688,
          36685039.78,
          36855667.872,
          37026295.964,
          37196924.056,
          37367552.148,
          37538180.24,
          37708808.332,
          37879436.424,
          38050064.516,
          38220692.608,
          38391320.7,
          38561948.792,
          38732576.884,
          38903204.976,
          39073833.068,
          39244461.16,
          39415089.252,
          39585717.344,
          39756345.436,
          39926973.528,
          40097601.62,
          40268229.712,
          40438857.804,
          40609485.896,
          40780113.988,
          40950742.08,
          41121370.172,
          41291998.264,
          41462626.356,
          41633254.448,
          41803882.54,
          41974510.632,
          42145138.724,
          42315766.816,
          42486394.908,
          42657023,
          42827651.092,
          42998279.184,
          43168907.276,
          43339535.368,
          43510163.46,
          43680791.552,
          43851419.644,
          44022047.736,
          44192675.828,
          44363303.92,
          44533932.012,
          44704560.104,
          44875188.196,
          45045816.288,
          45216444.38,
          45387072.472,
          45557700.564,
          45728328.656,
          45898956.748,
          46069584.84,
          46240212.932,
          46410841.024,
          46581469.116,
          46752097.208,
          46922725.3,
          47093353.392,
          47263981.484,
          47434609.576,
          47605237.668,
          47775865.76,
          47946493.852,
          48117121.944,
          48287750.036,
          48458378.128,
          48629006.22,
          48799634.312,
          48970262.404,
          49140890.496,
          49311518.588,
          49482146.68,
          49652774.772,
          49823402.864,
          49994030.956,
          50164659.048,
          50335287.14,
          50505915.232,
          50676543.324,
          50847171.416,
          51017799.508,
          51188427.6,
          51359055.692,
          51529683.784,
          51700311.876,
          51870939.968,
          52041568.06,
          52212196.152,
          52382824.244,
          52553452.336,
          52724080.428,
          52894708.52,
          53065336.612,
          53235964.704,
          53406592.796,
          53577220.888,
          53747848.98,
          53918477.072,
          54089105.164,
          54259733.256,
          54430361.348,
          54600989.44,
          54771617.532,
          54942245.624,
          55112873.716,
          55283501.808,
          55454129.9,
          55624757.992,
          55795386.084,
          55966014.176,
          56136642.268,
          56307270.36,
          56477898.452,
          56648526.544,
          56819154.636,
          56989782.728,
          57160410.82,
          57331038.912,
          57501667.004,
          57672295.096,
          57842923.188,
          58013551.28,
          58184179.372,
          58354807.464,
          58525435.556,
          58696063.648,
          58866691.74,
          59037319.832,
          59207947.924,
          59378576.016,
          59549204.108,
          59719832.2,
          59890460.292,
          60061088.384,
          60231716.476,
          60402344.568,
          60572972.66,
          60743600.752,
          60914228.844,
          61084856.936,
          61255485.028,
          61426113.12,
          61596741.212,
          61767369.304,
          61937997.396,
          62108625.488,
          62279253.58,
          62449881.672,
          62620509.764,
          62791137.856,
          62961765.948,
          63132394.04,
          63303022.132,
          63473650.224,
          63644278.316,
          63814906.408,
          63985534.5,
          64156162.592,
          64326790.684,
          64497418.776,
          64668046.868,
          64838674.96,
          65009303.052,
          65179931.144,
          65350559.236,
          65521187.328,
          65691815.42,
          65862443.512,
          66033071.604,
          66203699.696,
          66374327.788,
          66544955.88,
          66715583.972,
          66886212.064,
          67056840.156,
          67227468.248,
          67398096.34,
          67568724.432,
          67739352.524,
          67909980.616,
          68080608.708,
          68251236.8,
          68421864.892,
          68592492.984,
          68763121.076,
          68933749.168,
          69104377.26,
          69275005.352,
          69445633.444,
          69616261.536,
          69786889.628,
          69957517.72,
          70128145.812,
          70298773.904,
          70469401.996,
          70640030.088,
          70810658.18,
          70981286.272,
          71151914.364,
          71322542.456,
          71493170.548,
          71663798.64,
          71834426.732,
          72005054.824,
          72175682.916,
          72346311.008,
          72516939.1,
          72687567.192,
          72858195.284,
          73028823.376,
          73199451.468,
          73370079.56,
          73540707.652,
          73711335.744,
          73881963.836,
          74052591.928,
          74223220.02,
          74393848.112,
          74564476.204,
          74735104.296,
          74905732.388,
          75076360.48,
          75246988.572,
          75417616.664,
          75588244.756,
          75758872.848,
          75929500.94,
          76100129.032,
          76270757.124,
          76441385.216,
          76612013.308,
          76782641.4,
          76953269.492,
          77123897.584,
          77294525.676,
          77465153.768,
          77635781.86,
          77806409.952,
          77977038.044,
          78147666.136,
          78318294.228,
          78488922.32,
          78659550.412,
          78830178.504,
          79000806.596,
          79171434.688,
          79342062.78,
          79512690.872,
          79683318.964,
          79853947.056,
          80024575.148,
          80195203.24,
          80365831.332,
          80536459.424,
          80707087.516,
          80877715.608,
          81048343.7,
          81218971.792,
          81389599.884,
          81560227.976,
          81730856.068,
          81901484.16,
          82072112.252,
          82242740.344,
          82413368.436,
          82583996.528,
          82754624.62,
          82925252.712,
          83095880.804,
          83266508.896,
          83437136.988,
          83607765.08,
          83778393.172,
          83949021.264,
          84119649.356,
          84290277.448,
          84460905.54,
          84631533.632,
          84802161.724,
          84972789.816,
          85143417.908
         ],
         "xaxis": "x",
         "y": [
          2.646479460581379e-07,
          2.6658497513108766e-07,
          2.650675676443247e-07,
          2.601544747028361e-07,
          2.5203438227483665e-07,
          2.410138857274101e-07,
          2.274982821837888e-07,
          2.1196685783798186e-07,
          1.949447686759978e-07,
          1.769738064888048e-07,
          1.5858429726686951e-07,
          1.4027011569231112e-07,
          1.2246836264986745e-07,
          1.0554470518485598e-07,
          8.978479056322834e-08,
          7.539158606285219e-08,
          6.248802077585158e-08,
          5.112395473501649e-08,
          4.128629366520699e-08,
          3.291100437345887e-08,
          2.5895849259284707e-08,
          2.0112819851972706e-08,
          1.541947376052126e-08,
          1.1668631477908001e-08,
          8.716137626003792e-09,
          6.426611062501143e-09,
          4.677283979321044e-09,
          3.3601544741368656e-09,
          2.3827502910258964e-09,
          1.6678293123847884e-09,
          1.1523342138975074e-09,
          7.858851712934178e-10,
          5.290460972969493e-10,
          3.5154564239979727e-10,
          2.3058109974206e-10,
          1.49286135779335e-10,
          9.540453744517172e-11,
          6.018279691547793e-11,
          3.747395122754934e-11,
          2.3032463442997754e-11,
          1.3973496067821975e-11,
          8.36803613297501e-12,
          4.946474787223937e-12,
          2.886169520249542e-12,
          1.6622703383189265e-12,
          9.450075059089912e-13,
          5.303012414821276e-13,
          2.937404885872588e-13,
          1.606048903408664e-13,
          8.667772433895162e-14,
          4.617533122857683e-14,
          2.428098615870256e-14,
          1.260307168708728e-14,
          6.457141075247633e-15,
          3.2655619463570054e-15,
          1.6301567304358396e-15,
          8.032571119642818e-16,
          3.9069115637733663e-16,
          1.8757128998892343e-16,
          8.889000546893101e-17,
          4.1580842424152674e-17,
          1.9199389443768572e-17,
          8.75054969178136e-18,
          3.936742746531984e-18,
          1.748205651175731e-18,
          7.663052250774817e-19,
          3.315620659712913e-19,
          1.416060049801905e-19,
          5.969696982853016e-20,
          2.4841435417692062e-20,
          1.0203633953746484e-20,
          4.1370125335868134e-21,
          1.655665450332865e-21,
          6.540517605534188e-22,
          2.550383177169108e-22,
          9.816406498384139e-23,
          3.7295240900367844e-23,
          1.3986468849102862e-23,
          5.177457365248678e-24,
          1.891815430368848e-24,
          6.8233049086927215e-25,
          2.4292072986810883e-25,
          8.536663430092994e-26,
          2.9611848862000967e-26,
          1.0139036168800849e-26,
          3.426743548038322e-27,
          1.1431950055178343e-27,
          3.764547803119622e-28,
          1.2236553050463673e-28,
          3.9260801529985864e-29,
          1.243406144698524e-29,
          3.887054590694055e-30,
          1.1994497381970342e-30,
          3.6534002250270234e-31,
          1.0984144349705395e-31,
          3.259785287088135e-32,
          9.549168177975098e-33,
          2.7611873317800253e-33,
          7.880975647043291e-34,
          2.2203318153404475e-34,
          6.174610423996949e-35,
          1.6949427151972564e-35,
          4.5925539936072836e-36,
          1.2283080562397062e-36,
          3.242754815515425e-37,
          8.450350227156225e-38,
          2.1736473590466938e-38,
          5.518960047111166e-39,
          1.383181576443167e-39,
          3.4218023825331023e-40,
          8.355730734861237e-41,
          2.0140383297016687e-41,
          4.791867599220126e-42,
          1.1253708755067383e-42,
          2.608797179670265e-43,
          5.969510828570239e-44,
          1.3483137256544508e-44,
          3.0060551919996773e-45,
          6.615409427032512e-46,
          1.4370447378283897e-46,
          3.081325889135515e-47,
          6.521669110253843e-48,
          1.3624910898046443e-48,
          2.8097156122116545e-49,
          5.7193258650231395e-50,
          1.1491615909885303e-50,
          2.2791407458324405e-51,
          4.461850063123613e-52,
          8.622090598520208e-53,
          1.644613970415911e-53,
          3.096486218700622e-54,
          5.754771856528512e-55,
          1.05570080770767e-55,
          1.9116455925083953e-56,
          3.416863968299656e-57,
          6.028396118334792e-58,
          1.0498558128893005e-58,
          1.804726170356935e-59,
          3.0622931169336005e-60,
          5.1290387895964536e-61,
          8.47967079606683e-62,
          1.3838078306977892e-62,
          2.2290836113037843e-63,
          3.544301977698215e-64,
          5.562741240138917e-65,
          8.61788676093024e-66,
          1.317851547947807e-66,
          1.9892344971574173e-67,
          2.963870720384458e-68,
          4.358994429098957e-69,
          6.328009969980998e-70,
          9.067796784134683e-71,
          1.2825969000064435e-71,
          1.7907393473182094e-72,
          2.467904500454174e-73,
          3.357206898293045e-74,
          4.507976536170121e-75,
          5.975014591320569e-76,
          7.817179360725745e-77,
          1.0095200908982877e-77,
          1.2868669267905085e-78,
          1.619220880460673e-79,
          2.011093836411177e-80,
          2.4655417306604685e-81,
          2.9836382315064426e-82,
          3.563967643396238e-83,
          4.2021845800803335e-84,
          4.8906916291239316e-85,
          5.6184849128576514e-86,
          6.371210307275423e-87,
          7.131459925973274e-88,
          7.879319923863299e-89,
          8.593158177508836e-90,
          9.250616159101119e-91,
          9.829746070541642e-92,
          1.0310214963161235e-92,
          1.0674484838209041e-93,
          1.0908873668901387e-94,
          1.1004407984352805e-95,
          1.0957392975967263e-96,
          1.076964963606787e-97,
          1.0448397712221223e-98,
          1.0005794964525824e-99,
          9.458173713991417e-101,
          8.825041502863149e-102,
          8.127931034232e-103,
          7.389193620932361e-104,
          6.6308295854742296e-105,
          5.873439095011917e-106,
          5.1353595508802107e-107,
          4.432033410057077e-108,
          3.7756260892645736e-109,
          3.1748902297638563e-110,
          2.6352524975239688e-111,
          2.1590839850357705e-112,
          1.746106068525522e-113,
          1.3938803335190825e-114,
          1.0983332789623593e-115,
          8.54272798759951e-117,
          6.55862494663515e-118,
          4.970302236907307e-119,
          3.717976011355439e-120,
          2.7452642311367085e-121,
          2.000854475264388e-122,
          1.4394634355092893e-123,
          1.0222086590393197e-124,
          7.165264993856134e-126,
          4.957682850220029e-127,
          3.385938054332285e-128,
          2.2826170620086284e-129,
          1.5189409587478367e-130,
          9.977058308419521e-132,
          6.4687134127881824e-133,
          4.139873724833678e-134,
          2.6152310341767926e-135,
          1.6307478376281718e-136,
          1.0037310165750348e-137,
          6.0981999648584155e-139,
          3.6571246307136882e-140,
          2.1648691108921848e-141,
          1.2649615068017784e-142,
          7.295864496230231e-144,
          4.153650892479282e-145,
          2.334194319534648e-146,
          1.29478543945159e-147,
          7.089447474119686e-149,
          3.83160520594799e-150,
          2.044103601328132e-151,
          1.0764127549888587e-152,
          5.595108985794936e-154,
          2.8707280236304333e-155,
          1.4538825714606336e-156,
          7.268091652847967e-158,
          3.5864538213310247e-159,
          1.7468832256190127e-160,
          8.3987816177278e-162,
          3.985864096279504e-163,
          1.8671640099399497e-164,
          8.633685644290838e-166,
          3.940612940174209e-167,
          1.7753545998745692e-168,
          7.895147053795655e-170,
          3.465685270386929e-171,
          1.5016606508979287e-172,
          6.422561391233669e-174,
          2.7114307119139243e-175,
          1.1299065879697812e-176,
          4.6477242557548395e-178,
          1.88708711934477e-179,
          7.563056239322691e-181,
          2.9919648882735493e-182,
          1.1683405189732331e-183,
          4.503354834671327e-185,
          1.7133917849488393e-186,
          6.434739589943727e-188,
          2.385388135624327e-189,
          8.728526141573616e-191,
          3.152655830817382e-192,
          1.12399917071802e-193,
          3.955571167096088e-195,
          1.3740615832969766e-196,
          4.7114759194827174e-198,
          1.5946359002271425e-199,
          5.327456126556817e-201,
          1.7568391858317317e-202,
          5.718707986314168e-204,
          1.8374588215615523e-205,
          5.827618222273177e-207,
          1.8243928157298124e-208,
          5.637666707992447e-210,
          1.7196268777620557e-211,
          5.1775325147038615e-213,
          1.5387399468851166e-214,
          4.513998447781383e-216,
          1.3071076772318828e-217,
          3.736070895250212e-219,
          1.0540777236488953e-220,
          2.9355125741159884e-222,
          8.069544817107574e-224,
          2.189615779251639e-225,
          5.864629403984207e-227,
          1.550483025918883e-228,
          4.0461990328823453e-230,
          1.0422724322892353e-231,
          2.650141379545159e-233,
          6.651362518048579e-235,
          1.6478056114219234e-236,
          4.029536735514156e-238,
          9.726532551029997e-240,
          2.3174733728713543e-241,
          5.45036070082048e-243,
          1.2652883790924818e-244,
          2.899396279985975e-246,
          6.558120898747008e-248,
          1.4642156455029574e-249,
          3.2268921517197764e-251,
          7.01968528403523e-253,
          1.5073170643457304e-254,
          3.194812486754911e-256,
          6.684053444171716e-258,
          1.380346878723624e-259,
          2.813781335734344e-261,
          5.661691935493261e-263,
          1.1244908042508237e-264,
          2.2045470136949547e-266,
          4.266154748833565e-268,
          8.14906211093113e-270,
          1.5364995389676262e-271,
          2.8596377651186616e-273,
          5.253435404645446e-275,
          9.52641622439458e-277,
          1.7051771010045232e-278,
          3.01275082651773e-280,
          5.254249842995825e-282,
          9.04507159495179e-284,
          1.5369759819248136e-285,
          2.5779585856262567e-287,
          4.268139198120009e-289,
          6.975173208153047e-291,
          1.1251882841713769e-292,
          1.7916335635503355e-294,
          2.8159631100469784e-296,
          4.36876330532576e-298,
          6.690273213894549e-300,
          1.0113069100691492e-301,
          1.5089535773657822e-303,
          2.2224017303131246e-305,
          3.2308964361176585e-307,
          4.63636150433527e-309,
          6.5672769048683e-311,
          9.18220847393e-313,
          1.2672513206e-314,
          1.7263631e-316,
          2.321427e-318,
          3.0815e-320,
          4.05e-322,
          5e-324,
          0,
          0,
          0,
          0,
          0,
          0,
          0,
          0,
          0,
          0,
          0,
          0,
          0,
          0,
          0,
          0,
          0,
          0,
          0,
          0,
          0,
          0,
          0,
          0,
          0,
          0,
          0,
          0,
          0,
          0,
          0,
          0,
          0,
          0,
          0,
          0,
          0,
          0,
          0,
          0,
          0,
          0,
          0,
          0,
          0,
          0,
          0,
          0,
          0,
          0,
          0,
          0,
          0,
          0,
          0,
          0,
          0,
          0,
          0,
          0,
          0,
          0,
          0,
          0,
          0,
          0,
          0,
          0,
          0,
          0,
          0,
          0,
          0,
          0,
          0,
          0,
          0,
          0,
          0,
          0,
          0,
          0,
          0,
          0,
          0,
          0,
          0,
          0,
          0,
          0,
          0,
          0,
          0,
          0,
          0,
          0,
          0,
          0,
          0,
          0,
          0,
          0,
          0,
          0,
          0,
          0,
          0,
          0,
          0,
          0,
          0,
          0,
          0,
          0,
          0,
          0,
          0,
          0,
          0,
          0,
          0,
          0,
          0,
          0,
          0,
          0,
          0,
          0,
          0,
          0,
          0,
          0,
          0,
          0,
          0,
          0,
          0,
          0,
          0,
          0,
          0,
          0,
          0,
          0,
          0,
          0,
          0,
          0,
          0,
          0,
          0,
          0,
          0,
          0,
          0,
          0,
          0,
          0,
          0,
          0,
          0,
          0,
          0
         ],
         "yaxis": "y"
        },
        {
         "legendgroup": "spotify_listeners",
         "marker": {
          "color": "rgb(44, 160, 44)"
         },
         "mode": "lines",
         "name": "spotify_listeners",
         "showlegend": true,
         "type": "scatter",
         "visible": "legendonly",
         "x": [
          1,
          173000.998,
          346000.996,
          519000.994,
          692000.992,
          865000.99,
          1038000.988,
          1211000.986,
          1384000.984,
          1557000.982,
          1730000.98,
          1903000.978,
          2076000.976,
          2249000.974,
          2422000.972,
          2595000.97,
          2768000.968,
          2941000.966,
          3114000.964,
          3287000.962,
          3460000.96,
          3633000.958,
          3806000.956,
          3979000.954,
          4152000.952,
          4325000.95,
          4498000.948,
          4671000.946,
          4844000.944,
          5017000.942,
          5190000.94,
          5363000.938,
          5536000.936,
          5709000.934,
          5882000.932,
          6055000.93,
          6228000.928,
          6401000.926,
          6574000.924,
          6747000.922,
          6920000.92,
          7093000.918,
          7266000.916,
          7439000.914,
          7612000.912,
          7785000.91,
          7958000.908,
          8131000.906,
          8304000.904,
          8477000.902,
          8650000.9,
          8823000.898,
          8996000.896,
          9169000.894,
          9342000.892,
          9515000.89,
          9688000.888,
          9861000.886,
          10034000.884,
          10207000.882,
          10380000.88,
          10553000.878,
          10726000.876,
          10899000.874,
          11072000.872,
          11245000.87,
          11418000.868,
          11591000.866,
          11764000.864,
          11937000.862,
          12110000.86,
          12283000.858,
          12456000.856,
          12629000.854,
          12802000.852,
          12975000.85,
          13148000.848,
          13321000.846,
          13494000.844,
          13667000.842,
          13840000.84,
          14013000.838,
          14186000.836,
          14359000.834,
          14532000.832,
          14705000.83,
          14878000.828,
          15051000.826,
          15224000.824,
          15397000.822,
          15570000.82,
          15743000.818,
          15916000.816,
          16089000.814,
          16262000.812,
          16435000.81,
          16608000.808,
          16781000.806,
          16954000.804,
          17127000.802,
          17300000.8,
          17473000.798,
          17646000.796,
          17819000.794,
          17992000.792,
          18165000.79,
          18338000.788,
          18511000.786,
          18684000.784,
          18857000.782,
          19030000.78,
          19203000.778,
          19376000.776,
          19549000.774,
          19722000.772,
          19895000.77,
          20068000.768,
          20241000.766,
          20414000.764,
          20587000.762,
          20760000.76,
          20933000.758,
          21106000.756,
          21279000.754,
          21452000.752,
          21625000.75,
          21798000.748,
          21971000.746,
          22144000.744,
          22317000.742,
          22490000.74,
          22663000.738,
          22836000.736,
          23009000.734,
          23182000.732,
          23355000.73,
          23528000.728,
          23701000.726,
          23874000.724,
          24047000.722,
          24220000.72,
          24393000.718,
          24566000.716,
          24739000.714,
          24912000.712,
          25085000.71,
          25258000.708,
          25431000.706,
          25604000.704,
          25777000.702,
          25950000.7,
          26123000.698,
          26296000.696,
          26469000.694,
          26642000.692,
          26815000.69,
          26988000.688,
          27161000.686,
          27334000.684,
          27507000.682,
          27680000.68,
          27853000.678,
          28026000.676,
          28199000.674,
          28372000.672,
          28545000.67,
          28718000.668,
          28891000.666,
          29064000.664,
          29237000.662,
          29410000.66,
          29583000.658,
          29756000.656,
          29929000.654,
          30102000.652,
          30275000.65,
          30448000.648,
          30621000.646,
          30794000.644,
          30967000.642,
          31140000.64,
          31313000.638,
          31486000.636,
          31659000.634,
          31832000.632,
          32005000.63,
          32178000.628,
          32351000.626,
          32524000.624,
          32697000.622,
          32870000.62,
          33043000.618,
          33216000.616,
          33389000.614,
          33562000.612,
          33735000.61,
          33908000.608,
          34081000.606,
          34254000.604,
          34427000.602,
          34600000.6,
          34773000.598,
          34946000.596,
          35119000.594,
          35292000.592,
          35465000.59,
          35638000.588,
          35811000.586,
          35984000.584,
          36157000.582,
          36330000.58,
          36503000.578,
          36676000.576,
          36849000.574,
          37022000.572,
          37195000.57,
          37368000.568,
          37541000.566,
          37714000.564,
          37887000.562,
          38060000.56,
          38233000.558,
          38406000.556,
          38579000.554,
          38752000.552,
          38925000.55,
          39098000.548,
          39271000.546,
          39444000.544,
          39617000.542,
          39790000.54,
          39963000.538,
          40136000.536,
          40309000.534,
          40482000.532,
          40655000.53,
          40828000.528,
          41001000.526,
          41174000.524,
          41347000.522,
          41520000.52,
          41693000.518,
          41866000.516,
          42039000.514,
          42212000.512,
          42385000.51,
          42558000.508,
          42731000.506,
          42904000.504,
          43077000.502,
          43250000.5,
          43423000.498,
          43596000.496,
          43769000.494,
          43942000.492,
          44115000.49,
          44288000.488,
          44461000.486,
          44634000.484,
          44807000.482,
          44980000.48,
          45153000.478,
          45326000.476,
          45499000.474,
          45672000.472,
          45845000.47,
          46018000.468,
          46191000.466,
          46364000.464,
          46537000.462,
          46710000.46,
          46883000.458,
          47056000.456,
          47229000.454,
          47402000.452,
          47575000.45,
          47748000.448,
          47921000.446,
          48094000.444,
          48267000.442,
          48440000.44,
          48613000.438,
          48786000.436,
          48959000.434,
          49132000.432,
          49305000.43,
          49478000.428,
          49651000.426,
          49824000.424,
          49997000.422,
          50170000.42,
          50343000.418,
          50516000.416,
          50689000.414,
          50862000.412,
          51035000.41,
          51208000.408,
          51381000.406,
          51554000.404,
          51727000.402,
          51900000.4,
          52073000.398,
          52246000.396,
          52419000.394,
          52592000.392,
          52765000.39,
          52938000.388,
          53111000.386,
          53284000.384,
          53457000.382,
          53630000.38,
          53803000.378,
          53976000.376,
          54149000.374,
          54322000.372,
          54495000.37,
          54668000.368,
          54841000.366,
          55014000.364,
          55187000.362,
          55360000.36,
          55533000.358,
          55706000.356,
          55879000.354,
          56052000.352,
          56225000.35,
          56398000.348,
          56571000.346,
          56744000.344,
          56917000.342,
          57090000.34,
          57263000.338,
          57436000.336,
          57609000.334,
          57782000.332,
          57955000.33,
          58128000.328,
          58301000.326,
          58474000.324,
          58647000.322,
          58820000.32,
          58993000.318,
          59166000.316,
          59339000.314,
          59512000.312,
          59685000.31,
          59858000.308,
          60031000.306,
          60204000.304,
          60377000.302,
          60550000.3,
          60723000.298,
          60896000.296,
          61069000.294,
          61242000.292,
          61415000.29,
          61588000.288,
          61761000.286,
          61934000.284,
          62107000.282,
          62280000.28,
          62453000.278,
          62626000.276,
          62799000.274,
          62972000.272,
          63145000.27,
          63318000.268,
          63491000.266,
          63664000.264,
          63837000.262,
          64010000.26,
          64183000.258,
          64356000.256,
          64529000.254,
          64702000.252,
          64875000.25,
          65048000.248,
          65221000.246,
          65394000.244,
          65567000.242,
          65740000.24,
          65913000.238,
          66086000.236,
          66259000.234,
          66432000.232,
          66605000.23,
          66778000.228,
          66951000.226,
          67124000.224,
          67297000.222,
          67470000.22,
          67643000.218,
          67816000.216,
          67989000.214,
          68162000.212,
          68335000.21,
          68508000.208,
          68681000.206,
          68854000.204,
          69027000.202,
          69200000.2,
          69373000.198,
          69546000.196,
          69719000.194,
          69892000.192,
          70065000.19,
          70238000.188,
          70411000.186,
          70584000.184,
          70757000.182,
          70930000.18,
          71103000.178,
          71276000.176,
          71449000.174,
          71622000.172,
          71795000.17,
          71968000.168,
          72141000.166,
          72314000.164,
          72487000.162,
          72660000.16,
          72833000.158,
          73006000.156,
          73179000.154,
          73352000.152,
          73525000.15,
          73698000.148,
          73871000.146,
          74044000.144,
          74217000.142,
          74390000.14,
          74563000.138,
          74736000.136,
          74909000.134,
          75082000.132,
          75255000.13,
          75428000.128,
          75601000.126,
          75774000.124,
          75947000.122,
          76120000.12,
          76293000.118,
          76466000.116,
          76639000.114,
          76812000.112,
          76985000.11,
          77158000.108,
          77331000.106,
          77504000.104,
          77677000.102,
          77850000.1,
          78023000.098,
          78196000.096,
          78369000.094,
          78542000.092,
          78715000.09,
          78888000.088,
          79061000.086,
          79234000.084,
          79407000.082,
          79580000.08,
          79753000.078,
          79926000.076,
          80099000.074,
          80272000.072,
          80445000.07,
          80618000.068,
          80791000.066,
          80964000.064,
          81137000.062,
          81310000.06,
          81483000.058,
          81656000.056,
          81829000.054,
          82002000.052,
          82175000.05,
          82348000.048,
          82521000.046,
          82694000.044,
          82867000.042,
          83040000.04,
          83213000.038,
          83386000.036,
          83559000.034,
          83732000.032,
          83905000.03,
          84078000.028,
          84251000.026,
          84424000.024,
          84597000.022,
          84770000.02,
          84943000.018,
          85116000.016,
          85289000.014,
          85462000.012,
          85635000.01,
          85808000.008,
          85981000.006,
          86154000.004,
          86327000.002
         ],
         "xaxis": "x",
         "y": [
          1.5171085538065068e-07,
          1.5328325567850897e-07,
          1.5417921417318484e-07,
          1.5438673835290388e-07,
          1.5390304383803613e-07,
          1.527346165522614e-07,
          1.5089706798755016e-07,
          1.4841478807794537e-07,
          1.4532040647187475e-07,
          1.4165407883691103e-07,
          1.3746262001575218e-07,
          1.32798510180841e-07,
          1.2771880345159806e-07,
          1.2228397063460988e-07,
          1.1655670876711955e-07,
          1.1060074998483223e-07,
          1.0447970094506968e-07,
          9.825594171185002e-08,
          9.198960978764995e-08,
          8.573769102712451e-08,
          7.955323468350695e-08,
          7.348470502389807e-08,
          6.75754770123547e-08,
          6.186347869889476e-08,
          5.6380978350764516e-08,
          5.1154510177851296e-08,
          4.6204928865390626e-08,
          4.154758012894012e-08,
          3.719257220854969e-08,
          3.314513164571367e-08,
          2.9406025829621345e-08,
          2.5972034620513765e-08,
          2.2836453794874173e-08,
          1.9989614027615426e-08,
          1.7419400534755117e-08,
          1.5111760243050803e-08,
          1.3051185325479079e-08,
          1.1221164041138307e-08,
          9.604591950379431e-09,
          8.184138656754493e-09,
          6.94256718596811e-09,
          5.86300489234494e-09,
          4.9291663445055826e-09,
          4.125529957990463e-09,
          3.437471201414906e-09,
          2.851356004680787e-09,
          2.3545985535849347e-09,
          1.935687983969697e-09,
          1.5841886156207337e-09,
          1.2907183207013152e-09,
          1.0469094349180648e-09,
          8.453563234191767e-10,
          6.795533380421033e-10,
          5.438264760518575e-10,
          4.332615979104959e-10,
          3.4363160420788e-10,
          2.71324527081735e-10,
          2.1327407277031844e-10,
          1.668937691518135e-10,
          1.3001553159879968e-10,
          1.0083316559012487e-10,
          7.785107613551535e-11,
          5.983825101741858e-11,
          4.578742443989708e-11,
          3.487920611152018e-11,
          2.6450873613741667e-11,
          1.9969468319613163e-11,
          1.500880228018184e-11,
          1.1229970707033572e-11,
          8.364967598568702e-12,
          6.2030167713457625e-12,
          4.5792536510411675e-12,
          3.3654217563411874e-12,
          2.462279493853179e-12,
          1.7934457787397677e-12,
          1.3004456514575927e-12,
          9.387484112640295e-13,
          6.746200988503163e-13,
          4.826389744303646e-13,
          3.4374671431609906e-13,
          2.437293187240419e-13,
          1.7204024250886556e-13,
          1.2089417342212177e-13,
          8.457339157362928e-14,
          5.889998396650484e-14,
          4.0836607763082866e-14,
          2.818624311354464e-14,
          1.9367688029316116e-14,
          1.3248643713580281e-14,
          9.022317661329533e-15,
          6.116709558627375e-15,
          4.128294370423626e-15,
          2.7738087133881846e-15,
          1.855390854080755e-15,
          1.2355131369120806e-15,
          8.190536993691305e-16,
          5.405432364017636e-16,
          3.551416037746047e-16,
          2.32287434930364e-16,
          1.512526309094119e-16,
          9.804675159411373e-17,
          6.327272431950442e-17,
          4.0649285045935023e-17,
          2.5998143790321887e-17,
          1.6553309073592905e-17,
          1.0492533374290047e-17,
          6.6210817053477266e-18,
          4.159399044876996e-18,
          2.601269093467702e-18,
          1.6195450269198937e-18,
          1.0038153336196701e-18,
          6.193949733918983e-19,
          3.804824070494289e-19,
          2.326775793189601e-19,
          1.4165357713012576e-19,
          8.585263080461433e-20,
          5.180035336487994e-20,
          3.111464780783351e-20,
          1.860587544408736e-20,
          1.1076138602694384e-20,
          6.564168289622303e-21,
          3.872791215539249e-21,
          2.2746863156987727e-21,
          1.330062343631856e-21,
          7.742398733426894e-22,
          4.486752589016286e-22,
          2.588461817749463e-22,
          1.4866353545167787e-22,
          8.500025001553853e-23,
          4.838257763076268e-23,
          2.7416426894449423e-23,
          1.5466276073106135e-23,
          8.685877799348639e-24,
          4.856179425738621e-24,
          2.7028925853866477e-24,
          1.497669211540554e-24,
          8.261446017657323e-25,
          4.536796399937764e-25,
          2.4802505953199255e-25,
          1.3498791460777953e-25,
          7.313870498008724e-26,
          3.945051683048774e-26,
          2.118415671985794e-26,
          1.1324595977716667e-26,
          6.026807300375999e-27,
          3.1930443235715413e-27,
          1.684130112922613e-27,
          8.842995175550204e-28,
          4.622492205576095e-28,
          2.405503757526473e-28,
          1.2462034361264787e-28,
          6.427245691395188e-29,
          3.299999787226386e-29,
          1.6867704129513515e-29,
          8.583236714846804e-30,
          4.348097340337676e-30,
          2.1928073524423352e-30,
          1.1009174412236968e-30,
          5.5025256801113845e-31,
          2.7379307331397257e-31,
          1.3562379359014315e-31,
          6.688094055568435e-32,
          3.2833857472797494e-32,
          1.604702384397652e-32,
          7.807646462825295e-33,
          3.781802411641466e-33,
          1.8236041913436396e-33,
          8.754178174780409e-34,
          4.183629668564573e-34,
          1.990417307463027e-34,
          9.427316706605537e-35,
          4.445136562278374e-35,
          2.086580627689095e-35,
          9.75075595265393e-36,
          4.536223616753403e-36,
          2.1008917539492944e-36,
          9.686479200616613e-37,
          4.446120989650161e-37,
          2.0316535708941914e-37,
          9.242109029715192e-38,
          4.1854829009880954e-38,
          1.8870052529029924e-38,
          8.469420560148775e-39,
          3.784315540967983e-39,
          1.6833484999075493e-39,
          7.454418724826448e-40,
          3.286295290008929e-40,
          1.4422894852947744e-40,
          6.301607408869778e-41,
          2.7409638098417216e-41,
          1.1868841013428662e-41,
          5.116422216035653e-42,
          2.1957227028066733e-42,
          9.380838543828476e-43,
          3.989871261948801e-43,
          1.689387035845245e-43,
          7.121188536498987e-44,
          2.988332125382629e-44,
          1.2484130386205301e-44,
          5.1920728896686204e-45,
          2.1496923862485093e-45,
          8.860636257487373e-46,
          3.635854969437801e-46,
          1.4852557652629713e-46,
          6.040167677790466e-47,
          2.445399369065478e-47,
          9.85606704985036e-48,
          3.954672786985408e-48,
          1.5796850724284197e-48,
          6.281791617000526e-49,
          2.486849995093188e-49,
          9.80096202558437e-50,
          3.845394279543381e-50,
          1.5019867378204062e-50,
          5.840423942872356e-51,
          2.2608705670649834e-51,
          8.712846846009809e-52,
          3.342700857559372e-52,
          1.276697471085978e-52,
          4.85435503258732e-53,
          1.8375032960196828e-53,
          6.924330203446083e-54,
          2.5976489890030245e-54,
          9.701440281478903e-55,
          3.606990644962324e-55,
          1.3350787082881784e-55,
          4.91950919291003e-56,
          1.8046364945082106e-56,
          6.59038441511764e-57,
          2.3959889573983644e-57,
          8.671853439304077e-58,
          3.1245832422259406e-58,
          1.1207927725851927e-58,
          4.002318044562792e-59,
          1.4228231565750424e-59,
          5.035508173511854e-60,
          1.7741434752788168e-60,
          6.2228197897635864e-61,
          2.1728951103693573e-61,
          7.553415128173532e-62,
          2.61397239880855e-62,
          9.005580110945797e-63,
          3.0886979724964216e-63,
          1.054610873391747e-63,
          3.5847766257199615e-64,
          1.2130676081651619e-64,
          4.086589039584527e-65,
          1.370534518506621e-65,
          4.575852778791989e-66,
          1.5209227667089782e-66,
          5.032633813310136e-67,
          1.6578168680229146e-67,
          5.436643176113932e-68,
          1.7749174457144762e-68,
          5.7687077693266e-69,
          1.8665170983564657e-69,
          6.01226976742115e-70,
          1.927959905071448e-70,
          6.154752443138841e-71,
          1.9560332530097325e-71,
          6.188635874056296e-72,
          1.9492461272061288e-72,
          6.112114511425325e-73,
          1.907960314104506e-73,
          5.929256584736919e-74,
          1.8343584503300573e-74,
          5.6496457557899135e-75,
          1.732252843883031e-75,
          5.287548952381882e-76,
          1.6067583735661785e-76,
          4.860710944526955e-77,
          1.4638685196403335e-77,
          4.388917326478068e-78,
          1.309983367487228e-78,
          3.892487401753853e-79,
          1.1514410338762435e-79,
          3.3908551785085775e-80,
          9.940994504804781e-81,
          2.9013724200710235e-81,
          8.430050489879423e-82,
          2.438427938928721e-82,
          7.021707404183826e-83,
          2.012929588394256e-83,
          5.744701822322461e-84,
          1.6321476808082208e-84,
          4.616410982161884e-85,
          1.2998778141662542e-85,
          3.643792604190681e-86,
          1.0168521734831953e-86,
          2.8249778381548414e-87,
          7.81313487978886e-88,
          2.1512389417669674e-88,
          5.89664568338146e-89,
          1.6090682566832054e-89,
          4.371162525598648e-90,
          1.1821497487472635e-90,
          3.182739446343528e-91,
          8.530661942944324e-92,
          2.276236744164559e-92,
          6.046515633713925e-93,
          1.5989908671163454e-93,
          4.2095903868189254e-94,
          1.1032825452845851e-94,
          2.8786357090866598e-95,
          7.477212480137426e-96,
          1.9335071773869097e-96,
          4.977427095183323e-97,
          1.2756075448004967e-97,
          3.254485220515822e-98,
          8.266098586554162e-99,
          2.0901233175444103e-99,
          5.26133908885846e-100,
          1.3184805501300258e-100,
          3.289305530232831e-101,
          8.169354750114362e-102,
          2.0198743231424635e-102,
          4.971803938205391e-103,
          1.218306867401765e-103,
          2.972024896518589e-104,
          7.217740216609739e-105,
          1.7450308250383234e-105,
          4.200084344415352e-106,
          1.0063892134786645e-106,
          2.4006397202275218e-107,
          5.700868906440725e-108,
          1.3477463795332524e-108,
          3.1719647035242795e-109,
          7.431929321326476e-110,
          1.733515975268333e-110,
          4.0253827240629094e-111,
          9.305496736546643e-112,
          2.1415341120699294e-112,
          4.906406021302453e-113,
          1.1190642591553996e-113,
          2.540970475174538e-114,
          5.743772960931907e-115,
          1.2925518200837241e-115,
          2.8956876568445227e-116,
          6.458155814314195e-117,
          1.4338983849752568e-117,
          3.1694308796203187e-118,
          6.974245757275054e-119,
          1.527799141110617e-119,
          3.3318721534684565e-120,
          7.2337492240626566e-121,
          1.5634774485139384e-121,
          3.3641305946815175e-122,
          7.206213494333678e-123,
          1.5367189795384777e-123,
          3.262382196233814e-124,
          6.894904802107942e-125,
          1.4506904858278045e-125,
          3.038605390796803e-126,
          6.336171122524206e-127,
          1.3153233937301614e-127,
          2.7182615591547544e-128,
          5.592461401390766e-129,
          1.1454280120117769e-129,
          2.3355311117393036e-130,
          4.740853844724276e-131,
          9.580331329890912e-132,
          1.927336491430211e-132,
          3.86000273146683e-133,
          7.696100536714047e-134,
          1.5275903473630918e-134,
          3.0185344113254263e-135,
          5.937975611869661e-136,
          1.1628768920522738e-136,
          2.2671597580286866e-137,
          4.4003129097160525e-138,
          8.502331809348945e-139,
          1.6354813318710812e-139,
          3.1318877315866314e-140,
          5.970625514641724e-141,
          1.1331477274686862e-141,
          2.1409488147397678e-142,
          4.0269764454690994e-143,
          7.540583387114474e-144,
          1.405671556880706e-144,
          2.6086500355737977e-145,
          4.8194872493576675e-146,
          8.864186886037133e-147,
          1.6230429953513675e-147,
          2.9585178793319497e-148,
          5.368728282596714e-149,
          9.698882617066671e-150,
          1.7443154789082077e-150,
          3.123067844781268e-151,
          5.5666107715656435e-152,
          9.877643440145002e-153,
          1.7448933487948276e-153,
          3.068580224968547e-154,
          5.372286056793486e-155,
          9.363405450886071e-156,
          1.6246566112960167e-156,
          2.806353576847038e-157,
          4.825876966954606e-158,
          8.261580830560389e-159,
          1.4080015071044329e-159,
          2.388889907611569e-160,
          4.034987599265791e-161,
          6.78486679405952e-162,
          1.1357781241854951e-162,
          1.8927738457603552e-163,
          3.1401978040384656e-164,
          5.186427812142307e-165,
          8.52771587350397e-166,
          1.395886667965581e-166,
          2.2746817815291457e-167,
          3.690151459576395e-168,
          5.959650438095993e-169,
          9.5818735424225e-170,
          1.5336742835897396e-170,
          2.443818165176913e-171,
          3.8766598333335337e-172,
          6.1220877892544236e-173,
          9.62486095327906e-174,
          1.506407356738301e-174,
          2.3471640482287298e-175,
          3.640805793137187e-176,
          5.622178568527286e-177,
          8.643005905576894e-178,
          1.322750812081449e-178,
          2.0153214001691257e-179,
          3.05677624005049e-180,
          4.615683634733541e-181,
          6.938434163048942e-182,
          1.0383409023919206e-182,
          1.5469330034581412e-183,
          2.2943311460680337e-184,
          3.387612674978941e-185,
          4.979485248464945e-186,
          7.286654936693044e-187,
          1.0615122493209711e-187,
          1.5394828990868852e-188,
          2.2226842937495533e-189,
          3.19472694649989e-190,
          4.5713319798989696e-191,
          6.511856647665442e-192,
          9.234639658058144e-193,
          1.3037314090590127e-193,
          1.8323538966325386e-194,
          2.5637970074288523e-195,
          3.571173655350919e-196,
          4.952122219631814e-197,
          6.836357928193422e-198,
          9.395313663255766e-199,
          1.2854370906619187e-199,
          1.7508277574016745e-200,
          2.3740456848958604e-201,
          3.204702900857381e-202,
          4.3066494977508165e-203,
          5.761616322038783e-204,
          7.673653655430949e-205,
          1.0174500695755583e-205,
          1.3430032713422523e-206,
          1.7647942818111422e-207,
          2.3086822181893954e-208,
          3.0066804978479724e-209,
          3.898194065506723e-210,
          5.0314444708464235e-211,
          6.465095799967079e-212,
          8.270091183256472e-213,
          1.0531704956431234e-213,
          1.335180935359048e-214,
          1.6851346698619606e-215,
          2.1172988311874725e-216,
          2.6483949699565387e-217,
          3.297891805811267e-218,
          4.0883032818755625e-219,
          5.04548431102963e-220,
          6.19891479974838e-221,
          7.581960667861858e-222,
          9.232098717339386e-223,
          1.1191090424114163e-223,
          1.350508813280555e-224,
          1.6224655837726796e-225,
          1.940468585721111e-226,
          2.3104192381178898e-227,
          2.738596322253727e-228,
          3.2316052254580955e-229,
          3.796309707603552e-230,
          4.4397449498326843e-231,
          5.1690110548346516e-232,
          5.991146683556086e-233,
          6.912983130839463e-234,
          7.940979852683487e-235,
          9.081043245428462e-236,
          1.0338331320413756e-236,
          1.1717047789084728e-237,
          1.3220229939698712e-238,
          1.48495355098994e-239,
          1.660503449819573e-240,
          1.8485012468597637e-241,
          2.0485792344208047e-242,
          2.2601581916491204e-243,
          2.4824354283204747e-244,
          2.714376814085318e-245,
          2.9547134280147777e-246,
          3.2019433757610594e-247
         ],
         "yaxis": "y"
        }
       ],
       "layout": {
        "autosize": true,
        "barmode": "overlay",
        "dragmode": "zoom",
        "hovermode": "closest",
        "legend": {
         "traceorder": "reversed"
        },
        "template": {
         "data": {
          "bar": [
           {
            "error_x": {
             "color": "#2a3f5f"
            },
            "error_y": {
             "color": "#2a3f5f"
            },
            "marker": {
             "line": {
              "color": "#E5ECF6",
              "width": 0.5
             },
             "pattern": {
              "fillmode": "overlay",
              "size": 10,
              "solidity": 0.2
             }
            },
            "type": "bar"
           }
          ],
          "barpolar": [
           {
            "marker": {
             "line": {
              "color": "#E5ECF6",
              "width": 0.5
             },
             "pattern": {
              "fillmode": "overlay",
              "size": 10,
              "solidity": 0.2
             }
            },
            "type": "barpolar"
           }
          ],
          "carpet": [
           {
            "aaxis": {
             "endlinecolor": "#2a3f5f",
             "gridcolor": "white",
             "linecolor": "white",
             "minorgridcolor": "white",
             "startlinecolor": "#2a3f5f"
            },
            "baxis": {
             "endlinecolor": "#2a3f5f",
             "gridcolor": "white",
             "linecolor": "white",
             "minorgridcolor": "white",
             "startlinecolor": "#2a3f5f"
            },
            "type": "carpet"
           }
          ],
          "choropleth": [
           {
            "colorbar": {
             "outlinewidth": 0,
             "ticks": ""
            },
            "type": "choropleth"
           }
          ],
          "contour": [
           {
            "colorbar": {
             "outlinewidth": 0,
             "ticks": ""
            },
            "colorscale": [
             [
              0,
              "#0d0887"
             ],
             [
              0.1111111111111111,
              "#46039f"
             ],
             [
              0.2222222222222222,
              "#7201a8"
             ],
             [
              0.3333333333333333,
              "#9c179e"
             ],
             [
              0.4444444444444444,
              "#bd3786"
             ],
             [
              0.5555555555555556,
              "#d8576b"
             ],
             [
              0.6666666666666666,
              "#ed7953"
             ],
             [
              0.7777777777777778,
              "#fb9f3a"
             ],
             [
              0.8888888888888888,
              "#fdca26"
             ],
             [
              1,
              "#f0f921"
             ]
            ],
            "type": "contour"
           }
          ],
          "contourcarpet": [
           {
            "colorbar": {
             "outlinewidth": 0,
             "ticks": ""
            },
            "type": "contourcarpet"
           }
          ],
          "heatmap": [
           {
            "colorbar": {
             "outlinewidth": 0,
             "ticks": ""
            },
            "colorscale": [
             [
              0,
              "#0d0887"
             ],
             [
              0.1111111111111111,
              "#46039f"
             ],
             [
              0.2222222222222222,
              "#7201a8"
             ],
             [
              0.3333333333333333,
              "#9c179e"
             ],
             [
              0.4444444444444444,
              "#bd3786"
             ],
             [
              0.5555555555555556,
              "#d8576b"
             ],
             [
              0.6666666666666666,
              "#ed7953"
             ],
             [
              0.7777777777777778,
              "#fb9f3a"
             ],
             [
              0.8888888888888888,
              "#fdca26"
             ],
             [
              1,
              "#f0f921"
             ]
            ],
            "type": "heatmap"
           }
          ],
          "heatmapgl": [
           {
            "colorbar": {
             "outlinewidth": 0,
             "ticks": ""
            },
            "colorscale": [
             [
              0,
              "#0d0887"
             ],
             [
              0.1111111111111111,
              "#46039f"
             ],
             [
              0.2222222222222222,
              "#7201a8"
             ],
             [
              0.3333333333333333,
              "#9c179e"
             ],
             [
              0.4444444444444444,
              "#bd3786"
             ],
             [
              0.5555555555555556,
              "#d8576b"
             ],
             [
              0.6666666666666666,
              "#ed7953"
             ],
             [
              0.7777777777777778,
              "#fb9f3a"
             ],
             [
              0.8888888888888888,
              "#fdca26"
             ],
             [
              1,
              "#f0f921"
             ]
            ],
            "type": "heatmapgl"
           }
          ],
          "histogram": [
           {
            "marker": {
             "pattern": {
              "fillmode": "overlay",
              "size": 10,
              "solidity": 0.2
             }
            },
            "type": "histogram"
           }
          ],
          "histogram2d": [
           {
            "colorbar": {
             "outlinewidth": 0,
             "ticks": ""
            },
            "colorscale": [
             [
              0,
              "#0d0887"
             ],
             [
              0.1111111111111111,
              "#46039f"
             ],
             [
              0.2222222222222222,
              "#7201a8"
             ],
             [
              0.3333333333333333,
              "#9c179e"
             ],
             [
              0.4444444444444444,
              "#bd3786"
             ],
             [
              0.5555555555555556,
              "#d8576b"
             ],
             [
              0.6666666666666666,
              "#ed7953"
             ],
             [
              0.7777777777777778,
              "#fb9f3a"
             ],
             [
              0.8888888888888888,
              "#fdca26"
             ],
             [
              1,
              "#f0f921"
             ]
            ],
            "type": "histogram2d"
           }
          ],
          "histogram2dcontour": [
           {
            "colorbar": {
             "outlinewidth": 0,
             "ticks": ""
            },
            "colorscale": [
             [
              0,
              "#0d0887"
             ],
             [
              0.1111111111111111,
              "#46039f"
             ],
             [
              0.2222222222222222,
              "#7201a8"
             ],
             [
              0.3333333333333333,
              "#9c179e"
             ],
             [
              0.4444444444444444,
              "#bd3786"
             ],
             [
              0.5555555555555556,
              "#d8576b"
             ],
             [
              0.6666666666666666,
              "#ed7953"
             ],
             [
              0.7777777777777778,
              "#fb9f3a"
             ],
             [
              0.8888888888888888,
              "#fdca26"
             ],
             [
              1,
              "#f0f921"
             ]
            ],
            "type": "histogram2dcontour"
           }
          ],
          "mesh3d": [
           {
            "colorbar": {
             "outlinewidth": 0,
             "ticks": ""
            },
            "type": "mesh3d"
           }
          ],
          "parcoords": [
           {
            "line": {
             "colorbar": {
              "outlinewidth": 0,
              "ticks": ""
             }
            },
            "type": "parcoords"
           }
          ],
          "pie": [
           {
            "automargin": true,
            "type": "pie"
           }
          ],
          "scatter": [
           {
            "marker": {
             "colorbar": {
              "outlinewidth": 0,
              "ticks": ""
             }
            },
            "type": "scatter"
           }
          ],
          "scatter3d": [
           {
            "line": {
             "colorbar": {
              "outlinewidth": 0,
              "ticks": ""
             }
            },
            "marker": {
             "colorbar": {
              "outlinewidth": 0,
              "ticks": ""
             }
            },
            "type": "scatter3d"
           }
          ],
          "scattercarpet": [
           {
            "marker": {
             "colorbar": {
              "outlinewidth": 0,
              "ticks": ""
             }
            },
            "type": "scattercarpet"
           }
          ],
          "scattergeo": [
           {
            "marker": {
             "colorbar": {
              "outlinewidth": 0,
              "ticks": ""
             }
            },
            "type": "scattergeo"
           }
          ],
          "scattergl": [
           {
            "marker": {
             "colorbar": {
              "outlinewidth": 0,
              "ticks": ""
             }
            },
            "type": "scattergl"
           }
          ],
          "scattermapbox": [
           {
            "marker": {
             "colorbar": {
              "outlinewidth": 0,
              "ticks": ""
             }
            },
            "type": "scattermapbox"
           }
          ],
          "scatterpolar": [
           {
            "marker": {
             "colorbar": {
              "outlinewidth": 0,
              "ticks": ""
             }
            },
            "type": "scatterpolar"
           }
          ],
          "scatterpolargl": [
           {
            "marker": {
             "colorbar": {
              "outlinewidth": 0,
              "ticks": ""
             }
            },
            "type": "scatterpolargl"
           }
          ],
          "scatterternary": [
           {
            "marker": {
             "colorbar": {
              "outlinewidth": 0,
              "ticks": ""
             }
            },
            "type": "scatterternary"
           }
          ],
          "surface": [
           {
            "colorbar": {
             "outlinewidth": 0,
             "ticks": ""
            },
            "colorscale": [
             [
              0,
              "#0d0887"
             ],
             [
              0.1111111111111111,
              "#46039f"
             ],
             [
              0.2222222222222222,
              "#7201a8"
             ],
             [
              0.3333333333333333,
              "#9c179e"
             ],
             [
              0.4444444444444444,
              "#bd3786"
             ],
             [
              0.5555555555555556,
              "#d8576b"
             ],
             [
              0.6666666666666666,
              "#ed7953"
             ],
             [
              0.7777777777777778,
              "#fb9f3a"
             ],
             [
              0.8888888888888888,
              "#fdca26"
             ],
             [
              1,
              "#f0f921"
             ]
            ],
            "type": "surface"
           }
          ],
          "table": [
           {
            "cells": {
             "fill": {
              "color": "#EBF0F8"
             },
             "line": {
              "color": "white"
             }
            },
            "header": {
             "fill": {
              "color": "#C8D4E3"
             },
             "line": {
              "color": "white"
             }
            },
            "type": "table"
           }
          ]
         },
         "layout": {
          "annotationdefaults": {
           "arrowcolor": "#2a3f5f",
           "arrowhead": 0,
           "arrowwidth": 1
          },
          "autotypenumbers": "strict",
          "coloraxis": {
           "colorbar": {
            "outlinewidth": 0,
            "ticks": ""
           }
          },
          "colorscale": {
           "diverging": [
            [
             0,
             "#8e0152"
            ],
            [
             0.1,
             "#c51b7d"
            ],
            [
             0.2,
             "#de77ae"
            ],
            [
             0.3,
             "#f1b6da"
            ],
            [
             0.4,
             "#fde0ef"
            ],
            [
             0.5,
             "#f7f7f7"
            ],
            [
             0.6,
             "#e6f5d0"
            ],
            [
             0.7,
             "#b8e186"
            ],
            [
             0.8,
             "#7fbc41"
            ],
            [
             0.9,
             "#4d9221"
            ],
            [
             1,
             "#276419"
            ]
           ],
           "sequential": [
            [
             0,
             "#0d0887"
            ],
            [
             0.1111111111111111,
             "#46039f"
            ],
            [
             0.2222222222222222,
             "#7201a8"
            ],
            [
             0.3333333333333333,
             "#9c179e"
            ],
            [
             0.4444444444444444,
             "#bd3786"
            ],
            [
             0.5555555555555556,
             "#d8576b"
            ],
            [
             0.6666666666666666,
             "#ed7953"
            ],
            [
             0.7777777777777778,
             "#fb9f3a"
            ],
            [
             0.8888888888888888,
             "#fdca26"
            ],
            [
             1,
             "#f0f921"
            ]
           ],
           "sequentialminus": [
            [
             0,
             "#0d0887"
            ],
            [
             0.1111111111111111,
             "#46039f"
            ],
            [
             0.2222222222222222,
             "#7201a8"
            ],
            [
             0.3333333333333333,
             "#9c179e"
            ],
            [
             0.4444444444444444,
             "#bd3786"
            ],
            [
             0.5555555555555556,
             "#d8576b"
            ],
            [
             0.6666666666666666,
             "#ed7953"
            ],
            [
             0.7777777777777778,
             "#fb9f3a"
            ],
            [
             0.8888888888888888,
             "#fdca26"
            ],
            [
             1,
             "#f0f921"
            ]
           ]
          },
          "colorway": [
           "#636efa",
           "#EF553B",
           "#00cc96",
           "#ab63fa",
           "#FFA15A",
           "#19d3f3",
           "#FF6692",
           "#B6E880",
           "#FF97FF",
           "#FECB52"
          ],
          "font": {
           "color": "#2a3f5f"
          },
          "geo": {
           "bgcolor": "white",
           "lakecolor": "white",
           "landcolor": "#E5ECF6",
           "showlakes": true,
           "showland": true,
           "subunitcolor": "white"
          },
          "hoverlabel": {
           "align": "left"
          },
          "hovermode": "closest",
          "mapbox": {
           "style": "light"
          },
          "paper_bgcolor": "white",
          "plot_bgcolor": "#E5ECF6",
          "polar": {
           "angularaxis": {
            "gridcolor": "white",
            "linecolor": "white",
            "ticks": ""
           },
           "bgcolor": "#E5ECF6",
           "radialaxis": {
            "gridcolor": "white",
            "linecolor": "white",
            "ticks": ""
           }
          },
          "scene": {
           "xaxis": {
            "backgroundcolor": "#E5ECF6",
            "gridcolor": "white",
            "gridwidth": 2,
            "linecolor": "white",
            "showbackground": true,
            "ticks": "",
            "zerolinecolor": "white"
           },
           "yaxis": {
            "backgroundcolor": "#E5ECF6",
            "gridcolor": "white",
            "gridwidth": 2,
            "linecolor": "white",
            "showbackground": true,
            "ticks": "",
            "zerolinecolor": "white"
           },
           "zaxis": {
            "backgroundcolor": "#E5ECF6",
            "gridcolor": "white",
            "gridwidth": 2,
            "linecolor": "white",
            "showbackground": true,
            "ticks": "",
            "zerolinecolor": "white"
           }
          },
          "shapedefaults": {
           "line": {
            "color": "#2a3f5f"
           }
          },
          "ternary": {
           "aaxis": {
            "gridcolor": "white",
            "linecolor": "white",
            "ticks": ""
           },
           "baxis": {
            "gridcolor": "white",
            "linecolor": "white",
            "ticks": ""
           },
           "bgcolor": "#E5ECF6",
           "caxis": {
            "gridcolor": "white",
            "linecolor": "white",
            "ticks": ""
           }
          },
          "title": {
           "x": 0.05
          },
          "xaxis": {
           "automargin": true,
           "gridcolor": "white",
           "linecolor": "white",
           "ticks": "",
           "title": {
            "standoff": 15
           },
           "zerolinecolor": "white",
           "zerolinewidth": 2
          },
          "yaxis": {
           "automargin": true,
           "gridcolor": "white",
           "linecolor": "white",
           "ticks": "",
           "title": {
            "standoff": 15
           },
           "zerolinecolor": "white",
           "zerolinewidth": 2
          }
         }
        },
        "xaxis": {
         "anchor": "y2",
         "autorange": true,
         "domain": [
          0,
          1
         ],
         "range": [
          0,
          95.808
         ],
         "type": "linear",
         "zeroline": false
        },
        "yaxis": {
         "anchor": "free",
         "autorange": true,
         "domain": [
          0,
          1
         ],
         "position": 0,
         "range": [
          -0.0010155053537865579,
          0.020159251272703575
         ],
         "type": "linear"
        }
       }
      },
      "image/png": "[encoded data removed]",
      "text/html": [
       "<div>                            <div id=\"0c3b55a1-63fb-4e33-a0a0-ce3700087682\" class=\"plotly-graph-div\" style=\"height:525px; width:100%;\"></div>            <script type=\"text/javascript\">                require([\"plotly\"], function(Plotly) {                    window.PLOTLYENV=window.PLOTLYENV || {};                                    if (document.getElementById(\"0c3b55a1-63fb-4e33-a0a0-ce3700087682\")) {                    Plotly.newPlot(                        \"0c3b55a1-63fb-4e33-a0a0-ce3700087682\",                        [{\"legendgroup\":\"spotify_popularity\",\"marker\":{\"color\":\"rgb(31, 119, 180)\"},\"mode\":\"lines\",\"name\":\"spotify_popularity\",\"showlegend\":true,\"type\":\"scatter\",\"x\":[0.0,0.192,0.384,0.576,0.768,0.96,1.152,1.344,1.536,1.728,1.92,2.112,2.304,2.496,2.688,2.88,3.072,3.264,3.456,3.648,3.84,4.032,4.224,4.416,4.608,4.8,4.992,5.184,5.376,5.568,5.76,5.952,6.144,6.336,6.528,6.72,6.912,7.104,7.296,7.488,7.68,7.872,8.064,8.256,8.448,8.64,8.832,9.024,9.216,9.408,9.6,9.792,9.984,10.176,10.368,10.56,10.752,10.944,11.136,11.328,11.52,11.712,11.904,12.096,12.288,12.48,12.672,12.864,13.056,13.248,13.44,13.632,13.824,14.016,14.208,14.4,14.592,14.784,14.976,15.168,15.36,15.552,15.744,15.936,16.128,16.32,16.512,16.704,16.896,17.088,17.28,17.472,17.664,17.856,18.048,18.24,18.432,18.624,18.816,19.008,19.2,19.392,19.584,19.776,19.968,20.16,20.352,20.544,20.736,20.928,21.12,21.312,21.504,21.696,21.888,22.08,22.272,22.464,22.656,22.848,23.04,23.232,23.424,23.616,23.808,24.0,24.192,24.384,24.576,24.768,24.96,25.152,25.344,25.536,25.728,25.92,26.112,26.304,26.496,26.688,26.88,27.072,27.264,27.456,27.648,27.84,28.032,28.224,28.416,28.608,28.8,28.992,29.184,29.376,29.568,29.76,29.952,30.144,30.336,30.528,30.72,30.912,31.104,31.296,31.488,31.68,31.872,32.064,32.256,32.448,32.64,32.832,33.024,33.216,33.408,33.6,33.792,33.984,34.176,34.368,34.56,34.752,34.944,35.136,35.328,35.52,35.712,35.904,36.096,36.288,36.48,36.672,36.864,37.056,37.248,37.44,37.632,37.824,38.016,38.208,38.4,38.592,38.784,38.976,39.168,39.36,39.552,39.744,39.936,40.128,40.32,40.512,40.704,40.896,41.088,41.28,41.472,41.664,41.856,42.048,42.24,42.432,42.624,42.816,43.008,43.2,43.392,43.584,43.776,43.968,44.16,44.352,44.544,44.736,44.928,45.12,45.312,45.504,45.696,45.888,46.08,46.272,46.464,46.656,46.848,47.04,47.232,47.424,47.616,47.808,48.0,48.192,48.384,48.576,48.768,48.96,49.152,49.344,49.536,49.728,49.92,50.112,50.304,50.496,50.688,50.88,51.072,51.264,51.456,51.648,51.84,52.032,52.224,52.416,52.608,52.8,52.992,53.184,53.376,53.568,53.76,53.952,54.144,54.336,54.528,54.72,54.912,55.104,55.296,55.488,55.68,55.872,56.064,56.256,56.448,56.64,56.832,57.024,57.216,57.408,57.6,57.792,57.984,58.176,58.368,58.56,58.752,58.944,59.136,59.328,59.52,59.712,59.904,60.096,60.288,60.48,60.672,60.864,61.056,61.248,61.44,61.632,61.824,62.016,62.208,62.4,62.592,62.784,62.976,63.168,63.36,63.552,63.744,63.936,64.128,64.32,64.512,64.704,64.896,65.088,65.28,65.472,65.664,65.856,66.048,66.24,66.432,66.624,66.816,67.008,67.2,67.392,67.584,67.776,67.968,68.16,68.352,68.544,68.736,68.928,69.12,69.312,69.504,69.696,69.888,70.08,70.272,70.464,70.656,70.848,71.04,71.232,71.424,71.616,71.808,72.0,72.192,72.384,72.576,72.768,72.96,73.152,73.344,73.536,73.728,73.92,74.112,74.304,74.496,74.688,74.88,75.072,75.264,75.456,75.648,75.84,76.032,76.224,76.416,76.608,76.8,76.992,77.184,77.376,77.568,77.76,77.952,78.144,78.336,78.528,78.72,78.912,79.104,79.296,79.488,79.68,79.872,80.064,80.256,80.448,80.64,80.832,81.024,81.216,81.408,81.6,81.792,81.984,82.176,82.368,82.56,82.752,82.944,83.136,83.328,83.52,83.712,83.904,84.096,84.288,84.48,84.672,84.864,85.056,85.248,85.44,85.632,85.824,86.016,86.208,86.4,86.592,86.784,86.976,87.168,87.36,87.552,87.744,87.936,88.128,88.32,88.512,88.704,88.896,89.088,89.28,89.472,89.664,89.856,90.048,90.24,90.432,90.624,90.816,91.008,91.2,91.392,91.584,91.776,91.968,92.16,92.352,92.544,92.736,92.928,93.12,93.312,93.504,93.696,93.888,94.08,94.272,94.464,94.656,94.848,95.04,95.232,95.424,95.616,95.808],\"xaxis\":\"x\",\"y\":[0.01046631661518744,0.010571936079583007,0.010677719043140887,0.010783649175028675,0.0108897099442152,0.010995884623099524,0.011102156291259258,0.01120850783931743,0.011314921972927118,0.011421381216872938,0.011527867919288424,0.011634364255988256,0.011740852234914195,0.01184731370069355,0.011953730339308844,0.0120600836828774,0.012166355114539295,0.01227252587345229,0.012378577059892069,0.012484489640456085,0.012590244453369412,0.012695822213890593,0.012801203519815745,0.01290636885707885,0.013011298605446251,0.013115973044303194,0.013220372358530241,0.013324476644467316,0.013428265915963005,0.013531720110506752,0.01363481909544147,0.013737542674254012,0.01383987059294094,0.013941782546446877,0.014043258185172767,0.014144277121551193,0.01424481893668597,0.014344863187053022,0.014444389411259645,0.01454337713685909,0.014641805887217415,0.014739655188429434,0.014836904576280655,0.014933533603251873,0.01502952184556324,0.015124848910254429,0.015219494442297558,0.015313438131739418,0.015406659720869652,0.015499139011411272,0.015590855871730128,0.015681790244059683,0.01577192215173755,0.015861231706450186,0.015949699115482077,0.016037304688965817,0.016124028847129303,0.016209852127536437,0.01629475519231758,0.016378718835385993,0.016461723989636624,0.016543751734123358,0.016624783301211064,0.01670480008369864,0.016783783641909338,0.016861715710744497,0.016938578206697055,0.017014353234820975,0.017089023095652942,0.017162570292082496,0.01723497753616694,0.01730622775588731,0.01737630410184171,0.017445189953872342,0.017512868927622622,0.017579324881020722,0.017644541920685996,0.017708504408254708,0.017771196966621536,0.01783260448609343,0.017892712130452286,0.017951505342923117,0.018008969852044303,0.018065091677436685,0.018119857135468126,0.018173252844810462,0.018225265731885563,0.01827588303619749,0.01832509231554767,0.018372881451130096,0.01841923865250366,0.01846415246243875,0.01850761176163531,0.01854960577330967,0.018590124067647474,0.01862915656612014,0.018666693545662378,0.01870272564270828,0.01873724385708368,0.01877023955575255,0.018801704476415163,0.018831630730956006,0.018860010808739374,0.018886837579750737,0.01891210429758208,0.018935804602259375,0.018957932522910618,0.018978482480272802,0.018997449289036402,0.019014828160025934,0.019030614702215367,0.01904480492457715,0.019057395237763796,0.019068382455621015,0.019077763796531512,0.019085536884588652,0.01909169975059928,0.01909625083291517,0.019099188978092495,0.019100513441379068,0.01910022388702895,0.019098320388444282,0.01909480342814431,0.01908967389756149,0.019082933096664947,0.019074582733411408,0.01906462492302394,0.019053062187099,0.019039897452542198,0.019025134050333545,0.019008775714122773,0.018990826578655678,0.01897129117803231,0.018950174443798155,0.018927481702869304,0.018903218675292925,0.018877391471844324,0.018850006591462017,0.01882107091852228,0.018790591719954862,0.01875857664220144,0.018725033708018726,0.018689971313127968,0.018653398222712902,0.01861532356776817,0.018575756841300282,0.01853470789438343,0.01849218693207238,0.018448204509174823,0.01840277152588565,0.01835589922328569,0.018307599178707494,0.018257883300970817,0.018206763825490597,0.018154253309260227,0.018100364625712934,0.01804511095946431,0.017988505800938918,0.0179305629408841,0.017871296464774044,0.017810720747107336,0.017748850445601216,0.01768570049528579,0.01762128610250158,0.01755562273880372,0.017488726134776277,0.017420612273760114,0.01735129738549779,0.01728079793969908,0.017209130639530598,0.017136312415033203,0.017062360416470735,0.016987292007613796,0.016911124758962212,0.01683387644090988,0.01675556501685569,0.01667620863626431,0.016595825627680468,0.01651443449170062,0.01643205389390561,0.016348702657758205,0.016264399757469208,0.016179164310835915,0.01609301557205673,0.0160059729245256,0.01591805587361011,0.015829284039416948,0.015739677149548423,0.01564925503185382,0.015558037607179205,0.015466044882119464,0.015373296941776091,0.015279813942524458,0.015185616104794145,0.015090723705865833,0.014995157072688418,0.01489893657471974,0.01480208261679448,0.014704615632022577,0.014606556074721664,0.014507924413386757,0.014408741123700605,0.014309026681587867,0.014208801556316434,0.014108086203648961,0.01400690105904779,0.013905266530936284,0.013803202994019595,0.013700730782667814,0.013597870184364374,0.013494641433222569,0.01339106470357292,0.013287160103624133,0.013182947669200243,0.013078447357556599,0.012973679041277109,0.012868662502255254,0.012763417425761234,0.012657963394597538,0.012552319883345174,0.012446506252702735,0.012340541743920394,0.012234445473330822,0.012128236426979003,0.012021933455352785,0.011915555268216003,0.01180912042954583,0.01170264735257607,0.011596154294947893,0.011489659353969542,0.011383180461986404,0.011276735381862761,0.01117034170257656,0.01106401683492822,0.01095777800736474,0.01085164226192003,0.010745626450272426,0.010639747229920268,0.010534021060476316,0.010428464200081727,0.010323092701940184,0.010217922410972784,0.01011296896059413,0.010008247769610037,0.009903774039237171,0.009799562750244887,0.009695628660219429,0.009591986300950595,0.009488649975940905,0.00938563375803723,0.009282951487184736,0.00918061676830302,0.009078642969284106,0.00897704321911206,0.008875830406103739,0.00877501717627031,0.008674615931798933,0.00857463882965407,0.008475097780297761,0.008376004446528114,0.008277370242435272,0.00817920633247401,0.008081523630652053,0.007984332799833174,0.007887644251154055,0.00779146814355385,0.007695814383415333,0.007600692624316463,0.007506112266891119,0.007412082458797786,0.0073186120947948225,0.0072257098169209765,0.007133384014779718,0.00704164282592598,0.0069504941363537414,0.006859945581082982,0.006770004544844413,0.0066806781628603535,0.006591973321720151,0.006503896660348419,0.006416454571064406,0.0063296532007307595,0.006243498451989873,0.006157995984586066,0.0060731512167717435,0.005988969326795667,0.005905455254471507,0.005822613702824746,0.005740449139816032,0.005658965800139036,0.00557816768709089,0.005498058574513198,0.005418642008801691,0.005339921310982491,0.005261899578852999,0.005184579689185427,0.005107964299990872,0.005032055852842009,0.00495685657525231,0.00488236848310976,0.004808593383163057,0.004735532875558255,0.004663188356423805,0.004591561020501963,0.004520651863824558,0.004450461686431063,0.004380991095126982,0.0043122405062805255,0.004244210148655573,0.004176900066278944,0.004110310121339978,0.0040444399971204855,0.003979289200953066,0.003914857067205919,0.0038511427602921405,0.0037881452777016925,0.003725863453054063,0.0036642959591698054,0.003603441311159082,0.003543297869525379,0.00348386384328258,0.003425137293083622,0.003367116134358954,0.0033097981404630566,0.003253180945827324,0.0031972620491175787,0.003142038816394593,0.0030875084842759597,0.0030336681630976827,0.002980514840073939,0.0029280453824534285,0.0028762565406707935,0.002825144951491608,0.002774707141149483,0.002724939528473825,0.0026758384280068694,0.002627400053108593,0.0025796205190481885,0.0025324958460807385,0.0024860219625079017,0.0024401947077212416,0.0023950098352271214,0.002350463015651857,0.002306549839726092,0.00226326582124718,0.002220606400018602,0.0021785669447652546,0.0021371427560237127,0.002096329069006397,0.0020561210564387497,0.002016513831368494,0.001977502449946107,0.001939081914175639,0.0019012471746351098,0.0018639931331656506,0.0018273146455287193,0.0017912065240305855,0.0017556635401135229,0.0017206804269129375,0.0016862518817799496,0.001652372568768722,0.0016190371210881157,0.0015862401435170223,0.0015539762147830337,0.0015222398899038523,0.0014910257024911538,0.0014603281670163872,0.0014301417810382714,0.0014004610273915408,0.001371280376336749,0.001342594287670758,0.001314397212797744,0.001286683596760468,0.0012594478802316269,0.0012326845014651326,0.0012063878982071774,0.0011805525095669879,0.0011551727778471666,0.0011302431503335995,0.0011057580810448493,0.0010817120324410861,0.0010580994770925055,0.00103491489930735,0.001012152796719514,0.0009898076818359023,0.0009678740835435679,0.0009463465485768302,0.0009252196429444594,0.00090448795331715,0.0008841460883754238,0.0008641886801182083,0.0008446103851322919,0.0008254058858229101,0.000806569891605716,0.0007880971400604279,0.0007699823980464148,0.0007522204627805795,0.0007348061628778026,0.0007177343593543463,0.0007009999465945143,0.0006845978532809849,0.0006685230432891482,0.0006527705165458823,0.0006373353098531274,0.0006222124976767155,0.0006073971929008346,0.0005928845475486064,0.0005786697534691765,0.000564748042991814,0.0005511146895474389,0.0005377650082580859,0.0005246943564947467,0.0005118981344041003,0.0004993717854046066,0.0004871107966524647,0.0004751106994779372,0.00046336706979254795,0.0004518755284676573,0.0004406317416849425,0.00042963142125929734,0.0004188703249346603,0.00040834425665332467,0.0003980490667992253,0.0003879806524157629,0.00037813495739866737,0.00036850797266446185,0.00035909573629503214,0.0003498943336588616,0.0003408998975094426,0.0003321086080614136,0.000323516693044948,0.0003151204277389262,0.0003069161349834248,0.00029890018517204746,0.0002910689962246279,0.0002834190335408306,0.0002759468099351618,0.0002686488855539291,0.0002615218677746428,0.00025456241108839223,0.00024776721696569034,0.00024113303370630826,0.00023465665627358116,0.0002283349261137049,0.000222164730960494,0.0002161430046261104,0.00021026672677822362,0.00020453292270410282,0.00019893866306209057,0.00019348106362094782,0.0001881572849875089,0.0001829645323231251,0.00017790005504932457,0.00017296114654314886,0.00016814514382259497,0.00016344942722259573,0.00015887142006196426,0.00015440858830171984,0.0001500584401952045,0.00014581852593040232,0.00014168643726484708,0.00013765980715352283,0.0001337363093701334,0.00012991365812211632,0.00012618960765978083,0.0001225619518799208,0.00011902852392426932,0.00011558719577313397,0.00011223587783456395,0.00010897251852937341,0.00010579510387235618,0.00010270165705000687,9.969023799506211e-05,9.675894295816779e-05,9.390590407697012e-05,9.112928894291933e-05,8.842730016607373e-05,8.579817493817535e-05,8.324018459427217e-05,8.075163417314234e-05,7.833086197678291e-05,7.597623912920345e-05,7.368616913477334e-05,7.145908743634833e-05,6.929346097341228e-05,6.718778774044613e-05,6.514059634574482e-05,6.315044557088272e-05,6.121592393103335e-05,5.933564923633148e-05,5.7508268154469847e-05,5.573245577470671e-05,5.4006915173461405e-05,5.23303769816646e-05,5.0701598954024996e-05,4.9119365540368504e-05,4.758248745919946e-05,4.6089801273626956e-05,4.464016896979541e-05,4.323247753794891e-05],\"yaxis\":\"y\"},{\"legendgroup\":\"spotify_followers\",\"marker\":{\"color\":\"rgb(255, 127, 14)\"},\"mode\":\"lines\",\"name\":\"spotify_followers\",\"showlegend\":true,\"type\":\"scatter\",\"x\":[0.0,170628.092,341256.184,511884.276,682512.368,853140.46,1023768.552,1194396.644,1365024.736,1535652.828,1706280.92,1876909.012,2047537.104,2218165.196,2388793.288,2559421.38,2730049.472,2900677.564,3071305.656,3241933.748,3412561.84,3583189.932,3753818.024,3924446.116,4095074.208,4265702.3,4436330.392,4606958.484,4777586.576,4948214.668,5118842.76,5289470.852,5460098.944,5630727.036,5801355.128,5971983.22,6142611.312,6313239.404,6483867.496,6654495.588,6825123.68,6995751.772,7166379.864,7337007.956,7507636.048,7678264.14,7848892.232,8019520.324,8190148.416,8360776.508,8531404.6,8702032.692,8872660.784,9043288.876,9213916.968,9384545.06,9555173.152,9725801.244,9896429.336,10067057.428,10237685.52,10408313.612,10578941.704,10749569.796,10920197.888,11090825.98,11261454.072,11432082.164,11602710.256,11773338.348,11943966.44,12114594.532,12285222.624,12455850.716,12626478.808,12797106.9,12967734.992,13138363.084,13308991.176,13479619.268,13650247.36,13820875.452,13991503.544,14162131.636,14332759.728,14503387.82,14674015.912,14844644.004,15015272.096,15185900.188,15356528.28,15527156.372,15697784.464,15868412.556,16039040.648,16209668.74,16380296.832,16550924.924,16721553.016,16892181.108,17062809.2,17233437.292,17404065.384,17574693.476,17745321.568,17915949.66,18086577.752,18257205.844,18427833.936,18598462.028,18769090.12,18939718.212,19110346.304,19280974.396,19451602.488,19622230.58,19792858.672,19963486.764,20134114.856,20304742.948,20475371.04,20645999.132,20816627.224,20987255.316,21157883.408,21328511.5,21499139.592,21669767.684,21840395.776,22011023.868,22181651.96,22352280.052,22522908.144,22693536.236,22864164.328,23034792.42,23205420.512,23376048.604,23546676.696,23717304.788,23887932.88,24058560.972,24229189.064,24399817.156,24570445.248,24741073.34,24911701.432,25082329.524,25252957.616,25423585.708,25594213.8,25764841.892,25935469.984,26106098.076,26276726.168,26447354.26,26617982.352,26788610.444,26959238.536,27129866.628,27300494.72,27471122.812,27641750.904,27812378.996,27983007.088,28153635.18,28324263.272,28494891.364,28665519.456,28836147.548,29006775.64,29177403.732,29348031.824,29518659.916,29689288.008,29859916.1,30030544.192,30201172.284,30371800.376,30542428.468,30713056.56,30883684.652,31054312.744,31224940.836,31395568.928,31566197.02,31736825.112,31907453.204,32078081.296,32248709.388,32419337.48,32589965.572,32760593.664,32931221.756,33101849.848,33272477.94,33443106.032,33613734.124,33784362.216,33954990.308,34125618.4,34296246.492,34466874.584,34637502.676,34808130.768,34978758.86,35149386.952,35320015.044,35490643.136,35661271.228,35831899.32,36002527.412,36173155.504,36343783.596,36514411.688,36685039.78,36855667.872,37026295.964,37196924.056,37367552.148,37538180.24,37708808.332,37879436.424,38050064.516,38220692.608,38391320.7,38561948.792,38732576.884,38903204.976,39073833.068,39244461.16,39415089.252,39585717.344,39756345.436,39926973.528,40097601.62,40268229.712,40438857.804,40609485.896,40780113.988,40950742.08,41121370.172,41291998.264,41462626.356,41633254.448,41803882.54,41974510.632,42145138.724,42315766.816,42486394.908,42657023.0,42827651.092,42998279.184,43168907.276,43339535.368,43510163.46,43680791.552,43851419.644,44022047.736,44192675.828,44363303.92,44533932.012,44704560.104,44875188.196,45045816.288,45216444.38,45387072.472,45557700.564,45728328.656,45898956.748,46069584.84,46240212.932,46410841.024,46581469.116,46752097.208,46922725.3,47093353.392,47263981.484,47434609.576,47605237.668,47775865.76,47946493.852,48117121.944,48287750.036,48458378.128,48629006.22,48799634.312,48970262.404,49140890.496,49311518.588,49482146.68,49652774.772,49823402.864,49994030.956,50164659.048,50335287.14,50505915.232,50676543.324,50847171.416,51017799.508,51188427.6,51359055.692,51529683.784,51700311.876,51870939.968,52041568.06,52212196.152,52382824.244,52553452.336,52724080.428,52894708.52,53065336.612,53235964.704,53406592.796,53577220.888,53747848.98,53918477.072,54089105.164,54259733.256,54430361.348,54600989.44,54771617.532,54942245.624,55112873.716,55283501.808,55454129.9,55624757.992,55795386.084,55966014.176,56136642.268,56307270.36,56477898.452,56648526.544,56819154.636,56989782.728,57160410.82,57331038.912,57501667.004,57672295.096,57842923.188,58013551.28,58184179.372,58354807.464,58525435.556,58696063.648,58866691.74,59037319.832,59207947.924,59378576.016,59549204.108,59719832.2,59890460.292,60061088.384,60231716.476,60402344.568,60572972.66,60743600.752,60914228.844,61084856.936,61255485.028,61426113.12,61596741.212,61767369.304,61937997.396,62108625.488,62279253.58,62449881.672,62620509.764,62791137.856,62961765.948,63132394.04,63303022.132,63473650.224,63644278.316,63814906.408,63985534.5,64156162.592,64326790.684,64497418.776,64668046.868,64838674.96,65009303.052,65179931.144,65350559.236,65521187.328,65691815.42,65862443.512,66033071.604,66203699.696,66374327.788,66544955.88,66715583.972,66886212.064,67056840.156,67227468.248,67398096.34,67568724.432,67739352.524,67909980.616,68080608.708,68251236.8,68421864.892,68592492.984,68763121.076,68933749.168,69104377.26,69275005.352,69445633.444,69616261.536,69786889.628,69957517.72,70128145.812,70298773.904,70469401.996,70640030.088,70810658.18,70981286.272,71151914.364,71322542.456,71493170.548,71663798.64,71834426.732,72005054.824,72175682.916,72346311.008,72516939.1,72687567.192,72858195.284,73028823.376,73199451.468,73370079.56,73540707.652,73711335.744,73881963.836,74052591.928,74223220.02,74393848.112,74564476.204,74735104.296,74905732.388,75076360.48,75246988.572,75417616.664,75588244.756,75758872.848,75929500.94,76100129.032,76270757.124,76441385.216,76612013.308,76782641.4,76953269.492,77123897.584,77294525.676,77465153.768,77635781.86,77806409.952,77977038.044,78147666.136,78318294.228,78488922.32,78659550.412,78830178.504,79000806.596,79171434.688,79342062.78,79512690.872,79683318.964,79853947.056,80024575.148,80195203.24,80365831.332,80536459.424,80707087.516,80877715.608,81048343.7,81218971.792,81389599.884,81560227.976,81730856.068,81901484.16,82072112.252,82242740.344,82413368.436,82583996.528,82754624.62,82925252.712,83095880.804,83266508.896,83437136.988,83607765.08,83778393.172,83949021.264,84119649.356,84290277.448,84460905.54,84631533.632,84802161.724,84972789.816,85143417.908],\"xaxis\":\"x\",\"y\":[2.646479460581379e-07,2.6658497513108766e-07,2.650675676443247e-07,2.601544747028361e-07,2.5203438227483665e-07,2.410138857274101e-07,2.274982821837888e-07,2.1196685783798186e-07,1.949447686759978e-07,1.769738064888048e-07,1.5858429726686951e-07,1.4027011569231112e-07,1.2246836264986745e-07,1.0554470518485598e-07,8.978479056322834e-08,7.539158606285219e-08,6.248802077585158e-08,5.112395473501649e-08,4.128629366520699e-08,3.291100437345887e-08,2.5895849259284707e-08,2.0112819851972706e-08,1.541947376052126e-08,1.1668631477908001e-08,8.716137626003792e-09,6.426611062501143e-09,4.677283979321044e-09,3.3601544741368656e-09,2.3827502910258964e-09,1.6678293123847884e-09,1.1523342138975074e-09,7.858851712934178e-10,5.290460972969493e-10,3.5154564239979727e-10,2.3058109974206e-10,1.49286135779335e-10,9.540453744517172e-11,6.018279691547793e-11,3.747395122754934e-11,2.3032463442997754e-11,1.3973496067821975e-11,8.36803613297501e-12,4.946474787223937e-12,2.886169520249542e-12,1.6622703383189265e-12,9.450075059089912e-13,5.303012414821276e-13,2.937404885872588e-13,1.606048903408664e-13,8.667772433895162e-14,4.617533122857683e-14,2.428098615870256e-14,1.260307168708728e-14,6.457141075247633e-15,3.2655619463570054e-15,1.6301567304358396e-15,8.032571119642818e-16,3.9069115637733663e-16,1.8757128998892343e-16,8.889000546893101e-17,4.1580842424152674e-17,1.9199389443768572e-17,8.75054969178136e-18,3.936742746531984e-18,1.748205651175731e-18,7.663052250774817e-19,3.315620659712913e-19,1.416060049801905e-19,5.969696982853016e-20,2.4841435417692062e-20,1.0203633953746484e-20,4.1370125335868134e-21,1.655665450332865e-21,6.540517605534188e-22,2.550383177169108e-22,9.816406498384139e-23,3.7295240900367844e-23,1.3986468849102862e-23,5.177457365248678e-24,1.891815430368848e-24,6.8233049086927215e-25,2.4292072986810883e-25,8.536663430092994e-26,2.9611848862000967e-26,1.0139036168800849e-26,3.426743548038322e-27,1.1431950055178343e-27,3.764547803119622e-28,1.2236553050463673e-28,3.9260801529985864e-29,1.243406144698524e-29,3.887054590694055e-30,1.1994497381970342e-30,3.6534002250270234e-31,1.0984144349705395e-31,3.259785287088135e-32,9.549168177975098e-33,2.7611873317800253e-33,7.880975647043291e-34,2.2203318153404475e-34,6.174610423996949e-35,1.6949427151972564e-35,4.5925539936072836e-36,1.2283080562397062e-36,3.242754815515425e-37,8.450350227156225e-38,2.1736473590466938e-38,5.518960047111166e-39,1.383181576443167e-39,3.4218023825331023e-40,8.355730734861237e-41,2.0140383297016687e-41,4.791867599220126e-42,1.1253708755067383e-42,2.608797179670265e-43,5.969510828570239e-44,1.3483137256544508e-44,3.0060551919996773e-45,6.615409427032512e-46,1.4370447378283897e-46,3.081325889135515e-47,6.521669110253843e-48,1.3624910898046443e-48,2.8097156122116545e-49,5.7193258650231395e-50,1.1491615909885303e-50,2.2791407458324405e-51,4.461850063123613e-52,8.622090598520208e-53,1.644613970415911e-53,3.096486218700622e-54,5.754771856528512e-55,1.05570080770767e-55,1.9116455925083953e-56,3.416863968299656e-57,6.028396118334792e-58,1.0498558128893005e-58,1.804726170356935e-59,3.0622931169336005e-60,5.1290387895964536e-61,8.47967079606683e-62,1.3838078306977892e-62,2.2290836113037843e-63,3.544301977698215e-64,5.562741240138917e-65,8.61788676093024e-66,1.317851547947807e-66,1.9892344971574173e-67,2.963870720384458e-68,4.358994429098957e-69,6.328009969980998e-70,9.067796784134683e-71,1.2825969000064435e-71,1.7907393473182094e-72,2.467904500454174e-73,3.357206898293045e-74,4.507976536170121e-75,5.975014591320569e-76,7.817179360725745e-77,1.0095200908982877e-77,1.2868669267905085e-78,1.619220880460673e-79,2.011093836411177e-80,2.4655417306604685e-81,2.9836382315064426e-82,3.563967643396238e-83,4.2021845800803335e-84,4.8906916291239316e-85,5.6184849128576514e-86,6.371210307275423e-87,7.131459925973274e-88,7.879319923863299e-89,8.593158177508836e-90,9.250616159101119e-91,9.829746070541642e-92,1.0310214963161235e-92,1.0674484838209041e-93,1.0908873668901387e-94,1.1004407984352805e-95,1.0957392975967263e-96,1.076964963606787e-97,1.0448397712221223e-98,1.0005794964525824e-99,9.458173713991417e-101,8.825041502863149e-102,8.127931034232e-103,7.389193620932361e-104,6.6308295854742296e-105,5.873439095011917e-106,5.1353595508802107e-107,4.432033410057077e-108,3.7756260892645736e-109,3.1748902297638563e-110,2.6352524975239688e-111,2.1590839850357705e-112,1.746106068525522e-113,1.3938803335190825e-114,1.0983332789623593e-115,8.54272798759951e-117,6.55862494663515e-118,4.970302236907307e-119,3.717976011355439e-120,2.7452642311367085e-121,2.000854475264388e-122,1.4394634355092893e-123,1.0222086590393197e-124,7.165264993856134e-126,4.957682850220029e-127,3.385938054332285e-128,2.2826170620086284e-129,1.5189409587478367e-130,9.977058308419521e-132,6.4687134127881824e-133,4.139873724833678e-134,2.6152310341767926e-135,1.6307478376281718e-136,1.0037310165750348e-137,6.0981999648584155e-139,3.6571246307136882e-140,2.1648691108921848e-141,1.2649615068017784e-142,7.295864496230231e-144,4.153650892479282e-145,2.334194319534648e-146,1.29478543945159e-147,7.089447474119686e-149,3.83160520594799e-150,2.044103601328132e-151,1.0764127549888587e-152,5.595108985794936e-154,2.8707280236304333e-155,1.4538825714606336e-156,7.268091652847967e-158,3.5864538213310247e-159,1.7468832256190127e-160,8.3987816177278e-162,3.985864096279504e-163,1.8671640099399497e-164,8.633685644290838e-166,3.940612940174209e-167,1.7753545998745692e-168,7.895147053795655e-170,3.465685270386929e-171,1.5016606508979287e-172,6.422561391233669e-174,2.7114307119139243e-175,1.1299065879697812e-176,4.6477242557548395e-178,1.88708711934477e-179,7.563056239322691e-181,2.9919648882735493e-182,1.1683405189732331e-183,4.503354834671327e-185,1.7133917849488393e-186,6.434739589943727e-188,2.385388135624327e-189,8.728526141573616e-191,3.152655830817382e-192,1.12399917071802e-193,3.955571167096088e-195,1.3740615832969766e-196,4.7114759194827174e-198,1.5946359002271425e-199,5.327456126556817e-201,1.7568391858317317e-202,5.718707986314168e-204,1.8374588215615523e-205,5.827618222273177e-207,1.8243928157298124e-208,5.637666707992447e-210,1.7196268777620557e-211,5.1775325147038615e-213,1.5387399468851166e-214,4.513998447781383e-216,1.3071076772318828e-217,3.736070895250212e-219,1.0540777236488953e-220,2.9355125741159884e-222,8.069544817107574e-224,2.189615779251639e-225,5.864629403984207e-227,1.550483025918883e-228,4.0461990328823453e-230,1.0422724322892353e-231,2.650141379545159e-233,6.651362518048579e-235,1.6478056114219234e-236,4.029536735514156e-238,9.726532551029997e-240,2.3174733728713543e-241,5.45036070082048e-243,1.2652883790924818e-244,2.899396279985975e-246,6.558120898747008e-248,1.4642156455029574e-249,3.2268921517197764e-251,7.01968528403523e-253,1.5073170643457304e-254,3.194812486754911e-256,6.684053444171716e-258,1.380346878723624e-259,2.813781335734344e-261,5.661691935493261e-263,1.1244908042508237e-264,2.2045470136949547e-266,4.266154748833565e-268,8.14906211093113e-270,1.5364995389676262e-271,2.8596377651186616e-273,5.253435404645446e-275,9.52641622439458e-277,1.7051771010045232e-278,3.01275082651773e-280,5.254249842995825e-282,9.04507159495179e-284,1.5369759819248136e-285,2.5779585856262567e-287,4.268139198120009e-289,6.975173208153047e-291,1.1251882841713769e-292,1.7916335635503355e-294,2.8159631100469784e-296,4.36876330532576e-298,6.690273213894549e-300,1.0113069100691492e-301,1.5089535773657822e-303,2.2224017303131246e-305,3.2308964361176585e-307,4.63636150433527e-309,6.5672769048683e-311,9.18220847393e-313,1.2672513206e-314,1.7263631e-316,2.321427e-318,3.0815e-320,4.05e-322,5e-324,0.0,0.0,0.0,0.0,0.0,0.0,0.0,0.0,0.0,0.0,0.0,0.0,0.0,0.0,0.0,0.0,0.0,0.0,0.0,0.0,0.0,0.0,0.0,0.0,0.0,0.0,0.0,0.0,0.0,0.0,0.0,0.0,0.0,0.0,0.0,0.0,0.0,0.0,0.0,0.0,0.0,0.0,0.0,0.0,0.0,0.0,0.0,0.0,0.0,0.0,0.0,0.0,0.0,0.0,0.0,0.0,0.0,0.0,0.0,0.0,0.0,0.0,0.0,0.0,0.0,0.0,0.0,0.0,0.0,0.0,0.0,0.0,0.0,0.0,0.0,0.0,0.0,0.0,0.0,0.0,0.0,0.0,0.0,0.0,0.0,0.0,0.0,0.0,0.0,0.0,0.0,0.0,0.0,0.0,0.0,0.0,0.0,0.0,0.0,0.0,0.0,0.0,0.0,0.0,0.0,0.0,0.0,0.0,0.0,0.0,0.0,0.0,0.0,0.0,0.0,0.0,0.0,0.0,0.0,0.0,0.0,0.0,0.0,0.0,0.0,0.0,0.0,0.0,0.0,0.0,0.0,0.0,0.0,0.0,0.0,0.0,0.0,0.0,0.0,0.0,0.0,0.0,0.0,0.0,0.0,0.0,0.0,0.0,0.0,0.0,0.0,0.0,0.0,0.0,0.0,0.0,0.0,0.0,0.0,0.0,0.0,0.0,0.0],\"yaxis\":\"y\"},{\"legendgroup\":\"spotify_listeners\",\"marker\":{\"color\":\"rgb(44, 160, 44)\"},\"mode\":\"lines\",\"name\":\"spotify_listeners\",\"showlegend\":true,\"type\":\"scatter\",\"x\":[1.0,173000.998,346000.996,519000.994,692000.992,865000.99,1038000.988,1211000.986,1384000.984,1557000.982,1730000.98,1903000.978,2076000.976,2249000.974,2422000.972,2595000.97,2768000.968,2941000.966,3114000.964,3287000.962,3460000.96,3633000.958,3806000.956,3979000.954,4152000.952,4325000.95,4498000.948,4671000.946,4844000.944,5017000.942,5190000.94,5363000.938,5536000.936,5709000.934,5882000.932,6055000.93,6228000.928,6401000.926,6574000.924,6747000.922,6920000.92,7093000.918,7266000.916,7439000.914,7612000.912,7785000.91,7958000.908,8131000.906,8304000.904,8477000.902,8650000.9,8823000.898,8996000.896,9169000.894,9342000.892,9515000.89,9688000.888,9861000.886,10034000.884,10207000.882,10380000.88,10553000.878,10726000.876,10899000.874,11072000.872,11245000.87,11418000.868,11591000.866,11764000.864,11937000.862,12110000.86,12283000.858,12456000.856,12629000.854,12802000.852,12975000.85,13148000.848,13321000.846,13494000.844,13667000.842,13840000.84,14013000.838,14186000.836,14359000.834,14532000.832,14705000.83,14878000.828,15051000.826,15224000.824,15397000.822,15570000.82,15743000.818,15916000.816,16089000.814,16262000.812,16435000.81,16608000.808,16781000.806,16954000.804,17127000.802,17300000.8,17473000.798,17646000.796,17819000.794,17992000.792,18165000.79,18338000.788,18511000.786,18684000.784,18857000.782,19030000.78,19203000.778,19376000.776,19549000.774,19722000.772,19895000.77,20068000.768,20241000.766,20414000.764,20587000.762,20760000.76,20933000.758,21106000.756,21279000.754,21452000.752,21625000.75,21798000.748,21971000.746,22144000.744,22317000.742,22490000.74,22663000.738,22836000.736,23009000.734,23182000.732,23355000.73,23528000.728,23701000.726,23874000.724,24047000.722,24220000.72,24393000.718,24566000.716,24739000.714,24912000.712,25085000.71,25258000.708,25431000.706,25604000.704,25777000.702,25950000.7,26123000.698,26296000.696,26469000.694,26642000.692,26815000.69,26988000.688,27161000.686,27334000.684,27507000.682,27680000.68,27853000.678,28026000.676,28199000.674,28372000.672,28545000.67,28718000.668,28891000.666,29064000.664,29237000.662,29410000.66,29583000.658,29756000.656,29929000.654,30102000.652,30275000.65,30448000.648,30621000.646,30794000.644,30967000.642,31140000.64,31313000.638,31486000.636,31659000.634,31832000.632,32005000.63,32178000.628,32351000.626,32524000.624,32697000.622,32870000.62,33043000.618,33216000.616,33389000.614,33562000.612,33735000.61,33908000.608,34081000.606,34254000.604,34427000.602,34600000.6,34773000.598,34946000.596,35119000.594,35292000.592,35465000.59,35638000.588,35811000.586,35984000.584,36157000.582,36330000.58,36503000.578,36676000.576,36849000.574,37022000.572,37195000.57,37368000.568,37541000.566,37714000.564,37887000.562,38060000.56,38233000.558,38406000.556,38579000.554,38752000.552,38925000.55,39098000.548,39271000.546,39444000.544,39617000.542,39790000.54,39963000.538,40136000.536,40309000.534,40482000.532,40655000.53,40828000.528,41001000.526,41174000.524,41347000.522,41520000.52,41693000.518,41866000.516,42039000.514,42212000.512,42385000.51,42558000.508,42731000.506,42904000.504,43077000.502,43250000.5,43423000.498,43596000.496,43769000.494,43942000.492,44115000.49,44288000.488,44461000.486,44634000.484,44807000.482,44980000.48,45153000.478,45326000.476,45499000.474,45672000.472,45845000.47,46018000.468,46191000.466,46364000.464,46537000.462,46710000.46,46883000.458,47056000.456,47229000.454,47402000.452,47575000.45,47748000.448,47921000.446,48094000.444,48267000.442,48440000.44,48613000.438,48786000.436,48959000.434,49132000.432,49305000.43,49478000.428,49651000.426,49824000.424,49997000.422,50170000.42,50343000.418,50516000.416,50689000.414,50862000.412,51035000.41,51208000.408,51381000.406,51554000.404,51727000.402,51900000.4,52073000.398,52246000.396,52419000.394,52592000.392,52765000.39,52938000.388,53111000.386,53284000.384,53457000.382,53630000.38,53803000.378,53976000.376,54149000.374,54322000.372,54495000.37,54668000.368,54841000.366,55014000.364,55187000.362,55360000.36,55533000.358,55706000.356,55879000.354,56052000.352,56225000.35,56398000.348,56571000.346,56744000.344,56917000.342,57090000.34,57263000.338,57436000.336,57609000.334,57782000.332,57955000.33,58128000.328,58301000.326,58474000.324,58647000.322,58820000.32,58993000.318,59166000.316,59339000.314,59512000.312,59685000.31,59858000.308,60031000.306,60204000.304,60377000.302,60550000.3,60723000.298,60896000.296,61069000.294,61242000.292,61415000.29,61588000.288,61761000.286,61934000.284,62107000.282,62280000.28,62453000.278,62626000.276,62799000.274,62972000.272,63145000.27,63318000.268,63491000.266,63664000.264,63837000.262,64010000.26,64183000.258,64356000.256,64529000.254,64702000.252,64875000.25,65048000.248,65221000.246,65394000.244,65567000.242,65740000.24,65913000.238,66086000.236,66259000.234,66432000.232,66605000.23,66778000.228,66951000.226,67124000.224,67297000.222,67470000.22,67643000.218,67816000.216,67989000.214,68162000.212,68335000.21,68508000.208,68681000.206,68854000.204,69027000.202,69200000.2,69373000.198,69546000.196,69719000.194,69892000.192,70065000.19,70238000.188,70411000.186,70584000.184,70757000.182,70930000.18,71103000.178,71276000.176,71449000.174,71622000.172,71795000.17,71968000.168,72141000.166,72314000.164,72487000.162,72660000.16,72833000.158,73006000.156,73179000.154,73352000.152,73525000.15,73698000.148,73871000.146,74044000.144,74217000.142,74390000.14,74563000.138,74736000.136,74909000.134,75082000.132,75255000.13,75428000.128,75601000.126,75774000.124,75947000.122,76120000.12,76293000.118,76466000.116,76639000.114,76812000.112,76985000.11,77158000.108,77331000.106,77504000.104,77677000.102,77850000.1,78023000.098,78196000.096,78369000.094,78542000.092,78715000.09,78888000.088,79061000.086,79234000.084,79407000.082,79580000.08,79753000.078,79926000.076,80099000.074,80272000.072,80445000.07,80618000.068,80791000.066,80964000.064,81137000.062,81310000.06,81483000.058,81656000.056,81829000.054,82002000.052,82175000.05,82348000.048,82521000.046,82694000.044,82867000.042,83040000.04,83213000.038,83386000.036,83559000.034,83732000.032,83905000.03,84078000.028,84251000.026,84424000.024,84597000.022,84770000.02,84943000.018,85116000.016,85289000.014,85462000.012,85635000.01,85808000.008,85981000.006,86154000.004,86327000.002],\"xaxis\":\"x\",\"y\":[1.5171085538065068e-07,1.5328325567850897e-07,1.5417921417318484e-07,1.5438673835290388e-07,1.5390304383803613e-07,1.527346165522614e-07,1.5089706798755016e-07,1.4841478807794537e-07,1.4532040647187475e-07,1.4165407883691103e-07,1.3746262001575218e-07,1.32798510180841e-07,1.2771880345159806e-07,1.2228397063460988e-07,1.1655670876711955e-07,1.1060074998483223e-07,1.0447970094506968e-07,9.825594171185002e-08,9.198960978764995e-08,8.573769102712451e-08,7.955323468350695e-08,7.348470502389807e-08,6.75754770123547e-08,6.186347869889476e-08,5.6380978350764516e-08,5.1154510177851296e-08,4.6204928865390626e-08,4.154758012894012e-08,3.719257220854969e-08,3.314513164571367e-08,2.9406025829621345e-08,2.5972034620513765e-08,2.2836453794874173e-08,1.9989614027615426e-08,1.7419400534755117e-08,1.5111760243050803e-08,1.3051185325479079e-08,1.1221164041138307e-08,9.604591950379431e-09,8.184138656754493e-09,6.94256718596811e-09,5.86300489234494e-09,4.9291663445055826e-09,4.125529957990463e-09,3.437471201414906e-09,2.851356004680787e-09,2.3545985535849347e-09,1.935687983969697e-09,1.5841886156207337e-09,1.2907183207013152e-09,1.0469094349180648e-09,8.453563234191767e-10,6.795533380421033e-10,5.438264760518575e-10,4.332615979104959e-10,3.4363160420788e-10,2.71324527081735e-10,2.1327407277031844e-10,1.668937691518135e-10,1.3001553159879968e-10,1.0083316559012487e-10,7.785107613551535e-11,5.983825101741858e-11,4.578742443989708e-11,3.487920611152018e-11,2.6450873613741667e-11,1.9969468319613163e-11,1.500880228018184e-11,1.1229970707033572e-11,8.364967598568702e-12,6.2030167713457625e-12,4.5792536510411675e-12,3.3654217563411874e-12,2.462279493853179e-12,1.7934457787397677e-12,1.3004456514575927e-12,9.387484112640295e-13,6.746200988503163e-13,4.826389744303646e-13,3.4374671431609906e-13,2.437293187240419e-13,1.7204024250886556e-13,1.2089417342212177e-13,8.457339157362928e-14,5.889998396650484e-14,4.0836607763082866e-14,2.818624311354464e-14,1.9367688029316116e-14,1.3248643713580281e-14,9.022317661329533e-15,6.116709558627375e-15,4.128294370423626e-15,2.7738087133881846e-15,1.855390854080755e-15,1.2355131369120806e-15,8.190536993691305e-16,5.405432364017636e-16,3.551416037746047e-16,2.32287434930364e-16,1.512526309094119e-16,9.804675159411373e-17,6.327272431950442e-17,4.0649285045935023e-17,2.5998143790321887e-17,1.6553309073592905e-17,1.0492533374290047e-17,6.6210817053477266e-18,4.159399044876996e-18,2.601269093467702e-18,1.6195450269198937e-18,1.0038153336196701e-18,6.193949733918983e-19,3.804824070494289e-19,2.326775793189601e-19,1.4165357713012576e-19,8.585263080461433e-20,5.180035336487994e-20,3.111464780783351e-20,1.860587544408736e-20,1.1076138602694384e-20,6.564168289622303e-21,3.872791215539249e-21,2.2746863156987727e-21,1.330062343631856e-21,7.742398733426894e-22,4.486752589016286e-22,2.588461817749463e-22,1.4866353545167787e-22,8.500025001553853e-23,4.838257763076268e-23,2.7416426894449423e-23,1.5466276073106135e-23,8.685877799348639e-24,4.856179425738621e-24,2.7028925853866477e-24,1.497669211540554e-24,8.261446017657323e-25,4.536796399937764e-25,2.4802505953199255e-25,1.3498791460777953e-25,7.313870498008724e-26,3.945051683048774e-26,2.118415671985794e-26,1.1324595977716667e-26,6.026807300375999e-27,3.1930443235715413e-27,1.684130112922613e-27,8.842995175550204e-28,4.622492205576095e-28,2.405503757526473e-28,1.2462034361264787e-28,6.427245691395188e-29,3.299999787226386e-29,1.6867704129513515e-29,8.583236714846804e-30,4.348097340337676e-30,2.1928073524423352e-30,1.1009174412236968e-30,5.5025256801113845e-31,2.7379307331397257e-31,1.3562379359014315e-31,6.688094055568435e-32,3.2833857472797494e-32,1.604702384397652e-32,7.807646462825295e-33,3.781802411641466e-33,1.8236041913436396e-33,8.754178174780409e-34,4.183629668564573e-34,1.990417307463027e-34,9.427316706605537e-35,4.445136562278374e-35,2.086580627689095e-35,9.75075595265393e-36,4.536223616753403e-36,2.1008917539492944e-36,9.686479200616613e-37,4.446120989650161e-37,2.0316535708941914e-37,9.242109029715192e-38,4.1854829009880954e-38,1.8870052529029924e-38,8.469420560148775e-39,3.784315540967983e-39,1.6833484999075493e-39,7.454418724826448e-40,3.286295290008929e-40,1.4422894852947744e-40,6.301607408869778e-41,2.7409638098417216e-41,1.1868841013428662e-41,5.116422216035653e-42,2.1957227028066733e-42,9.380838543828476e-43,3.989871261948801e-43,1.689387035845245e-43,7.121188536498987e-44,2.988332125382629e-44,1.2484130386205301e-44,5.1920728896686204e-45,2.1496923862485093e-45,8.860636257487373e-46,3.635854969437801e-46,1.4852557652629713e-46,6.040167677790466e-47,2.445399369065478e-47,9.85606704985036e-48,3.954672786985408e-48,1.5796850724284197e-48,6.281791617000526e-49,2.486849995093188e-49,9.80096202558437e-50,3.845394279543381e-50,1.5019867378204062e-50,5.840423942872356e-51,2.2608705670649834e-51,8.712846846009809e-52,3.342700857559372e-52,1.276697471085978e-52,4.85435503258732e-53,1.8375032960196828e-53,6.924330203446083e-54,2.5976489890030245e-54,9.701440281478903e-55,3.606990644962324e-55,1.3350787082881784e-55,4.91950919291003e-56,1.8046364945082106e-56,6.59038441511764e-57,2.3959889573983644e-57,8.671853439304077e-58,3.1245832422259406e-58,1.1207927725851927e-58,4.002318044562792e-59,1.4228231565750424e-59,5.035508173511854e-60,1.7741434752788168e-60,6.2228197897635864e-61,2.1728951103693573e-61,7.553415128173532e-62,2.61397239880855e-62,9.005580110945797e-63,3.0886979724964216e-63,1.054610873391747e-63,3.5847766257199615e-64,1.2130676081651619e-64,4.086589039584527e-65,1.370534518506621e-65,4.575852778791989e-66,1.5209227667089782e-66,5.032633813310136e-67,1.6578168680229146e-67,5.436643176113932e-68,1.7749174457144762e-68,5.7687077693266e-69,1.8665170983564657e-69,6.01226976742115e-70,1.927959905071448e-70,6.154752443138841e-71,1.9560332530097325e-71,6.188635874056296e-72,1.9492461272061288e-72,6.112114511425325e-73,1.907960314104506e-73,5.929256584736919e-74,1.8343584503300573e-74,5.6496457557899135e-75,1.732252843883031e-75,5.287548952381882e-76,1.6067583735661785e-76,4.860710944526955e-77,1.4638685196403335e-77,4.388917326478068e-78,1.309983367487228e-78,3.892487401753853e-79,1.1514410338762435e-79,3.3908551785085775e-80,9.940994504804781e-81,2.9013724200710235e-81,8.430050489879423e-82,2.438427938928721e-82,7.021707404183826e-83,2.012929588394256e-83,5.744701822322461e-84,1.6321476808082208e-84,4.616410982161884e-85,1.2998778141662542e-85,3.643792604190681e-86,1.0168521734831953e-86,2.8249778381548414e-87,7.81313487978886e-88,2.1512389417669674e-88,5.89664568338146e-89,1.6090682566832054e-89,4.371162525598648e-90,1.1821497487472635e-90,3.182739446343528e-91,8.530661942944324e-92,2.276236744164559e-92,6.046515633713925e-93,1.5989908671163454e-93,4.2095903868189254e-94,1.1032825452845851e-94,2.8786357090866598e-95,7.477212480137426e-96,1.9335071773869097e-96,4.977427095183323e-97,1.2756075448004967e-97,3.254485220515822e-98,8.266098586554162e-99,2.0901233175444103e-99,5.26133908885846e-100,1.3184805501300258e-100,3.289305530232831e-101,8.169354750114362e-102,2.0198743231424635e-102,4.971803938205391e-103,1.218306867401765e-103,2.972024896518589e-104,7.217740216609739e-105,1.7450308250383234e-105,4.200084344415352e-106,1.0063892134786645e-106,2.4006397202275218e-107,5.700868906440725e-108,1.3477463795332524e-108,3.1719647035242795e-109,7.431929321326476e-110,1.733515975268333e-110,4.0253827240629094e-111,9.305496736546643e-112,2.1415341120699294e-112,4.906406021302453e-113,1.1190642591553996e-113,2.540970475174538e-114,5.743772960931907e-115,1.2925518200837241e-115,2.8956876568445227e-116,6.458155814314195e-117,1.4338983849752568e-117,3.1694308796203187e-118,6.974245757275054e-119,1.527799141110617e-119,3.3318721534684565e-120,7.2337492240626566e-121,1.5634774485139384e-121,3.3641305946815175e-122,7.206213494333678e-123,1.5367189795384777e-123,3.262382196233814e-124,6.894904802107942e-125,1.4506904858278045e-125,3.038605390796803e-126,6.336171122524206e-127,1.3153233937301614e-127,2.7182615591547544e-128,5.592461401390766e-129,1.1454280120117769e-129,2.3355311117393036e-130,4.740853844724276e-131,9.580331329890912e-132,1.927336491430211e-132,3.86000273146683e-133,7.696100536714047e-134,1.5275903473630918e-134,3.0185344113254263e-135,5.937975611869661e-136,1.1628768920522738e-136,2.2671597580286866e-137,4.4003129097160525e-138,8.502331809348945e-139,1.6354813318710812e-139,3.1318877315866314e-140,5.970625514641724e-141,1.1331477274686862e-141,2.1409488147397678e-142,4.0269764454690994e-143,7.540583387114474e-144,1.405671556880706e-144,2.6086500355737977e-145,4.8194872493576675e-146,8.864186886037133e-147,1.6230429953513675e-147,2.9585178793319497e-148,5.368728282596714e-149,9.698882617066671e-150,1.7443154789082077e-150,3.123067844781268e-151,5.5666107715656435e-152,9.877643440145002e-153,1.7448933487948276e-153,3.068580224968547e-154,5.372286056793486e-155,9.363405450886071e-156,1.6246566112960167e-156,2.806353576847038e-157,4.825876966954606e-158,8.261580830560389e-159,1.4080015071044329e-159,2.388889907611569e-160,4.034987599265791e-161,6.78486679405952e-162,1.1357781241854951e-162,1.8927738457603552e-163,3.1401978040384656e-164,5.186427812142307e-165,8.52771587350397e-166,1.395886667965581e-166,2.2746817815291457e-167,3.690151459576395e-168,5.959650438095993e-169,9.5818735424225e-170,1.5336742835897396e-170,2.443818165176913e-171,3.8766598333335337e-172,6.1220877892544236e-173,9.62486095327906e-174,1.506407356738301e-174,2.3471640482287298e-175,3.640805793137187e-176,5.622178568527286e-177,8.643005905576894e-178,1.322750812081449e-178,2.0153214001691257e-179,3.05677624005049e-180,4.615683634733541e-181,6.938434163048942e-182,1.0383409023919206e-182,1.5469330034581412e-183,2.2943311460680337e-184,3.387612674978941e-185,4.979485248464945e-186,7.286654936693044e-187,1.0615122493209711e-187,1.5394828990868852e-188,2.2226842937495533e-189,3.19472694649989e-190,4.5713319798989696e-191,6.511856647665442e-192,9.234639658058144e-193,1.3037314090590127e-193,1.8323538966325386e-194,2.5637970074288523e-195,3.571173655350919e-196,4.952122219631814e-197,6.836357928193422e-198,9.395313663255766e-199,1.2854370906619187e-199,1.7508277574016745e-200,2.3740456848958604e-201,3.204702900857381e-202,4.3066494977508165e-203,5.761616322038783e-204,7.673653655430949e-205,1.0174500695755583e-205,1.3430032713422523e-206,1.7647942818111422e-207,2.3086822181893954e-208,3.0066804978479724e-209,3.898194065506723e-210,5.0314444708464235e-211,6.465095799967079e-212,8.270091183256472e-213,1.0531704956431234e-213,1.335180935359048e-214,1.6851346698619606e-215,2.1172988311874725e-216,2.6483949699565387e-217,3.297891805811267e-218,4.0883032818755625e-219,5.04548431102963e-220,6.19891479974838e-221,7.581960667861858e-222,9.232098717339386e-223,1.1191090424114163e-223,1.350508813280555e-224,1.6224655837726796e-225,1.940468585721111e-226,2.3104192381178898e-227,2.738596322253727e-228,3.2316052254580955e-229,3.796309707603552e-230,4.4397449498326843e-231,5.1690110548346516e-232,5.991146683556086e-233,6.912983130839463e-234,7.940979852683487e-235,9.081043245428462e-236,1.0338331320413756e-236,1.1717047789084728e-237,1.3220229939698712e-238,1.48495355098994e-239,1.660503449819573e-240,1.8485012468597637e-241,2.0485792344208047e-242,2.2601581916491204e-243,2.4824354283204747e-244,2.714376814085318e-245,2.9547134280147777e-246,3.2019433757610594e-247],\"yaxis\":\"y\"}],                        {\"barmode\":\"overlay\",\"hovermode\":\"closest\",\"legend\":{\"traceorder\":\"reversed\"},\"template\":{\"data\":{\"bar\":[{\"error_x\":{\"color\":\"#2a3f5f\"},\"error_y\":{\"color\":\"#2a3f5f\"},\"marker\":{\"line\":{\"color\":\"#E5ECF6\",\"width\":0.5},\"pattern\":{\"fillmode\":\"overlay\",\"size\":10,\"solidity\":0.2}},\"type\":\"bar\"}],\"barpolar\":[{\"marker\":{\"line\":{\"color\":\"#E5ECF6\",\"width\":0.5},\"pattern\":{\"fillmode\":\"overlay\",\"size\":10,\"solidity\":0.2}},\"type\":\"barpolar\"}],\"carpet\":[{\"aaxis\":{\"endlinecolor\":\"#2a3f5f\",\"gridcolor\":\"white\",\"linecolor\":\"white\",\"minorgridcolor\":\"white\",\"startlinecolor\":\"#2a3f5f\"},\"baxis\":{\"endlinecolor\":\"#2a3f5f\",\"gridcolor\":\"white\",\"linecolor\":\"white\",\"minorgridcolor\":\"white\",\"startlinecolor\":\"#2a3f5f\"},\"type\":\"carpet\"}],\"choropleth\":[{\"colorbar\":{\"outlinewidth\":0,\"ticks\":\"\"},\"type\":\"choropleth\"}],\"contour\":[{\"colorbar\":{\"outlinewidth\":0,\"ticks\":\"\"},\"colorscale\":[[0.0,\"#0d0887\"],[0.1111111111111111,\"#46039f\"],[0.2222222222222222,\"#7201a8\"],[0.3333333333333333,\"#9c179e\"],[0.4444444444444444,\"#bd3786\"],[0.5555555555555556,\"#d8576b\"],[0.6666666666666666,\"#ed7953\"],[0.7777777777777778,\"#fb9f3a\"],[0.8888888888888888,\"#fdca26\"],[1.0,\"#f0f921\"]],\"type\":\"contour\"}],\"contourcarpet\":[{\"colorbar\":{\"outlinewidth\":0,\"ticks\":\"\"},\"type\":\"contourcarpet\"}],\"heatmap\":[{\"colorbar\":{\"outlinewidth\":0,\"ticks\":\"\"},\"colorscale\":[[0.0,\"#0d0887\"],[0.1111111111111111,\"#46039f\"],[0.2222222222222222,\"#7201a8\"],[0.3333333333333333,\"#9c179e\"],[0.4444444444444444,\"#bd3786\"],[0.5555555555555556,\"#d8576b\"],[0.6666666666666666,\"#ed7953\"],[0.7777777777777778,\"#fb9f3a\"],[0.8888888888888888,\"#fdca26\"],[1.0,\"#f0f921\"]],\"type\":\"heatmap\"}],\"heatmapgl\":[{\"colorbar\":{\"outlinewidth\":0,\"ticks\":\"\"},\"colorscale\":[[0.0,\"#0d0887\"],[0.1111111111111111,\"#46039f\"],[0.2222222222222222,\"#7201a8\"],[0.3333333333333333,\"#9c179e\"],[0.4444444444444444,\"#bd3786\"],[0.5555555555555556,\"#d8576b\"],[0.6666666666666666,\"#ed7953\"],[0.7777777777777778,\"#fb9f3a\"],[0.8888888888888888,\"#fdca26\"],[1.0,\"#f0f921\"]],\"type\":\"heatmapgl\"}],\"histogram\":[{\"marker\":{\"pattern\":{\"fillmode\":\"overlay\",\"size\":10,\"solidity\":0.2}},\"type\":\"histogram\"}],\"histogram2d\":[{\"colorbar\":{\"outlinewidth\":0,\"ticks\":\"\"},\"colorscale\":[[0.0,\"#0d0887\"],[0.1111111111111111,\"#46039f\"],[0.2222222222222222,\"#7201a8\"],[0.3333333333333333,\"#9c179e\"],[0.4444444444444444,\"#bd3786\"],[0.5555555555555556,\"#d8576b\"],[0.6666666666666666,\"#ed7953\"],[0.7777777777777778,\"#fb9f3a\"],[0.8888888888888888,\"#fdca26\"],[1.0,\"#f0f921\"]],\"type\":\"histogram2d\"}],\"histogram2dcontour\":[{\"colorbar\":{\"outlinewidth\":0,\"ticks\":\"\"},\"colorscale\":[[0.0,\"#0d0887\"],[0.1111111111111111,\"#46039f\"],[0.2222222222222222,\"#7201a8\"],[0.3333333333333333,\"#9c179e\"],[0.4444444444444444,\"#bd3786\"],[0.5555555555555556,\"#d8576b\"],[0.6666666666666666,\"#ed7953\"],[0.7777777777777778,\"#fb9f3a\"],[0.8888888888888888,\"#fdca26\"],[1.0,\"#f0f921\"]],\"type\":\"histogram2dcontour\"}],\"mesh3d\":[{\"colorbar\":{\"outlinewidth\":0,\"ticks\":\"\"},\"type\":\"mesh3d\"}],\"parcoords\":[{\"line\":{\"colorbar\":{\"outlinewidth\":0,\"ticks\":\"\"}},\"type\":\"parcoords\"}],\"pie\":[{\"automargin\":true,\"type\":\"pie\"}],\"scatter\":[{\"marker\":{\"colorbar\":{\"outlinewidth\":0,\"ticks\":\"\"}},\"type\":\"scatter\"}],\"scatter3d\":[{\"line\":{\"colorbar\":{\"outlinewidth\":0,\"ticks\":\"\"}},\"marker\":{\"colorbar\":{\"outlinewidth\":0,\"ticks\":\"\"}},\"type\":\"scatter3d\"}],\"scattercarpet\":[{\"marker\":{\"colorbar\":{\"outlinewidth\":0,\"ticks\":\"\"}},\"type\":\"scattercarpet\"}],\"scattergeo\":[{\"marker\":{\"colorbar\":{\"outlinewidth\":0,\"ticks\":\"\"}},\"type\":\"scattergeo\"}],\"scattergl\":[{\"marker\":{\"colorbar\":{\"outlinewidth\":0,\"ticks\":\"\"}},\"type\":\"scattergl\"}],\"scattermapbox\":[{\"marker\":{\"colorbar\":{\"outlinewidth\":0,\"ticks\":\"\"}},\"type\":\"scattermapbox\"}],\"scatterpolar\":[{\"marker\":{\"colorbar\":{\"outlinewidth\":0,\"ticks\":\"\"}},\"type\":\"scatterpolar\"}],\"scatterpolargl\":[{\"marker\":{\"colorbar\":{\"outlinewidth\":0,\"ticks\":\"\"}},\"type\":\"scatterpolargl\"}],\"scatterternary\":[{\"marker\":{\"colorbar\":{\"outlinewidth\":0,\"ticks\":\"\"}},\"type\":\"scatterternary\"}],\"surface\":[{\"colorbar\":{\"outlinewidth\":0,\"ticks\":\"\"},\"colorscale\":[[0.0,\"#0d0887\"],[0.1111111111111111,\"#46039f\"],[0.2222222222222222,\"#7201a8\"],[0.3333333333333333,\"#9c179e\"],[0.4444444444444444,\"#bd3786\"],[0.5555555555555556,\"#d8576b\"],[0.6666666666666666,\"#ed7953\"],[0.7777777777777778,\"#fb9f3a\"],[0.8888888888888888,\"#fdca26\"],[1.0,\"#f0f921\"]],\"type\":\"surface\"}],\"table\":[{\"cells\":{\"fill\":{\"color\":\"#EBF0F8\"},\"line\":{\"color\":\"white\"}},\"header\":{\"fill\":{\"color\":\"#C8D4E3\"},\"line\":{\"color\":\"white\"}},\"type\":\"table\"}]},\"layout\":{\"annotationdefaults\":{\"arrowcolor\":\"#2a3f5f\",\"arrowhead\":0,\"arrowwidth\":1},\"autotypenumbers\":\"strict\",\"coloraxis\":{\"colorbar\":{\"outlinewidth\":0,\"ticks\":\"\"}},\"colorscale\":{\"diverging\":[[0,\"#8e0152\"],[0.1,\"#c51b7d\"],[0.2,\"#de77ae\"],[0.3,\"#f1b6da\"],[0.4,\"#fde0ef\"],[0.5,\"#f7f7f7\"],[0.6,\"#e6f5d0\"],[0.7,\"#b8e186\"],[0.8,\"#7fbc41\"],[0.9,\"#4d9221\"],[1,\"#276419\"]],\"sequential\":[[0.0,\"#0d0887\"],[0.1111111111111111,\"#46039f\"],[0.2222222222222222,\"#7201a8\"],[0.3333333333333333,\"#9c179e\"],[0.4444444444444444,\"#bd3786\"],[0.5555555555555556,\"#d8576b\"],[0.6666666666666666,\"#ed7953\"],[0.7777777777777778,\"#fb9f3a\"],[0.8888888888888888,\"#fdca26\"],[1.0,\"#f0f921\"]],\"sequentialminus\":[[0.0,\"#0d0887\"],[0.1111111111111111,\"#46039f\"],[0.2222222222222222,\"#7201a8\"],[0.3333333333333333,\"#9c179e\"],[0.4444444444444444,\"#bd3786\"],[0.5555555555555556,\"#d8576b\"],[0.6666666666666666,\"#ed7953\"],[0.7777777777777778,\"#fb9f3a\"],[0.8888888888888888,\"#fdca26\"],[1.0,\"#f0f921\"]]},\"colorway\":[\"#636efa\",\"#EF553B\",\"#00cc96\",\"#ab63fa\",\"#FFA15A\",\"#19d3f3\",\"#FF6692\",\"#B6E880\",\"#FF97FF\",\"#FECB52\"],\"font\":{\"color\":\"#2a3f5f\"},\"geo\":{\"bgcolor\":\"white\",\"lakecolor\":\"white\",\"landcolor\":\"#E5ECF6\",\"showlakes\":true,\"showland\":true,\"subunitcolor\":\"white\"},\"hoverlabel\":{\"align\":\"left\"},\"hovermode\":\"closest\",\"mapbox\":{\"style\":\"light\"},\"paper_bgcolor\":\"white\",\"plot_bgcolor\":\"#E5ECF6\",\"polar\":{\"angularaxis\":{\"gridcolor\":\"white\",\"linecolor\":\"white\",\"ticks\":\"\"},\"bgcolor\":\"#E5ECF6\",\"radialaxis\":{\"gridcolor\":\"white\",\"linecolor\":\"white\",\"ticks\":\"\"}},\"scene\":{\"xaxis\":{\"backgroundcolor\":\"#E5ECF6\",\"gridcolor\":\"white\",\"gridwidth\":2,\"linecolor\":\"white\",\"showbackground\":true,\"ticks\":\"\",\"zerolinecolor\":\"white\"},\"yaxis\":{\"backgroundcolor\":\"#E5ECF6\",\"gridcolor\":\"white\",\"gridwidth\":2,\"linecolor\":\"white\",\"showbackground\":true,\"ticks\":\"\",\"zerolinecolor\":\"white\"},\"zaxis\":{\"backgroundcolor\":\"#E5ECF6\",\"gridcolor\":\"white\",\"gridwidth\":2,\"linecolor\":\"white\",\"showbackground\":true,\"ticks\":\"\",\"zerolinecolor\":\"white\"}},\"shapedefaults\":{\"line\":{\"color\":\"#2a3f5f\"}},\"ternary\":{\"aaxis\":{\"gridcolor\":\"white\",\"linecolor\":\"white\",\"ticks\":\"\"},\"baxis\":{\"gridcolor\":\"white\",\"linecolor\":\"white\",\"ticks\":\"\"},\"bgcolor\":\"#E5ECF6\",\"caxis\":{\"gridcolor\":\"white\",\"linecolor\":\"white\",\"ticks\":\"\"}},\"title\":{\"x\":0.05},\"xaxis\":{\"automargin\":true,\"gridcolor\":\"white\",\"linecolor\":\"white\",\"ticks\":\"\",\"title\":{\"standoff\":15},\"zerolinecolor\":\"white\",\"zerolinewidth\":2},\"yaxis\":{\"automargin\":true,\"gridcolor\":\"white\",\"linecolor\":\"white\",\"ticks\":\"\",\"title\":{\"standoff\":15},\"zerolinecolor\":\"white\",\"zerolinewidth\":2}}},\"xaxis\":{\"anchor\":\"y2\",\"domain\":[0.0,1.0],\"zeroline\":false},\"yaxis\":{\"anchor\":\"free\",\"domain\":[0.0,1],\"position\":0.0}},                        {\"responsive\": true}                    ).then(function(){\n",
       "                            \n",
       "var gd = document.getElementById('0c3b55a1-63fb-4e33-a0a0-ce3700087682');\n",
       "var x = new MutationObserver(function (mutations, observer) {{\n",
       "        var display = window.getComputedStyle(gd).display;\n",
       "        if (!display || display === 'none') {{\n",
       "            console.log([gd, 'removed!']);\n",
       "            Plotly.purge(gd);\n",
       "            observer.disconnect();\n",
       "        }}\n",
       "}});\n",
       "\n",
       "// Listen for the removal of the full notebook cells\n",
       "var notebookContainer = gd.closest('#notebook-container');\n",
       "if (notebookContainer) {{\n",
       "    x.observe(notebookContainer, {childList: true});\n",
       "}}\n",
       "\n",
       "// Listen for the clearing of the current output cell\n",
       "var outputEl = gd.closest('.output');\n",
       "if (outputEl) {{\n",
       "    x.observe(outputEl, {childList: true});\n",
       "}}\n",
       "\n",
       "                        })                };                });            </script>        </div>"
      ]
     },
     "metadata": {},
     "output_type": "display_data"
    }
   ],
   "source": [
    "distri_data = [x for x in stats_array.T]\n",
    "distri_label = [label for label in artists_matched_stats_df.columns]\n",
    "\n",
    "fig = ff.create_distplot(\n",
    "    distri_data,\n",
    "    distri_label,\n",
    "    curve_type='normal',  # override default 'kde'\n",
    "    show_hist=False,\n",
    "    show_rug=False,\n",
    ")\n",
    "fig.show()"
   ]
  },
  {
   "cell_type": "code",
   "execution_count": 7,
   "id": "e9c39f00-8214-4f6c-aa4f-1bf09a49e208",
   "metadata": {},
   "outputs": [
    {
     "data": {
      "text/html": [
       "<div>\n",
       "<style scoped>\n",
       "    .dataframe tbody tr th:only-of-type {\n",
       "        vertical-align: middle;\n",
       "    }\n",
       "\n",
       "    .dataframe tbody tr th {\n",
       "        vertical-align: top;\n",
       "    }\n",
       "\n",
       "    .dataframe thead th {\n",
       "        text-align: right;\n",
       "    }\n",
       "</style>\n",
       "<table border=\"1\" class=\"dataframe\">\n",
       "  <thead>\n",
       "    <tr style=\"text-align: right;\">\n",
       "      <th></th>\n",
       "      <th>spotify_genre</th>\n",
       "      <th>top_genre</th>\n",
       "    </tr>\n",
       "  </thead>\n",
       "  <tbody>\n",
       "    <tr>\n",
       "      <th>0</th>\n",
       "      <td>21st century classical</td>\n",
       "      <td>art music</td>\n",
       "    </tr>\n",
       "    <tr>\n",
       "      <th>1</th>\n",
       "      <td>5th wave emo</td>\n",
       "      <td>experimental music</td>\n",
       "    </tr>\n",
       "    <tr>\n",
       "      <th>2</th>\n",
       "      <td>5th wave emo</td>\n",
       "      <td>world music</td>\n",
       "    </tr>\n",
       "    <tr>\n",
       "      <th>3</th>\n",
       "      <td>5th wave emo</td>\n",
       "      <td>hip hop music</td>\n",
       "    </tr>\n",
       "    <tr>\n",
       "      <th>4</th>\n",
       "      <td>5th wave emo</td>\n",
       "      <td>electronic music</td>\n",
       "    </tr>\n",
       "    <tr>\n",
       "      <th>...</th>\n",
       "      <td>...</td>\n",
       "      <td>...</td>\n",
       "    </tr>\n",
       "    <tr>\n",
       "      <th>6049</th>\n",
       "      <td>zouk riddim</td>\n",
       "      <td>electronic music</td>\n",
       "    </tr>\n",
       "    <tr>\n",
       "      <th>6050</th>\n",
       "      <td>zouk riddim</td>\n",
       "      <td>dance music</td>\n",
       "    </tr>\n",
       "    <tr>\n",
       "      <th>6051</th>\n",
       "      <td>zouk riddim</td>\n",
       "      <td>instrumental music</td>\n",
       "    </tr>\n",
       "    <tr>\n",
       "      <th>6052</th>\n",
       "      <td>zurich indie</td>\n",
       "      <td>world music</td>\n",
       "    </tr>\n",
       "    <tr>\n",
       "      <th>6053</th>\n",
       "      <td>zurich indie</td>\n",
       "      <td>rock music</td>\n",
       "    </tr>\n",
       "  </tbody>\n",
       "</table>\n",
       "<p>6054 rows × 2 columns</p>\n",
       "</div>"
      ],
      "text/plain": [
       "               spotify_genre           top_genre\n",
       "0     21st century classical           art music\n",
       "1               5th wave emo  experimental music\n",
       "2               5th wave emo         world music\n",
       "3               5th wave emo       hip hop music\n",
       "4               5th wave emo    electronic music\n",
       "...                      ...                 ...\n",
       "6049             zouk riddim    electronic music\n",
       "6050             zouk riddim         dance music\n",
       "6051             zouk riddim  instrumental music\n",
       "6052            zurich indie         world music\n",
       "6053            zurich indie          rock music\n",
       "\n",
       "[6054 rows x 2 columns]"
      ]
     },
     "execution_count": 7,
     "metadata": {},
     "output_type": "execute_result"
    }
   ],
   "source": [
    "genres_df"
   ]
  },
  {
   "cell_type": "code",
   "execution_count": 182,
   "id": "5d7253e7-dd1c-4e02-8d3f-1d83ed989878",
   "metadata": {},
   "outputs": [
    {
     "data": {
      "application/vnd.plotly.v1+json": {
       "config": {
        "plotlyServerURL": "https://plot.ly"
       },
       "data": [
        {
         "link": {
          "source": [
           0,
           0,
           1,
           2,
           3,
           3,
           1,
           0
          ],
          "target": [
           2,
           3,
           3,
           4,
           5,
           6,
           4,
           4
          ],
          "value": [
           1,
           1,
           1,
           1,
           1,
           1,
           1,
           1
          ]
         },
         "node": {
          "color": "blue",
          "label": [
           "rock",
           "pop",
           "indie rock",
           "pop rock",
           "zurich indie rock",
           "us pop rock",
           "uk pop rock"
          ],
          "line": {
           "color": "black",
           "width": 0.5
          },
          "pad": 15,
          "thickness": 20,
          "x": [
           0.011750881316098707,
           0.011750881316098707,
           0.5,
           0.5,
           0.9882491186839013,
           0.9882491186839013,
           0.9882491186839013
          ],
          "y": [
           0.3333333333333346,
           0.8333333333333339,
           0.3097858479503826,
           0.8333333333333338,
           0.25000000000000033,
           0.6666666666666671,
           0.9166666666666669
          ]
         },
         "type": "sankey"
        }
       ],
       "layout": {
        "autosize": true,
        "font": {
         "size": 10
        },
        "template": {
         "data": {
          "bar": [
           {
            "error_x": {
             "color": "#2a3f5f"
            },
            "error_y": {
             "color": "#2a3f5f"
            },
            "marker": {
             "line": {
              "color": "#E5ECF6",
              "width": 0.5
             },
             "pattern": {
              "fillmode": "overlay",
              "size": 10,
              "solidity": 0.2
             }
            },
            "type": "bar"
           }
          ],
          "barpolar": [
           {
            "marker": {
             "line": {
              "color": "#E5ECF6",
              "width": 0.5
             },
             "pattern": {
              "fillmode": "overlay",
              "size": 10,
              "solidity": 0.2
             }
            },
            "type": "barpolar"
           }
          ],
          "carpet": [
           {
            "aaxis": {
             "endlinecolor": "#2a3f5f",
             "gridcolor": "white",
             "linecolor": "white",
             "minorgridcolor": "white",
             "startlinecolor": "#2a3f5f"
            },
            "baxis": {
             "endlinecolor": "#2a3f5f",
             "gridcolor": "white",
             "linecolor": "white",
             "minorgridcolor": "white",
             "startlinecolor": "#2a3f5f"
            },
            "type": "carpet"
           }
          ],
          "choropleth": [
           {
            "colorbar": {
             "outlinewidth": 0,
             "ticks": ""
            },
            "type": "choropleth"
           }
          ],
          "contour": [
           {
            "colorbar": {
             "outlinewidth": 0,
             "ticks": ""
            },
            "colorscale": [
             [
              0,
              "#0d0887"
             ],
             [
              0.1111111111111111,
              "#46039f"
             ],
             [
              0.2222222222222222,
              "#7201a8"
             ],
             [
              0.3333333333333333,
              "#9c179e"
             ],
             [
              0.4444444444444444,
              "#bd3786"
             ],
             [
              0.5555555555555556,
              "#d8576b"
             ],
             [
              0.6666666666666666,
              "#ed7953"
             ],
             [
              0.7777777777777778,
              "#fb9f3a"
             ],
             [
              0.8888888888888888,
              "#fdca26"
             ],
             [
              1,
              "#f0f921"
             ]
            ],
            "type": "contour"
           }
          ],
          "contourcarpet": [
           {
            "colorbar": {
             "outlinewidth": 0,
             "ticks": ""
            },
            "type": "contourcarpet"
           }
          ],
          "heatmap": [
           {
            "colorbar": {
             "outlinewidth": 0,
             "ticks": ""
            },
            "colorscale": [
             [
              0,
              "#0d0887"
             ],
             [
              0.1111111111111111,
              "#46039f"
             ],
             [
              0.2222222222222222,
              "#7201a8"
             ],
             [
              0.3333333333333333,
              "#9c179e"
             ],
             [
              0.4444444444444444,
              "#bd3786"
             ],
             [
              0.5555555555555556,
              "#d8576b"
             ],
             [
              0.6666666666666666,
              "#ed7953"
             ],
             [
              0.7777777777777778,
              "#fb9f3a"
             ],
             [
              0.8888888888888888,
              "#fdca26"
             ],
             [
              1,
              "#f0f921"
             ]
            ],
            "type": "heatmap"
           }
          ],
          "heatmapgl": [
           {
            "colorbar": {
             "outlinewidth": 0,
             "ticks": ""
            },
            "colorscale": [
             [
              0,
              "#0d0887"
             ],
             [
              0.1111111111111111,
              "#46039f"
             ],
             [
              0.2222222222222222,
              "#7201a8"
             ],
             [
              0.3333333333333333,
              "#9c179e"
             ],
             [
              0.4444444444444444,
              "#bd3786"
             ],
             [
              0.5555555555555556,
              "#d8576b"
             ],
             [
              0.6666666666666666,
              "#ed7953"
             ],
             [
              0.7777777777777778,
              "#fb9f3a"
             ],
             [
              0.8888888888888888,
              "#fdca26"
             ],
             [
              1,
              "#f0f921"
             ]
            ],
            "type": "heatmapgl"
           }
          ],
          "histogram": [
           {
            "marker": {
             "pattern": {
              "fillmode": "overlay",
              "size": 10,
              "solidity": 0.2
             }
            },
            "type": "histogram"
           }
          ],
          "histogram2d": [
           {
            "colorbar": {
             "outlinewidth": 0,
             "ticks": ""
            },
            "colorscale": [
             [
              0,
              "#0d0887"
             ],
             [
              0.1111111111111111,
              "#46039f"
             ],
             [
              0.2222222222222222,
              "#7201a8"
             ],
             [
              0.3333333333333333,
              "#9c179e"
             ],
             [
              0.4444444444444444,
              "#bd3786"
             ],
             [
              0.5555555555555556,
              "#d8576b"
             ],
             [
              0.6666666666666666,
              "#ed7953"
             ],
             [
              0.7777777777777778,
              "#fb9f3a"
             ],
             [
              0.8888888888888888,
              "#fdca26"
             ],
             [
              1,
              "#f0f921"
             ]
            ],
            "type": "histogram2d"
           }
          ],
          "histogram2dcontour": [
           {
            "colorbar": {
             "outlinewidth": 0,
             "ticks": ""
            },
            "colorscale": [
             [
              0,
              "#0d0887"
             ],
             [
              0.1111111111111111,
              "#46039f"
             ],
             [
              0.2222222222222222,
              "#7201a8"
             ],
             [
              0.3333333333333333,
              "#9c179e"
             ],
             [
              0.4444444444444444,
              "#bd3786"
             ],
             [
              0.5555555555555556,
              "#d8576b"
             ],
             [
              0.6666666666666666,
              "#ed7953"
             ],
             [
              0.7777777777777778,
              "#fb9f3a"
             ],
             [
              0.8888888888888888,
              "#fdca26"
             ],
             [
              1,
              "#f0f921"
             ]
            ],
            "type": "histogram2dcontour"
           }
          ],
          "mesh3d": [
           {
            "colorbar": {
             "outlinewidth": 0,
             "ticks": ""
            },
            "type": "mesh3d"
           }
          ],
          "parcoords": [
           {
            "line": {
             "colorbar": {
              "outlinewidth": 0,
              "ticks": ""
             }
            },
            "type": "parcoords"
           }
          ],
          "pie": [
           {
            "automargin": true,
            "type": "pie"
           }
          ],
          "scatter": [
           {
            "marker": {
             "colorbar": {
              "outlinewidth": 0,
              "ticks": ""
             }
            },
            "type": "scatter"
           }
          ],
          "scatter3d": [
           {
            "line": {
             "colorbar": {
              "outlinewidth": 0,
              "ticks": ""
             }
            },
            "marker": {
             "colorbar": {
              "outlinewidth": 0,
              "ticks": ""
             }
            },
            "type": "scatter3d"
           }
          ],
          "scattercarpet": [
           {
            "marker": {
             "colorbar": {
              "outlinewidth": 0,
              "ticks": ""
             }
            },
            "type": "scattercarpet"
           }
          ],
          "scattergeo": [
           {
            "marker": {
             "colorbar": {
              "outlinewidth": 0,
              "ticks": ""
             }
            },
            "type": "scattergeo"
           }
          ],
          "scattergl": [
           {
            "marker": {
             "colorbar": {
              "outlinewidth": 0,
              "ticks": ""
             }
            },
            "type": "scattergl"
           }
          ],
          "scattermapbox": [
           {
            "marker": {
             "colorbar": {
              "outlinewidth": 0,
              "ticks": ""
             }
            },
            "type": "scattermapbox"
           }
          ],
          "scatterpolar": [
           {
            "marker": {
             "colorbar": {
              "outlinewidth": 0,
              "ticks": ""
             }
            },
            "type": "scatterpolar"
           }
          ],
          "scatterpolargl": [
           {
            "marker": {
             "colorbar": {
              "outlinewidth": 0,
              "ticks": ""
             }
            },
            "type": "scatterpolargl"
           }
          ],
          "scatterternary": [
           {
            "marker": {
             "colorbar": {
              "outlinewidth": 0,
              "ticks": ""
             }
            },
            "type": "scatterternary"
           }
          ],
          "surface": [
           {
            "colorbar": {
             "outlinewidth": 0,
             "ticks": ""
            },
            "colorscale": [
             [
              0,
              "#0d0887"
             ],
             [
              0.1111111111111111,
              "#46039f"
             ],
             [
              0.2222222222222222,
              "#7201a8"
             ],
             [
              0.3333333333333333,
              "#9c179e"
             ],
             [
              0.4444444444444444,
              "#bd3786"
             ],
             [
              0.5555555555555556,
              "#d8576b"
             ],
             [
              0.6666666666666666,
              "#ed7953"
             ],
             [
              0.7777777777777778,
              "#fb9f3a"
             ],
             [
              0.8888888888888888,
              "#fdca26"
             ],
             [
              1,
              "#f0f921"
             ]
            ],
            "type": "surface"
           }
          ],
          "table": [
           {
            "cells": {
             "fill": {
              "color": "#EBF0F8"
             },
             "line": {
              "color": "white"
             }
            },
            "header": {
             "fill": {
              "color": "#C8D4E3"
             },
             "line": {
              "color": "white"
             }
            },
            "type": "table"
           }
          ]
         },
         "layout": {
          "annotationdefaults": {
           "arrowcolor": "#2a3f5f",
           "arrowhead": 0,
           "arrowwidth": 1
          },
          "autotypenumbers": "strict",
          "coloraxis": {
           "colorbar": {
            "outlinewidth": 0,
            "ticks": ""
           }
          },
          "colorscale": {
           "diverging": [
            [
             0,
             "#8e0152"
            ],
            [
             0.1,
             "#c51b7d"
            ],
            [
             0.2,
             "#de77ae"
            ],
            [
             0.3,
             "#f1b6da"
            ],
            [
             0.4,
             "#fde0ef"
            ],
            [
             0.5,
             "#f7f7f7"
            ],
            [
             0.6,
             "#e6f5d0"
            ],
            [
             0.7,
             "#b8e186"
            ],
            [
             0.8,
             "#7fbc41"
            ],
            [
             0.9,
             "#4d9221"
            ],
            [
             1,
             "#276419"
            ]
           ],
           "sequential": [
            [
             0,
             "#0d0887"
            ],
            [
             0.1111111111111111,
             "#46039f"
            ],
            [
             0.2222222222222222,
             "#7201a8"
            ],
            [
             0.3333333333333333,
             "#9c179e"
            ],
            [
             0.4444444444444444,
             "#bd3786"
            ],
            [
             0.5555555555555556,
             "#d8576b"
            ],
            [
             0.6666666666666666,
             "#ed7953"
            ],
            [
             0.7777777777777778,
             "#fb9f3a"
            ],
            [
             0.8888888888888888,
             "#fdca26"
            ],
            [
             1,
             "#f0f921"
            ]
           ],
           "sequentialminus": [
            [
             0,
             "#0d0887"
            ],
            [
             0.1111111111111111,
             "#46039f"
            ],
            [
             0.2222222222222222,
             "#7201a8"
            ],
            [
             0.3333333333333333,
             "#9c179e"
            ],
            [
             0.4444444444444444,
             "#bd3786"
            ],
            [
             0.5555555555555556,
             "#d8576b"
            ],
            [
             0.6666666666666666,
             "#ed7953"
            ],
            [
             0.7777777777777778,
             "#fb9f3a"
            ],
            [
             0.8888888888888888,
             "#fdca26"
            ],
            [
             1,
             "#f0f921"
            ]
           ]
          },
          "colorway": [
           "#636efa",
           "#EF553B",
           "#00cc96",
           "#ab63fa",
           "#FFA15A",
           "#19d3f3",
           "#FF6692",
           "#B6E880",
           "#FF97FF",
           "#FECB52"
          ],
          "font": {
           "color": "#2a3f5f"
          },
          "geo": {
           "bgcolor": "white",
           "lakecolor": "white",
           "landcolor": "#E5ECF6",
           "showlakes": true,
           "showland": true,
           "subunitcolor": "white"
          },
          "hoverlabel": {
           "align": "left"
          },
          "hovermode": "closest",
          "mapbox": {
           "style": "light"
          },
          "paper_bgcolor": "white",
          "plot_bgcolor": "#E5ECF6",
          "polar": {
           "angularaxis": {
            "gridcolor": "white",
            "linecolor": "white",
            "ticks": ""
           },
           "bgcolor": "#E5ECF6",
           "radialaxis": {
            "gridcolor": "white",
            "linecolor": "white",
            "ticks": ""
           }
          },
          "scene": {
           "xaxis": {
            "backgroundcolor": "#E5ECF6",
            "gridcolor": "white",
            "gridwidth": 2,
            "linecolor": "white",
            "showbackground": true,
            "ticks": "",
            "zerolinecolor": "white"
           },
           "yaxis": {
            "backgroundcolor": "#E5ECF6",
            "gridcolor": "white",
            "gridwidth": 2,
            "linecolor": "white",
            "showbackground": true,
            "ticks": "",
            "zerolinecolor": "white"
           },
           "zaxis": {
            "backgroundcolor": "#E5ECF6",
            "gridcolor": "white",
            "gridwidth": 2,
            "linecolor": "white",
            "showbackground": true,
            "ticks": "",
            "zerolinecolor": "white"
           }
          },
          "shapedefaults": {
           "line": {
            "color": "#2a3f5f"
           }
          },
          "ternary": {
           "aaxis": {
            "gridcolor": "white",
            "linecolor": "white",
            "ticks": ""
           },
           "baxis": {
            "gridcolor": "white",
            "linecolor": "white",
            "ticks": ""
           },
           "bgcolor": "#E5ECF6",
           "caxis": {
            "gridcolor": "white",
            "linecolor": "white",
            "ticks": ""
           }
          },
          "title": {
           "x": 0.05
          },
          "xaxis": {
           "automargin": true,
           "gridcolor": "white",
           "linecolor": "white",
           "ticks": "",
           "title": {
            "standoff": 15
           },
           "zerolinecolor": "white",
           "zerolinewidth": 2
          },
          "yaxis": {
           "automargin": true,
           "gridcolor": "white",
           "linecolor": "white",
           "ticks": "",
           "title": {
            "standoff": 15
           },
           "zerolinecolor": "white",
           "zerolinewidth": 2
          }
         }
        },
        "title": {
         "text": "Basic Sankey Diagram"
        }
       }
      },
      "image/png": "[encoded data removed]",
      "text/html": [
       "<div>                            <div id=\"567a50d8-4d17-497e-8aeb-00d0df01fc4f\" class=\"plotly-graph-div\" style=\"height:525px; width:100%;\"></div>            <script type=\"text/javascript\">                require([\"plotly\"], function(Plotly) {                    window.PLOTLYENV=window.PLOTLYENV || {};                                    if (document.getElementById(\"567a50d8-4d17-497e-8aeb-00d0df01fc4f\")) {                    Plotly.newPlot(                        \"567a50d8-4d17-497e-8aeb-00d0df01fc4f\",                        [{\"link\":{\"source\":[0,0,1,2,3,3,1,0],\"target\":[2,3,3,4,5,6,4,4],\"value\":[1,1,1,1,1,1,1,1]},\"node\":{\"color\":\"blue\",\"label\":[\"rock\",\"pop\",\"indie rock\",\"pop rock\",\"zurich indie rock\",\"us pop rock\",\"uk pop rock\"],\"line\":{\"color\":\"black\",\"width\":0.5},\"pad\":15,\"thickness\":20},\"type\":\"sankey\"}],                        {\"font\":{\"size\":10},\"template\":{\"data\":{\"bar\":[{\"error_x\":{\"color\":\"#2a3f5f\"},\"error_y\":{\"color\":\"#2a3f5f\"},\"marker\":{\"line\":{\"color\":\"#E5ECF6\",\"width\":0.5},\"pattern\":{\"fillmode\":\"overlay\",\"size\":10,\"solidity\":0.2}},\"type\":\"bar\"}],\"barpolar\":[{\"marker\":{\"line\":{\"color\":\"#E5ECF6\",\"width\":0.5},\"pattern\":{\"fillmode\":\"overlay\",\"size\":10,\"solidity\":0.2}},\"type\":\"barpolar\"}],\"carpet\":[{\"aaxis\":{\"endlinecolor\":\"#2a3f5f\",\"gridcolor\":\"white\",\"linecolor\":\"white\",\"minorgridcolor\":\"white\",\"startlinecolor\":\"#2a3f5f\"},\"baxis\":{\"endlinecolor\":\"#2a3f5f\",\"gridcolor\":\"white\",\"linecolor\":\"white\",\"minorgridcolor\":\"white\",\"startlinecolor\":\"#2a3f5f\"},\"type\":\"carpet\"}],\"choropleth\":[{\"colorbar\":{\"outlinewidth\":0,\"ticks\":\"\"},\"type\":\"choropleth\"}],\"contour\":[{\"colorbar\":{\"outlinewidth\":0,\"ticks\":\"\"},\"colorscale\":[[0.0,\"#0d0887\"],[0.1111111111111111,\"#46039f\"],[0.2222222222222222,\"#7201a8\"],[0.3333333333333333,\"#9c179e\"],[0.4444444444444444,\"#bd3786\"],[0.5555555555555556,\"#d8576b\"],[0.6666666666666666,\"#ed7953\"],[0.7777777777777778,\"#fb9f3a\"],[0.8888888888888888,\"#fdca26\"],[1.0,\"#f0f921\"]],\"type\":\"contour\"}],\"contourcarpet\":[{\"colorbar\":{\"outlinewidth\":0,\"ticks\":\"\"},\"type\":\"contourcarpet\"}],\"heatmap\":[{\"colorbar\":{\"outlinewidth\":0,\"ticks\":\"\"},\"colorscale\":[[0.0,\"#0d0887\"],[0.1111111111111111,\"#46039f\"],[0.2222222222222222,\"#7201a8\"],[0.3333333333333333,\"#9c179e\"],[0.4444444444444444,\"#bd3786\"],[0.5555555555555556,\"#d8576b\"],[0.6666666666666666,\"#ed7953\"],[0.7777777777777778,\"#fb9f3a\"],[0.8888888888888888,\"#fdca26\"],[1.0,\"#f0f921\"]],\"type\":\"heatmap\"}],\"heatmapgl\":[{\"colorbar\":{\"outlinewidth\":0,\"ticks\":\"\"},\"colorscale\":[[0.0,\"#0d0887\"],[0.1111111111111111,\"#46039f\"],[0.2222222222222222,\"#7201a8\"],[0.3333333333333333,\"#9c179e\"],[0.4444444444444444,\"#bd3786\"],[0.5555555555555556,\"#d8576b\"],[0.6666666666666666,\"#ed7953\"],[0.7777777777777778,\"#fb9f3a\"],[0.8888888888888888,\"#fdca26\"],[1.0,\"#f0f921\"]],\"type\":\"heatmapgl\"}],\"histogram\":[{\"marker\":{\"pattern\":{\"fillmode\":\"overlay\",\"size\":10,\"solidity\":0.2}},\"type\":\"histogram\"}],\"histogram2d\":[{\"colorbar\":{\"outlinewidth\":0,\"ticks\":\"\"},\"colorscale\":[[0.0,\"#0d0887\"],[0.1111111111111111,\"#46039f\"],[0.2222222222222222,\"#7201a8\"],[0.3333333333333333,\"#9c179e\"],[0.4444444444444444,\"#bd3786\"],[0.5555555555555556,\"#d8576b\"],[0.6666666666666666,\"#ed7953\"],[0.7777777777777778,\"#fb9f3a\"],[0.8888888888888888,\"#fdca26\"],[1.0,\"#f0f921\"]],\"type\":\"histogram2d\"}],\"histogram2dcontour\":[{\"colorbar\":{\"outlinewidth\":0,\"ticks\":\"\"},\"colorscale\":[[0.0,\"#0d0887\"],[0.1111111111111111,\"#46039f\"],[0.2222222222222222,\"#7201a8\"],[0.3333333333333333,\"#9c179e\"],[0.4444444444444444,\"#bd3786\"],[0.5555555555555556,\"#d8576b\"],[0.6666666666666666,\"#ed7953\"],[0.7777777777777778,\"#fb9f3a\"],[0.8888888888888888,\"#fdca26\"],[1.0,\"#f0f921\"]],\"type\":\"histogram2dcontour\"}],\"mesh3d\":[{\"colorbar\":{\"outlinewidth\":0,\"ticks\":\"\"},\"type\":\"mesh3d\"}],\"parcoords\":[{\"line\":{\"colorbar\":{\"outlinewidth\":0,\"ticks\":\"\"}},\"type\":\"parcoords\"}],\"pie\":[{\"automargin\":true,\"type\":\"pie\"}],\"scatter\":[{\"marker\":{\"colorbar\":{\"outlinewidth\":0,\"ticks\":\"\"}},\"type\":\"scatter\"}],\"scatter3d\":[{\"line\":{\"colorbar\":{\"outlinewidth\":0,\"ticks\":\"\"}},\"marker\":{\"colorbar\":{\"outlinewidth\":0,\"ticks\":\"\"}},\"type\":\"scatter3d\"}],\"scattercarpet\":[{\"marker\":{\"colorbar\":{\"outlinewidth\":0,\"ticks\":\"\"}},\"type\":\"scattercarpet\"}],\"scattergeo\":[{\"marker\":{\"colorbar\":{\"outlinewidth\":0,\"ticks\":\"\"}},\"type\":\"scattergeo\"}],\"scattergl\":[{\"marker\":{\"colorbar\":{\"outlinewidth\":0,\"ticks\":\"\"}},\"type\":\"scattergl\"}],\"scattermapbox\":[{\"marker\":{\"colorbar\":{\"outlinewidth\":0,\"ticks\":\"\"}},\"type\":\"scattermapbox\"}],\"scatterpolar\":[{\"marker\":{\"colorbar\":{\"outlinewidth\":0,\"ticks\":\"\"}},\"type\":\"scatterpolar\"}],\"scatterpolargl\":[{\"marker\":{\"colorbar\":{\"outlinewidth\":0,\"ticks\":\"\"}},\"type\":\"scatterpolargl\"}],\"scatterternary\":[{\"marker\":{\"colorbar\":{\"outlinewidth\":0,\"ticks\":\"\"}},\"type\":\"scatterternary\"}],\"surface\":[{\"colorbar\":{\"outlinewidth\":0,\"ticks\":\"\"},\"colorscale\":[[0.0,\"#0d0887\"],[0.1111111111111111,\"#46039f\"],[0.2222222222222222,\"#7201a8\"],[0.3333333333333333,\"#9c179e\"],[0.4444444444444444,\"#bd3786\"],[0.5555555555555556,\"#d8576b\"],[0.6666666666666666,\"#ed7953\"],[0.7777777777777778,\"#fb9f3a\"],[0.8888888888888888,\"#fdca26\"],[1.0,\"#f0f921\"]],\"type\":\"surface\"}],\"table\":[{\"cells\":{\"fill\":{\"color\":\"#EBF0F8\"},\"line\":{\"color\":\"white\"}},\"header\":{\"fill\":{\"color\":\"#C8D4E3\"},\"line\":{\"color\":\"white\"}},\"type\":\"table\"}]},\"layout\":{\"annotationdefaults\":{\"arrowcolor\":\"#2a3f5f\",\"arrowhead\":0,\"arrowwidth\":1},\"autotypenumbers\":\"strict\",\"coloraxis\":{\"colorbar\":{\"outlinewidth\":0,\"ticks\":\"\"}},\"colorscale\":{\"diverging\":[[0,\"#8e0152\"],[0.1,\"#c51b7d\"],[0.2,\"#de77ae\"],[0.3,\"#f1b6da\"],[0.4,\"#fde0ef\"],[0.5,\"#f7f7f7\"],[0.6,\"#e6f5d0\"],[0.7,\"#b8e186\"],[0.8,\"#7fbc41\"],[0.9,\"#4d9221\"],[1,\"#276419\"]],\"sequential\":[[0.0,\"#0d0887\"],[0.1111111111111111,\"#46039f\"],[0.2222222222222222,\"#7201a8\"],[0.3333333333333333,\"#9c179e\"],[0.4444444444444444,\"#bd3786\"],[0.5555555555555556,\"#d8576b\"],[0.6666666666666666,\"#ed7953\"],[0.7777777777777778,\"#fb9f3a\"],[0.8888888888888888,\"#fdca26\"],[1.0,\"#f0f921\"]],\"sequentialminus\":[[0.0,\"#0d0887\"],[0.1111111111111111,\"#46039f\"],[0.2222222222222222,\"#7201a8\"],[0.3333333333333333,\"#9c179e\"],[0.4444444444444444,\"#bd3786\"],[0.5555555555555556,\"#d8576b\"],[0.6666666666666666,\"#ed7953\"],[0.7777777777777778,\"#fb9f3a\"],[0.8888888888888888,\"#fdca26\"],[1.0,\"#f0f921\"]]},\"colorway\":[\"#636efa\",\"#EF553B\",\"#00cc96\",\"#ab63fa\",\"#FFA15A\",\"#19d3f3\",\"#FF6692\",\"#B6E880\",\"#FF97FF\",\"#FECB52\"],\"font\":{\"color\":\"#2a3f5f\"},\"geo\":{\"bgcolor\":\"white\",\"lakecolor\":\"white\",\"landcolor\":\"#E5ECF6\",\"showlakes\":true,\"showland\":true,\"subunitcolor\":\"white\"},\"hoverlabel\":{\"align\":\"left\"},\"hovermode\":\"closest\",\"mapbox\":{\"style\":\"light\"},\"paper_bgcolor\":\"white\",\"plot_bgcolor\":\"#E5ECF6\",\"polar\":{\"angularaxis\":{\"gridcolor\":\"white\",\"linecolor\":\"white\",\"ticks\":\"\"},\"bgcolor\":\"#E5ECF6\",\"radialaxis\":{\"gridcolor\":\"white\",\"linecolor\":\"white\",\"ticks\":\"\"}},\"scene\":{\"xaxis\":{\"backgroundcolor\":\"#E5ECF6\",\"gridcolor\":\"white\",\"gridwidth\":2,\"linecolor\":\"white\",\"showbackground\":true,\"ticks\":\"\",\"zerolinecolor\":\"white\"},\"yaxis\":{\"backgroundcolor\":\"#E5ECF6\",\"gridcolor\":\"white\",\"gridwidth\":2,\"linecolor\":\"white\",\"showbackground\":true,\"ticks\":\"\",\"zerolinecolor\":\"white\"},\"zaxis\":{\"backgroundcolor\":\"#E5ECF6\",\"gridcolor\":\"white\",\"gridwidth\":2,\"linecolor\":\"white\",\"showbackground\":true,\"ticks\":\"\",\"zerolinecolor\":\"white\"}},\"shapedefaults\":{\"line\":{\"color\":\"#2a3f5f\"}},\"ternary\":{\"aaxis\":{\"gridcolor\":\"white\",\"linecolor\":\"white\",\"ticks\":\"\"},\"baxis\":{\"gridcolor\":\"white\",\"linecolor\":\"white\",\"ticks\":\"\"},\"bgcolor\":\"#E5ECF6\",\"caxis\":{\"gridcolor\":\"white\",\"linecolor\":\"white\",\"ticks\":\"\"}},\"title\":{\"x\":0.05},\"xaxis\":{\"automargin\":true,\"gridcolor\":\"white\",\"linecolor\":\"white\",\"ticks\":\"\",\"title\":{\"standoff\":15},\"zerolinecolor\":\"white\",\"zerolinewidth\":2},\"yaxis\":{\"automargin\":true,\"gridcolor\":\"white\",\"linecolor\":\"white\",\"ticks\":\"\",\"title\":{\"standoff\":15},\"zerolinecolor\":\"white\",\"zerolinewidth\":2}}},\"title\":{\"text\":\"Basic Sankey Diagram\"}},                        {\"responsive\": true}                    ).then(function(){\n",
       "                            \n",
       "var gd = document.getElementById('567a50d8-4d17-497e-8aeb-00d0df01fc4f');\n",
       "var x = new MutationObserver(function (mutations, observer) {{\n",
       "        var display = window.getComputedStyle(gd).display;\n",
       "        if (!display || display === 'none') {{\n",
       "            console.log([gd, 'removed!']);\n",
       "            Plotly.purge(gd);\n",
       "            observer.disconnect();\n",
       "        }}\n",
       "}});\n",
       "\n",
       "// Listen for the removal of the full notebook cells\n",
       "var notebookContainer = gd.closest('#notebook-container');\n",
       "if (notebookContainer) {{\n",
       "    x.observe(notebookContainer, {childList: true});\n",
       "}}\n",
       "\n",
       "// Listen for the clearing of the current output cell\n",
       "var outputEl = gd.closest('.output');\n",
       "if (outputEl) {{\n",
       "    x.observe(outputEl, {childList: true});\n",
       "}}\n",
       "\n",
       "                        })                };                });            </script>        </div>"
      ]
     },
     "metadata": {},
     "output_type": "display_data"
    }
   ],
   "source": [
    "import plotly.graph_objects as go\n",
    "\n",
    "label = [\n",
    "    'rock',\n",
    "    'pop',\n",
    "    'indie rock',\n",
    "    'pop rock',\n",
    "    'zurich indie rock',\n",
    "    'us pop rock',\n",
    "    'uk pop rock',\n",
    "]\n",
    "\n",
    "source = [0, 0, 1, 2, 3, 3, 1, 0]\n",
    "target = [2, 3, 3, 4, 5, 6, 4, 4]\n",
    "\n",
    "fig = go.Figure(data=[go.Sankey(\n",
    "    node = dict(\n",
    "      pad = 15,\n",
    "      thickness = 20,\n",
    "      line = dict(color = \"black\", width = 0.5),\n",
    "      label = label,\n",
    "      color = \"blue\"\n",
    "    ),\n",
    "    link = dict(\n",
    "      source = source,\n",
    "      target = target,\n",
    "      value = [1, 1, 1, 1, 1, 1, 1, 1],\n",
    "  ))])\n",
    "\n",
    "fig.update_layout(title_text=\"Basic Sankey Diagram\", font_size=10)\n",
    "fig.show()"
   ]
  },
  {
   "cell_type": "code",
   "execution_count": 194,
   "id": "d5c4b33f-028b-41b6-b72b-3c42883ae859",
   "metadata": {},
   "outputs": [
    {
     "data": {
      "application/vnd.plotly.v1+json": {
       "config": {
        "plotlyServerURL": "https://plot.ly"
       },
       "data": [
        {
         "link": {
          "source": [
           0,
           0,
           0,
           0,
           0,
           0,
           0,
           0,
           0,
           0
          ],
          "target": [
           1,
           2,
           3,
           4,
           5,
           6,
           7,
           8,
           9,
           10
          ],
          "value": [
           1,
           1,
           1,
           1,
           1,
           1,
           1,
           1,
           1,
           1,
           1
          ]
         },
         "node": {
          "color": "blue",
          "label": [
           "art music",
           "21st century classical",
           "abstract",
           "abstract beats",
           "abstract idm",
           "acousmatic",
           "african-american classical",
           "ambient",
           "ambient black metal",
           "ambient folk",
           "ambient house"
          ],
          "line": {
           "color": "yellow",
           "width": 0.5
          },
          "pad": 15,
          "thickness": 20
         },
         "type": "sankey"
        }
       ],
       "layout": {
        "autosize": true,
        "font": {
         "size": 10
        },
        "template": {
         "data": {
          "bar": [
           {
            "error_x": {
             "color": "#2a3f5f"
            },
            "error_y": {
             "color": "#2a3f5f"
            },
            "marker": {
             "line": {
              "color": "#E5ECF6",
              "width": 0.5
             },
             "pattern": {
              "fillmode": "overlay",
              "size": 10,
              "solidity": 0.2
             }
            },
            "type": "bar"
           }
          ],
          "barpolar": [
           {
            "marker": {
             "line": {
              "color": "#E5ECF6",
              "width": 0.5
             },
             "pattern": {
              "fillmode": "overlay",
              "size": 10,
              "solidity": 0.2
             }
            },
            "type": "barpolar"
           }
          ],
          "carpet": [
           {
            "aaxis": {
             "endlinecolor": "#2a3f5f",
             "gridcolor": "white",
             "linecolor": "white",
             "minorgridcolor": "white",
             "startlinecolor": "#2a3f5f"
            },
            "baxis": {
             "endlinecolor": "#2a3f5f",
             "gridcolor": "white",
             "linecolor": "white",
             "minorgridcolor": "white",
             "startlinecolor": "#2a3f5f"
            },
            "type": "carpet"
           }
          ],
          "choropleth": [
           {
            "colorbar": {
             "outlinewidth": 0,
             "ticks": ""
            },
            "type": "choropleth"
           }
          ],
          "contour": [
           {
            "colorbar": {
             "outlinewidth": 0,
             "ticks": ""
            },
            "colorscale": [
             [
              0,
              "#0d0887"
             ],
             [
              0.1111111111111111,
              "#46039f"
             ],
             [
              0.2222222222222222,
              "#7201a8"
             ],
             [
              0.3333333333333333,
              "#9c179e"
             ],
             [
              0.4444444444444444,
              "#bd3786"
             ],
             [
              0.5555555555555556,
              "#d8576b"
             ],
             [
              0.6666666666666666,
              "#ed7953"
             ],
             [
              0.7777777777777778,
              "#fb9f3a"
             ],
             [
              0.8888888888888888,
              "#fdca26"
             ],
             [
              1,
              "#f0f921"
             ]
            ],
            "type": "contour"
           }
          ],
          "contourcarpet": [
           {
            "colorbar": {
             "outlinewidth": 0,
             "ticks": ""
            },
            "type": "contourcarpet"
           }
          ],
          "heatmap": [
           {
            "colorbar": {
             "outlinewidth": 0,
             "ticks": ""
            },
            "colorscale": [
             [
              0,
              "#0d0887"
             ],
             [
              0.1111111111111111,
              "#46039f"
             ],
             [
              0.2222222222222222,
              "#7201a8"
             ],
             [
              0.3333333333333333,
              "#9c179e"
             ],
             [
              0.4444444444444444,
              "#bd3786"
             ],
             [
              0.5555555555555556,
              "#d8576b"
             ],
             [
              0.6666666666666666,
              "#ed7953"
             ],
             [
              0.7777777777777778,
              "#fb9f3a"
             ],
             [
              0.8888888888888888,
              "#fdca26"
             ],
             [
              1,
              "#f0f921"
             ]
            ],
            "type": "heatmap"
           }
          ],
          "heatmapgl": [
           {
            "colorbar": {
             "outlinewidth": 0,
             "ticks": ""
            },
            "colorscale": [
             [
              0,
              "#0d0887"
             ],
             [
              0.1111111111111111,
              "#46039f"
             ],
             [
              0.2222222222222222,
              "#7201a8"
             ],
             [
              0.3333333333333333,
              "#9c179e"
             ],
             [
              0.4444444444444444,
              "#bd3786"
             ],
             [
              0.5555555555555556,
              "#d8576b"
             ],
             [
              0.6666666666666666,
              "#ed7953"
             ],
             [
              0.7777777777777778,
              "#fb9f3a"
             ],
             [
              0.8888888888888888,
              "#fdca26"
             ],
             [
              1,
              "#f0f921"
             ]
            ],
            "type": "heatmapgl"
           }
          ],
          "histogram": [
           {
            "marker": {
             "pattern": {
              "fillmode": "overlay",
              "size": 10,
              "solidity": 0.2
             }
            },
            "type": "histogram"
           }
          ],
          "histogram2d": [
           {
            "colorbar": {
             "outlinewidth": 0,
             "ticks": ""
            },
            "colorscale": [
             [
              0,
              "#0d0887"
             ],
             [
              0.1111111111111111,
              "#46039f"
             ],
             [
              0.2222222222222222,
              "#7201a8"
             ],
             [
              0.3333333333333333,
              "#9c179e"
             ],
             [
              0.4444444444444444,
              "#bd3786"
             ],
             [
              0.5555555555555556,
              "#d8576b"
             ],
             [
              0.6666666666666666,
              "#ed7953"
             ],
             [
              0.7777777777777778,
              "#fb9f3a"
             ],
             [
              0.8888888888888888,
              "#fdca26"
             ],
             [
              1,
              "#f0f921"
             ]
            ],
            "type": "histogram2d"
           }
          ],
          "histogram2dcontour": [
           {
            "colorbar": {
             "outlinewidth": 0,
             "ticks": ""
            },
            "colorscale": [
             [
              0,
              "#0d0887"
             ],
             [
              0.1111111111111111,
              "#46039f"
             ],
             [
              0.2222222222222222,
              "#7201a8"
             ],
             [
              0.3333333333333333,
              "#9c179e"
             ],
             [
              0.4444444444444444,
              "#bd3786"
             ],
             [
              0.5555555555555556,
              "#d8576b"
             ],
             [
              0.6666666666666666,
              "#ed7953"
             ],
             [
              0.7777777777777778,
              "#fb9f3a"
             ],
             [
              0.8888888888888888,
              "#fdca26"
             ],
             [
              1,
              "#f0f921"
             ]
            ],
            "type": "histogram2dcontour"
           }
          ],
          "mesh3d": [
           {
            "colorbar": {
             "outlinewidth": 0,
             "ticks": ""
            },
            "type": "mesh3d"
           }
          ],
          "parcoords": [
           {
            "line": {
             "colorbar": {
              "outlinewidth": 0,
              "ticks": ""
             }
            },
            "type": "parcoords"
           }
          ],
          "pie": [
           {
            "automargin": true,
            "type": "pie"
           }
          ],
          "scatter": [
           {
            "marker": {
             "colorbar": {
              "outlinewidth": 0,
              "ticks": ""
             }
            },
            "type": "scatter"
           }
          ],
          "scatter3d": [
           {
            "line": {
             "colorbar": {
              "outlinewidth": 0,
              "ticks": ""
             }
            },
            "marker": {
             "colorbar": {
              "outlinewidth": 0,
              "ticks": ""
             }
            },
            "type": "scatter3d"
           }
          ],
          "scattercarpet": [
           {
            "marker": {
             "colorbar": {
              "outlinewidth": 0,
              "ticks": ""
             }
            },
            "type": "scattercarpet"
           }
          ],
          "scattergeo": [
           {
            "marker": {
             "colorbar": {
              "outlinewidth": 0,
              "ticks": ""
             }
            },
            "type": "scattergeo"
           }
          ],
          "scattergl": [
           {
            "marker": {
             "colorbar": {
              "outlinewidth": 0,
              "ticks": ""
             }
            },
            "type": "scattergl"
           }
          ],
          "scattermapbox": [
           {
            "marker": {
             "colorbar": {
              "outlinewidth": 0,
              "ticks": ""
             }
            },
            "type": "scattermapbox"
           }
          ],
          "scatterpolar": [
           {
            "marker": {
             "colorbar": {
              "outlinewidth": 0,
              "ticks": ""
             }
            },
            "type": "scatterpolar"
           }
          ],
          "scatterpolargl": [
           {
            "marker": {
             "colorbar": {
              "outlinewidth": 0,
              "ticks": ""
             }
            },
            "type": "scatterpolargl"
           }
          ],
          "scatterternary": [
           {
            "marker": {
             "colorbar": {
              "outlinewidth": 0,
              "ticks": ""
             }
            },
            "type": "scatterternary"
           }
          ],
          "surface": [
           {
            "colorbar": {
             "outlinewidth": 0,
             "ticks": ""
            },
            "colorscale": [
             [
              0,
              "#0d0887"
             ],
             [
              0.1111111111111111,
              "#46039f"
             ],
             [
              0.2222222222222222,
              "#7201a8"
             ],
             [
              0.3333333333333333,
              "#9c179e"
             ],
             [
              0.4444444444444444,
              "#bd3786"
             ],
             [
              0.5555555555555556,
              "#d8576b"
             ],
             [
              0.6666666666666666,
              "#ed7953"
             ],
             [
              0.7777777777777778,
              "#fb9f3a"
             ],
             [
              0.8888888888888888,
              "#fdca26"
             ],
             [
              1,
              "#f0f921"
             ]
            ],
            "type": "surface"
           }
          ],
          "table": [
           {
            "cells": {
             "fill": {
              "color": "#EBF0F8"
             },
             "line": {
              "color": "white"
             }
            },
            "header": {
             "fill": {
              "color": "#C8D4E3"
             },
             "line": {
              "color": "white"
             }
            },
            "type": "table"
           }
          ]
         },
         "layout": {
          "annotationdefaults": {
           "arrowcolor": "#2a3f5f",
           "arrowhead": 0,
           "arrowwidth": 1
          },
          "autotypenumbers": "strict",
          "coloraxis": {
           "colorbar": {
            "outlinewidth": 0,
            "ticks": ""
           }
          },
          "colorscale": {
           "diverging": [
            [
             0,
             "#8e0152"
            ],
            [
             0.1,
             "#c51b7d"
            ],
            [
             0.2,
             "#de77ae"
            ],
            [
             0.3,
             "#f1b6da"
            ],
            [
             0.4,
             "#fde0ef"
            ],
            [
             0.5,
             "#f7f7f7"
            ],
            [
             0.6,
             "#e6f5d0"
            ],
            [
             0.7,
             "#b8e186"
            ],
            [
             0.8,
             "#7fbc41"
            ],
            [
             0.9,
             "#4d9221"
            ],
            [
             1,
             "#276419"
            ]
           ],
           "sequential": [
            [
             0,
             "#0d0887"
            ],
            [
             0.1111111111111111,
             "#46039f"
            ],
            [
             0.2222222222222222,
             "#7201a8"
            ],
            [
             0.3333333333333333,
             "#9c179e"
            ],
            [
             0.4444444444444444,
             "#bd3786"
            ],
            [
             0.5555555555555556,
             "#d8576b"
            ],
            [
             0.6666666666666666,
             "#ed7953"
            ],
            [
             0.7777777777777778,
             "#fb9f3a"
            ],
            [
             0.8888888888888888,
             "#fdca26"
            ],
            [
             1,
             "#f0f921"
            ]
           ],
           "sequentialminus": [
            [
             0,
             "#0d0887"
            ],
            [
             0.1111111111111111,
             "#46039f"
            ],
            [
             0.2222222222222222,
             "#7201a8"
            ],
            [
             0.3333333333333333,
             "#9c179e"
            ],
            [
             0.4444444444444444,
             "#bd3786"
            ],
            [
             0.5555555555555556,
             "#d8576b"
            ],
            [
             0.6666666666666666,
             "#ed7953"
            ],
            [
             0.7777777777777778,
             "#fb9f3a"
            ],
            [
             0.8888888888888888,
             "#fdca26"
            ],
            [
             1,
             "#f0f921"
            ]
           ]
          },
          "colorway": [
           "#636efa",
           "#EF553B",
           "#00cc96",
           "#ab63fa",
           "#FFA15A",
           "#19d3f3",
           "#FF6692",
           "#B6E880",
           "#FF97FF",
           "#FECB52"
          ],
          "font": {
           "color": "#2a3f5f"
          },
          "geo": {
           "bgcolor": "white",
           "lakecolor": "white",
           "landcolor": "#E5ECF6",
           "showlakes": true,
           "showland": true,
           "subunitcolor": "white"
          },
          "hoverlabel": {
           "align": "left"
          },
          "hovermode": "closest",
          "mapbox": {
           "style": "light"
          },
          "paper_bgcolor": "white",
          "plot_bgcolor": "#E5ECF6",
          "polar": {
           "angularaxis": {
            "gridcolor": "white",
            "linecolor": "white",
            "ticks": ""
           },
           "bgcolor": "#E5ECF6",
           "radialaxis": {
            "gridcolor": "white",
            "linecolor": "white",
            "ticks": ""
           }
          },
          "scene": {
           "xaxis": {
            "backgroundcolor": "#E5ECF6",
            "gridcolor": "white",
            "gridwidth": 2,
            "linecolor": "white",
            "showbackground": true,
            "ticks": "",
            "zerolinecolor": "white"
           },
           "yaxis": {
            "backgroundcolor": "#E5ECF6",
            "gridcolor": "white",
            "gridwidth": 2,
            "linecolor": "white",
            "showbackground": true,
            "ticks": "",
            "zerolinecolor": "white"
           },
           "zaxis": {
            "backgroundcolor": "#E5ECF6",
            "gridcolor": "white",
            "gridwidth": 2,
            "linecolor": "white",
            "showbackground": true,
            "ticks": "",
            "zerolinecolor": "white"
           }
          },
          "shapedefaults": {
           "line": {
            "color": "#2a3f5f"
           }
          },
          "ternary": {
           "aaxis": {
            "gridcolor": "white",
            "linecolor": "white",
            "ticks": ""
           },
           "baxis": {
            "gridcolor": "white",
            "linecolor": "white",
            "ticks": ""
           },
           "bgcolor": "#E5ECF6",
           "caxis": {
            "gridcolor": "white",
            "linecolor": "white",
            "ticks": ""
           }
          },
          "title": {
           "x": 0.05
          },
          "xaxis": {
           "automargin": true,
           "gridcolor": "white",
           "linecolor": "white",
           "ticks": "",
           "title": {
            "standoff": 15
           },
           "zerolinecolor": "white",
           "zerolinewidth": 2
          },
          "yaxis": {
           "automargin": true,
           "gridcolor": "white",
           "linecolor": "white",
           "ticks": "",
           "title": {
            "standoff": 15
           },
           "zerolinecolor": "white",
           "zerolinewidth": 2
          }
         }
        },
        "title": {
         "text": "Basic Sankey Diagram"
        }
       }
      },
      "image/png": "[encoded data removed]",
      "text/html": [
       "<div>                            <div id=\"67217dc2-bb1d-432f-b12b-210a9d320bc6\" class=\"plotly-graph-div\" style=\"height:525px; width:100%;\"></div>            <script type=\"text/javascript\">                require([\"plotly\"], function(Plotly) {                    window.PLOTLYENV=window.PLOTLYENV || {};                                    if (document.getElementById(\"67217dc2-bb1d-432f-b12b-210a9d320bc6\")) {                    Plotly.newPlot(                        \"67217dc2-bb1d-432f-b12b-210a9d320bc6\",                        [{\"link\":{\"source\":[0,0,0,0,0,0,0,0,0,0],\"target\":[1,2,3,4,5,6,7,8,9,10],\"value\":[1,1,1,1,1,1,1,1,1,1,1]},\"node\":{\"color\":\"blue\",\"label\":[\"art music\",\"21st century classical\",\"abstract\",\"abstract beats\",\"abstract idm\",\"acousmatic\",\"african-american classical\",\"ambient\",\"ambient black metal\",\"ambient folk\",\"ambient house\"],\"line\":{\"color\":\"yellow\",\"width\":0.5},\"pad\":15,\"thickness\":20},\"type\":\"sankey\"}],                        {\"font\":{\"size\":10},\"template\":{\"data\":{\"bar\":[{\"error_x\":{\"color\":\"#2a3f5f\"},\"error_y\":{\"color\":\"#2a3f5f\"},\"marker\":{\"line\":{\"color\":\"#E5ECF6\",\"width\":0.5},\"pattern\":{\"fillmode\":\"overlay\",\"size\":10,\"solidity\":0.2}},\"type\":\"bar\"}],\"barpolar\":[{\"marker\":{\"line\":{\"color\":\"#E5ECF6\",\"width\":0.5},\"pattern\":{\"fillmode\":\"overlay\",\"size\":10,\"solidity\":0.2}},\"type\":\"barpolar\"}],\"carpet\":[{\"aaxis\":{\"endlinecolor\":\"#2a3f5f\",\"gridcolor\":\"white\",\"linecolor\":\"white\",\"minorgridcolor\":\"white\",\"startlinecolor\":\"#2a3f5f\"},\"baxis\":{\"endlinecolor\":\"#2a3f5f\",\"gridcolor\":\"white\",\"linecolor\":\"white\",\"minorgridcolor\":\"white\",\"startlinecolor\":\"#2a3f5f\"},\"type\":\"carpet\"}],\"choropleth\":[{\"colorbar\":{\"outlinewidth\":0,\"ticks\":\"\"},\"type\":\"choropleth\"}],\"contour\":[{\"colorbar\":{\"outlinewidth\":0,\"ticks\":\"\"},\"colorscale\":[[0.0,\"#0d0887\"],[0.1111111111111111,\"#46039f\"],[0.2222222222222222,\"#7201a8\"],[0.3333333333333333,\"#9c179e\"],[0.4444444444444444,\"#bd3786\"],[0.5555555555555556,\"#d8576b\"],[0.6666666666666666,\"#ed7953\"],[0.7777777777777778,\"#fb9f3a\"],[0.8888888888888888,\"#fdca26\"],[1.0,\"#f0f921\"]],\"type\":\"contour\"}],\"contourcarpet\":[{\"colorbar\":{\"outlinewidth\":0,\"ticks\":\"\"},\"type\":\"contourcarpet\"}],\"heatmap\":[{\"colorbar\":{\"outlinewidth\":0,\"ticks\":\"\"},\"colorscale\":[[0.0,\"#0d0887\"],[0.1111111111111111,\"#46039f\"],[0.2222222222222222,\"#7201a8\"],[0.3333333333333333,\"#9c179e\"],[0.4444444444444444,\"#bd3786\"],[0.5555555555555556,\"#d8576b\"],[0.6666666666666666,\"#ed7953\"],[0.7777777777777778,\"#fb9f3a\"],[0.8888888888888888,\"#fdca26\"],[1.0,\"#f0f921\"]],\"type\":\"heatmap\"}],\"heatmapgl\":[{\"colorbar\":{\"outlinewidth\":0,\"ticks\":\"\"},\"colorscale\":[[0.0,\"#0d0887\"],[0.1111111111111111,\"#46039f\"],[0.2222222222222222,\"#7201a8\"],[0.3333333333333333,\"#9c179e\"],[0.4444444444444444,\"#bd3786\"],[0.5555555555555556,\"#d8576b\"],[0.6666666666666666,\"#ed7953\"],[0.7777777777777778,\"#fb9f3a\"],[0.8888888888888888,\"#fdca26\"],[1.0,\"#f0f921\"]],\"type\":\"heatmapgl\"}],\"histogram\":[{\"marker\":{\"pattern\":{\"fillmode\":\"overlay\",\"size\":10,\"solidity\":0.2}},\"type\":\"histogram\"}],\"histogram2d\":[{\"colorbar\":{\"outlinewidth\":0,\"ticks\":\"\"},\"colorscale\":[[0.0,\"#0d0887\"],[0.1111111111111111,\"#46039f\"],[0.2222222222222222,\"#7201a8\"],[0.3333333333333333,\"#9c179e\"],[0.4444444444444444,\"#bd3786\"],[0.5555555555555556,\"#d8576b\"],[0.6666666666666666,\"#ed7953\"],[0.7777777777777778,\"#fb9f3a\"],[0.8888888888888888,\"#fdca26\"],[1.0,\"#f0f921\"]],\"type\":\"histogram2d\"}],\"histogram2dcontour\":[{\"colorbar\":{\"outlinewidth\":0,\"ticks\":\"\"},\"colorscale\":[[0.0,\"#0d0887\"],[0.1111111111111111,\"#46039f\"],[0.2222222222222222,\"#7201a8\"],[0.3333333333333333,\"#9c179e\"],[0.4444444444444444,\"#bd3786\"],[0.5555555555555556,\"#d8576b\"],[0.6666666666666666,\"#ed7953\"],[0.7777777777777778,\"#fb9f3a\"],[0.8888888888888888,\"#fdca26\"],[1.0,\"#f0f921\"]],\"type\":\"histogram2dcontour\"}],\"mesh3d\":[{\"colorbar\":{\"outlinewidth\":0,\"ticks\":\"\"},\"type\":\"mesh3d\"}],\"parcoords\":[{\"line\":{\"colorbar\":{\"outlinewidth\":0,\"ticks\":\"\"}},\"type\":\"parcoords\"}],\"pie\":[{\"automargin\":true,\"type\":\"pie\"}],\"scatter\":[{\"marker\":{\"colorbar\":{\"outlinewidth\":0,\"ticks\":\"\"}},\"type\":\"scatter\"}],\"scatter3d\":[{\"line\":{\"colorbar\":{\"outlinewidth\":0,\"ticks\":\"\"}},\"marker\":{\"colorbar\":{\"outlinewidth\":0,\"ticks\":\"\"}},\"type\":\"scatter3d\"}],\"scattercarpet\":[{\"marker\":{\"colorbar\":{\"outlinewidth\":0,\"ticks\":\"\"}},\"type\":\"scattercarpet\"}],\"scattergeo\":[{\"marker\":{\"colorbar\":{\"outlinewidth\":0,\"ticks\":\"\"}},\"type\":\"scattergeo\"}],\"scattergl\":[{\"marker\":{\"colorbar\":{\"outlinewidth\":0,\"ticks\":\"\"}},\"type\":\"scattergl\"}],\"scattermapbox\":[{\"marker\":{\"colorbar\":{\"outlinewidth\":0,\"ticks\":\"\"}},\"type\":\"scattermapbox\"}],\"scatterpolar\":[{\"marker\":{\"colorbar\":{\"outlinewidth\":0,\"ticks\":\"\"}},\"type\":\"scatterpolar\"}],\"scatterpolargl\":[{\"marker\":{\"colorbar\":{\"outlinewidth\":0,\"ticks\":\"\"}},\"type\":\"scatterpolargl\"}],\"scatterternary\":[{\"marker\":{\"colorbar\":{\"outlinewidth\":0,\"ticks\":\"\"}},\"type\":\"scatterternary\"}],\"surface\":[{\"colorbar\":{\"outlinewidth\":0,\"ticks\":\"\"},\"colorscale\":[[0.0,\"#0d0887\"],[0.1111111111111111,\"#46039f\"],[0.2222222222222222,\"#7201a8\"],[0.3333333333333333,\"#9c179e\"],[0.4444444444444444,\"#bd3786\"],[0.5555555555555556,\"#d8576b\"],[0.6666666666666666,\"#ed7953\"],[0.7777777777777778,\"#fb9f3a\"],[0.8888888888888888,\"#fdca26\"],[1.0,\"#f0f921\"]],\"type\":\"surface\"}],\"table\":[{\"cells\":{\"fill\":{\"color\":\"#EBF0F8\"},\"line\":{\"color\":\"white\"}},\"header\":{\"fill\":{\"color\":\"#C8D4E3\"},\"line\":{\"color\":\"white\"}},\"type\":\"table\"}]},\"layout\":{\"annotationdefaults\":{\"arrowcolor\":\"#2a3f5f\",\"arrowhead\":0,\"arrowwidth\":1},\"autotypenumbers\":\"strict\",\"coloraxis\":{\"colorbar\":{\"outlinewidth\":0,\"ticks\":\"\"}},\"colorscale\":{\"diverging\":[[0,\"#8e0152\"],[0.1,\"#c51b7d\"],[0.2,\"#de77ae\"],[0.3,\"#f1b6da\"],[0.4,\"#fde0ef\"],[0.5,\"#f7f7f7\"],[0.6,\"#e6f5d0\"],[0.7,\"#b8e186\"],[0.8,\"#7fbc41\"],[0.9,\"#4d9221\"],[1,\"#276419\"]],\"sequential\":[[0.0,\"#0d0887\"],[0.1111111111111111,\"#46039f\"],[0.2222222222222222,\"#7201a8\"],[0.3333333333333333,\"#9c179e\"],[0.4444444444444444,\"#bd3786\"],[0.5555555555555556,\"#d8576b\"],[0.6666666666666666,\"#ed7953\"],[0.7777777777777778,\"#fb9f3a\"],[0.8888888888888888,\"#fdca26\"],[1.0,\"#f0f921\"]],\"sequentialminus\":[[0.0,\"#0d0887\"],[0.1111111111111111,\"#46039f\"],[0.2222222222222222,\"#7201a8\"],[0.3333333333333333,\"#9c179e\"],[0.4444444444444444,\"#bd3786\"],[0.5555555555555556,\"#d8576b\"],[0.6666666666666666,\"#ed7953\"],[0.7777777777777778,\"#fb9f3a\"],[0.8888888888888888,\"#fdca26\"],[1.0,\"#f0f921\"]]},\"colorway\":[\"#636efa\",\"#EF553B\",\"#00cc96\",\"#ab63fa\",\"#FFA15A\",\"#19d3f3\",\"#FF6692\",\"#B6E880\",\"#FF97FF\",\"#FECB52\"],\"font\":{\"color\":\"#2a3f5f\"},\"geo\":{\"bgcolor\":\"white\",\"lakecolor\":\"white\",\"landcolor\":\"#E5ECF6\",\"showlakes\":true,\"showland\":true,\"subunitcolor\":\"white\"},\"hoverlabel\":{\"align\":\"left\"},\"hovermode\":\"closest\",\"mapbox\":{\"style\":\"light\"},\"paper_bgcolor\":\"white\",\"plot_bgcolor\":\"#E5ECF6\",\"polar\":{\"angularaxis\":{\"gridcolor\":\"white\",\"linecolor\":\"white\",\"ticks\":\"\"},\"bgcolor\":\"#E5ECF6\",\"radialaxis\":{\"gridcolor\":\"white\",\"linecolor\":\"white\",\"ticks\":\"\"}},\"scene\":{\"xaxis\":{\"backgroundcolor\":\"#E5ECF6\",\"gridcolor\":\"white\",\"gridwidth\":2,\"linecolor\":\"white\",\"showbackground\":true,\"ticks\":\"\",\"zerolinecolor\":\"white\"},\"yaxis\":{\"backgroundcolor\":\"#E5ECF6\",\"gridcolor\":\"white\",\"gridwidth\":2,\"linecolor\":\"white\",\"showbackground\":true,\"ticks\":\"\",\"zerolinecolor\":\"white\"},\"zaxis\":{\"backgroundcolor\":\"#E5ECF6\",\"gridcolor\":\"white\",\"gridwidth\":2,\"linecolor\":\"white\",\"showbackground\":true,\"ticks\":\"\",\"zerolinecolor\":\"white\"}},\"shapedefaults\":{\"line\":{\"color\":\"#2a3f5f\"}},\"ternary\":{\"aaxis\":{\"gridcolor\":\"white\",\"linecolor\":\"white\",\"ticks\":\"\"},\"baxis\":{\"gridcolor\":\"white\",\"linecolor\":\"white\",\"ticks\":\"\"},\"bgcolor\":\"#E5ECF6\",\"caxis\":{\"gridcolor\":\"white\",\"linecolor\":\"white\",\"ticks\":\"\"}},\"title\":{\"x\":0.05},\"xaxis\":{\"automargin\":true,\"gridcolor\":\"white\",\"linecolor\":\"white\",\"ticks\":\"\",\"title\":{\"standoff\":15},\"zerolinecolor\":\"white\",\"zerolinewidth\":2},\"yaxis\":{\"automargin\":true,\"gridcolor\":\"white\",\"linecolor\":\"white\",\"ticks\":\"\",\"title\":{\"standoff\":15},\"zerolinecolor\":\"white\",\"zerolinewidth\":2}}},\"title\":{\"text\":\"Basic Sankey Diagram\"}},                        {\"responsive\": true}                    ).then(function(){\n",
       "                            \n",
       "var gd = document.getElementById('67217dc2-bb1d-432f-b12b-210a9d320bc6');\n",
       "var x = new MutationObserver(function (mutations, observer) {{\n",
       "        var display = window.getComputedStyle(gd).display;\n",
       "        if (!display || display === 'none') {{\n",
       "            console.log([gd, 'removed!']);\n",
       "            Plotly.purge(gd);\n",
       "            observer.disconnect();\n",
       "        }}\n",
       "}});\n",
       "\n",
       "// Listen for the removal of the full notebook cells\n",
       "var notebookContainer = gd.closest('#notebook-container');\n",
       "if (notebookContainer) {{\n",
       "    x.observe(notebookContainer, {childList: true});\n",
       "}}\n",
       "\n",
       "// Listen for the clearing of the current output cell\n",
       "var outputEl = gd.closest('.output');\n",
       "if (outputEl) {{\n",
       "    x.observe(outputEl, {childList: true});\n",
       "}}\n",
       "\n",
       "                        })                };                });            </script>        </div>"
      ]
     },
     "metadata": {},
     "output_type": "display_data"
    }
   ],
   "source": [
    "genres_dict = dict()\n",
    "source = list()\n",
    "target = list()\n",
    "label = list()\n",
    "\n",
    "top_genres = genres_df['top_genre'].unique()\n",
    "for parent_genre in top_genres[:1]:\n",
    "    parent_genre_df = genres_df.loc[genres_df['top_genre'] == parent_genre]\n",
    "    sub_genres = parent_genre_df['spotify_genre'].unique()[:10]\n",
    "    genres_dict[parent_genre] = list(sub_genres)\n",
    "    for sub_genre in sub_genres:\n",
    "        genres_dict[sub_genre] = list()\n",
    "\n",
    "label = list(genres_dict.keys())\n",
    "value = [1 for x in range(len(label))]\n",
    "\n",
    "for parent_genre, sub_genres in genres_dict.items():\n",
    "    parent_index = label.index(parent_genre)\n",
    "    for sub_genre in sub_genres:\n",
    "        sub_index = label.index(sub_genre)\n",
    "        source.append(parent_index)\n",
    "        target.append(sub_index)\n",
    "        \n",
    "fig = go.Figure(data=[go.Sankey(\n",
    "    node = dict(\n",
    "      pad = 15,\n",
    "      thickness = 20,\n",
    "      line = dict(color = \"yellow\", width = 0.5),\n",
    "      label = label,\n",
    "      color = \"blue\"\n",
    "    ),\n",
    "    link = dict(\n",
    "      source = source,\n",
    "      target = target,\n",
    "      value = value,\n",
    "  ))])\n",
    "\n",
    "fig.update_layout(title_text=\"Basic Sankey Diagram\", font_size=10)\n",
    "fig.show()"
   ]
  },
  {
   "cell_type": "markdown",
   "id": "2134b743-2eef-469a-a365-1fa589249c87",
   "metadata": {},
   "source": [
    "---\n",
    "---"
   ]
  },
  {
   "cell_type": "code",
   "execution_count": 80,
   "id": "ef475293-b184-496f-995d-8f8218b7ef87",
   "metadata": {},
   "outputs": [
    {
     "data": {
      "text/html": [
       "<div>\n",
       "<style scoped>\n",
       "    .dataframe tbody tr th:only-of-type {\n",
       "        vertical-align: middle;\n",
       "    }\n",
       "\n",
       "    .dataframe tbody tr th {\n",
       "        vertical-align: top;\n",
       "    }\n",
       "\n",
       "    .dataframe thead th {\n",
       "        text-align: right;\n",
       "    }\n",
       "</style>\n",
       "<table border=\"1\" class=\"dataframe\">\n",
       "  <thead>\n",
       "    <tr style=\"text-align: right;\">\n",
       "      <th></th>\n",
       "      <th>artist_name</th>\n",
       "      <th>spotify_name</th>\n",
       "      <th>spotify_id</th>\n",
       "      <th>spotify_popularity</th>\n",
       "      <th>spotify_followers</th>\n",
       "      <th>spotify_listeners</th>\n",
       "    </tr>\n",
       "    <tr>\n",
       "      <th>artist_id</th>\n",
       "      <th></th>\n",
       "      <th></th>\n",
       "      <th></th>\n",
       "      <th></th>\n",
       "      <th></th>\n",
       "      <th></th>\n",
       "    </tr>\n",
       "  </thead>\n",
       "  <tbody>\n",
       "    <tr>\n",
       "      <th>/artists/10119580-22deg-halo</th>\n",
       "      <td>22° Halo</td>\n",
       "      <td>22º Halo</td>\n",
       "      <td>6p355yiyJc67iSNeWLM8WH</td>\n",
       "      <td>11.0</td>\n",
       "      <td>1067.0</td>\n",
       "      <td>1500.0</td>\n",
       "    </tr>\n",
       "    <tr>\n",
       "      <th>/artists/9804639-22-halo</th>\n",
       "      <td>22 Halo</td>\n",
       "      <td>22º Halo</td>\n",
       "      <td>6p355yiyJc67iSNeWLM8WH</td>\n",
       "      <td>11.0</td>\n",
       "      <td>1067.0</td>\n",
       "      <td>1500.0</td>\n",
       "    </tr>\n",
       "    <tr>\n",
       "      <th>/artists/7309389-a-crashed-blackbird-rosehip</th>\n",
       "      <td>A Crashed Blackbird Rosehip</td>\n",
       "      <td>A Crashed Blackbird Called Rosehip</td>\n",
       "      <td>1NKizqgwDCXtUbMHeqA2Tv</td>\n",
       "      <td>6.0</td>\n",
       "      <td>88.0</td>\n",
       "      <td>635.0</td>\n",
       "    </tr>\n",
       "    <tr>\n",
       "      <th>/artists/6506249-a-crashed-blackbird-called-rosehip</th>\n",
       "      <td>A Crashed Blackbird Called Rosehip</td>\n",
       "      <td>A Crashed Blackbird Called Rosehip</td>\n",
       "      <td>1NKizqgwDCXtUbMHeqA2Tv</td>\n",
       "      <td>6.0</td>\n",
       "      <td>88.0</td>\n",
       "      <td>635.0</td>\n",
       "    </tr>\n",
       "    <tr>\n",
       "      <th>/artists/5990259-aspell</th>\n",
       "      <td>A-Spell</td>\n",
       "      <td>A.Spell</td>\n",
       "      <td>4zkmCFtAa1ETWHoZ2sNGvO</td>\n",
       "      <td>0.0</td>\n",
       "      <td>25.0</td>\n",
       "      <td>9.0</td>\n",
       "    </tr>\n",
       "    <tr>\n",
       "      <th>...</th>\n",
       "      <td>...</td>\n",
       "      <td>...</td>\n",
       "      <td>...</td>\n",
       "      <td>...</td>\n",
       "      <td>...</td>\n",
       "      <td>...</td>\n",
       "    </tr>\n",
       "    <tr>\n",
       "      <th>/artists/531180-za</th>\n",
       "      <td>Za!</td>\n",
       "      <td>Zaz</td>\n",
       "      <td>1mbgj8ERPs8lWi7t5cYrdy</td>\n",
       "      <td>65.0</td>\n",
       "      <td>1195585.0</td>\n",
       "      <td>2100000.0</td>\n",
       "    </tr>\n",
       "    <tr>\n",
       "      <th>/artists/25827-zippo</th>\n",
       "      <td>Zippo</td>\n",
       "      <td>Zippo</td>\n",
       "      <td>7Int2nVSzSBL8UDty3jGAR</td>\n",
       "      <td>23.0</td>\n",
       "      <td>1363.0</td>\n",
       "      <td>1300.0</td>\n",
       "    </tr>\n",
       "    <tr>\n",
       "      <th>/artists/7284179-zippo-italy</th>\n",
       "      <td>Zippo</td>\n",
       "      <td>Zippo</td>\n",
       "      <td>7Int2nVSzSBL8UDty3jGAR</td>\n",
       "      <td>23.0</td>\n",
       "      <td>1363.0</td>\n",
       "      <td>1300.0</td>\n",
       "    </tr>\n",
       "    <tr>\n",
       "      <th>/artists/1095043-zombiezombie</th>\n",
       "      <td>Zombie-Zombie</td>\n",
       "      <td>Zombie Zombie</td>\n",
       "      <td>0HVcyKnveIOLkJdAGsE1pk</td>\n",
       "      <td>25.0</td>\n",
       "      <td>10524.0</td>\n",
       "      <td>19400.0</td>\n",
       "    </tr>\n",
       "    <tr>\n",
       "      <th>/artists/590994-zombie-zombie</th>\n",
       "      <td>Zombie Zombie</td>\n",
       "      <td>Zombie Zombie</td>\n",
       "      <td>0HVcyKnveIOLkJdAGsE1pk</td>\n",
       "      <td>25.0</td>\n",
       "      <td>10524.0</td>\n",
       "      <td>19400.0</td>\n",
       "    </tr>\n",
       "  </tbody>\n",
       "</table>\n",
       "<p>928 rows × 6 columns</p>\n",
       "</div>"
      ],
      "text/plain": [
       "                                                                           artist_name  \\\n",
       "artist_id                                                                                \n",
       "/artists/10119580-22deg-halo                                                  22° Halo   \n",
       "/artists/9804639-22-halo                                                       22 Halo   \n",
       "/artists/7309389-a-crashed-blackbird-rosehip               A Crashed Blackbird Rosehip   \n",
       "/artists/6506249-a-crashed-blackbird-called-ros...  A Crashed Blackbird Called Rosehip   \n",
       "/artists/5990259-aspell                                                        A-Spell   \n",
       "...                                                                                ...   \n",
       "/artists/531180-za                                                                 Za!   \n",
       "/artists/25827-zippo                                                             Zippo   \n",
       "/artists/7284179-zippo-italy                                                    Zippo    \n",
       "/artists/1095043-zombiezombie                                            Zombie-Zombie   \n",
       "/artists/590994-zombie-zombie                                            Zombie Zombie   \n",
       "\n",
       "                                                                          spotify_name  \\\n",
       "artist_id                                                                                \n",
       "/artists/10119580-22deg-halo                                                  22º Halo   \n",
       "/artists/9804639-22-halo                                                      22º Halo   \n",
       "/artists/7309389-a-crashed-blackbird-rosehip        A Crashed Blackbird Called Rosehip   \n",
       "/artists/6506249-a-crashed-blackbird-called-ros...  A Crashed Blackbird Called Rosehip   \n",
       "/artists/5990259-aspell                                                        A.Spell   \n",
       "...                                                                                ...   \n",
       "/artists/531180-za                                                                 Zaz   \n",
       "/artists/25827-zippo                                                             Zippo   \n",
       "/artists/7284179-zippo-italy                                                     Zippo   \n",
       "/artists/1095043-zombiezombie                                            Zombie Zombie   \n",
       "/artists/590994-zombie-zombie                                            Zombie Zombie   \n",
       "\n",
       "                                                                spotify_id  \\\n",
       "artist_id                                                                    \n",
       "/artists/10119580-22deg-halo                        6p355yiyJc67iSNeWLM8WH   \n",
       "/artists/9804639-22-halo                            6p355yiyJc67iSNeWLM8WH   \n",
       "/artists/7309389-a-crashed-blackbird-rosehip        1NKizqgwDCXtUbMHeqA2Tv   \n",
       "/artists/6506249-a-crashed-blackbird-called-ros...  1NKizqgwDCXtUbMHeqA2Tv   \n",
       "/artists/5990259-aspell                             4zkmCFtAa1ETWHoZ2sNGvO   \n",
       "...                                                                    ...   \n",
       "/artists/531180-za                                  1mbgj8ERPs8lWi7t5cYrdy   \n",
       "/artists/25827-zippo                                7Int2nVSzSBL8UDty3jGAR   \n",
       "/artists/7284179-zippo-italy                        7Int2nVSzSBL8UDty3jGAR   \n",
       "/artists/1095043-zombiezombie                       0HVcyKnveIOLkJdAGsE1pk   \n",
       "/artists/590994-zombie-zombie                       0HVcyKnveIOLkJdAGsE1pk   \n",
       "\n",
       "                                                    spotify_popularity  \\\n",
       "artist_id                                                                \n",
       "/artists/10119580-22deg-halo                                      11.0   \n",
       "/artists/9804639-22-halo                                          11.0   \n",
       "/artists/7309389-a-crashed-blackbird-rosehip                       6.0   \n",
       "/artists/6506249-a-crashed-blackbird-called-ros...                 6.0   \n",
       "/artists/5990259-aspell                                            0.0   \n",
       "...                                                                ...   \n",
       "/artists/531180-za                                                65.0   \n",
       "/artists/25827-zippo                                              23.0   \n",
       "/artists/7284179-zippo-italy                                      23.0   \n",
       "/artists/1095043-zombiezombie                                     25.0   \n",
       "/artists/590994-zombie-zombie                                     25.0   \n",
       "\n",
       "                                                    spotify_followers  \\\n",
       "artist_id                                                               \n",
       "/artists/10119580-22deg-halo                                   1067.0   \n",
       "/artists/9804639-22-halo                                       1067.0   \n",
       "/artists/7309389-a-crashed-blackbird-rosehip                     88.0   \n",
       "/artists/6506249-a-crashed-blackbird-called-ros...               88.0   \n",
       "/artists/5990259-aspell                                          25.0   \n",
       "...                                                               ...   \n",
       "/artists/531180-za                                          1195585.0   \n",
       "/artists/25827-zippo                                           1363.0   \n",
       "/artists/7284179-zippo-italy                                   1363.0   \n",
       "/artists/1095043-zombiezombie                                 10524.0   \n",
       "/artists/590994-zombie-zombie                                 10524.0   \n",
       "\n",
       "                                                    spotify_listeners  \n",
       "artist_id                                                              \n",
       "/artists/10119580-22deg-halo                                   1500.0  \n",
       "/artists/9804639-22-halo                                       1500.0  \n",
       "/artists/7309389-a-crashed-blackbird-rosehip                    635.0  \n",
       "/artists/6506249-a-crashed-blackbird-called-ros...              635.0  \n",
       "/artists/5990259-aspell                                           9.0  \n",
       "...                                                               ...  \n",
       "/artists/531180-za                                          2100000.0  \n",
       "/artists/25827-zippo                                           1300.0  \n",
       "/artists/7284179-zippo-italy                                   1300.0  \n",
       "/artists/1095043-zombiezombie                                 19400.0  \n",
       "/artists/590994-zombie-zombie                                 19400.0  \n",
       "\n",
       "[928 rows x 6 columns]"
      ]
     },
     "execution_count": 80,
     "metadata": {},
     "output_type": "execute_result"
    }
   ],
   "source": [
    "artists_multiple_matches_df = artists_df.loc[idx_list].sort_values(by=['spotify_name'])\n",
    "artists_multiple_matches_df.to_csv('data/spotify/data_spotify_artists_multiple_matches.csv', encoding='utf-8')\n",
    "artists_multiple_matches_df"
   ]
  }
 ],
 "metadata": {
  "kernelspec": {
   "display_name": "Python 3 (ipykernel)",
   "language": "python",
   "name": "python3"
  },
  "language_info": {
   "codemirror_mode": {
    "name": "ipython",
    "version": 3
   },
   "file_extension": ".py",
   "mimetype": "text/x-python",
   "name": "python",
   "nbconvert_exporter": "python",
   "pygments_lexer": "ipython3",
   "version": "3.8.10"
  }
 },
 "nbformat": 4,
 "nbformat_minor": 5
}
