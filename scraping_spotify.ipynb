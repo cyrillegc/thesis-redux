{
 "cells": [
  {
   "cell_type": "code",
   "execution_count": 1,
   "id": "1169d969-b622-4a89-89c0-ac2ae3f568b8",
   "metadata": {},
   "outputs": [],
   "source": [
    "import pandas as pd\n",
    "import numpy as np\n",
    "import spotipy\n",
    "from spotipy.oauth2 import SpotifyClientCredentials\n",
    "import time\n",
    "from difflib import SequenceMatcher\n",
    "from tqdm import tqdm\n",
    "from bs4 import BeautifulSoup\n",
    "import requests\n",
    "import re"
   ]
  },
  {
   "cell_type": "code",
   "execution_count": 2,
   "id": "23498d65-af85-44b1-a867-dee5e095c65e",
   "metadata": {},
   "outputs": [],
   "source": [
    "APP_CLIENT_ID = \"668e0c3c0e374ae9baeb91ddcd72d537\"\n",
    "APP_CLIENT_SECRET = \"b14c0ec7a011407aa78cb688151a69a7\"\n",
    "CRAWL_MATCH_FOLDER = 'crawl/spotify_matching/'\n",
    "CRAWL_SPOTIFY_FOLDER = 'crawl/spotify_artists/'\n",
    "CRAWL_TRACKS_FOLDER = 'crawl/spotify_tracks/'\n",
    "\n",
    "sp = spotipy.Spotify(auth_manager=SpotifyClientCredentials(client_id=APP_CLIENT_ID, client_secret=APP_CLIENT_SECRET))"
   ]
  },
  {
   "cell_type": "markdown",
   "id": "a9aa9b72-1aed-4ea5-91ee-3aa4d1243d65",
   "metadata": {
    "jp-MarkdownHeadingCollapsed": true,
    "tags": []
   },
   "source": [
    "---\n",
    "## Match songkick artist with spotify artist\n",
    "---"
   ]
  },
  {
   "cell_type": "code",
   "execution_count": 3,
   "id": "31d6d96e-8183-49c1-95b7-81dd7a11ad31",
   "metadata": {},
   "outputs": [
    {
     "data": {
      "text/html": [
       "<div>\n",
       "<style scoped>\n",
       "    .dataframe tbody tr th:only-of-type {\n",
       "        vertical-align: middle;\n",
       "    }\n",
       "\n",
       "    .dataframe tbody tr th {\n",
       "        vertical-align: top;\n",
       "    }\n",
       "\n",
       "    .dataframe thead th {\n",
       "        text-align: right;\n",
       "    }\n",
       "</style>\n",
       "<table border=\"1\" class=\"dataframe\">\n",
       "  <thead>\n",
       "    <tr style=\"text-align: right;\">\n",
       "      <th></th>\n",
       "      <th>artist_name</th>\n",
       "    </tr>\n",
       "  </thead>\n",
       "  <tbody>\n",
       "    <tr>\n",
       "      <th>/artists/3684861-chk-chk-chk</th>\n",
       "      <td>!!! (Chk Chk Chk)</td>\n",
       "    </tr>\n",
       "    <tr>\n",
       "      <th>/artists/694091-kadebostan</th>\n",
       "      <td>!!!Kadebostan!!!</td>\n",
       "    </tr>\n",
       "    <tr>\n",
       "      <th>/artists/5929284-brothers-in-bamako</th>\n",
       "      <td>\"Brothers In Bamako\"</td>\n",
       "    </tr>\n",
       "    <tr>\n",
       "      <th>/artists/8704378-floyd-division-the-austrian-pink-floyd-tribute-band</th>\n",
       "      <td>\"Floyd Division\" The Austrian Pink Floyd Tribu...</td>\n",
       "    </tr>\n",
       "    <tr>\n",
       "      <th>/artists/7172094-jazzetcetera-stewy-von-wattenwyl-group-feat-lisette-spinnler</th>\n",
       "      <td>\"Jazz...etcetera\" Stewy von Wattenwyl Group,  ...</td>\n",
       "    </tr>\n",
       "    <tr>\n",
       "      <th>...</th>\n",
       "      <td>...</td>\n",
       "    </tr>\n",
       "    <tr>\n",
       "      <th>/artists/4301-and-you-will-know-us-by-the-trail-of-dead</th>\n",
       "      <td>…And You Will Know Us by the Trail of Dead</td>\n",
       "    </tr>\n",
       "    <tr>\n",
       "      <th>/artists/1099500-euuroshima</th>\n",
       "      <td>€urOshima</td>\n",
       "    </tr>\n",
       "    <tr>\n",
       "      <th>/artists/9573874-belize-it</th>\n",
       "      <td>≈ Belize ≈</td>\n",
       "    </tr>\n",
       "    <tr>\n",
       "      <th>/artists/8889739-luo-chai-cao-yuan-wwww-prairie-wwww</th>\n",
       "      <td>落差草原 WWWW / Prairie WWWW</td>\n",
       "    </tr>\n",
       "    <tr>\n",
       "      <th>/artists/5427898-heymoonshaker</th>\n",
       "      <td>﻿﻿heymoonshaker</td>\n",
       "    </tr>\n",
       "  </tbody>\n",
       "</table>\n",
       "<p>32231 rows × 1 columns</p>\n",
       "</div>"
      ],
      "text/plain": [
       "                                                                                          artist_name\n",
       "/artists/3684861-chk-chk-chk                                                        !!! (Chk Chk Chk)\n",
       "/artists/694091-kadebostan                                                           !!!Kadebostan!!!\n",
       "/artists/5929284-brothers-in-bamako                                              \"Brothers In Bamako\"\n",
       "/artists/8704378-floyd-division-the-austrian-pi...  \"Floyd Division\" The Austrian Pink Floyd Tribu...\n",
       "/artists/7172094-jazzetcetera-stewy-von-wattenw...  \"Jazz...etcetera\" Stewy von Wattenwyl Group,  ...\n",
       "...                                                                                               ...\n",
       "/artists/4301-and-you-will-know-us-by-the-trail...         …And You Will Know Us by the Trail of Dead\n",
       "/artists/1099500-euuroshima                                                                 €urOshima\n",
       "/artists/9573874-belize-it                                                                ≈ Belize ≈ \n",
       "/artists/8889739-luo-chai-cao-yuan-wwww-prairie...                           落差草原 WWWW / Prairie WWWW\n",
       "/artists/5427898-heymoonshaker                                                        ﻿﻿heymoonshaker\n",
       "\n",
       "[32231 rows x 1 columns]"
      ]
     },
     "execution_count": 3,
     "metadata": {},
     "output_type": "execute_result"
    }
   ],
   "source": [
    "with open('data/songkick/data_songkick_artists.csv', encoding='utf-8') as artists_file:\n",
    "    artists_df = pd.read_csv(artists_file, index_col=0)\n",
    "\n",
    "artists_df"
   ]
  },
  {
   "cell_type": "code",
   "execution_count": 4,
   "id": "4fafdef8-4cdd-4c53-90c0-6ee8f07f83c0",
   "metadata": {},
   "outputs": [],
   "source": [
    "# get the similarity between two strings\n",
    "\n",
    "def get_similarity(a, b):\n",
    "    return SequenceMatcher(None, a, b).ratio()"
   ]
  },
  {
   "cell_type": "code",
   "execution_count": 5,
   "id": "3f141ab6-6785-4c18-b2bc-f55e3287f9ed",
   "metadata": {},
   "outputs": [],
   "source": [
    "# save data at regular interval during process\n",
    "\n",
    "def save_temp_data(data_df, save_path):\n",
    "    data_df.to_csv(save_path, encoding='utf-8')\n",
    "    print(save_path)"
   ]
  },
  {
   "cell_type": "code",
   "execution_count": 8,
   "id": "637234ad-26df-48ea-94d1-bf4aa2944e3a",
   "metadata": {},
   "outputs": [],
   "source": [
    "# match songkick artist with a spotify artist\n",
    "\n",
    "def search_spotify_artist(artist_name_lower, results_df):\n",
    "    # query the artist name through spotify search engine\n",
    "    results = sp.search(q=artist_name_lower, type='artist', limit=50, market='NO')\n",
    "    artist_query_list = list()\n",
    "    \n",
    "    for result in results['artists']['items']:\n",
    "        # find the similarity between the spotify name and the query name\n",
    "        result_name = result['name']\n",
    "        result_name_lower = result_name.lower()\n",
    "        similarity = round(get_similarity(result_name_lower, artist_name_lower), 2)\n",
    "        #print(result_name_lower, artist_name_lower, similarity)\n",
    "        \n",
    "        artist_query_list.append({\n",
    "            'spotify_name': result_name,\n",
    "            'spotify_id': result['id'],\n",
    "            'spotify_similarity': similarity,\n",
    "            'spotify_popularity': result['popularity'],\n",
    "        })\n",
    "        \n",
    "    # if the name yields results\n",
    "    if artist_query_list:\n",
    "        # get the spotify artist whose name is closer to the query and whose spotify popularity is the highest\n",
    "        artist_match = sorted(artist_query_list, key=lambda k: (k['spotify_similarity'], k['spotify_popularity']), reverse=True)[0]\n",
    "        #print(artist_query_list)\n",
    "        #print(artist_match)\n",
    "        for column, value in artist_match.items():\n",
    "            results_df.loc[idx, column] = value\n",
    "            \n",
    "    return results_df"
   ]
  },
  {
   "cell_type": "code",
   "execution_count": 45,
   "id": "9a95930a-b5c6-4c36-bd85-fda9be91e1de",
   "metadata": {},
   "outputs": [
    {
     "data": {
      "text/plain": [
       "20"
      ]
     },
     "execution_count": 45,
     "metadata": {},
     "output_type": "execute_result"
    }
   ],
   "source": [
    "artists_df.index.get_loc(artists_df.loc['/artists/642733-nesseria'].name)"
   ]
  },
  {
   "cell_type": "code",
   "execution_count": 9,
   "id": "c151604a-cfcf-4b5c-a6f9-3c4e1078ea9f",
   "metadata": {
    "tags": []
   },
   "outputs": [
    {
     "name": "stderr",
     "output_type": "stream",
     "text": [
      "100it [01:51,  1.14s/it]"
     ]
    },
    {
     "name": "stdout",
     "output_type": "stream",
     "text": [
      "crawl/spotify_matching/temp_data_artists_matched.csv\n"
     ]
    },
    {
     "name": "stderr",
     "output_type": "stream",
     "text": [
      "200it [03:42,  1.13s/it]"
     ]
    },
    {
     "name": "stdout",
     "output_type": "stream",
     "text": [
      "crawl/spotify_matching/temp_data_artists_matched.csv\n"
     ]
    },
    {
     "name": "stderr",
     "output_type": "stream",
     "text": [
      "300it [05:36,  1.13s/it]"
     ]
    },
    {
     "name": "stdout",
     "output_type": "stream",
     "text": [
      "crawl/spotify_matching/temp_data_artists_matched.csv\n"
     ]
    },
    {
     "name": "stderr",
     "output_type": "stream",
     "text": [
      "400it [07:28,  1.14s/it]"
     ]
    },
    {
     "name": "stdout",
     "output_type": "stream",
     "text": [
      "crawl/spotify_matching/temp_data_artists_matched.csv\n"
     ]
    },
    {
     "name": "stderr",
     "output_type": "stream",
     "text": [
      "500it [09:19,  1.12s/it]"
     ]
    },
    {
     "name": "stdout",
     "output_type": "stream",
     "text": [
      "crawl/spotify_matching/temp_data_artists_matched.csv\n"
     ]
    },
    {
     "name": "stderr",
     "output_type": "stream",
     "text": [
      "600it [11:10,  1.12s/it]"
     ]
    },
    {
     "name": "stdout",
     "output_type": "stream",
     "text": [
      "crawl/spotify_matching/temp_data_artists_matched.csv\n"
     ]
    },
    {
     "name": "stderr",
     "output_type": "stream",
     "text": [
      "700it [13:01,  1.13s/it]"
     ]
    },
    {
     "name": "stdout",
     "output_type": "stream",
     "text": [
      "crawl/spotify_matching/temp_data_artists_matched.csv\n"
     ]
    },
    {
     "name": "stderr",
     "output_type": "stream",
     "text": [
      "800it [14:51,  1.14s/it]"
     ]
    },
    {
     "name": "stdout",
     "output_type": "stream",
     "text": [
      "crawl/spotify_matching/temp_data_artists_matched.csv\n"
     ]
    },
    {
     "name": "stderr",
     "output_type": "stream",
     "text": [
      "900it [16:43,  1.16s/it]"
     ]
    },
    {
     "name": "stdout",
     "output_type": "stream",
     "text": [
      "crawl/spotify_matching/temp_data_artists_matched.csv\n"
     ]
    },
    {
     "name": "stderr",
     "output_type": "stream",
     "text": [
      "1000it [18:34,  1.14s/it]"
     ]
    },
    {
     "name": "stdout",
     "output_type": "stream",
     "text": [
      "crawl/spotify_matching/temp_data_artists_matched.csv\n"
     ]
    },
    {
     "name": "stderr",
     "output_type": "stream",
     "text": [
      "1100it [20:25,  1.14s/it]"
     ]
    },
    {
     "name": "stdout",
     "output_type": "stream",
     "text": [
      "crawl/spotify_matching/temp_data_artists_matched.csv\n"
     ]
    },
    {
     "name": "stderr",
     "output_type": "stream",
     "text": [
      "1200it [22:16,  1.15s/it]"
     ]
    },
    {
     "name": "stdout",
     "output_type": "stream",
     "text": [
      "crawl/spotify_matching/temp_data_artists_matched.csv\n"
     ]
    },
    {
     "name": "stderr",
     "output_type": "stream",
     "text": [
      "1300it [24:07,  1.14s/it]"
     ]
    },
    {
     "name": "stdout",
     "output_type": "stream",
     "text": [
      "crawl/spotify_matching/temp_data_artists_matched.csv\n"
     ]
    },
    {
     "name": "stderr",
     "output_type": "stream",
     "text": [
      "1400it [25:59,  1.14s/it]"
     ]
    },
    {
     "name": "stdout",
     "output_type": "stream",
     "text": [
      "crawl/spotify_matching/temp_data_artists_matched.csv\n"
     ]
    },
    {
     "name": "stderr",
     "output_type": "stream",
     "text": [
      "1500it [27:50,  1.14s/it]"
     ]
    },
    {
     "name": "stdout",
     "output_type": "stream",
     "text": [
      "crawl/spotify_matching/temp_data_artists_matched.csv\n"
     ]
    },
    {
     "name": "stderr",
     "output_type": "stream",
     "text": [
      "1600it [29:41,  1.13s/it]"
     ]
    },
    {
     "name": "stdout",
     "output_type": "stream",
     "text": [
      "crawl/spotify_matching/temp_data_artists_matched.csv\n"
     ]
    },
    {
     "name": "stderr",
     "output_type": "stream",
     "text": [
      "1700it [31:31,  1.14s/it]"
     ]
    },
    {
     "name": "stdout",
     "output_type": "stream",
     "text": [
      "crawl/spotify_matching/temp_data_artists_matched.csv\n"
     ]
    },
    {
     "name": "stderr",
     "output_type": "stream",
     "text": [
      "1800it [33:22,  1.13s/it]"
     ]
    },
    {
     "name": "stdout",
     "output_type": "stream",
     "text": [
      "crawl/spotify_matching/temp_data_artists_matched.csv\n"
     ]
    },
    {
     "name": "stderr",
     "output_type": "stream",
     "text": [
      "1900it [35:13,  1.13s/it]"
     ]
    },
    {
     "name": "stdout",
     "output_type": "stream",
     "text": [
      "crawl/spotify_matching/temp_data_artists_matched.csv\n"
     ]
    },
    {
     "name": "stderr",
     "output_type": "stream",
     "text": [
      "2000it [37:04,  1.13s/it]"
     ]
    },
    {
     "name": "stdout",
     "output_type": "stream",
     "text": [
      "crawl/spotify_matching/temp_data_artists_matched.csv\n"
     ]
    },
    {
     "name": "stderr",
     "output_type": "stream",
     "text": [
      "2100it [38:55,  1.14s/it]"
     ]
    },
    {
     "name": "stdout",
     "output_type": "stream",
     "text": [
      "crawl/spotify_matching/temp_data_artists_matched.csv\n"
     ]
    },
    {
     "name": "stderr",
     "output_type": "stream",
     "text": [
      "2200it [40:47,  1.13s/it]"
     ]
    },
    {
     "name": "stdout",
     "output_type": "stream",
     "text": [
      "crawl/spotify_matching/temp_data_artists_matched.csv\n"
     ]
    },
    {
     "name": "stderr",
     "output_type": "stream",
     "text": [
      "2300it [42:38,  1.13s/it]"
     ]
    },
    {
     "name": "stdout",
     "output_type": "stream",
     "text": [
      "crawl/spotify_matching/temp_data_artists_matched.csv\n"
     ]
    },
    {
     "name": "stderr",
     "output_type": "stream",
     "text": [
      "2400it [44:32,  1.13s/it]"
     ]
    },
    {
     "name": "stdout",
     "output_type": "stream",
     "text": [
      "crawl/spotify_matching/temp_data_artists_matched.csv\n"
     ]
    },
    {
     "name": "stderr",
     "output_type": "stream",
     "text": [
      "2500it [46:23,  1.12s/it]"
     ]
    },
    {
     "name": "stdout",
     "output_type": "stream",
     "text": [
      "crawl/spotify_matching/temp_data_artists_matched.csv\n"
     ]
    },
    {
     "name": "stderr",
     "output_type": "stream",
     "text": [
      "2600it [48:14,  1.14s/it]"
     ]
    },
    {
     "name": "stdout",
     "output_type": "stream",
     "text": [
      "crawl/spotify_matching/temp_data_artists_matched.csv\n"
     ]
    },
    {
     "name": "stderr",
     "output_type": "stream",
     "text": [
      "2700it [50:05,  1.16s/it]"
     ]
    },
    {
     "name": "stdout",
     "output_type": "stream",
     "text": [
      "crawl/spotify_matching/temp_data_artists_matched.csv\n"
     ]
    },
    {
     "name": "stderr",
     "output_type": "stream",
     "text": [
      "2800it [51:56,  1.13s/it]"
     ]
    },
    {
     "name": "stdout",
     "output_type": "stream",
     "text": [
      "crawl/spotify_matching/temp_data_artists_matched.csv\n"
     ]
    },
    {
     "name": "stderr",
     "output_type": "stream",
     "text": [
      "2900it [53:47,  1.13s/it]"
     ]
    },
    {
     "name": "stdout",
     "output_type": "stream",
     "text": [
      "crawl/spotify_matching/temp_data_artists_matched.csv\n"
     ]
    },
    {
     "name": "stderr",
     "output_type": "stream",
     "text": [
      "3000it [55:38,  1.15s/it]"
     ]
    },
    {
     "name": "stdout",
     "output_type": "stream",
     "text": [
      "crawl/spotify_matching/temp_data_artists_matched.csv\n"
     ]
    },
    {
     "name": "stderr",
     "output_type": "stream",
     "text": [
      "3100it [57:28,  1.13s/it]"
     ]
    },
    {
     "name": "stdout",
     "output_type": "stream",
     "text": [
      "crawl/spotify_matching/temp_data_artists_matched.csv\n"
     ]
    },
    {
     "name": "stderr",
     "output_type": "stream",
     "text": [
      "3200it [59:19,  1.15s/it]"
     ]
    },
    {
     "name": "stdout",
     "output_type": "stream",
     "text": [
      "crawl/spotify_matching/temp_data_artists_matched.csv\n"
     ]
    },
    {
     "name": "stderr",
     "output_type": "stream",
     "text": [
      "3300it [1:01:10,  1.12s/it]"
     ]
    },
    {
     "name": "stdout",
     "output_type": "stream",
     "text": [
      "crawl/spotify_matching/temp_data_artists_matched.csv\n"
     ]
    },
    {
     "name": "stderr",
     "output_type": "stream",
     "text": [
      "3400it [1:03:00,  1.14s/it]"
     ]
    },
    {
     "name": "stdout",
     "output_type": "stream",
     "text": [
      "crawl/spotify_matching/temp_data_artists_matched.csv\n"
     ]
    },
    {
     "name": "stderr",
     "output_type": "stream",
     "text": [
      "3500it [1:04:51,  1.13s/it]"
     ]
    },
    {
     "name": "stdout",
     "output_type": "stream",
     "text": [
      "crawl/spotify_matching/temp_data_artists_matched.csv\n"
     ]
    },
    {
     "name": "stderr",
     "output_type": "stream",
     "text": [
      "3600it [1:06:41,  1.13s/it]"
     ]
    },
    {
     "name": "stdout",
     "output_type": "stream",
     "text": [
      "crawl/spotify_matching/temp_data_artists_matched.csv\n"
     ]
    },
    {
     "name": "stderr",
     "output_type": "stream",
     "text": [
      "3700it [1:08:32,  1.12s/it]"
     ]
    },
    {
     "name": "stdout",
     "output_type": "stream",
     "text": [
      "crawl/spotify_matching/temp_data_artists_matched.csv\n"
     ]
    },
    {
     "name": "stderr",
     "output_type": "stream",
     "text": [
      "3800it [1:10:23,  1.15s/it]"
     ]
    },
    {
     "name": "stdout",
     "output_type": "stream",
     "text": [
      "crawl/spotify_matching/temp_data_artists_matched.csv\n"
     ]
    },
    {
     "name": "stderr",
     "output_type": "stream",
     "text": [
      "3900it [1:12:14,  1.15s/it]"
     ]
    },
    {
     "name": "stdout",
     "output_type": "stream",
     "text": [
      "crawl/spotify_matching/temp_data_artists_matched.csv\n"
     ]
    },
    {
     "name": "stderr",
     "output_type": "stream",
     "text": [
      "4000it [1:14:05,  1.15s/it]"
     ]
    },
    {
     "name": "stdout",
     "output_type": "stream",
     "text": [
      "crawl/spotify_matching/temp_data_artists_matched.csv\n"
     ]
    },
    {
     "name": "stderr",
     "output_type": "stream",
     "text": [
      "4100it [1:15:56,  1.12s/it]"
     ]
    },
    {
     "name": "stdout",
     "output_type": "stream",
     "text": [
      "crawl/spotify_matching/temp_data_artists_matched.csv\n"
     ]
    },
    {
     "name": "stderr",
     "output_type": "stream",
     "text": [
      "4200it [1:17:47,  1.13s/it]"
     ]
    },
    {
     "name": "stdout",
     "output_type": "stream",
     "text": [
      "crawl/spotify_matching/temp_data_artists_matched.csv\n"
     ]
    },
    {
     "name": "stderr",
     "output_type": "stream",
     "text": [
      "4300it [1:19:38,  1.13s/it]"
     ]
    },
    {
     "name": "stdout",
     "output_type": "stream",
     "text": [
      "crawl/spotify_matching/temp_data_artists_matched.csv\n"
     ]
    },
    {
     "name": "stderr",
     "output_type": "stream",
     "text": [
      "4400it [1:21:28,  1.15s/it]"
     ]
    },
    {
     "name": "stdout",
     "output_type": "stream",
     "text": [
      "crawl/spotify_matching/temp_data_artists_matched.csv\n"
     ]
    },
    {
     "name": "stderr",
     "output_type": "stream",
     "text": [
      "4500it [1:23:19,  1.17s/it]"
     ]
    },
    {
     "name": "stdout",
     "output_type": "stream",
     "text": [
      "crawl/spotify_matching/temp_data_artists_matched.csv\n"
     ]
    },
    {
     "name": "stderr",
     "output_type": "stream",
     "text": [
      "4600it [1:25:10,  1.13s/it]"
     ]
    },
    {
     "name": "stdout",
     "output_type": "stream",
     "text": [
      "crawl/spotify_matching/temp_data_artists_matched.csv\n"
     ]
    },
    {
     "name": "stderr",
     "output_type": "stream",
     "text": [
      "4700it [1:27:00,  1.14s/it]"
     ]
    },
    {
     "name": "stdout",
     "output_type": "stream",
     "text": [
      "crawl/spotify_matching/temp_data_artists_matched.csv\n"
     ]
    },
    {
     "name": "stderr",
     "output_type": "stream",
     "text": [
      "4800it [1:28:55,  1.12s/it]"
     ]
    },
    {
     "name": "stdout",
     "output_type": "stream",
     "text": [
      "crawl/spotify_matching/temp_data_artists_matched.csv\n"
     ]
    },
    {
     "name": "stderr",
     "output_type": "stream",
     "text": [
      "4900it [1:30:45,  1.22s/it]"
     ]
    },
    {
     "name": "stdout",
     "output_type": "stream",
     "text": [
      "crawl/spotify_matching/temp_data_artists_matched.csv\n"
     ]
    },
    {
     "name": "stderr",
     "output_type": "stream",
     "text": [
      "5000it [1:32:36,  1.13s/it]"
     ]
    },
    {
     "name": "stdout",
     "output_type": "stream",
     "text": [
      "crawl/spotify_matching/temp_data_artists_matched.csv\n"
     ]
    },
    {
     "name": "stderr",
     "output_type": "stream",
     "text": [
      "5100it [1:34:27,  1.14s/it]"
     ]
    },
    {
     "name": "stdout",
     "output_type": "stream",
     "text": [
      "crawl/spotify_matching/temp_data_artists_matched.csv\n"
     ]
    },
    {
     "name": "stderr",
     "output_type": "stream",
     "text": [
      "5200it [1:36:19,  1.12s/it]"
     ]
    },
    {
     "name": "stdout",
     "output_type": "stream",
     "text": [
      "crawl/spotify_matching/temp_data_artists_matched.csv\n"
     ]
    },
    {
     "name": "stderr",
     "output_type": "stream",
     "text": [
      "5300it [1:38:10,  1.15s/it]"
     ]
    },
    {
     "name": "stdout",
     "output_type": "stream",
     "text": [
      "crawl/spotify_matching/temp_data_artists_matched.csv\n"
     ]
    },
    {
     "name": "stderr",
     "output_type": "stream",
     "text": [
      "5400it [1:40:01,  1.14s/it]"
     ]
    },
    {
     "name": "stdout",
     "output_type": "stream",
     "text": [
      "crawl/spotify_matching/temp_data_artists_matched.csv\n"
     ]
    },
    {
     "name": "stderr",
     "output_type": "stream",
     "text": [
      "5500it [1:41:52,  1.14s/it]"
     ]
    },
    {
     "name": "stdout",
     "output_type": "stream",
     "text": [
      "crawl/spotify_matching/temp_data_artists_matched.csv\n"
     ]
    },
    {
     "name": "stderr",
     "output_type": "stream",
     "text": [
      "5600it [1:43:43,  1.18s/it]"
     ]
    },
    {
     "name": "stdout",
     "output_type": "stream",
     "text": [
      "crawl/spotify_matching/temp_data_artists_matched.csv\n"
     ]
    },
    {
     "name": "stderr",
     "output_type": "stream",
     "text": [
      "5700it [1:45:34,  1.20s/it]"
     ]
    },
    {
     "name": "stdout",
     "output_type": "stream",
     "text": [
      "crawl/spotify_matching/temp_data_artists_matched.csv\n"
     ]
    },
    {
     "name": "stderr",
     "output_type": "stream",
     "text": [
      "5800it [1:47:23,  1.14s/it]"
     ]
    },
    {
     "name": "stdout",
     "output_type": "stream",
     "text": [
      "crawl/spotify_matching/temp_data_artists_matched.csv\n"
     ]
    },
    {
     "name": "stderr",
     "output_type": "stream",
     "text": [
      "5900it [1:49:18,  1.19s/it]"
     ]
    },
    {
     "name": "stdout",
     "output_type": "stream",
     "text": [
      "crawl/spotify_matching/temp_data_artists_matched.csv\n"
     ]
    },
    {
     "name": "stderr",
     "output_type": "stream",
     "text": [
      "6000it [1:51:09,  1.13s/it]"
     ]
    },
    {
     "name": "stdout",
     "output_type": "stream",
     "text": [
      "crawl/spotify_matching/temp_data_artists_matched.csv\n"
     ]
    },
    {
     "name": "stderr",
     "output_type": "stream",
     "text": [
      "6100it [1:53:00,  1.16s/it]"
     ]
    },
    {
     "name": "stdout",
     "output_type": "stream",
     "text": [
      "crawl/spotify_matching/temp_data_artists_matched.csv\n"
     ]
    },
    {
     "name": "stderr",
     "output_type": "stream",
     "text": [
      "6200it [1:54:51,  1.15s/it]"
     ]
    },
    {
     "name": "stdout",
     "output_type": "stream",
     "text": [
      "crawl/spotify_matching/temp_data_artists_matched.csv\n"
     ]
    },
    {
     "name": "stderr",
     "output_type": "stream",
     "text": [
      "6300it [1:56:42,  1.13s/it]"
     ]
    },
    {
     "name": "stdout",
     "output_type": "stream",
     "text": [
      "crawl/spotify_matching/temp_data_artists_matched.csv\n"
     ]
    },
    {
     "name": "stderr",
     "output_type": "stream",
     "text": [
      "6400it [1:58:33,  1.15s/it]"
     ]
    },
    {
     "name": "stdout",
     "output_type": "stream",
     "text": [
      "crawl/spotify_matching/temp_data_artists_matched.csv\n"
     ]
    },
    {
     "name": "stderr",
     "output_type": "stream",
     "text": [
      "6500it [2:00:24,  1.12s/it]"
     ]
    },
    {
     "name": "stdout",
     "output_type": "stream",
     "text": [
      "crawl/spotify_matching/temp_data_artists_matched.csv\n"
     ]
    },
    {
     "name": "stderr",
     "output_type": "stream",
     "text": [
      "6600it [2:02:15,  1.14s/it]"
     ]
    },
    {
     "name": "stdout",
     "output_type": "stream",
     "text": [
      "crawl/spotify_matching/temp_data_artists_matched.csv\n"
     ]
    },
    {
     "name": "stderr",
     "output_type": "stream",
     "text": [
      "6700it [2:04:05,  1.14s/it]"
     ]
    },
    {
     "name": "stdout",
     "output_type": "stream",
     "text": [
      "crawl/spotify_matching/temp_data_artists_matched.csv\n"
     ]
    },
    {
     "name": "stderr",
     "output_type": "stream",
     "text": [
      "6800it [2:05:56,  1.14s/it]"
     ]
    },
    {
     "name": "stdout",
     "output_type": "stream",
     "text": [
      "crawl/spotify_matching/temp_data_artists_matched.csv\n"
     ]
    },
    {
     "name": "stderr",
     "output_type": "stream",
     "text": [
      "6900it [2:07:47,  1.17s/it]"
     ]
    },
    {
     "name": "stdout",
     "output_type": "stream",
     "text": [
      "crawl/spotify_matching/temp_data_artists_matched.csv\n"
     ]
    },
    {
     "name": "stderr",
     "output_type": "stream",
     "text": [
      "7000it [2:09:37,  1.12s/it]"
     ]
    },
    {
     "name": "stdout",
     "output_type": "stream",
     "text": [
      "crawl/spotify_matching/temp_data_artists_matched.csv\n"
     ]
    },
    {
     "name": "stderr",
     "output_type": "stream",
     "text": [
      "7100it [2:11:27,  1.13s/it]"
     ]
    },
    {
     "name": "stdout",
     "output_type": "stream",
     "text": [
      "crawl/spotify_matching/temp_data_artists_matched.csv\n"
     ]
    },
    {
     "name": "stderr",
     "output_type": "stream",
     "text": [
      "7200it [2:13:17,  1.14s/it]"
     ]
    },
    {
     "name": "stdout",
     "output_type": "stream",
     "text": [
      "crawl/spotify_matching/temp_data_artists_matched.csv\n"
     ]
    },
    {
     "name": "stderr",
     "output_type": "stream",
     "text": [
      "7300it [2:15:09,  1.13s/it]"
     ]
    },
    {
     "name": "stdout",
     "output_type": "stream",
     "text": [
      "crawl/spotify_matching/temp_data_artists_matched.csv\n"
     ]
    },
    {
     "name": "stderr",
     "output_type": "stream",
     "text": [
      "7400it [2:16:59,  1.22s/it]"
     ]
    },
    {
     "name": "stdout",
     "output_type": "stream",
     "text": [
      "crawl/spotify_matching/temp_data_artists_matched.csv\n"
     ]
    },
    {
     "name": "stderr",
     "output_type": "stream",
     "text": [
      "7500it [2:18:50,  1.12s/it]"
     ]
    },
    {
     "name": "stdout",
     "output_type": "stream",
     "text": [
      "crawl/spotify_matching/temp_data_artists_matched.csv\n"
     ]
    },
    {
     "name": "stderr",
     "output_type": "stream",
     "text": [
      "7600it [2:20:40,  1.13s/it]"
     ]
    },
    {
     "name": "stdout",
     "output_type": "stream",
     "text": [
      "crawl/spotify_matching/temp_data_artists_matched.csv\n"
     ]
    },
    {
     "name": "stderr",
     "output_type": "stream",
     "text": [
      "7700it [2:22:32,  1.15s/it]"
     ]
    },
    {
     "name": "stdout",
     "output_type": "stream",
     "text": [
      "crawl/spotify_matching/temp_data_artists_matched.csv\n"
     ]
    },
    {
     "name": "stderr",
     "output_type": "stream",
     "text": [
      "7800it [2:24:23,  1.13s/it]"
     ]
    },
    {
     "name": "stdout",
     "output_type": "stream",
     "text": [
      "crawl/spotify_matching/temp_data_artists_matched.csv\n"
     ]
    },
    {
     "name": "stderr",
     "output_type": "stream",
     "text": [
      "7900it [2:26:14,  1.14s/it]"
     ]
    },
    {
     "name": "stdout",
     "output_type": "stream",
     "text": [
      "crawl/spotify_matching/temp_data_artists_matched.csv\n"
     ]
    },
    {
     "name": "stderr",
     "output_type": "stream",
     "text": [
      "8000it [2:28:05,  1.15s/it]"
     ]
    },
    {
     "name": "stdout",
     "output_type": "stream",
     "text": [
      "crawl/spotify_matching/temp_data_artists_matched.csv\n"
     ]
    },
    {
     "name": "stderr",
     "output_type": "stream",
     "text": [
      "8100it [2:29:55,  1.13s/it]"
     ]
    },
    {
     "name": "stdout",
     "output_type": "stream",
     "text": [
      "crawl/spotify_matching/temp_data_artists_matched.csv\n"
     ]
    },
    {
     "name": "stderr",
     "output_type": "stream",
     "text": [
      "8200it [2:31:46,  1.14s/it]"
     ]
    },
    {
     "name": "stdout",
     "output_type": "stream",
     "text": [
      "crawl/spotify_matching/temp_data_artists_matched.csv\n"
     ]
    },
    {
     "name": "stderr",
     "output_type": "stream",
     "text": [
      "8300it [2:33:38,  1.13s/it]"
     ]
    },
    {
     "name": "stdout",
     "output_type": "stream",
     "text": [
      "crawl/spotify_matching/temp_data_artists_matched.csv\n"
     ]
    },
    {
     "name": "stderr",
     "output_type": "stream",
     "text": [
      "8400it [2:35:29,  1.14s/it]"
     ]
    },
    {
     "name": "stdout",
     "output_type": "stream",
     "text": [
      "crawl/spotify_matching/temp_data_artists_matched.csv\n"
     ]
    },
    {
     "name": "stderr",
     "output_type": "stream",
     "text": [
      "8500it [2:37:20,  1.14s/it]"
     ]
    },
    {
     "name": "stdout",
     "output_type": "stream",
     "text": [
      "crawl/spotify_matching/temp_data_artists_matched.csv\n"
     ]
    },
    {
     "name": "stderr",
     "output_type": "stream",
     "text": [
      "8600it [2:39:11,  1.18s/it]"
     ]
    },
    {
     "name": "stdout",
     "output_type": "stream",
     "text": [
      "crawl/spotify_matching/temp_data_artists_matched.csv\n"
     ]
    },
    {
     "name": "stderr",
     "output_type": "stream",
     "text": [
      "8700it [2:41:01,  1.13s/it]"
     ]
    },
    {
     "name": "stdout",
     "output_type": "stream",
     "text": [
      "crawl/spotify_matching/temp_data_artists_matched.csv\n"
     ]
    },
    {
     "name": "stderr",
     "output_type": "stream",
     "text": [
      "8800it [2:42:52,  1.14s/it]"
     ]
    },
    {
     "name": "stdout",
     "output_type": "stream",
     "text": [
      "crawl/spotify_matching/temp_data_artists_matched.csv\n"
     ]
    },
    {
     "name": "stderr",
     "output_type": "stream",
     "text": [
      "8900it [2:44:43,  1.14s/it]"
     ]
    },
    {
     "name": "stdout",
     "output_type": "stream",
     "text": [
      "crawl/spotify_matching/temp_data_artists_matched.csv\n"
     ]
    },
    {
     "name": "stderr",
     "output_type": "stream",
     "text": [
      "9000it [2:46:33,  1.14s/it]"
     ]
    },
    {
     "name": "stdout",
     "output_type": "stream",
     "text": [
      "crawl/spotify_matching/temp_data_artists_matched.csv\n"
     ]
    },
    {
     "name": "stderr",
     "output_type": "stream",
     "text": [
      "9100it [2:48:23,  1.13s/it]"
     ]
    },
    {
     "name": "stdout",
     "output_type": "stream",
     "text": [
      "crawl/spotify_matching/temp_data_artists_matched.csv\n"
     ]
    },
    {
     "name": "stderr",
     "output_type": "stream",
     "text": [
      "9200it [2:50:15,  1.16s/it]"
     ]
    },
    {
     "name": "stdout",
     "output_type": "stream",
     "text": [
      "crawl/spotify_matching/temp_data_artists_matched.csv\n"
     ]
    },
    {
     "name": "stderr",
     "output_type": "stream",
     "text": [
      "9300it [2:52:06,  1.12s/it]"
     ]
    },
    {
     "name": "stdout",
     "output_type": "stream",
     "text": [
      "crawl/spotify_matching/temp_data_artists_matched.csv\n"
     ]
    },
    {
     "name": "stderr",
     "output_type": "stream",
     "text": [
      "9400it [2:53:57,  1.14s/it]"
     ]
    },
    {
     "name": "stdout",
     "output_type": "stream",
     "text": [
      "crawl/spotify_matching/temp_data_artists_matched.csv\n"
     ]
    },
    {
     "name": "stderr",
     "output_type": "stream",
     "text": [
      "9500it [2:55:47,  1.15s/it]"
     ]
    },
    {
     "name": "stdout",
     "output_type": "stream",
     "text": [
      "crawl/spotify_matching/temp_data_artists_matched.csv\n"
     ]
    },
    {
     "name": "stderr",
     "output_type": "stream",
     "text": [
      "9600it [2:57:38,  1.14s/it]"
     ]
    },
    {
     "name": "stdout",
     "output_type": "stream",
     "text": [
      "crawl/spotify_matching/temp_data_artists_matched.csv\n"
     ]
    },
    {
     "name": "stderr",
     "output_type": "stream",
     "text": [
      "9700it [2:59:28,  1.12s/it]"
     ]
    },
    {
     "name": "stdout",
     "output_type": "stream",
     "text": [
      "crawl/spotify_matching/temp_data_artists_matched.csv\n"
     ]
    },
    {
     "name": "stderr",
     "output_type": "stream",
     "text": [
      "9800it [3:01:18,  1.13s/it]"
     ]
    },
    {
     "name": "stdout",
     "output_type": "stream",
     "text": [
      "crawl/spotify_matching/temp_data_artists_matched.csv\n"
     ]
    },
    {
     "name": "stderr",
     "output_type": "stream",
     "text": [
      "9900it [3:03:09,  1.14s/it]"
     ]
    },
    {
     "name": "stdout",
     "output_type": "stream",
     "text": [
      "crawl/spotify_matching/temp_data_artists_matched.csv\n"
     ]
    },
    {
     "name": "stderr",
     "output_type": "stream",
     "text": [
      "10000it [3:05:01,  1.14s/it]"
     ]
    },
    {
     "name": "stdout",
     "output_type": "stream",
     "text": [
      "crawl/spotify_matching/temp_data_artists_matched.csv\n"
     ]
    },
    {
     "name": "stderr",
     "output_type": "stream",
     "text": [
      "10100it [3:06:51,  1.12s/it]"
     ]
    },
    {
     "name": "stdout",
     "output_type": "stream",
     "text": [
      "crawl/spotify_matching/temp_data_artists_matched.csv\n"
     ]
    },
    {
     "name": "stderr",
     "output_type": "stream",
     "text": [
      "10200it [3:08:42,  1.14s/it]"
     ]
    },
    {
     "name": "stdout",
     "output_type": "stream",
     "text": [
      "crawl/spotify_matching/temp_data_artists_matched.csv\n"
     ]
    },
    {
     "name": "stderr",
     "output_type": "stream",
     "text": [
      "10300it [3:10:32,  1.20s/it]"
     ]
    },
    {
     "name": "stdout",
     "output_type": "stream",
     "text": [
      "crawl/spotify_matching/temp_data_artists_matched.csv\n"
     ]
    },
    {
     "name": "stderr",
     "output_type": "stream",
     "text": [
      "10400it [3:12:24,  1.13s/it]"
     ]
    },
    {
     "name": "stdout",
     "output_type": "stream",
     "text": [
      "crawl/spotify_matching/temp_data_artists_matched.csv\n"
     ]
    },
    {
     "name": "stderr",
     "output_type": "stream",
     "text": [
      "10500it [3:14:15,  1.17s/it]"
     ]
    },
    {
     "name": "stdout",
     "output_type": "stream",
     "text": [
      "crawl/spotify_matching/temp_data_artists_matched.csv\n"
     ]
    },
    {
     "name": "stderr",
     "output_type": "stream",
     "text": [
      "10600it [3:16:06,  1.16s/it]"
     ]
    },
    {
     "name": "stdout",
     "output_type": "stream",
     "text": [
      "crawl/spotify_matching/temp_data_artists_matched.csv\n"
     ]
    },
    {
     "name": "stderr",
     "output_type": "stream",
     "text": [
      "10700it [3:17:56,  1.14s/it]"
     ]
    },
    {
     "name": "stdout",
     "output_type": "stream",
     "text": [
      "crawl/spotify_matching/temp_data_artists_matched.csv\n"
     ]
    },
    {
     "name": "stderr",
     "output_type": "stream",
     "text": [
      "10800it [3:19:47,  1.13s/it]"
     ]
    },
    {
     "name": "stdout",
     "output_type": "stream",
     "text": [
      "crawl/spotify_matching/temp_data_artists_matched.csv\n"
     ]
    },
    {
     "name": "stderr",
     "output_type": "stream",
     "text": [
      "10900it [3:21:37,  1.13s/it]"
     ]
    },
    {
     "name": "stdout",
     "output_type": "stream",
     "text": [
      "crawl/spotify_matching/temp_data_artists_matched.csv\n"
     ]
    },
    {
     "name": "stderr",
     "output_type": "stream",
     "text": [
      "11000it [3:23:27,  1.14s/it]"
     ]
    },
    {
     "name": "stdout",
     "output_type": "stream",
     "text": [
      "crawl/spotify_matching/temp_data_artists_matched.csv\n"
     ]
    },
    {
     "name": "stderr",
     "output_type": "stream",
     "text": [
      "11100it [3:25:17,  1.16s/it]"
     ]
    },
    {
     "name": "stdout",
     "output_type": "stream",
     "text": [
      "crawl/spotify_matching/temp_data_artists_matched.csv\n"
     ]
    },
    {
     "name": "stderr",
     "output_type": "stream",
     "text": [
      "11200it [3:27:07,  1.13s/it]"
     ]
    },
    {
     "name": "stdout",
     "output_type": "stream",
     "text": [
      "crawl/spotify_matching/temp_data_artists_matched.csv\n"
     ]
    },
    {
     "name": "stderr",
     "output_type": "stream",
     "text": [
      "11300it [3:28:58,  1.14s/it]"
     ]
    },
    {
     "name": "stdout",
     "output_type": "stream",
     "text": [
      "crawl/spotify_matching/temp_data_artists_matched.csv\n"
     ]
    },
    {
     "name": "stderr",
     "output_type": "stream",
     "text": [
      "11400it [3:30:49,  1.12s/it]"
     ]
    },
    {
     "name": "stdout",
     "output_type": "stream",
     "text": [
      "crawl/spotify_matching/temp_data_artists_matched.csv\n"
     ]
    },
    {
     "name": "stderr",
     "output_type": "stream",
     "text": [
      "11500it [3:32:40,  1.14s/it]"
     ]
    },
    {
     "name": "stdout",
     "output_type": "stream",
     "text": [
      "crawl/spotify_matching/temp_data_artists_matched.csv\n"
     ]
    },
    {
     "name": "stderr",
     "output_type": "stream",
     "text": [
      "11600it [3:34:31,  1.12s/it]"
     ]
    },
    {
     "name": "stdout",
     "output_type": "stream",
     "text": [
      "crawl/spotify_matching/temp_data_artists_matched.csv\n"
     ]
    },
    {
     "name": "stderr",
     "output_type": "stream",
     "text": [
      "11700it [3:36:22,  1.14s/it]"
     ]
    },
    {
     "name": "stdout",
     "output_type": "stream",
     "text": [
      "crawl/spotify_matching/temp_data_artists_matched.csv\n"
     ]
    },
    {
     "name": "stderr",
     "output_type": "stream",
     "text": [
      "11800it [3:38:13,  1.15s/it]"
     ]
    },
    {
     "name": "stdout",
     "output_type": "stream",
     "text": [
      "crawl/spotify_matching/temp_data_artists_matched.csv\n"
     ]
    },
    {
     "name": "stderr",
     "output_type": "stream",
     "text": [
      "11900it [3:40:03,  1.14s/it]"
     ]
    },
    {
     "name": "stdout",
     "output_type": "stream",
     "text": [
      "crawl/spotify_matching/temp_data_artists_matched.csv\n"
     ]
    },
    {
     "name": "stderr",
     "output_type": "stream",
     "text": [
      "12000it [3:41:54,  1.15s/it]"
     ]
    },
    {
     "name": "stdout",
     "output_type": "stream",
     "text": [
      "crawl/spotify_matching/temp_data_artists_matched.csv\n"
     ]
    },
    {
     "name": "stderr",
     "output_type": "stream",
     "text": [
      "12100it [3:43:45,  1.23s/it]"
     ]
    },
    {
     "name": "stdout",
     "output_type": "stream",
     "text": [
      "crawl/spotify_matching/temp_data_artists_matched.csv\n"
     ]
    },
    {
     "name": "stderr",
     "output_type": "stream",
     "text": [
      "12200it [3:45:36,  1.18s/it]"
     ]
    },
    {
     "name": "stdout",
     "output_type": "stream",
     "text": [
      "crawl/spotify_matching/temp_data_artists_matched.csv\n"
     ]
    },
    {
     "name": "stderr",
     "output_type": "stream",
     "text": [
      "12300it [3:47:26,  1.13s/it]"
     ]
    },
    {
     "name": "stdout",
     "output_type": "stream",
     "text": [
      "crawl/spotify_matching/temp_data_artists_matched.csv\n"
     ]
    },
    {
     "name": "stderr",
     "output_type": "stream",
     "text": [
      "12400it [3:49:16,  1.13s/it]"
     ]
    },
    {
     "name": "stdout",
     "output_type": "stream",
     "text": [
      "crawl/spotify_matching/temp_data_artists_matched.csv\n"
     ]
    },
    {
     "name": "stderr",
     "output_type": "stream",
     "text": [
      "12500it [3:51:06,  1.12s/it]"
     ]
    },
    {
     "name": "stdout",
     "output_type": "stream",
     "text": [
      "crawl/spotify_matching/temp_data_artists_matched.csv\n"
     ]
    },
    {
     "name": "stderr",
     "output_type": "stream",
     "text": [
      "12600it [3:52:56,  1.13s/it]"
     ]
    },
    {
     "name": "stdout",
     "output_type": "stream",
     "text": [
      "crawl/spotify_matching/temp_data_artists_matched.csv\n"
     ]
    },
    {
     "name": "stderr",
     "output_type": "stream",
     "text": [
      "12700it [3:54:47,  1.14s/it]"
     ]
    },
    {
     "name": "stdout",
     "output_type": "stream",
     "text": [
      "crawl/spotify_matching/temp_data_artists_matched.csv\n"
     ]
    },
    {
     "name": "stderr",
     "output_type": "stream",
     "text": [
      "12800it [3:56:38,  1.18s/it]"
     ]
    },
    {
     "name": "stdout",
     "output_type": "stream",
     "text": [
      "crawl/spotify_matching/temp_data_artists_matched.csv\n"
     ]
    },
    {
     "name": "stderr",
     "output_type": "stream",
     "text": [
      "12900it [3:58:30,  1.14s/it]"
     ]
    },
    {
     "name": "stdout",
     "output_type": "stream",
     "text": [
      "crawl/spotify_matching/temp_data_artists_matched.csv\n"
     ]
    },
    {
     "name": "stderr",
     "output_type": "stream",
     "text": [
      "13000it [4:00:21,  1.14s/it]"
     ]
    },
    {
     "name": "stdout",
     "output_type": "stream",
     "text": [
      "crawl/spotify_matching/temp_data_artists_matched.csv\n"
     ]
    },
    {
     "name": "stderr",
     "output_type": "stream",
     "text": [
      "13100it [4:02:11,  1.13s/it]"
     ]
    },
    {
     "name": "stdout",
     "output_type": "stream",
     "text": [
      "crawl/spotify_matching/temp_data_artists_matched.csv\n"
     ]
    },
    {
     "name": "stderr",
     "output_type": "stream",
     "text": [
      "13200it [4:04:01,  1.17s/it]"
     ]
    },
    {
     "name": "stdout",
     "output_type": "stream",
     "text": [
      "crawl/spotify_matching/temp_data_artists_matched.csv\n"
     ]
    },
    {
     "name": "stderr",
     "output_type": "stream",
     "text": [
      "13300it [4:05:52,  1.14s/it]"
     ]
    },
    {
     "name": "stdout",
     "output_type": "stream",
     "text": [
      "crawl/spotify_matching/temp_data_artists_matched.csv\n"
     ]
    },
    {
     "name": "stderr",
     "output_type": "stream",
     "text": [
      "13400it [4:07:42,  1.14s/it]"
     ]
    },
    {
     "name": "stdout",
     "output_type": "stream",
     "text": [
      "crawl/spotify_matching/temp_data_artists_matched.csv\n"
     ]
    },
    {
     "name": "stderr",
     "output_type": "stream",
     "text": [
      "13500it [4:09:33,  1.14s/it]"
     ]
    },
    {
     "name": "stdout",
     "output_type": "stream",
     "text": [
      "crawl/spotify_matching/temp_data_artists_matched.csv\n"
     ]
    },
    {
     "name": "stderr",
     "output_type": "stream",
     "text": [
      "13600it [4:11:23,  1.16s/it]"
     ]
    },
    {
     "name": "stdout",
     "output_type": "stream",
     "text": [
      "crawl/spotify_matching/temp_data_artists_matched.csv\n"
     ]
    },
    {
     "name": "stderr",
     "output_type": "stream",
     "text": [
      "13700it [4:13:14,  1.16s/it]"
     ]
    },
    {
     "name": "stdout",
     "output_type": "stream",
     "text": [
      "crawl/spotify_matching/temp_data_artists_matched.csv\n"
     ]
    },
    {
     "name": "stderr",
     "output_type": "stream",
     "text": [
      "13800it [4:15:04,  1.14s/it]"
     ]
    },
    {
     "name": "stdout",
     "output_type": "stream",
     "text": [
      "crawl/spotify_matching/temp_data_artists_matched.csv\n"
     ]
    },
    {
     "name": "stderr",
     "output_type": "stream",
     "text": [
      "13900it [4:16:55,  1.14s/it]"
     ]
    },
    {
     "name": "stdout",
     "output_type": "stream",
     "text": [
      "crawl/spotify_matching/temp_data_artists_matched.csv\n"
     ]
    },
    {
     "name": "stderr",
     "output_type": "stream",
     "text": [
      "14000it [4:18:45,  1.14s/it]"
     ]
    },
    {
     "name": "stdout",
     "output_type": "stream",
     "text": [
      "crawl/spotify_matching/temp_data_artists_matched.csv\n"
     ]
    },
    {
     "name": "stderr",
     "output_type": "stream",
     "text": [
      "14100it [4:20:35,  1.13s/it]"
     ]
    },
    {
     "name": "stdout",
     "output_type": "stream",
     "text": [
      "crawl/spotify_matching/temp_data_artists_matched.csv\n"
     ]
    },
    {
     "name": "stderr",
     "output_type": "stream",
     "text": [
      "14200it [4:22:26,  1.17s/it]"
     ]
    },
    {
     "name": "stdout",
     "output_type": "stream",
     "text": [
      "crawl/spotify_matching/temp_data_artists_matched.csv\n"
     ]
    },
    {
     "name": "stderr",
     "output_type": "stream",
     "text": [
      "14300it [4:24:18,  1.13s/it]"
     ]
    },
    {
     "name": "stdout",
     "output_type": "stream",
     "text": [
      "crawl/spotify_matching/temp_data_artists_matched.csv\n"
     ]
    },
    {
     "name": "stderr",
     "output_type": "stream",
     "text": [
      "14400it [4:26:09,  1.15s/it]"
     ]
    },
    {
     "name": "stdout",
     "output_type": "stream",
     "text": [
      "crawl/spotify_matching/temp_data_artists_matched.csv\n"
     ]
    },
    {
     "name": "stderr",
     "output_type": "stream",
     "text": [
      "14500it [4:27:59,  1.14s/it]"
     ]
    },
    {
     "name": "stdout",
     "output_type": "stream",
     "text": [
      "crawl/spotify_matching/temp_data_artists_matched.csv\n"
     ]
    },
    {
     "name": "stderr",
     "output_type": "stream",
     "text": [
      "14600it [4:29:49,  1.13s/it]"
     ]
    },
    {
     "name": "stdout",
     "output_type": "stream",
     "text": [
      "crawl/spotify_matching/temp_data_artists_matched.csv\n"
     ]
    },
    {
     "name": "stderr",
     "output_type": "stream",
     "text": [
      "14700it [4:31:40,  1.14s/it]"
     ]
    },
    {
     "name": "stdout",
     "output_type": "stream",
     "text": [
      "crawl/spotify_matching/temp_data_artists_matched.csv\n"
     ]
    },
    {
     "name": "stderr",
     "output_type": "stream",
     "text": [
      "14800it [4:33:30,  1.14s/it]"
     ]
    },
    {
     "name": "stdout",
     "output_type": "stream",
     "text": [
      "crawl/spotify_matching/temp_data_artists_matched.csv\n"
     ]
    },
    {
     "name": "stderr",
     "output_type": "stream",
     "text": [
      "14900it [4:35:20,  1.13s/it]"
     ]
    },
    {
     "name": "stdout",
     "output_type": "stream",
     "text": [
      "crawl/spotify_matching/temp_data_artists_matched.csv\n"
     ]
    },
    {
     "name": "stderr",
     "output_type": "stream",
     "text": [
      "15000it [4:37:11,  1.15s/it]"
     ]
    },
    {
     "name": "stdout",
     "output_type": "stream",
     "text": [
      "crawl/spotify_matching/temp_data_artists_matched.csv\n"
     ]
    },
    {
     "name": "stderr",
     "output_type": "stream",
     "text": [
      "15100it [4:39:02,  1.15s/it]"
     ]
    },
    {
     "name": "stdout",
     "output_type": "stream",
     "text": [
      "crawl/spotify_matching/temp_data_artists_matched.csv\n"
     ]
    },
    {
     "name": "stderr",
     "output_type": "stream",
     "text": [
      "15200it [4:40:53,  1.15s/it]"
     ]
    },
    {
     "name": "stdout",
     "output_type": "stream",
     "text": [
      "crawl/spotify_matching/temp_data_artists_matched.csv\n"
     ]
    },
    {
     "name": "stderr",
     "output_type": "stream",
     "text": [
      "15300it [4:42:45,  1.15s/it]"
     ]
    },
    {
     "name": "stdout",
     "output_type": "stream",
     "text": [
      "crawl/spotify_matching/temp_data_artists_matched.csv\n"
     ]
    },
    {
     "name": "stderr",
     "output_type": "stream",
     "text": [
      "15400it [4:44:36,  1.15s/it]"
     ]
    },
    {
     "name": "stdout",
     "output_type": "stream",
     "text": [
      "crawl/spotify_matching/temp_data_artists_matched.csv\n"
     ]
    },
    {
     "name": "stderr",
     "output_type": "stream",
     "text": [
      "15500it [4:46:27,  1.14s/it]"
     ]
    },
    {
     "name": "stdout",
     "output_type": "stream",
     "text": [
      "crawl/spotify_matching/temp_data_artists_matched.csv\n"
     ]
    },
    {
     "name": "stderr",
     "output_type": "stream",
     "text": [
      "15600it [4:48:18,  1.15s/it]"
     ]
    },
    {
     "name": "stdout",
     "output_type": "stream",
     "text": [
      "crawl/spotify_matching/temp_data_artists_matched.csv\n"
     ]
    },
    {
     "name": "stderr",
     "output_type": "stream",
     "text": [
      "15700it [4:50:09,  1.14s/it]"
     ]
    },
    {
     "name": "stdout",
     "output_type": "stream",
     "text": [
      "crawl/spotify_matching/temp_data_artists_matched.csv\n"
     ]
    },
    {
     "name": "stderr",
     "output_type": "stream",
     "text": [
      "15800it [4:51:59,  1.14s/it]"
     ]
    },
    {
     "name": "stdout",
     "output_type": "stream",
     "text": [
      "crawl/spotify_matching/temp_data_artists_matched.csv\n"
     ]
    },
    {
     "name": "stderr",
     "output_type": "stream",
     "text": [
      "15900it [4:53:49,  1.12s/it]"
     ]
    },
    {
     "name": "stdout",
     "output_type": "stream",
     "text": [
      "crawl/spotify_matching/temp_data_artists_matched.csv\n"
     ]
    },
    {
     "name": "stderr",
     "output_type": "stream",
     "text": [
      "16000it [4:55:40,  1.12s/it]"
     ]
    },
    {
     "name": "stdout",
     "output_type": "stream",
     "text": [
      "crawl/spotify_matching/temp_data_artists_matched.csv\n"
     ]
    },
    {
     "name": "stderr",
     "output_type": "stream",
     "text": [
      "16100it [4:57:30,  1.13s/it]"
     ]
    },
    {
     "name": "stdout",
     "output_type": "stream",
     "text": [
      "crawl/spotify_matching/temp_data_artists_matched.csv\n"
     ]
    },
    {
     "name": "stderr",
     "output_type": "stream",
     "text": [
      "16200it [4:59:20,  1.13s/it]"
     ]
    },
    {
     "name": "stdout",
     "output_type": "stream",
     "text": [
      "crawl/spotify_matching/temp_data_artists_matched.csv\n"
     ]
    },
    {
     "name": "stderr",
     "output_type": "stream",
     "text": [
      "16300it [5:01:11,  1.13s/it]"
     ]
    },
    {
     "name": "stdout",
     "output_type": "stream",
     "text": [
      "crawl/spotify_matching/temp_data_artists_matched.csv\n"
     ]
    },
    {
     "name": "stderr",
     "output_type": "stream",
     "text": [
      "16400it [5:03:01,  1.13s/it]"
     ]
    },
    {
     "name": "stdout",
     "output_type": "stream",
     "text": [
      "crawl/spotify_matching/temp_data_artists_matched.csv\n"
     ]
    },
    {
     "name": "stderr",
     "output_type": "stream",
     "text": [
      "16500it [5:04:51,  1.15s/it]"
     ]
    },
    {
     "name": "stdout",
     "output_type": "stream",
     "text": [
      "crawl/spotify_matching/temp_data_artists_matched.csv\n"
     ]
    },
    {
     "name": "stderr",
     "output_type": "stream",
     "text": [
      "16600it [5:06:41,  1.13s/it]"
     ]
    },
    {
     "name": "stdout",
     "output_type": "stream",
     "text": [
      "crawl/spotify_matching/temp_data_artists_matched.csv\n"
     ]
    },
    {
     "name": "stderr",
     "output_type": "stream",
     "text": [
      "16700it [5:08:31,  1.13s/it]"
     ]
    },
    {
     "name": "stdout",
     "output_type": "stream",
     "text": [
      "crawl/spotify_matching/temp_data_artists_matched.csv\n"
     ]
    },
    {
     "name": "stderr",
     "output_type": "stream",
     "text": [
      "16800it [5:10:23,  1.25s/it]"
     ]
    },
    {
     "name": "stdout",
     "output_type": "stream",
     "text": [
      "crawl/spotify_matching/temp_data_artists_matched.csv\n"
     ]
    },
    {
     "name": "stderr",
     "output_type": "stream",
     "text": [
      "16900it [5:12:16,  1.14s/it]"
     ]
    },
    {
     "name": "stdout",
     "output_type": "stream",
     "text": [
      "crawl/spotify_matching/temp_data_artists_matched.csv\n"
     ]
    },
    {
     "name": "stderr",
     "output_type": "stream",
     "text": [
      "17000it [5:14:06,  1.12s/it]"
     ]
    },
    {
     "name": "stdout",
     "output_type": "stream",
     "text": [
      "crawl/spotify_matching/temp_data_artists_matched.csv\n"
     ]
    },
    {
     "name": "stderr",
     "output_type": "stream",
     "text": [
      "17100it [5:15:57,  1.13s/it]"
     ]
    },
    {
     "name": "stdout",
     "output_type": "stream",
     "text": [
      "crawl/spotify_matching/temp_data_artists_matched.csv\n"
     ]
    },
    {
     "name": "stderr",
     "output_type": "stream",
     "text": [
      "17200it [5:17:48,  1.14s/it]"
     ]
    },
    {
     "name": "stdout",
     "output_type": "stream",
     "text": [
      "crawl/spotify_matching/temp_data_artists_matched.csv\n"
     ]
    },
    {
     "name": "stderr",
     "output_type": "stream",
     "text": [
      "17300it [5:19:39,  1.15s/it]"
     ]
    },
    {
     "name": "stdout",
     "output_type": "stream",
     "text": [
      "crawl/spotify_matching/temp_data_artists_matched.csv\n"
     ]
    },
    {
     "name": "stderr",
     "output_type": "stream",
     "text": [
      "17400it [5:21:29,  1.13s/it]"
     ]
    },
    {
     "name": "stdout",
     "output_type": "stream",
     "text": [
      "crawl/spotify_matching/temp_data_artists_matched.csv\n"
     ]
    },
    {
     "name": "stderr",
     "output_type": "stream",
     "text": [
      "17500it [5:23:20,  1.13s/it]"
     ]
    },
    {
     "name": "stdout",
     "output_type": "stream",
     "text": [
      "crawl/spotify_matching/temp_data_artists_matched.csv\n"
     ]
    },
    {
     "name": "stderr",
     "output_type": "stream",
     "text": [
      "17600it [5:25:11,  1.15s/it]"
     ]
    },
    {
     "name": "stdout",
     "output_type": "stream",
     "text": [
      "crawl/spotify_matching/temp_data_artists_matched.csv\n"
     ]
    },
    {
     "name": "stderr",
     "output_type": "stream",
     "text": [
      "17700it [5:27:02,  1.17s/it]"
     ]
    },
    {
     "name": "stdout",
     "output_type": "stream",
     "text": [
      "crawl/spotify_matching/temp_data_artists_matched.csv\n"
     ]
    },
    {
     "name": "stderr",
     "output_type": "stream",
     "text": [
      "17800it [5:28:53,  1.14s/it]"
     ]
    },
    {
     "name": "stdout",
     "output_type": "stream",
     "text": [
      "crawl/spotify_matching/temp_data_artists_matched.csv\n"
     ]
    },
    {
     "name": "stderr",
     "output_type": "stream",
     "text": [
      "17900it [5:30:44,  1.14s/it]"
     ]
    },
    {
     "name": "stdout",
     "output_type": "stream",
     "text": [
      "crawl/spotify_matching/temp_data_artists_matched.csv\n"
     ]
    },
    {
     "name": "stderr",
     "output_type": "stream",
     "text": [
      "18000it [5:32:34,  1.14s/it]"
     ]
    },
    {
     "name": "stdout",
     "output_type": "stream",
     "text": [
      "crawl/spotify_matching/temp_data_artists_matched.csv\n"
     ]
    },
    {
     "name": "stderr",
     "output_type": "stream",
     "text": [
      "18100it [5:34:25,  1.14s/it]"
     ]
    },
    {
     "name": "stdout",
     "output_type": "stream",
     "text": [
      "crawl/spotify_matching/temp_data_artists_matched.csv\n"
     ]
    },
    {
     "name": "stderr",
     "output_type": "stream",
     "text": [
      "18200it [5:36:16,  1.16s/it]"
     ]
    },
    {
     "name": "stdout",
     "output_type": "stream",
     "text": [
      "crawl/spotify_matching/temp_data_artists_matched.csv\n"
     ]
    },
    {
     "name": "stderr",
     "output_type": "stream",
     "text": [
      "18300it [5:38:07,  1.15s/it]"
     ]
    },
    {
     "name": "stdout",
     "output_type": "stream",
     "text": [
      "crawl/spotify_matching/temp_data_artists_matched.csv\n"
     ]
    },
    {
     "name": "stderr",
     "output_type": "stream",
     "text": [
      "18400it [5:39:58,  1.14s/it]"
     ]
    },
    {
     "name": "stdout",
     "output_type": "stream",
     "text": [
      "crawl/spotify_matching/temp_data_artists_matched.csv\n"
     ]
    },
    {
     "name": "stderr",
     "output_type": "stream",
     "text": [
      "18500it [5:41:48,  1.18s/it]"
     ]
    },
    {
     "name": "stdout",
     "output_type": "stream",
     "text": [
      "crawl/spotify_matching/temp_data_artists_matched.csv\n"
     ]
    },
    {
     "name": "stderr",
     "output_type": "stream",
     "text": [
      "18600it [5:43:39,  1.15s/it]"
     ]
    },
    {
     "name": "stdout",
     "output_type": "stream",
     "text": [
      "crawl/spotify_matching/temp_data_artists_matched.csv\n"
     ]
    },
    {
     "name": "stderr",
     "output_type": "stream",
     "text": [
      "18700it [5:45:30,  1.15s/it]"
     ]
    },
    {
     "name": "stdout",
     "output_type": "stream",
     "text": [
      "crawl/spotify_matching/temp_data_artists_matched.csv\n"
     ]
    },
    {
     "name": "stderr",
     "output_type": "stream",
     "text": [
      "18800it [5:47:22,  1.15s/it]"
     ]
    },
    {
     "name": "stdout",
     "output_type": "stream",
     "text": [
      "crawl/spotify_matching/temp_data_artists_matched.csv\n"
     ]
    },
    {
     "name": "stderr",
     "output_type": "stream",
     "text": [
      "18900it [5:49:13,  1.18s/it]"
     ]
    },
    {
     "name": "stdout",
     "output_type": "stream",
     "text": [
      "crawl/spotify_matching/temp_data_artists_matched.csv\n"
     ]
    },
    {
     "name": "stderr",
     "output_type": "stream",
     "text": [
      "19000it [5:51:03,  1.12s/it]"
     ]
    },
    {
     "name": "stdout",
     "output_type": "stream",
     "text": [
      "crawl/spotify_matching/temp_data_artists_matched.csv\n"
     ]
    },
    {
     "name": "stderr",
     "output_type": "stream",
     "text": [
      "19100it [5:52:52,  1.14s/it]"
     ]
    },
    {
     "name": "stdout",
     "output_type": "stream",
     "text": [
      "crawl/spotify_matching/temp_data_artists_matched.csv\n"
     ]
    },
    {
     "name": "stderr",
     "output_type": "stream",
     "text": [
      "19200it [5:54:43,  1.14s/it]"
     ]
    },
    {
     "name": "stdout",
     "output_type": "stream",
     "text": [
      "crawl/spotify_matching/temp_data_artists_matched.csv\n"
     ]
    },
    {
     "name": "stderr",
     "output_type": "stream",
     "text": [
      "19300it [5:56:34,  1.14s/it]"
     ]
    },
    {
     "name": "stdout",
     "output_type": "stream",
     "text": [
      "crawl/spotify_matching/temp_data_artists_matched.csv\n"
     ]
    },
    {
     "name": "stderr",
     "output_type": "stream",
     "text": [
      "19400it [5:58:24,  1.12s/it]"
     ]
    },
    {
     "name": "stdout",
     "output_type": "stream",
     "text": [
      "crawl/spotify_matching/temp_data_artists_matched.csv\n"
     ]
    },
    {
     "name": "stderr",
     "output_type": "stream",
     "text": [
      "19500it [6:00:16,  1.17s/it]"
     ]
    },
    {
     "name": "stdout",
     "output_type": "stream",
     "text": [
      "crawl/spotify_matching/temp_data_artists_matched.csv\n"
     ]
    },
    {
     "name": "stderr",
     "output_type": "stream",
     "text": [
      "19600it [6:02:07,  1.13s/it]"
     ]
    },
    {
     "name": "stdout",
     "output_type": "stream",
     "text": [
      "crawl/spotify_matching/temp_data_artists_matched.csv\n"
     ]
    },
    {
     "name": "stderr",
     "output_type": "stream",
     "text": [
      "19700it [6:03:58,  1.16s/it]"
     ]
    },
    {
     "name": "stdout",
     "output_type": "stream",
     "text": [
      "crawl/spotify_matching/temp_data_artists_matched.csv\n"
     ]
    },
    {
     "name": "stderr",
     "output_type": "stream",
     "text": [
      "19800it [6:05:48,  1.13s/it]"
     ]
    },
    {
     "name": "stdout",
     "output_type": "stream",
     "text": [
      "crawl/spotify_matching/temp_data_artists_matched.csv\n"
     ]
    },
    {
     "name": "stderr",
     "output_type": "stream",
     "text": [
      "19900it [6:07:38,  1.13s/it]"
     ]
    },
    {
     "name": "stdout",
     "output_type": "stream",
     "text": [
      "crawl/spotify_matching/temp_data_artists_matched.csv\n"
     ]
    },
    {
     "name": "stderr",
     "output_type": "stream",
     "text": [
      "20000it [6:09:29,  1.14s/it]"
     ]
    },
    {
     "name": "stdout",
     "output_type": "stream",
     "text": [
      "crawl/spotify_matching/temp_data_artists_matched.csv\n"
     ]
    },
    {
     "name": "stderr",
     "output_type": "stream",
     "text": [
      "20100it [6:11:19,  1.14s/it]"
     ]
    },
    {
     "name": "stdout",
     "output_type": "stream",
     "text": [
      "crawl/spotify_matching/temp_data_artists_matched.csv\n"
     ]
    },
    {
     "name": "stderr",
     "output_type": "stream",
     "text": [
      "20200it [6:13:09,  1.16s/it]"
     ]
    },
    {
     "name": "stdout",
     "output_type": "stream",
     "text": [
      "crawl/spotify_matching/temp_data_artists_matched.csv\n"
     ]
    },
    {
     "name": "stderr",
     "output_type": "stream",
     "text": [
      "20300it [6:15:00,  1.13s/it]"
     ]
    },
    {
     "name": "stdout",
     "output_type": "stream",
     "text": [
      "crawl/spotify_matching/temp_data_artists_matched.csv\n"
     ]
    },
    {
     "name": "stderr",
     "output_type": "stream",
     "text": [
      "20400it [6:16:52,  1.17s/it]"
     ]
    },
    {
     "name": "stdout",
     "output_type": "stream",
     "text": [
      "crawl/spotify_matching/temp_data_artists_matched.csv\n"
     ]
    },
    {
     "name": "stderr",
     "output_type": "stream",
     "text": [
      "20500it [6:18:42,  1.13s/it]"
     ]
    },
    {
     "name": "stdout",
     "output_type": "stream",
     "text": [
      "crawl/spotify_matching/temp_data_artists_matched.csv\n"
     ]
    },
    {
     "name": "stderr",
     "output_type": "stream",
     "text": [
      "20600it [6:20:33,  1.15s/it]"
     ]
    },
    {
     "name": "stdout",
     "output_type": "stream",
     "text": [
      "crawl/spotify_matching/temp_data_artists_matched.csv\n"
     ]
    },
    {
     "name": "stderr",
     "output_type": "stream",
     "text": [
      "20700it [6:22:24,  1.15s/it]"
     ]
    },
    {
     "name": "stdout",
     "output_type": "stream",
     "text": [
      "crawl/spotify_matching/temp_data_artists_matched.csv\n"
     ]
    },
    {
     "name": "stderr",
     "output_type": "stream",
     "text": [
      "20800it [6:24:15,  1.13s/it]"
     ]
    },
    {
     "name": "stdout",
     "output_type": "stream",
     "text": [
      "crawl/spotify_matching/temp_data_artists_matched.csv\n"
     ]
    },
    {
     "name": "stderr",
     "output_type": "stream",
     "text": [
      "20900it [6:26:05,  1.17s/it]"
     ]
    },
    {
     "name": "stdout",
     "output_type": "stream",
     "text": [
      "crawl/spotify_matching/temp_data_artists_matched.csv\n"
     ]
    },
    {
     "name": "stderr",
     "output_type": "stream",
     "text": [
      "21000it [6:27:58,  1.17s/it]"
     ]
    },
    {
     "name": "stdout",
     "output_type": "stream",
     "text": [
      "crawl/spotify_matching/temp_data_artists_matched.csv\n"
     ]
    },
    {
     "name": "stderr",
     "output_type": "stream",
     "text": [
      "21100it [6:29:49,  1.15s/it]"
     ]
    },
    {
     "name": "stdout",
     "output_type": "stream",
     "text": [
      "crawl/spotify_matching/temp_data_artists_matched.csv\n"
     ]
    },
    {
     "name": "stderr",
     "output_type": "stream",
     "text": [
      "21200it [6:31:39,  1.14s/it]"
     ]
    },
    {
     "name": "stdout",
     "output_type": "stream",
     "text": [
      "crawl/spotify_matching/temp_data_artists_matched.csv\n"
     ]
    },
    {
     "name": "stderr",
     "output_type": "stream",
     "text": [
      "21300it [6:33:29,  1.15s/it]"
     ]
    },
    {
     "name": "stdout",
     "output_type": "stream",
     "text": [
      "crawl/spotify_matching/temp_data_artists_matched.csv\n"
     ]
    },
    {
     "name": "stderr",
     "output_type": "stream",
     "text": [
      "21400it [6:35:20,  1.13s/it]"
     ]
    },
    {
     "name": "stdout",
     "output_type": "stream",
     "text": [
      "crawl/spotify_matching/temp_data_artists_matched.csv\n"
     ]
    },
    {
     "name": "stderr",
     "output_type": "stream",
     "text": [
      "21500it [6:37:10,  1.15s/it]"
     ]
    },
    {
     "name": "stdout",
     "output_type": "stream",
     "text": [
      "crawl/spotify_matching/temp_data_artists_matched.csv\n"
     ]
    },
    {
     "name": "stderr",
     "output_type": "stream",
     "text": [
      "21600it [6:39:01,  1.17s/it]"
     ]
    },
    {
     "name": "stdout",
     "output_type": "stream",
     "text": [
      "crawl/spotify_matching/temp_data_artists_matched.csv\n"
     ]
    },
    {
     "name": "stderr",
     "output_type": "stream",
     "text": [
      "21700it [6:40:51,  1.16s/it]"
     ]
    },
    {
     "name": "stdout",
     "output_type": "stream",
     "text": [
      "crawl/spotify_matching/temp_data_artists_matched.csv\n"
     ]
    },
    {
     "name": "stderr",
     "output_type": "stream",
     "text": [
      "21800it [6:42:41,  1.13s/it]"
     ]
    },
    {
     "name": "stdout",
     "output_type": "stream",
     "text": [
      "crawl/spotify_matching/temp_data_artists_matched.csv\n"
     ]
    },
    {
     "name": "stderr",
     "output_type": "stream",
     "text": [
      "21900it [6:44:32,  1.13s/it]"
     ]
    },
    {
     "name": "stdout",
     "output_type": "stream",
     "text": [
      "crawl/spotify_matching/temp_data_artists_matched.csv\n"
     ]
    },
    {
     "name": "stderr",
     "output_type": "stream",
     "text": [
      "22000it [6:46:23,  1.14s/it]"
     ]
    },
    {
     "name": "stdout",
     "output_type": "stream",
     "text": [
      "crawl/spotify_matching/temp_data_artists_matched.csv\n"
     ]
    },
    {
     "name": "stderr",
     "output_type": "stream",
     "text": [
      "22100it [6:48:14,  1.14s/it]"
     ]
    },
    {
     "name": "stdout",
     "output_type": "stream",
     "text": [
      "crawl/spotify_matching/temp_data_artists_matched.csv\n"
     ]
    },
    {
     "name": "stderr",
     "output_type": "stream",
     "text": [
      "22200it [6:50:04,  1.14s/it]"
     ]
    },
    {
     "name": "stdout",
     "output_type": "stream",
     "text": [
      "crawl/spotify_matching/temp_data_artists_matched.csv\n"
     ]
    },
    {
     "name": "stderr",
     "output_type": "stream",
     "text": [
      "22300it [6:51:54,  1.15s/it]"
     ]
    },
    {
     "name": "stdout",
     "output_type": "stream",
     "text": [
      "crawl/spotify_matching/temp_data_artists_matched.csv\n"
     ]
    },
    {
     "name": "stderr",
     "output_type": "stream",
     "text": [
      "22400it [6:53:46,  1.24s/it]"
     ]
    },
    {
     "name": "stdout",
     "output_type": "stream",
     "text": [
      "crawl/spotify_matching/temp_data_artists_matched.csv\n"
     ]
    },
    {
     "name": "stderr",
     "output_type": "stream",
     "text": [
      "22500it [6:55:37,  1.15s/it]"
     ]
    },
    {
     "name": "stdout",
     "output_type": "stream",
     "text": [
      "crawl/spotify_matching/temp_data_artists_matched.csv\n"
     ]
    },
    {
     "name": "stderr",
     "output_type": "stream",
     "text": [
      "22600it [6:57:27,  1.17s/it]"
     ]
    },
    {
     "name": "stdout",
     "output_type": "stream",
     "text": [
      "crawl/spotify_matching/temp_data_artists_matched.csv\n"
     ]
    },
    {
     "name": "stderr",
     "output_type": "stream",
     "text": [
      "22700it [6:59:17,  1.15s/it]"
     ]
    },
    {
     "name": "stdout",
     "output_type": "stream",
     "text": [
      "crawl/spotify_matching/temp_data_artists_matched.csv\n"
     ]
    },
    {
     "name": "stderr",
     "output_type": "stream",
     "text": [
      "22800it [7:01:08,  1.17s/it]"
     ]
    },
    {
     "name": "stdout",
     "output_type": "stream",
     "text": [
      "crawl/spotify_matching/temp_data_artists_matched.csv\n"
     ]
    },
    {
     "name": "stderr",
     "output_type": "stream",
     "text": [
      "22900it [7:02:59,  1.15s/it]"
     ]
    },
    {
     "name": "stdout",
     "output_type": "stream",
     "text": [
      "crawl/spotify_matching/temp_data_artists_matched.csv\n"
     ]
    },
    {
     "name": "stderr",
     "output_type": "stream",
     "text": [
      "23000it [7:04:49,  1.13s/it]"
     ]
    },
    {
     "name": "stdout",
     "output_type": "stream",
     "text": [
      "crawl/spotify_matching/temp_data_artists_matched.csv\n"
     ]
    },
    {
     "name": "stderr",
     "output_type": "stream",
     "text": [
      "23100it [7:06:40,  1.14s/it]"
     ]
    },
    {
     "name": "stdout",
     "output_type": "stream",
     "text": [
      "crawl/spotify_matching/temp_data_artists_matched.csv\n"
     ]
    },
    {
     "name": "stderr",
     "output_type": "stream",
     "text": [
      "23200it [7:08:30,  1.17s/it]"
     ]
    },
    {
     "name": "stdout",
     "output_type": "stream",
     "text": [
      "crawl/spotify_matching/temp_data_artists_matched.csv\n"
     ]
    },
    {
     "name": "stderr",
     "output_type": "stream",
     "text": [
      "23300it [7:10:20,  1.13s/it]"
     ]
    },
    {
     "name": "stdout",
     "output_type": "stream",
     "text": [
      "crawl/spotify_matching/temp_data_artists_matched.csv\n"
     ]
    },
    {
     "name": "stderr",
     "output_type": "stream",
     "text": [
      "23400it [7:12:11,  1.16s/it]"
     ]
    },
    {
     "name": "stdout",
     "output_type": "stream",
     "text": [
      "crawl/spotify_matching/temp_data_artists_matched.csv\n"
     ]
    },
    {
     "name": "stderr",
     "output_type": "stream",
     "text": [
      "23500it [7:14:01,  1.15s/it]"
     ]
    },
    {
     "name": "stdout",
     "output_type": "stream",
     "text": [
      "crawl/spotify_matching/temp_data_artists_matched.csv\n"
     ]
    },
    {
     "name": "stderr",
     "output_type": "stream",
     "text": [
      "23600it [7:15:52,  1.20s/it]"
     ]
    },
    {
     "name": "stdout",
     "output_type": "stream",
     "text": [
      "crawl/spotify_matching/temp_data_artists_matched.csv\n"
     ]
    },
    {
     "name": "stderr",
     "output_type": "stream",
     "text": [
      "23700it [7:17:43,  1.13s/it]"
     ]
    },
    {
     "name": "stdout",
     "output_type": "stream",
     "text": [
      "crawl/spotify_matching/temp_data_artists_matched.csv\n"
     ]
    },
    {
     "name": "stderr",
     "output_type": "stream",
     "text": [
      "23800it [7:19:35,  1.15s/it]"
     ]
    },
    {
     "name": "stdout",
     "output_type": "stream",
     "text": [
      "crawl/spotify_matching/temp_data_artists_matched.csv\n"
     ]
    },
    {
     "name": "stderr",
     "output_type": "stream",
     "text": [
      "23900it [7:21:26,  1.17s/it]"
     ]
    },
    {
     "name": "stdout",
     "output_type": "stream",
     "text": [
      "crawl/spotify_matching/temp_data_artists_matched.csv\n"
     ]
    },
    {
     "name": "stderr",
     "output_type": "stream",
     "text": [
      "24000it [7:23:17,  1.14s/it]"
     ]
    },
    {
     "name": "stdout",
     "output_type": "stream",
     "text": [
      "crawl/spotify_matching/temp_data_artists_matched.csv\n"
     ]
    },
    {
     "name": "stderr",
     "output_type": "stream",
     "text": [
      "24100it [7:25:07,  1.13s/it]"
     ]
    },
    {
     "name": "stdout",
     "output_type": "stream",
     "text": [
      "crawl/spotify_matching/temp_data_artists_matched.csv\n"
     ]
    },
    {
     "name": "stderr",
     "output_type": "stream",
     "text": [
      "24200it [7:26:58,  1.14s/it]"
     ]
    },
    {
     "name": "stdout",
     "output_type": "stream",
     "text": [
      "crawl/spotify_matching/temp_data_artists_matched.csv\n"
     ]
    },
    {
     "name": "stderr",
     "output_type": "stream",
     "text": [
      "24300it [7:28:49,  1.14s/it]"
     ]
    },
    {
     "name": "stdout",
     "output_type": "stream",
     "text": [
      "crawl/spotify_matching/temp_data_artists_matched.csv\n"
     ]
    },
    {
     "name": "stderr",
     "output_type": "stream",
     "text": [
      "24400it [7:30:39,  1.14s/it]"
     ]
    },
    {
     "name": "stdout",
     "output_type": "stream",
     "text": [
      "crawl/spotify_matching/temp_data_artists_matched.csv\n"
     ]
    },
    {
     "name": "stderr",
     "output_type": "stream",
     "text": [
      "24500it [7:32:29,  1.12s/it]"
     ]
    },
    {
     "name": "stdout",
     "output_type": "stream",
     "text": [
      "crawl/spotify_matching/temp_data_artists_matched.csv\n"
     ]
    },
    {
     "name": "stderr",
     "output_type": "stream",
     "text": [
      "24600it [7:34:19,  1.13s/it]"
     ]
    },
    {
     "name": "stdout",
     "output_type": "stream",
     "text": [
      "crawl/spotify_matching/temp_data_artists_matched.csv\n"
     ]
    },
    {
     "name": "stderr",
     "output_type": "stream",
     "text": [
      "24700it [7:36:09,  1.13s/it]"
     ]
    },
    {
     "name": "stdout",
     "output_type": "stream",
     "text": [
      "crawl/spotify_matching/temp_data_artists_matched.csv\n"
     ]
    },
    {
     "name": "stderr",
     "output_type": "stream",
     "text": [
      "24800it [7:37:59,  1.14s/it]"
     ]
    },
    {
     "name": "stdout",
     "output_type": "stream",
     "text": [
      "crawl/spotify_matching/temp_data_artists_matched.csv\n"
     ]
    },
    {
     "name": "stderr",
     "output_type": "stream",
     "text": [
      "24900it [7:39:49,  1.14s/it]"
     ]
    },
    {
     "name": "stdout",
     "output_type": "stream",
     "text": [
      "crawl/spotify_matching/temp_data_artists_matched.csv\n"
     ]
    },
    {
     "name": "stderr",
     "output_type": "stream",
     "text": [
      "25000it [7:41:40,  1.16s/it]"
     ]
    },
    {
     "name": "stdout",
     "output_type": "stream",
     "text": [
      "crawl/spotify_matching/temp_data_artists_matched.csv\n"
     ]
    },
    {
     "name": "stderr",
     "output_type": "stream",
     "text": [
      "25100it [7:43:31,  1.17s/it]"
     ]
    },
    {
     "name": "stdout",
     "output_type": "stream",
     "text": [
      "crawl/spotify_matching/temp_data_artists_matched.csv\n"
     ]
    },
    {
     "name": "stderr",
     "output_type": "stream",
     "text": [
      "25200it [7:45:22,  1.20s/it]"
     ]
    },
    {
     "name": "stdout",
     "output_type": "stream",
     "text": [
      "crawl/spotify_matching/temp_data_artists_matched.csv\n"
     ]
    },
    {
     "name": "stderr",
     "output_type": "stream",
     "text": [
      "25300it [7:47:14,  1.15s/it]"
     ]
    },
    {
     "name": "stdout",
     "output_type": "stream",
     "text": [
      "crawl/spotify_matching/temp_data_artists_matched.csv\n"
     ]
    },
    {
     "name": "stderr",
     "output_type": "stream",
     "text": [
      "25400it [7:49:05,  1.16s/it]"
     ]
    },
    {
     "name": "stdout",
     "output_type": "stream",
     "text": [
      "crawl/spotify_matching/temp_data_artists_matched.csv\n"
     ]
    },
    {
     "name": "stderr",
     "output_type": "stream",
     "text": [
      "25500it [7:50:57,  1.14s/it]"
     ]
    },
    {
     "name": "stdout",
     "output_type": "stream",
     "text": [
      "crawl/spotify_matching/temp_data_artists_matched.csv\n"
     ]
    },
    {
     "name": "stderr",
     "output_type": "stream",
     "text": [
      "25600it [7:52:47,  1.16s/it]"
     ]
    },
    {
     "name": "stdout",
     "output_type": "stream",
     "text": [
      "crawl/spotify_matching/temp_data_artists_matched.csv\n"
     ]
    },
    {
     "name": "stderr",
     "output_type": "stream",
     "text": [
      "25700it [7:54:38,  1.14s/it]"
     ]
    },
    {
     "name": "stdout",
     "output_type": "stream",
     "text": [
      "crawl/spotify_matching/temp_data_artists_matched.csv\n"
     ]
    },
    {
     "name": "stderr",
     "output_type": "stream",
     "text": [
      "25800it [7:56:29,  1.14s/it]"
     ]
    },
    {
     "name": "stdout",
     "output_type": "stream",
     "text": [
      "crawl/spotify_matching/temp_data_artists_matched.csv\n"
     ]
    },
    {
     "name": "stderr",
     "output_type": "stream",
     "text": [
      "25900it [7:58:20,  1.15s/it]"
     ]
    },
    {
     "name": "stdout",
     "output_type": "stream",
     "text": [
      "crawl/spotify_matching/temp_data_artists_matched.csv\n"
     ]
    },
    {
     "name": "stderr",
     "output_type": "stream",
     "text": [
      "26000it [8:00:10,  1.14s/it]"
     ]
    },
    {
     "name": "stdout",
     "output_type": "stream",
     "text": [
      "crawl/spotify_matching/temp_data_artists_matched.csv\n"
     ]
    },
    {
     "name": "stderr",
     "output_type": "stream",
     "text": [
      "26100it [8:02:01,  1.17s/it]"
     ]
    },
    {
     "name": "stdout",
     "output_type": "stream",
     "text": [
      "crawl/spotify_matching/temp_data_artists_matched.csv\n"
     ]
    },
    {
     "name": "stderr",
     "output_type": "stream",
     "text": [
      "26200it [8:03:51,  1.14s/it]"
     ]
    },
    {
     "name": "stdout",
     "output_type": "stream",
     "text": [
      "crawl/spotify_matching/temp_data_artists_matched.csv\n"
     ]
    },
    {
     "name": "stderr",
     "output_type": "stream",
     "text": [
      "26300it [8:05:42,  1.17s/it]"
     ]
    },
    {
     "name": "stdout",
     "output_type": "stream",
     "text": [
      "crawl/spotify_matching/temp_data_artists_matched.csv\n"
     ]
    },
    {
     "name": "stderr",
     "output_type": "stream",
     "text": [
      "26400it [8:07:33,  1.13s/it]"
     ]
    },
    {
     "name": "stdout",
     "output_type": "stream",
     "text": [
      "crawl/spotify_matching/temp_data_artists_matched.csv\n"
     ]
    },
    {
     "name": "stderr",
     "output_type": "stream",
     "text": [
      "26500it [8:09:23,  1.13s/it]"
     ]
    },
    {
     "name": "stdout",
     "output_type": "stream",
     "text": [
      "crawl/spotify_matching/temp_data_artists_matched.csv\n"
     ]
    },
    {
     "name": "stderr",
     "output_type": "stream",
     "text": [
      "26600it [8:11:16,  1.15s/it]"
     ]
    },
    {
     "name": "stdout",
     "output_type": "stream",
     "text": [
      "crawl/spotify_matching/temp_data_artists_matched.csv\n"
     ]
    },
    {
     "name": "stderr",
     "output_type": "stream",
     "text": [
      "26700it [8:13:07,  1.14s/it]"
     ]
    },
    {
     "name": "stdout",
     "output_type": "stream",
     "text": [
      "crawl/spotify_matching/temp_data_artists_matched.csv\n"
     ]
    },
    {
     "name": "stderr",
     "output_type": "stream",
     "text": [
      "26800it [8:14:57,  1.14s/it]"
     ]
    },
    {
     "name": "stdout",
     "output_type": "stream",
     "text": [
      "crawl/spotify_matching/temp_data_artists_matched.csv\n"
     ]
    },
    {
     "name": "stderr",
     "output_type": "stream",
     "text": [
      "26900it [8:16:48,  1.17s/it]"
     ]
    },
    {
     "name": "stdout",
     "output_type": "stream",
     "text": [
      "crawl/spotify_matching/temp_data_artists_matched.csv\n"
     ]
    },
    {
     "name": "stderr",
     "output_type": "stream",
     "text": [
      "27000it [8:18:39,  1.13s/it]"
     ]
    },
    {
     "name": "stdout",
     "output_type": "stream",
     "text": [
      "crawl/spotify_matching/temp_data_artists_matched.csv\n"
     ]
    },
    {
     "name": "stderr",
     "output_type": "stream",
     "text": [
      "27100it [8:20:30,  1.15s/it]"
     ]
    },
    {
     "name": "stdout",
     "output_type": "stream",
     "text": [
      "crawl/spotify_matching/temp_data_artists_matched.csv\n"
     ]
    },
    {
     "name": "stderr",
     "output_type": "stream",
     "text": [
      "27200it [8:22:20,  1.16s/it]"
     ]
    },
    {
     "name": "stdout",
     "output_type": "stream",
     "text": [
      "crawl/spotify_matching/temp_data_artists_matched.csv\n"
     ]
    },
    {
     "name": "stderr",
     "output_type": "stream",
     "text": [
      "27300it [8:24:11,  1.15s/it]"
     ]
    },
    {
     "name": "stdout",
     "output_type": "stream",
     "text": [
      "crawl/spotify_matching/temp_data_artists_matched.csv\n"
     ]
    },
    {
     "name": "stderr",
     "output_type": "stream",
     "text": [
      "27400it [8:26:02,  1.16s/it]"
     ]
    },
    {
     "name": "stdout",
     "output_type": "stream",
     "text": [
      "crawl/spotify_matching/temp_data_artists_matched.csv\n"
     ]
    },
    {
     "name": "stderr",
     "output_type": "stream",
     "text": [
      "27500it [8:27:53,  1.14s/it]"
     ]
    },
    {
     "name": "stdout",
     "output_type": "stream",
     "text": [
      "crawl/spotify_matching/temp_data_artists_matched.csv\n"
     ]
    },
    {
     "name": "stderr",
     "output_type": "stream",
     "text": [
      "27600it [8:29:44,  1.15s/it]"
     ]
    },
    {
     "name": "stdout",
     "output_type": "stream",
     "text": [
      "crawl/spotify_matching/temp_data_artists_matched.csv\n"
     ]
    },
    {
     "name": "stderr",
     "output_type": "stream",
     "text": [
      "27700it [8:31:37,  1.17s/it]"
     ]
    },
    {
     "name": "stdout",
     "output_type": "stream",
     "text": [
      "crawl/spotify_matching/temp_data_artists_matched.csv\n"
     ]
    },
    {
     "name": "stderr",
     "output_type": "stream",
     "text": [
      "27800it [8:33:31,  1.22s/it]"
     ]
    },
    {
     "name": "stdout",
     "output_type": "stream",
     "text": [
      "crawl/spotify_matching/temp_data_artists_matched.csv\n"
     ]
    },
    {
     "name": "stderr",
     "output_type": "stream",
     "text": [
      "27900it [8:35:23,  1.14s/it]"
     ]
    },
    {
     "name": "stdout",
     "output_type": "stream",
     "text": [
      "crawl/spotify_matching/temp_data_artists_matched.csv\n"
     ]
    },
    {
     "name": "stderr",
     "output_type": "stream",
     "text": [
      "28000it [8:37:16,  1.19s/it]"
     ]
    },
    {
     "name": "stdout",
     "output_type": "stream",
     "text": [
      "crawl/spotify_matching/temp_data_artists_matched.csv\n"
     ]
    },
    {
     "name": "stderr",
     "output_type": "stream",
     "text": [
      "28100it [8:39:10,  1.30s/it]"
     ]
    },
    {
     "name": "stdout",
     "output_type": "stream",
     "text": [
      "crawl/spotify_matching/temp_data_artists_matched.csv\n"
     ]
    },
    {
     "name": "stderr",
     "output_type": "stream",
     "text": [
      "28200it [8:41:04,  1.16s/it]"
     ]
    },
    {
     "name": "stdout",
     "output_type": "stream",
     "text": [
      "crawl/spotify_matching/temp_data_artists_matched.csv\n"
     ]
    },
    {
     "name": "stderr",
     "output_type": "stream",
     "text": [
      "28300it [8:42:55,  1.15s/it]"
     ]
    },
    {
     "name": "stdout",
     "output_type": "stream",
     "text": [
      "crawl/spotify_matching/temp_data_artists_matched.csv\n"
     ]
    },
    {
     "name": "stderr",
     "output_type": "stream",
     "text": [
      "28400it [8:44:47,  1.14s/it]"
     ]
    },
    {
     "name": "stdout",
     "output_type": "stream",
     "text": [
      "crawl/spotify_matching/temp_data_artists_matched.csv\n"
     ]
    },
    {
     "name": "stderr",
     "output_type": "stream",
     "text": [
      "28500it [8:46:38,  1.15s/it]"
     ]
    },
    {
     "name": "stdout",
     "output_type": "stream",
     "text": [
      "crawl/spotify_matching/temp_data_artists_matched.csv\n"
     ]
    },
    {
     "name": "stderr",
     "output_type": "stream",
     "text": [
      "28600it [8:48:31,  1.18s/it]"
     ]
    },
    {
     "name": "stdout",
     "output_type": "stream",
     "text": [
      "crawl/spotify_matching/temp_data_artists_matched.csv\n"
     ]
    },
    {
     "name": "stderr",
     "output_type": "stream",
     "text": [
      "28700it [8:50:22,  1.14s/it]"
     ]
    },
    {
     "name": "stdout",
     "output_type": "stream",
     "text": [
      "crawl/spotify_matching/temp_data_artists_matched.csv\n"
     ]
    },
    {
     "name": "stderr",
     "output_type": "stream",
     "text": [
      "28800it [8:52:14,  1.15s/it]"
     ]
    },
    {
     "name": "stdout",
     "output_type": "stream",
     "text": [
      "crawl/spotify_matching/temp_data_artists_matched.csv\n"
     ]
    },
    {
     "name": "stderr",
     "output_type": "stream",
     "text": [
      "28900it [8:54:04,  1.15s/it]"
     ]
    },
    {
     "name": "stdout",
     "output_type": "stream",
     "text": [
      "crawl/spotify_matching/temp_data_artists_matched.csv\n"
     ]
    },
    {
     "name": "stderr",
     "output_type": "stream",
     "text": [
      "29000it [8:55:55,  1.16s/it]"
     ]
    },
    {
     "name": "stdout",
     "output_type": "stream",
     "text": [
      "crawl/spotify_matching/temp_data_artists_matched.csv\n"
     ]
    },
    {
     "name": "stderr",
     "output_type": "stream",
     "text": [
      "29100it [8:57:46,  1.15s/it]"
     ]
    },
    {
     "name": "stdout",
     "output_type": "stream",
     "text": [
      "crawl/spotify_matching/temp_data_artists_matched.csv\n"
     ]
    },
    {
     "name": "stderr",
     "output_type": "stream",
     "text": [
      "29200it [8:59:37,  1.13s/it]"
     ]
    },
    {
     "name": "stdout",
     "output_type": "stream",
     "text": [
      "crawl/spotify_matching/temp_data_artists_matched.csv\n"
     ]
    },
    {
     "name": "stderr",
     "output_type": "stream",
     "text": [
      "29300it [9:01:28,  1.13s/it]"
     ]
    },
    {
     "name": "stdout",
     "output_type": "stream",
     "text": [
      "crawl/spotify_matching/temp_data_artists_matched.csv\n"
     ]
    },
    {
     "name": "stderr",
     "output_type": "stream",
     "text": [
      "29400it [9:03:19,  1.14s/it]"
     ]
    },
    {
     "name": "stdout",
     "output_type": "stream",
     "text": [
      "crawl/spotify_matching/temp_data_artists_matched.csv\n"
     ]
    },
    {
     "name": "stderr",
     "output_type": "stream",
     "text": [
      "29500it [9:05:10,  1.15s/it]"
     ]
    },
    {
     "name": "stdout",
     "output_type": "stream",
     "text": [
      "crawl/spotify_matching/temp_data_artists_matched.csv\n"
     ]
    },
    {
     "name": "stderr",
     "output_type": "stream",
     "text": [
      "29600it [9:07:01,  1.16s/it]"
     ]
    },
    {
     "name": "stdout",
     "output_type": "stream",
     "text": [
      "crawl/spotify_matching/temp_data_artists_matched.csv\n"
     ]
    },
    {
     "name": "stderr",
     "output_type": "stream",
     "text": [
      "29700it [9:08:52,  1.15s/it]"
     ]
    },
    {
     "name": "stdout",
     "output_type": "stream",
     "text": [
      "crawl/spotify_matching/temp_data_artists_matched.csv\n"
     ]
    },
    {
     "name": "stderr",
     "output_type": "stream",
     "text": [
      "29800it [9:10:43,  1.15s/it]"
     ]
    },
    {
     "name": "stdout",
     "output_type": "stream",
     "text": [
      "crawl/spotify_matching/temp_data_artists_matched.csv\n"
     ]
    },
    {
     "name": "stderr",
     "output_type": "stream",
     "text": [
      "29900it [9:12:35,  1.19s/it]"
     ]
    },
    {
     "name": "stdout",
     "output_type": "stream",
     "text": [
      "crawl/spotify_matching/temp_data_artists_matched.csv\n"
     ]
    },
    {
     "name": "stderr",
     "output_type": "stream",
     "text": [
      "30000it [9:14:26,  1.17s/it]"
     ]
    },
    {
     "name": "stdout",
     "output_type": "stream",
     "text": [
      "crawl/spotify_matching/temp_data_artists_matched.csv\n"
     ]
    },
    {
     "name": "stderr",
     "output_type": "stream",
     "text": [
      "30100it [9:16:18,  1.22s/it]"
     ]
    },
    {
     "name": "stdout",
     "output_type": "stream",
     "text": [
      "crawl/spotify_matching/temp_data_artists_matched.csv\n"
     ]
    },
    {
     "name": "stderr",
     "output_type": "stream",
     "text": [
      "30200it [9:18:09,  1.24s/it]"
     ]
    },
    {
     "name": "stdout",
     "output_type": "stream",
     "text": [
      "crawl/spotify_matching/temp_data_artists_matched.csv\n"
     ]
    },
    {
     "name": "stderr",
     "output_type": "stream",
     "text": [
      "30300it [9:20:00,  1.15s/it]"
     ]
    },
    {
     "name": "stdout",
     "output_type": "stream",
     "text": [
      "crawl/spotify_matching/temp_data_artists_matched.csv\n"
     ]
    },
    {
     "name": "stderr",
     "output_type": "stream",
     "text": [
      "30400it [9:21:51,  1.16s/it]"
     ]
    },
    {
     "name": "stdout",
     "output_type": "stream",
     "text": [
      "crawl/spotify_matching/temp_data_artists_matched.csv\n"
     ]
    },
    {
     "name": "stderr",
     "output_type": "stream",
     "text": [
      "30500it [9:23:44,  1.19s/it]"
     ]
    },
    {
     "name": "stdout",
     "output_type": "stream",
     "text": [
      "crawl/spotify_matching/temp_data_artists_matched.csv\n"
     ]
    },
    {
     "name": "stderr",
     "output_type": "stream",
     "text": [
      "30600it [9:25:35,  1.16s/it]"
     ]
    },
    {
     "name": "stdout",
     "output_type": "stream",
     "text": [
      "crawl/spotify_matching/temp_data_artists_matched.csv\n"
     ]
    },
    {
     "name": "stderr",
     "output_type": "stream",
     "text": [
      "30700it [9:27:26,  1.14s/it]"
     ]
    },
    {
     "name": "stdout",
     "output_type": "stream",
     "text": [
      "crawl/spotify_matching/temp_data_artists_matched.csv\n"
     ]
    },
    {
     "name": "stderr",
     "output_type": "stream",
     "text": [
      "30800it [9:29:18,  1.14s/it]"
     ]
    },
    {
     "name": "stdout",
     "output_type": "stream",
     "text": [
      "crawl/spotify_matching/temp_data_artists_matched.csv\n"
     ]
    },
    {
     "name": "stderr",
     "output_type": "stream",
     "text": [
      "30900it [9:31:09,  1.16s/it]"
     ]
    },
    {
     "name": "stdout",
     "output_type": "stream",
     "text": [
      "crawl/spotify_matching/temp_data_artists_matched.csv\n"
     ]
    },
    {
     "name": "stderr",
     "output_type": "stream",
     "text": [
      "31000it [9:32:59,  1.16s/it]"
     ]
    },
    {
     "name": "stdout",
     "output_type": "stream",
     "text": [
      "crawl/spotify_matching/temp_data_artists_matched.csv\n"
     ]
    },
    {
     "name": "stderr",
     "output_type": "stream",
     "text": [
      "31100it [9:34:50,  1.14s/it]"
     ]
    },
    {
     "name": "stdout",
     "output_type": "stream",
     "text": [
      "crawl/spotify_matching/temp_data_artists_matched.csv\n"
     ]
    },
    {
     "name": "stderr",
     "output_type": "stream",
     "text": [
      "31200it [9:36:42,  1.14s/it]"
     ]
    },
    {
     "name": "stdout",
     "output_type": "stream",
     "text": [
      "crawl/spotify_matching/temp_data_artists_matched.csv\n"
     ]
    },
    {
     "name": "stderr",
     "output_type": "stream",
     "text": [
      "31300it [9:38:33,  1.18s/it]"
     ]
    },
    {
     "name": "stdout",
     "output_type": "stream",
     "text": [
      "crawl/spotify_matching/temp_data_artists_matched.csv\n"
     ]
    },
    {
     "name": "stderr",
     "output_type": "stream",
     "text": [
      "31400it [9:40:25,  1.20s/it]"
     ]
    },
    {
     "name": "stdout",
     "output_type": "stream",
     "text": [
      "crawl/spotify_matching/temp_data_artists_matched.csv\n"
     ]
    },
    {
     "name": "stderr",
     "output_type": "stream",
     "text": [
      "31500it [9:42:18,  1.14s/it]"
     ]
    },
    {
     "name": "stdout",
     "output_type": "stream",
     "text": [
      "crawl/spotify_matching/temp_data_artists_matched.csv\n"
     ]
    },
    {
     "name": "stderr",
     "output_type": "stream",
     "text": [
      "31600it [9:44:14,  1.17s/it]"
     ]
    },
    {
     "name": "stdout",
     "output_type": "stream",
     "text": [
      "crawl/spotify_matching/temp_data_artists_matched.csv\n"
     ]
    },
    {
     "name": "stderr",
     "output_type": "stream",
     "text": [
      "31700it [9:46:08,  1.15s/it]"
     ]
    },
    {
     "name": "stdout",
     "output_type": "stream",
     "text": [
      "crawl/spotify_matching/temp_data_artists_matched.csv\n"
     ]
    },
    {
     "name": "stderr",
     "output_type": "stream",
     "text": [
      "31800it [9:48:00,  1.14s/it]"
     ]
    },
    {
     "name": "stdout",
     "output_type": "stream",
     "text": [
      "crawl/spotify_matching/temp_data_artists_matched.csv\n"
     ]
    },
    {
     "name": "stderr",
     "output_type": "stream",
     "text": [
      "31900it [9:49:52,  1.33s/it]"
     ]
    },
    {
     "name": "stdout",
     "output_type": "stream",
     "text": [
      "crawl/spotify_matching/temp_data_artists_matched.csv\n"
     ]
    },
    {
     "name": "stderr",
     "output_type": "stream",
     "text": [
      "32000it [9:51:44,  1.15s/it]"
     ]
    },
    {
     "name": "stdout",
     "output_type": "stream",
     "text": [
      "crawl/spotify_matching/temp_data_artists_matched.csv\n"
     ]
    },
    {
     "name": "stderr",
     "output_type": "stream",
     "text": [
      "32100it [9:53:36,  1.15s/it]"
     ]
    },
    {
     "name": "stdout",
     "output_type": "stream",
     "text": [
      "crawl/spotify_matching/temp_data_artists_matched.csv\n"
     ]
    },
    {
     "name": "stderr",
     "output_type": "stream",
     "text": [
      "32200it [9:55:28,  1.16s/it]"
     ]
    },
    {
     "name": "stdout",
     "output_type": "stream",
     "text": [
      "crawl/spotify_matching/temp_data_artists_matched.csv\n"
     ]
    },
    {
     "name": "stderr",
     "output_type": "stream",
     "text": [
      "32231it [9:56:02,  1.11s/it]\n"
     ]
    },
    {
     "data": {
      "text/html": [
       "<div>\n",
       "<style scoped>\n",
       "    .dataframe tbody tr th:only-of-type {\n",
       "        vertical-align: middle;\n",
       "    }\n",
       "\n",
       "    .dataframe tbody tr th {\n",
       "        vertical-align: top;\n",
       "    }\n",
       "\n",
       "    .dataframe thead th {\n",
       "        text-align: right;\n",
       "    }\n",
       "</style>\n",
       "<table border=\"1\" class=\"dataframe\">\n",
       "  <thead>\n",
       "    <tr style=\"text-align: right;\">\n",
       "      <th></th>\n",
       "      <th>artist_name</th>\n",
       "      <th>spotify_name</th>\n",
       "      <th>spotify_id</th>\n",
       "      <th>spotify_similarity</th>\n",
       "      <th>spotify_popularity</th>\n",
       "    </tr>\n",
       "  </thead>\n",
       "  <tbody>\n",
       "    <tr>\n",
       "      <th>/artists/3684861-chk-chk-chk</th>\n",
       "      <td>!!! (Chk Chk Chk)</td>\n",
       "      <td>!!!</td>\n",
       "      <td>1mmehjf7eHA10uHMisZGJg</td>\n",
       "      <td>0.30</td>\n",
       "      <td>47.0</td>\n",
       "    </tr>\n",
       "    <tr>\n",
       "      <th>/artists/694091-kadebostan</th>\n",
       "      <td>!!!Kadebostan!!!</td>\n",
       "      <td>Kadebostan</td>\n",
       "      <td>6hWRK8VkzbYP9p17M5APJR</td>\n",
       "      <td>0.77</td>\n",
       "      <td>11.0</td>\n",
       "    </tr>\n",
       "    <tr>\n",
       "      <th>/artists/5929284-brothers-in-bamako</th>\n",
       "      <td>\"Brothers In Bamako\"</td>\n",
       "      <td>NaN</td>\n",
       "      <td>NaN</td>\n",
       "      <td>NaN</td>\n",
       "      <td>NaN</td>\n",
       "    </tr>\n",
       "    <tr>\n",
       "      <th>/artists/8704378-floyd-division-the-austrian-pink-floyd-tribute-band</th>\n",
       "      <td>\"Floyd Division\" The Austrian Pink Floyd Tribu...</td>\n",
       "      <td>NaN</td>\n",
       "      <td>NaN</td>\n",
       "      <td>NaN</td>\n",
       "      <td>NaN</td>\n",
       "    </tr>\n",
       "    <tr>\n",
       "      <th>/artists/7172094-jazzetcetera-stewy-von-wattenwyl-group-feat-lisette-spinnler</th>\n",
       "      <td>\"Jazz...etcetera\" Stewy von Wattenwyl Group,  ...</td>\n",
       "      <td>NaN</td>\n",
       "      <td>NaN</td>\n",
       "      <td>NaN</td>\n",
       "      <td>NaN</td>\n",
       "    </tr>\n",
       "    <tr>\n",
       "      <th>...</th>\n",
       "      <td>...</td>\n",
       "      <td>...</td>\n",
       "      <td>...</td>\n",
       "      <td>...</td>\n",
       "      <td>...</td>\n",
       "    </tr>\n",
       "    <tr>\n",
       "      <th>/artists/4301-and-you-will-know-us-by-the-trail-of-dead</th>\n",
       "      <td>…And You Will Know Us by the Trail of Dead</td>\n",
       "      <td>...And You Will Know Us by the Trail of Dead</td>\n",
       "      <td>6wBUn8gMP85n8dPu6LoUcF</td>\n",
       "      <td>0.95</td>\n",
       "      <td>41.0</td>\n",
       "    </tr>\n",
       "    <tr>\n",
       "      <th>/artists/1099500-euuroshima</th>\n",
       "      <td>€urOshima</td>\n",
       "      <td>Taro Urashima</td>\n",
       "      <td>5RSxs4Rb82wINvjv5KJ7JK</td>\n",
       "      <td>0.64</td>\n",
       "      <td>36.0</td>\n",
       "    </tr>\n",
       "    <tr>\n",
       "      <th>/artists/9573874-belize-it</th>\n",
       "      <td>≈ Belize ≈</td>\n",
       "      <td>≈ Belize ≈</td>\n",
       "      <td>3b8bBMsmGoBd8gYn1pngNc</td>\n",
       "      <td>1.00</td>\n",
       "      <td>18.0</td>\n",
       "    </tr>\n",
       "    <tr>\n",
       "      <th>/artists/8889739-luo-chai-cao-yuan-wwww-prairie-wwww</th>\n",
       "      <td>落差草原 WWWW / Prairie WWWW</td>\n",
       "      <td>NaN</td>\n",
       "      <td>NaN</td>\n",
       "      <td>NaN</td>\n",
       "      <td>NaN</td>\n",
       "    </tr>\n",
       "    <tr>\n",
       "      <th>/artists/5427898-heymoonshaker</th>\n",
       "      <td>﻿﻿heymoonshaker</td>\n",
       "      <td>Heymoonshaker</td>\n",
       "      <td>1ar2o79WFRJbq4lci6jq55</td>\n",
       "      <td>0.93</td>\n",
       "      <td>28.0</td>\n",
       "    </tr>\n",
       "  </tbody>\n",
       "</table>\n",
       "<p>32231 rows × 5 columns</p>\n",
       "</div>"
      ],
      "text/plain": [
       "                                                                                          artist_name  \\\n",
       "/artists/3684861-chk-chk-chk                                                        !!! (Chk Chk Chk)   \n",
       "/artists/694091-kadebostan                                                           !!!Kadebostan!!!   \n",
       "/artists/5929284-brothers-in-bamako                                              \"Brothers In Bamako\"   \n",
       "/artists/8704378-floyd-division-the-austrian-pi...  \"Floyd Division\" The Austrian Pink Floyd Tribu...   \n",
       "/artists/7172094-jazzetcetera-stewy-von-wattenw...  \"Jazz...etcetera\" Stewy von Wattenwyl Group,  ...   \n",
       "...                                                                                               ...   \n",
       "/artists/4301-and-you-will-know-us-by-the-trail...         …And You Will Know Us by the Trail of Dead   \n",
       "/artists/1099500-euuroshima                                                                 €urOshima   \n",
       "/artists/9573874-belize-it                                                                ≈ Belize ≈    \n",
       "/artists/8889739-luo-chai-cao-yuan-wwww-prairie...                           落差草原 WWWW / Prairie WWWW   \n",
       "/artists/5427898-heymoonshaker                                                        ﻿﻿heymoonshaker   \n",
       "\n",
       "                                                                                    spotify_name  \\\n",
       "/artists/3684861-chk-chk-chk                                                                 !!!   \n",
       "/artists/694091-kadebostan                                                            Kadebostan   \n",
       "/artists/5929284-brothers-in-bamako                                                          NaN   \n",
       "/artists/8704378-floyd-division-the-austrian-pi...                                           NaN   \n",
       "/artists/7172094-jazzetcetera-stewy-von-wattenw...                                           NaN   \n",
       "...                                                                                          ...   \n",
       "/artists/4301-and-you-will-know-us-by-the-trail...  ...And You Will Know Us by the Trail of Dead   \n",
       "/artists/1099500-euuroshima                                                        Taro Urashima   \n",
       "/artists/9573874-belize-it                                                            ≈ Belize ≈   \n",
       "/artists/8889739-luo-chai-cao-yuan-wwww-prairie...                                           NaN   \n",
       "/artists/5427898-heymoonshaker                                                     Heymoonshaker   \n",
       "\n",
       "                                                                spotify_id  \\\n",
       "/artists/3684861-chk-chk-chk                        1mmehjf7eHA10uHMisZGJg   \n",
       "/artists/694091-kadebostan                          6hWRK8VkzbYP9p17M5APJR   \n",
       "/artists/5929284-brothers-in-bamako                                    NaN   \n",
       "/artists/8704378-floyd-division-the-austrian-pi...                     NaN   \n",
       "/artists/7172094-jazzetcetera-stewy-von-wattenw...                     NaN   \n",
       "...                                                                    ...   \n",
       "/artists/4301-and-you-will-know-us-by-the-trail...  6wBUn8gMP85n8dPu6LoUcF   \n",
       "/artists/1099500-euuroshima                         5RSxs4Rb82wINvjv5KJ7JK   \n",
       "/artists/9573874-belize-it                          3b8bBMsmGoBd8gYn1pngNc   \n",
       "/artists/8889739-luo-chai-cao-yuan-wwww-prairie...                     NaN   \n",
       "/artists/5427898-heymoonshaker                      1ar2o79WFRJbq4lci6jq55   \n",
       "\n",
       "                                                    spotify_similarity  \\\n",
       "/artists/3684861-chk-chk-chk                                      0.30   \n",
       "/artists/694091-kadebostan                                        0.77   \n",
       "/artists/5929284-brothers-in-bamako                                NaN   \n",
       "/artists/8704378-floyd-division-the-austrian-pi...                 NaN   \n",
       "/artists/7172094-jazzetcetera-stewy-von-wattenw...                 NaN   \n",
       "...                                                                ...   \n",
       "/artists/4301-and-you-will-know-us-by-the-trail...                0.95   \n",
       "/artists/1099500-euuroshima                                       0.64   \n",
       "/artists/9573874-belize-it                                        1.00   \n",
       "/artists/8889739-luo-chai-cao-yuan-wwww-prairie...                 NaN   \n",
       "/artists/5427898-heymoonshaker                                    0.93   \n",
       "\n",
       "                                                    spotify_popularity  \n",
       "/artists/3684861-chk-chk-chk                                      47.0  \n",
       "/artists/694091-kadebostan                                        11.0  \n",
       "/artists/5929284-brothers-in-bamako                                NaN  \n",
       "/artists/8704378-floyd-division-the-austrian-pi...                 NaN  \n",
       "/artists/7172094-jazzetcetera-stewy-von-wattenw...                 NaN  \n",
       "...                                                                ...  \n",
       "/artists/4301-and-you-will-know-us-by-the-trail...                41.0  \n",
       "/artists/1099500-euuroshima                                       36.0  \n",
       "/artists/9573874-belize-it                                        18.0  \n",
       "/artists/8889739-luo-chai-cao-yuan-wwww-prairie...                 NaN  \n",
       "/artists/5427898-heymoonshaker                                    28.0  \n",
       "\n",
       "[32231 rows x 5 columns]"
      ]
     },
     "execution_count": 9,
     "metadata": {},
     "output_type": "execute_result"
    }
   ],
   "source": [
    "# get the spotify id of every artist by searching the artist name on spotify\n",
    "\n",
    "counter = 0\n",
    "artists_matched_dict = dict()\n",
    "artists_matched_df = artists_df.copy()\n",
    "save_path = CRAWL_MATCH_FOLDER + 'temp_data_artists_matched.csv'\n",
    "\n",
    "for idx, row in tqdm(artists_df.iloc[:].iterrows()):\n",
    "    artist_name = row['artist_name']\n",
    "    artist_name_lower = artist_name.lower().rstrip()  #rstrip removes trailing whitespaces\n",
    "    #print(artist_name, artist_name_lower)\n",
    "    \n",
    "    artists_matched_df = search_spotify_artist(artist_name_lower, artists_matched_df)\n",
    "    \n",
    "    time.sleep(1)\n",
    "    counter += 1\n",
    "    \n",
    "    # save data at regular interval\n",
    "    if counter % 100 == 0:\n",
    "        save_temp_data(artists_matched_df, save_path)\n",
    "        pass\n",
    "    \n",
    "artists_matched_df"
   ]
  },
  {
   "cell_type": "code",
   "execution_count": 10,
   "id": "4e07b500-e3c5-46ed-b84d-b1db285371d7",
   "metadata": {},
   "outputs": [
    {
     "data": {
      "text/html": [
       "<div>\n",
       "<style scoped>\n",
       "    .dataframe tbody tr th:only-of-type {\n",
       "        vertical-align: middle;\n",
       "    }\n",
       "\n",
       "    .dataframe tbody tr th {\n",
       "        vertical-align: top;\n",
       "    }\n",
       "\n",
       "    .dataframe thead th {\n",
       "        text-align: right;\n",
       "    }\n",
       "</style>\n",
       "<table border=\"1\" class=\"dataframe\">\n",
       "  <thead>\n",
       "    <tr style=\"text-align: right;\">\n",
       "      <th></th>\n",
       "      <th>artist_name</th>\n",
       "      <th>spotify_name</th>\n",
       "      <th>spotify_id</th>\n",
       "      <th>spotify_similarity</th>\n",
       "      <th>spotify_popularity</th>\n",
       "    </tr>\n",
       "  </thead>\n",
       "  <tbody>\n",
       "    <tr>\n",
       "      <th>/artists/3684861-chk-chk-chk</th>\n",
       "      <td>!!! (Chk Chk Chk)</td>\n",
       "      <td>!!!</td>\n",
       "      <td>1mmehjf7eHA10uHMisZGJg</td>\n",
       "      <td>0.30</td>\n",
       "      <td>47.0</td>\n",
       "    </tr>\n",
       "    <tr>\n",
       "      <th>/artists/694091-kadebostan</th>\n",
       "      <td>!!!Kadebostan!!!</td>\n",
       "      <td>Kadebostan</td>\n",
       "      <td>6hWRK8VkzbYP9p17M5APJR</td>\n",
       "      <td>0.77</td>\n",
       "      <td>11.0</td>\n",
       "    </tr>\n",
       "    <tr>\n",
       "      <th>/artists/5929284-brothers-in-bamako</th>\n",
       "      <td>\"Brothers In Bamako\"</td>\n",
       "      <td>NaN</td>\n",
       "      <td>NaN</td>\n",
       "      <td>NaN</td>\n",
       "      <td>NaN</td>\n",
       "    </tr>\n",
       "    <tr>\n",
       "      <th>/artists/8704378-floyd-division-the-austrian-pink-floyd-tribute-band</th>\n",
       "      <td>\"Floyd Division\" The Austrian Pink Floyd Tribu...</td>\n",
       "      <td>NaN</td>\n",
       "      <td>NaN</td>\n",
       "      <td>NaN</td>\n",
       "      <td>NaN</td>\n",
       "    </tr>\n",
       "    <tr>\n",
       "      <th>/artists/7172094-jazzetcetera-stewy-von-wattenwyl-group-feat-lisette-spinnler</th>\n",
       "      <td>\"Jazz...etcetera\" Stewy von Wattenwyl Group,  ...</td>\n",
       "      <td>NaN</td>\n",
       "      <td>NaN</td>\n",
       "      <td>NaN</td>\n",
       "      <td>NaN</td>\n",
       "    </tr>\n",
       "    <tr>\n",
       "      <th>...</th>\n",
       "      <td>...</td>\n",
       "      <td>...</td>\n",
       "      <td>...</td>\n",
       "      <td>...</td>\n",
       "      <td>...</td>\n",
       "    </tr>\n",
       "    <tr>\n",
       "      <th>/artists/4301-and-you-will-know-us-by-the-trail-of-dead</th>\n",
       "      <td>…And You Will Know Us by the Trail of Dead</td>\n",
       "      <td>...And You Will Know Us by the Trail of Dead</td>\n",
       "      <td>6wBUn8gMP85n8dPu6LoUcF</td>\n",
       "      <td>0.95</td>\n",
       "      <td>41.0</td>\n",
       "    </tr>\n",
       "    <tr>\n",
       "      <th>/artists/1099500-euuroshima</th>\n",
       "      <td>€urOshima</td>\n",
       "      <td>Taro Urashima</td>\n",
       "      <td>5RSxs4Rb82wINvjv5KJ7JK</td>\n",
       "      <td>0.64</td>\n",
       "      <td>36.0</td>\n",
       "    </tr>\n",
       "    <tr>\n",
       "      <th>/artists/9573874-belize-it</th>\n",
       "      <td>≈ Belize ≈</td>\n",
       "      <td>≈ Belize ≈</td>\n",
       "      <td>3b8bBMsmGoBd8gYn1pngNc</td>\n",
       "      <td>1.00</td>\n",
       "      <td>18.0</td>\n",
       "    </tr>\n",
       "    <tr>\n",
       "      <th>/artists/8889739-luo-chai-cao-yuan-wwww-prairie-wwww</th>\n",
       "      <td>落差草原 WWWW / Prairie WWWW</td>\n",
       "      <td>NaN</td>\n",
       "      <td>NaN</td>\n",
       "      <td>NaN</td>\n",
       "      <td>NaN</td>\n",
       "    </tr>\n",
       "    <tr>\n",
       "      <th>/artists/5427898-heymoonshaker</th>\n",
       "      <td>﻿﻿heymoonshaker</td>\n",
       "      <td>Heymoonshaker</td>\n",
       "      <td>1ar2o79WFRJbq4lci6jq55</td>\n",
       "      <td>0.93</td>\n",
       "      <td>28.0</td>\n",
       "    </tr>\n",
       "  </tbody>\n",
       "</table>\n",
       "<p>32231 rows × 5 columns</p>\n",
       "</div>"
      ],
      "text/plain": [
       "                                                                                          artist_name  \\\n",
       "/artists/3684861-chk-chk-chk                                                        !!! (Chk Chk Chk)   \n",
       "/artists/694091-kadebostan                                                           !!!Kadebostan!!!   \n",
       "/artists/5929284-brothers-in-bamako                                              \"Brothers In Bamako\"   \n",
       "/artists/8704378-floyd-division-the-austrian-pi...  \"Floyd Division\" The Austrian Pink Floyd Tribu...   \n",
       "/artists/7172094-jazzetcetera-stewy-von-wattenw...  \"Jazz...etcetera\" Stewy von Wattenwyl Group,  ...   \n",
       "...                                                                                               ...   \n",
       "/artists/4301-and-you-will-know-us-by-the-trail...         …And You Will Know Us by the Trail of Dead   \n",
       "/artists/1099500-euuroshima                                                                 €urOshima   \n",
       "/artists/9573874-belize-it                                                                ≈ Belize ≈    \n",
       "/artists/8889739-luo-chai-cao-yuan-wwww-prairie...                           落差草原 WWWW / Prairie WWWW   \n",
       "/artists/5427898-heymoonshaker                                                        ﻿﻿heymoonshaker   \n",
       "\n",
       "                                                                                    spotify_name  \\\n",
       "/artists/3684861-chk-chk-chk                                                                 !!!   \n",
       "/artists/694091-kadebostan                                                            Kadebostan   \n",
       "/artists/5929284-brothers-in-bamako                                                          NaN   \n",
       "/artists/8704378-floyd-division-the-austrian-pi...                                           NaN   \n",
       "/artists/7172094-jazzetcetera-stewy-von-wattenw...                                           NaN   \n",
       "...                                                                                          ...   \n",
       "/artists/4301-and-you-will-know-us-by-the-trail...  ...And You Will Know Us by the Trail of Dead   \n",
       "/artists/1099500-euuroshima                                                        Taro Urashima   \n",
       "/artists/9573874-belize-it                                                            ≈ Belize ≈   \n",
       "/artists/8889739-luo-chai-cao-yuan-wwww-prairie...                                           NaN   \n",
       "/artists/5427898-heymoonshaker                                                     Heymoonshaker   \n",
       "\n",
       "                                                                spotify_id  \\\n",
       "/artists/3684861-chk-chk-chk                        1mmehjf7eHA10uHMisZGJg   \n",
       "/artists/694091-kadebostan                          6hWRK8VkzbYP9p17M5APJR   \n",
       "/artists/5929284-brothers-in-bamako                                    NaN   \n",
       "/artists/8704378-floyd-division-the-austrian-pi...                     NaN   \n",
       "/artists/7172094-jazzetcetera-stewy-von-wattenw...                     NaN   \n",
       "...                                                                    ...   \n",
       "/artists/4301-and-you-will-know-us-by-the-trail...  6wBUn8gMP85n8dPu6LoUcF   \n",
       "/artists/1099500-euuroshima                         5RSxs4Rb82wINvjv5KJ7JK   \n",
       "/artists/9573874-belize-it                          3b8bBMsmGoBd8gYn1pngNc   \n",
       "/artists/8889739-luo-chai-cao-yuan-wwww-prairie...                     NaN   \n",
       "/artists/5427898-heymoonshaker                      1ar2o79WFRJbq4lci6jq55   \n",
       "\n",
       "                                                    spotify_similarity  \\\n",
       "/artists/3684861-chk-chk-chk                                      0.30   \n",
       "/artists/694091-kadebostan                                        0.77   \n",
       "/artists/5929284-brothers-in-bamako                                NaN   \n",
       "/artists/8704378-floyd-division-the-austrian-pi...                 NaN   \n",
       "/artists/7172094-jazzetcetera-stewy-von-wattenw...                 NaN   \n",
       "...                                                                ...   \n",
       "/artists/4301-and-you-will-know-us-by-the-trail...                0.95   \n",
       "/artists/1099500-euuroshima                                       0.64   \n",
       "/artists/9573874-belize-it                                        1.00   \n",
       "/artists/8889739-luo-chai-cao-yuan-wwww-prairie...                 NaN   \n",
       "/artists/5427898-heymoonshaker                                    0.93   \n",
       "\n",
       "                                                    spotify_popularity  \n",
       "/artists/3684861-chk-chk-chk                                      47.0  \n",
       "/artists/694091-kadebostan                                        11.0  \n",
       "/artists/5929284-brothers-in-bamako                                NaN  \n",
       "/artists/8704378-floyd-division-the-austrian-pi...                 NaN  \n",
       "/artists/7172094-jazzetcetera-stewy-von-wattenw...                 NaN  \n",
       "...                                                                ...  \n",
       "/artists/4301-and-you-will-know-us-by-the-trail...                41.0  \n",
       "/artists/1099500-euuroshima                                       36.0  \n",
       "/artists/9573874-belize-it                                        18.0  \n",
       "/artists/8889739-luo-chai-cao-yuan-wwww-prairie...                 NaN  \n",
       "/artists/5427898-heymoonshaker                                    28.0  \n",
       "\n",
       "[32231 rows x 5 columns]"
      ]
     },
     "execution_count": 10,
     "metadata": {},
     "output_type": "execute_result"
    }
   ],
   "source": [
    "csv_filename = 'data/spotify/data_spotify_artists_matched_v2.csv'\n",
    "#artists_matched_df.to_csv(csv_filename, encoding='utf-8')\n",
    "artists_matched_df"
   ]
  },
  {
   "cell_type": "code",
   "execution_count": 11,
   "id": "2de33774-24a7-4b75-b179-2118c3ecb149",
   "metadata": {},
   "outputs": [
    {
     "data": {
      "text/html": [
       "<div>\n",
       "<style scoped>\n",
       "    .dataframe tbody tr th:only-of-type {\n",
       "        vertical-align: middle;\n",
       "    }\n",
       "\n",
       "    .dataframe tbody tr th {\n",
       "        vertical-align: top;\n",
       "    }\n",
       "\n",
       "    .dataframe thead th {\n",
       "        text-align: right;\n",
       "    }\n",
       "</style>\n",
       "<table border=\"1\" class=\"dataframe\">\n",
       "  <thead>\n",
       "    <tr style=\"text-align: right;\">\n",
       "      <th></th>\n",
       "      <th>artist_name</th>\n",
       "      <th>spotify_name</th>\n",
       "      <th>spotify_id</th>\n",
       "      <th>spotify_similarity</th>\n",
       "      <th>spotify_popularity</th>\n",
       "    </tr>\n",
       "  </thead>\n",
       "  <tbody>\n",
       "    <tr>\n",
       "      <th>/artists/5929284-brothers-in-bamako</th>\n",
       "      <td>\"Brothers In Bamako\"</td>\n",
       "      <td>NaN</td>\n",
       "      <td>NaN</td>\n",
       "      <td>NaN</td>\n",
       "      <td>NaN</td>\n",
       "    </tr>\n",
       "    <tr>\n",
       "      <th>/artists/8704378-floyd-division-the-austrian-pink-floyd-tribute-band</th>\n",
       "      <td>\"Floyd Division\" The Austrian Pink Floyd Tribu...</td>\n",
       "      <td>NaN</td>\n",
       "      <td>NaN</td>\n",
       "      <td>NaN</td>\n",
       "      <td>NaN</td>\n",
       "    </tr>\n",
       "    <tr>\n",
       "      <th>/artists/7172094-jazzetcetera-stewy-von-wattenwyl-group-feat-lisette-spinnler</th>\n",
       "      <td>\"Jazz...etcetera\" Stewy von Wattenwyl Group,  ...</td>\n",
       "      <td>NaN</td>\n",
       "      <td>NaN</td>\n",
       "      <td>NaN</td>\n",
       "      <td>NaN</td>\n",
       "    </tr>\n",
       "    <tr>\n",
       "      <th>/artists/7809989-and-francis-fruit</th>\n",
       "      <td>&amp; Francis Fruit</td>\n",
       "      <td>NaN</td>\n",
       "      <td>NaN</td>\n",
       "      <td>NaN</td>\n",
       "      <td>NaN</td>\n",
       "    </tr>\n",
       "    <tr>\n",
       "      <th>/artists/888062-food-for-ya-soul</th>\n",
       "      <td>*FOOD FOR YA SOUL*</td>\n",
       "      <td>NaN</td>\n",
       "      <td>NaN</td>\n",
       "      <td>NaN</td>\n",
       "      <td>NaN</td>\n",
       "    </tr>\n",
       "    <tr>\n",
       "      <th>...</th>\n",
       "      <td>...</td>\n",
       "      <td>...</td>\n",
       "      <td>...</td>\n",
       "      <td>...</td>\n",
       "      <td>...</td>\n",
       "    </tr>\n",
       "    <tr>\n",
       "      <th>/artists/7382169-eric-fernandez-choeurs-de-cordoue</th>\n",
       "      <td>Éric Fernandez Choeurs De Cordoue</td>\n",
       "      <td>NaN</td>\n",
       "      <td>NaN</td>\n",
       "      <td>NaN</td>\n",
       "      <td>NaN</td>\n",
       "    </tr>\n",
       "    <tr>\n",
       "      <th>/artists/7859544-opfelboum-und-palme</th>\n",
       "      <td>Öpfelboum Und Palme</td>\n",
       "      <td>NaN</td>\n",
       "      <td>NaN</td>\n",
       "      <td>NaN</td>\n",
       "      <td>NaN</td>\n",
       "    </tr>\n",
       "    <tr>\n",
       "      <th>/artists/4686513-ubers-meer</th>\n",
       "      <td>Übers Meer</td>\n",
       "      <td>NaN</td>\n",
       "      <td>NaN</td>\n",
       "      <td>NaN</td>\n",
       "      <td>NaN</td>\n",
       "    </tr>\n",
       "    <tr>\n",
       "      <th>/artists/4043776-uberreel</th>\n",
       "      <td>überreel</td>\n",
       "      <td>NaN</td>\n",
       "      <td>NaN</td>\n",
       "      <td>NaN</td>\n",
       "      <td>NaN</td>\n",
       "    </tr>\n",
       "    <tr>\n",
       "      <th>/artists/8889739-luo-chai-cao-yuan-wwww-prairie-wwww</th>\n",
       "      <td>落差草原 WWWW / Prairie WWWW</td>\n",
       "      <td>NaN</td>\n",
       "      <td>NaN</td>\n",
       "      <td>NaN</td>\n",
       "      <td>NaN</td>\n",
       "    </tr>\n",
       "  </tbody>\n",
       "</table>\n",
       "<p>3659 rows × 5 columns</p>\n",
       "</div>"
      ],
      "text/plain": [
       "                                                                                          artist_name  \\\n",
       "/artists/5929284-brothers-in-bamako                                              \"Brothers In Bamako\"   \n",
       "/artists/8704378-floyd-division-the-austrian-pi...  \"Floyd Division\" The Austrian Pink Floyd Tribu...   \n",
       "/artists/7172094-jazzetcetera-stewy-von-wattenw...  \"Jazz...etcetera\" Stewy von Wattenwyl Group,  ...   \n",
       "/artists/7809989-and-francis-fruit                                                    & Francis Fruit   \n",
       "/artists/888062-food-for-ya-soul                                                   *FOOD FOR YA SOUL*   \n",
       "...                                                                                               ...   \n",
       "/artists/7382169-eric-fernandez-choeurs-de-cordoue                  Éric Fernandez Choeurs De Cordoue   \n",
       "/artists/7859544-opfelboum-und-palme                                              Öpfelboum Und Palme   \n",
       "/artists/4686513-ubers-meer                                                                Übers Meer   \n",
       "/artists/4043776-uberreel                                                                    überreel   \n",
       "/artists/8889739-luo-chai-cao-yuan-wwww-prairie...                           落差草原 WWWW / Prairie WWWW   \n",
       "\n",
       "                                                   spotify_name spotify_id  \\\n",
       "/artists/5929284-brothers-in-bamako                         NaN        NaN   \n",
       "/artists/8704378-floyd-division-the-austrian-pi...          NaN        NaN   \n",
       "/artists/7172094-jazzetcetera-stewy-von-wattenw...          NaN        NaN   \n",
       "/artists/7809989-and-francis-fruit                          NaN        NaN   \n",
       "/artists/888062-food-for-ya-soul                            NaN        NaN   \n",
       "...                                                         ...        ...   \n",
       "/artists/7382169-eric-fernandez-choeurs-de-cordoue          NaN        NaN   \n",
       "/artists/7859544-opfelboum-und-palme                        NaN        NaN   \n",
       "/artists/4686513-ubers-meer                                 NaN        NaN   \n",
       "/artists/4043776-uberreel                                   NaN        NaN   \n",
       "/artists/8889739-luo-chai-cao-yuan-wwww-prairie...          NaN        NaN   \n",
       "\n",
       "                                                    spotify_similarity  \\\n",
       "/artists/5929284-brothers-in-bamako                                NaN   \n",
       "/artists/8704378-floyd-division-the-austrian-pi...                 NaN   \n",
       "/artists/7172094-jazzetcetera-stewy-von-wattenw...                 NaN   \n",
       "/artists/7809989-and-francis-fruit                                 NaN   \n",
       "/artists/888062-food-for-ya-soul                                   NaN   \n",
       "...                                                                ...   \n",
       "/artists/7382169-eric-fernandez-choeurs-de-cordoue                 NaN   \n",
       "/artists/7859544-opfelboum-und-palme                               NaN   \n",
       "/artists/4686513-ubers-meer                                        NaN   \n",
       "/artists/4043776-uberreel                                          NaN   \n",
       "/artists/8889739-luo-chai-cao-yuan-wwww-prairie...                 NaN   \n",
       "\n",
       "                                                    spotify_popularity  \n",
       "/artists/5929284-brothers-in-bamako                                NaN  \n",
       "/artists/8704378-floyd-division-the-austrian-pi...                 NaN  \n",
       "/artists/7172094-jazzetcetera-stewy-von-wattenw...                 NaN  \n",
       "/artists/7809989-and-francis-fruit                                 NaN  \n",
       "/artists/888062-food-for-ya-soul                                   NaN  \n",
       "...                                                                ...  \n",
       "/artists/7382169-eric-fernandez-choeurs-de-cordoue                 NaN  \n",
       "/artists/7859544-opfelboum-und-palme                               NaN  \n",
       "/artists/4686513-ubers-meer                                        NaN  \n",
       "/artists/4043776-uberreel                                          NaN  \n",
       "/artists/8889739-luo-chai-cao-yuan-wwww-prairie...                 NaN  \n",
       "\n",
       "[3659 rows x 5 columns]"
      ]
     },
     "execution_count": 11,
     "metadata": {},
     "output_type": "execute_result"
    }
   ],
   "source": [
    "# save all the artists without a spotify match\n",
    "\n",
    "no_match_df = artists_matched_df[artists_matched_df['spotify_id'].isna()]\n",
    "no_match_df.to_csv('data/spotify/data_spotify_artists_no_match_v2.csv', encoding='utf-8')\n",
    "no_match_df"
   ]
  },
  {
   "cell_type": "markdown",
   "id": "d61051fa-2f96-4efc-8b9f-10323663e985",
   "metadata": {
    "jp-MarkdownHeadingCollapsed": true,
    "tags": []
   },
   "source": [
    "---\n",
    "## Try to find spotify artist for unmatched artists\n",
    "---"
   ]
  },
  {
   "cell_type": "code",
   "execution_count": 58,
   "id": "5bd4cd4d-c3f5-4679-adf8-dca77b408af1",
   "metadata": {},
   "outputs": [
    {
     "data": {
      "text/html": [
       "<div>\n",
       "<style scoped>\n",
       "    .dataframe tbody tr th:only-of-type {\n",
       "        vertical-align: middle;\n",
       "    }\n",
       "\n",
       "    .dataframe tbody tr th {\n",
       "        vertical-align: top;\n",
       "    }\n",
       "\n",
       "    .dataframe thead th {\n",
       "        text-align: right;\n",
       "    }\n",
       "</style>\n",
       "<table border=\"1\" class=\"dataframe\">\n",
       "  <thead>\n",
       "    <tr style=\"text-align: right;\">\n",
       "      <th></th>\n",
       "      <th>artist_name</th>\n",
       "      <th>spotify_name</th>\n",
       "      <th>match_error</th>\n",
       "      <th>spotify_id</th>\n",
       "      <th>spotify_popularity</th>\n",
       "      <th>spotify_followers</th>\n",
       "      <th>spotify_listeners</th>\n",
       "    </tr>\n",
       "    <tr>\n",
       "      <th>artist_id</th>\n",
       "      <th></th>\n",
       "      <th></th>\n",
       "      <th></th>\n",
       "      <th></th>\n",
       "      <th></th>\n",
       "      <th></th>\n",
       "      <th></th>\n",
       "    </tr>\n",
       "  </thead>\n",
       "  <tbody>\n",
       "    <tr>\n",
       "      <th>/artists/10119580-22deg-halo</th>\n",
       "      <td>22° Halo</td>\n",
       "      <td>22º Halo</td>\n",
       "      <td></td>\n",
       "      <td>6p355yiyJc67iSNeWLM8WH</td>\n",
       "      <td>11</td>\n",
       "      <td>1067</td>\n",
       "      <td>1500</td>\n",
       "    </tr>\n",
       "    <tr>\n",
       "      <th>/artists/9804639-22-halo</th>\n",
       "      <td>22 Halo</td>\n",
       "      <td>22º Halo</td>\n",
       "      <td></td>\n",
       "      <td>6p355yiyJc67iSNeWLM8WH</td>\n",
       "      <td>11</td>\n",
       "      <td>1067</td>\n",
       "      <td>1500</td>\n",
       "    </tr>\n",
       "    <tr>\n",
       "      <th>/artists/7309389-a-crashed-blackbird-rosehip</th>\n",
       "      <td>A Crashed Blackbird Rosehip</td>\n",
       "      <td>A Crashed Blackbird Called Rosehip</td>\n",
       "      <td></td>\n",
       "      <td>1NKizqgwDCXtUbMHeqA2Tv</td>\n",
       "      <td>6</td>\n",
       "      <td>88</td>\n",
       "      <td>635</td>\n",
       "    </tr>\n",
       "    <tr>\n",
       "      <th>/artists/6506249-a-crashed-blackbird-called-rosehip</th>\n",
       "      <td>A Crashed Blackbird Called Rosehip</td>\n",
       "      <td>A Crashed Blackbird Called Rosehip</td>\n",
       "      <td></td>\n",
       "      <td>1NKizqgwDCXtUbMHeqA2Tv</td>\n",
       "      <td>6</td>\n",
       "      <td>88</td>\n",
       "      <td>635</td>\n",
       "    </tr>\n",
       "    <tr>\n",
       "      <th>/artists/5990259-aspell</th>\n",
       "      <td>A-Spell</td>\n",
       "      <td>A.Spell</td>\n",
       "      <td></td>\n",
       "      <td>4zkmCFtAa1ETWHoZ2sNGvO</td>\n",
       "      <td>0</td>\n",
       "      <td>25</td>\n",
       "      <td>9</td>\n",
       "    </tr>\n",
       "    <tr>\n",
       "      <th>...</th>\n",
       "      <td>...</td>\n",
       "      <td>...</td>\n",
       "      <td>...</td>\n",
       "      <td>...</td>\n",
       "      <td>...</td>\n",
       "      <td>...</td>\n",
       "      <td>...</td>\n",
       "    </tr>\n",
       "    <tr>\n",
       "      <th>/artists/531180-za</th>\n",
       "      <td>Za!</td>\n",
       "      <td>Zaz</td>\n",
       "      <td>X</td>\n",
       "      <td>1mbgj8ERPs8lWi7t5cYrdy</td>\n",
       "      <td>65</td>\n",
       "      <td>1195585</td>\n",
       "      <td>2100000</td>\n",
       "    </tr>\n",
       "    <tr>\n",
       "      <th>/artists/25827-zippo</th>\n",
       "      <td>Zippo</td>\n",
       "      <td>Zippo</td>\n",
       "      <td></td>\n",
       "      <td>7Int2nVSzSBL8UDty3jGAR</td>\n",
       "      <td>23</td>\n",
       "      <td>1363</td>\n",
       "      <td>1300</td>\n",
       "    </tr>\n",
       "    <tr>\n",
       "      <th>/artists/7284179-zippo-italy</th>\n",
       "      <td>Zippo</td>\n",
       "      <td>Zippo</td>\n",
       "      <td></td>\n",
       "      <td>7Int2nVSzSBL8UDty3jGAR</td>\n",
       "      <td>23</td>\n",
       "      <td>1363</td>\n",
       "      <td>1300</td>\n",
       "    </tr>\n",
       "    <tr>\n",
       "      <th>/artists/1095043-zombiezombie</th>\n",
       "      <td>Zombie-Zombie</td>\n",
       "      <td>Zombie Zombie</td>\n",
       "      <td></td>\n",
       "      <td>0HVcyKnveIOLkJdAGsE1pk</td>\n",
       "      <td>25</td>\n",
       "      <td>10524</td>\n",
       "      <td>19400</td>\n",
       "    </tr>\n",
       "    <tr>\n",
       "      <th>/artists/590994-zombie-zombie</th>\n",
       "      <td>Zombie Zombie</td>\n",
       "      <td>Zombie Zombie</td>\n",
       "      <td></td>\n",
       "      <td>0HVcyKnveIOLkJdAGsE1pk</td>\n",
       "      <td>25</td>\n",
       "      <td>10524</td>\n",
       "      <td>19400</td>\n",
       "    </tr>\n",
       "  </tbody>\n",
       "</table>\n",
       "<p>928 rows × 7 columns</p>\n",
       "</div>"
      ],
      "text/plain": [
       "                                                                           artist_name  \\\n",
       "artist_id                                                                                \n",
       "/artists/10119580-22deg-halo                                                  22° Halo   \n",
       "/artists/9804639-22-halo                                                       22 Halo   \n",
       "/artists/7309389-a-crashed-blackbird-rosehip               A Crashed Blackbird Rosehip   \n",
       "/artists/6506249-a-crashed-blackbird-called-ros...  A Crashed Blackbird Called Rosehip   \n",
       "/artists/5990259-aspell                                                        A-Spell   \n",
       "...                                                                                ...   \n",
       "/artists/531180-za                                                                 Za!   \n",
       "/artists/25827-zippo                                                             Zippo   \n",
       "/artists/7284179-zippo-italy                                                    Zippo    \n",
       "/artists/1095043-zombiezombie                                            Zombie-Zombie   \n",
       "/artists/590994-zombie-zombie                                            Zombie Zombie   \n",
       "\n",
       "                                                                          spotify_name  \\\n",
       "artist_id                                                                                \n",
       "/artists/10119580-22deg-halo                                                  22º Halo   \n",
       "/artists/9804639-22-halo                                                      22º Halo   \n",
       "/artists/7309389-a-crashed-blackbird-rosehip        A Crashed Blackbird Called Rosehip   \n",
       "/artists/6506249-a-crashed-blackbird-called-ros...  A Crashed Blackbird Called Rosehip   \n",
       "/artists/5990259-aspell                                                        A.Spell   \n",
       "...                                                                                ...   \n",
       "/artists/531180-za                                                                 Zaz   \n",
       "/artists/25827-zippo                                                             Zippo   \n",
       "/artists/7284179-zippo-italy                                                     Zippo   \n",
       "/artists/1095043-zombiezombie                                            Zombie Zombie   \n",
       "/artists/590994-zombie-zombie                                            Zombie Zombie   \n",
       "\n",
       "                                                   match_error  \\\n",
       "artist_id                                                        \n",
       "/artists/10119580-22deg-halo                                     \n",
       "/artists/9804639-22-halo                                         \n",
       "/artists/7309389-a-crashed-blackbird-rosehip                     \n",
       "/artists/6506249-a-crashed-blackbird-called-ros...               \n",
       "/artists/5990259-aspell                                          \n",
       "...                                                        ...   \n",
       "/artists/531180-za                                           X   \n",
       "/artists/25827-zippo                                             \n",
       "/artists/7284179-zippo-italy                                     \n",
       "/artists/1095043-zombiezombie                                    \n",
       "/artists/590994-zombie-zombie                                    \n",
       "\n",
       "                                                                spotify_id  \\\n",
       "artist_id                                                                    \n",
       "/artists/10119580-22deg-halo                        6p355yiyJc67iSNeWLM8WH   \n",
       "/artists/9804639-22-halo                            6p355yiyJc67iSNeWLM8WH   \n",
       "/artists/7309389-a-crashed-blackbird-rosehip        1NKizqgwDCXtUbMHeqA2Tv   \n",
       "/artists/6506249-a-crashed-blackbird-called-ros...  1NKizqgwDCXtUbMHeqA2Tv   \n",
       "/artists/5990259-aspell                             4zkmCFtAa1ETWHoZ2sNGvO   \n",
       "...                                                                    ...   \n",
       "/artists/531180-za                                  1mbgj8ERPs8lWi7t5cYrdy   \n",
       "/artists/25827-zippo                                7Int2nVSzSBL8UDty3jGAR   \n",
       "/artists/7284179-zippo-italy                        7Int2nVSzSBL8UDty3jGAR   \n",
       "/artists/1095043-zombiezombie                       0HVcyKnveIOLkJdAGsE1pk   \n",
       "/artists/590994-zombie-zombie                       0HVcyKnveIOLkJdAGsE1pk   \n",
       "\n",
       "                                                    spotify_popularity  \\\n",
       "artist_id                                                                \n",
       "/artists/10119580-22deg-halo                                        11   \n",
       "/artists/9804639-22-halo                                            11   \n",
       "/artists/7309389-a-crashed-blackbird-rosehip                         6   \n",
       "/artists/6506249-a-crashed-blackbird-called-ros...                   6   \n",
       "/artists/5990259-aspell                                              0   \n",
       "...                                                                ...   \n",
       "/artists/531180-za                                                  65   \n",
       "/artists/25827-zippo                                                23   \n",
       "/artists/7284179-zippo-italy                                        23   \n",
       "/artists/1095043-zombiezombie                                       25   \n",
       "/artists/590994-zombie-zombie                                       25   \n",
       "\n",
       "                                                    spotify_followers  \\\n",
       "artist_id                                                               \n",
       "/artists/10119580-22deg-halo                                     1067   \n",
       "/artists/9804639-22-halo                                         1067   \n",
       "/artists/7309389-a-crashed-blackbird-rosehip                       88   \n",
       "/artists/6506249-a-crashed-blackbird-called-ros...                 88   \n",
       "/artists/5990259-aspell                                            25   \n",
       "...                                                               ...   \n",
       "/artists/531180-za                                            1195585   \n",
       "/artists/25827-zippo                                             1363   \n",
       "/artists/7284179-zippo-italy                                     1363   \n",
       "/artists/1095043-zombiezombie                                   10524   \n",
       "/artists/590994-zombie-zombie                                   10524   \n",
       "\n",
       "                                                    spotify_listeners  \n",
       "artist_id                                                              \n",
       "/artists/10119580-22deg-halo                                     1500  \n",
       "/artists/9804639-22-halo                                         1500  \n",
       "/artists/7309389-a-crashed-blackbird-rosehip                      635  \n",
       "/artists/6506249-a-crashed-blackbird-called-ros...                635  \n",
       "/artists/5990259-aspell                                             9  \n",
       "...                                                               ...  \n",
       "/artists/531180-za                                            2100000  \n",
       "/artists/25827-zippo                                             1300  \n",
       "/artists/7284179-zippo-italy                                     1300  \n",
       "/artists/1095043-zombiezombie                                   19400  \n",
       "/artists/590994-zombie-zombie                                   19400  \n",
       "\n",
       "[928 rows x 7 columns]"
      ]
     },
     "execution_count": 58,
     "metadata": {},
     "output_type": "execute_result"
    }
   ],
   "source": [
    "with open('data/spotify/data_spotify_artists_multiple_matches_manual.csv', encoding='utf-8') as manual_file:\n",
    "    multiple_matches_df = pd.read_csv(manual_file, index_col=0)\n",
    "    multiple_matches_df['match_error'] = multiple_matches_df['match_error'].fillna('')\n",
    "    \n",
    "multiple_matches_df"
   ]
  },
  {
   "cell_type": "code",
   "execution_count": 63,
   "id": "618f6dc0-3fb8-4f4d-bd5a-d0f6175def60",
   "metadata": {},
   "outputs": [
    {
     "data": {
      "text/html": [
       "<div>\n",
       "<style scoped>\n",
       "    .dataframe tbody tr th:only-of-type {\n",
       "        vertical-align: middle;\n",
       "    }\n",
       "\n",
       "    .dataframe tbody tr th {\n",
       "        vertical-align: top;\n",
       "    }\n",
       "\n",
       "    .dataframe thead th {\n",
       "        text-align: right;\n",
       "    }\n",
       "</style>\n",
       "<table border=\"1\" class=\"dataframe\">\n",
       "  <thead>\n",
       "    <tr style=\"text-align: right;\">\n",
       "      <th></th>\n",
       "      <th>artist_name</th>\n",
       "      <th>spotify_name</th>\n",
       "      <th>match_error</th>\n",
       "      <th>spotify_id</th>\n",
       "      <th>spotify_popularity</th>\n",
       "      <th>spotify_followers</th>\n",
       "      <th>spotify_listeners</th>\n",
       "    </tr>\n",
       "    <tr>\n",
       "      <th>artist_id</th>\n",
       "      <th></th>\n",
       "      <th></th>\n",
       "      <th></th>\n",
       "      <th></th>\n",
       "      <th></th>\n",
       "      <th></th>\n",
       "      <th></th>\n",
       "    </tr>\n",
       "  </thead>\n",
       "  <tbody>\n",
       "    <tr>\n",
       "      <th>/artists/4323041-aeby</th>\n",
       "      <td>Aeby</td>\n",
       "      <td>Abby</td>\n",
       "      <td>X</td>\n",
       "      <td>4rNhP2V4a54UCel3QaVgGp</td>\n",
       "      <td>24</td>\n",
       "      <td>182</td>\n",
       "      <td>6900</td>\n",
       "    </tr>\n",
       "    <tr>\n",
       "      <th>/artists/8375378-agcrew</th>\n",
       "      <td>#AGCrew</td>\n",
       "      <td>Acres</td>\n",
       "      <td>X</td>\n",
       "      <td>3y43zXffnLmhyQD1K4QCmD</td>\n",
       "      <td>29</td>\n",
       "      <td>17632</td>\n",
       "      <td>28100</td>\n",
       "    </tr>\n",
       "    <tr>\n",
       "      <th>/artists/183136-alex</th>\n",
       "      <td>Alex</td>\n",
       "      <td>Alex G</td>\n",
       "      <td>X</td>\n",
       "      <td>6lcwlkAjBPSKnFBZjjZFJs</td>\n",
       "      <td>60</td>\n",
       "      <td>201082</td>\n",
       "      <td>1200000</td>\n",
       "    </tr>\n",
       "    <tr>\n",
       "      <th>/artists/4635043-alexs</th>\n",
       "      <td>Alex-s</td>\n",
       "      <td>Alex G</td>\n",
       "      <td>X</td>\n",
       "      <td>6lcwlkAjBPSKnFBZjjZFJs</td>\n",
       "      <td>60</td>\n",
       "      <td>201082</td>\n",
       "      <td>1200000</td>\n",
       "    </tr>\n",
       "    <tr>\n",
       "      <th>/artists/296901-almanach</th>\n",
       "      <td>Almanach</td>\n",
       "      <td>Almanac</td>\n",
       "      <td>X</td>\n",
       "      <td>2EJxcRlcIa5W1u2v42PvTv</td>\n",
       "      <td>49</td>\n",
       "      <td>48024</td>\n",
       "      <td>333000</td>\n",
       "    </tr>\n",
       "    <tr>\n",
       "      <th>...</th>\n",
       "      <td>...</td>\n",
       "      <td>...</td>\n",
       "      <td>...</td>\n",
       "      <td>...</td>\n",
       "      <td>...</td>\n",
       "      <td>...</td>\n",
       "      <td>...</td>\n",
       "    </tr>\n",
       "    <tr>\n",
       "      <th>/artists/8984079-vanum</th>\n",
       "      <td>VANUM</td>\n",
       "      <td>Van Morrison</td>\n",
       "      <td>X</td>\n",
       "      <td>44NX2ffIYHr6D4n7RaZF7A</td>\n",
       "      <td>73</td>\n",
       "      <td>2214081</td>\n",
       "      <td>9900000</td>\n",
       "    </tr>\n",
       "    <tr>\n",
       "      <th>/artists/10100879-wueh</th>\n",
       "      <td>Wueh!</td>\n",
       "      <td>Wehbba</td>\n",
       "      <td>X</td>\n",
       "      <td>2UzAShzs3DO53bSZqvf8Ri</td>\n",
       "      <td>36</td>\n",
       "      <td>34037</td>\n",
       "      <td>95900</td>\n",
       "    </tr>\n",
       "    <tr>\n",
       "      <th>/artists/8680104-whitecut</th>\n",
       "      <td>Whitecut</td>\n",
       "      <td>Whiteout</td>\n",
       "      <td>X</td>\n",
       "      <td>35wRsBUrfQziBPzvJTr9bt</td>\n",
       "      <td>42</td>\n",
       "      <td>1416</td>\n",
       "      <td>274900</td>\n",
       "    </tr>\n",
       "    <tr>\n",
       "      <th>/artists/7462934-wolve</th>\n",
       "      <td>Wolve</td>\n",
       "      <td>Wolves</td>\n",
       "      <td>X</td>\n",
       "      <td>5vF8F6ItVnaHxwBnnYqrmA</td>\n",
       "      <td>22</td>\n",
       "      <td>5</td>\n",
       "      <td>2900</td>\n",
       "    </tr>\n",
       "    <tr>\n",
       "      <th>/artists/531180-za</th>\n",
       "      <td>Za!</td>\n",
       "      <td>Zaz</td>\n",
       "      <td>X</td>\n",
       "      <td>1mbgj8ERPs8lWi7t5cYrdy</td>\n",
       "      <td>65</td>\n",
       "      <td>1195585</td>\n",
       "      <td>2100000</td>\n",
       "    </tr>\n",
       "  </tbody>\n",
       "</table>\n",
       "<p>138 rows × 7 columns</p>\n",
       "</div>"
      ],
      "text/plain": [
       "                          artist_name  spotify_name match_error  \\\n",
       "artist_id                                                         \n",
       "/artists/4323041-aeby            Aeby          Abby           X   \n",
       "/artists/8375378-agcrew       #AGCrew         Acres           X   \n",
       "/artists/183136-alex             Alex        Alex G           X   \n",
       "/artists/4635043-alexs         Alex-s        Alex G           X   \n",
       "/artists/296901-almanach     Almanach       Almanac           X   \n",
       "...                               ...           ...         ...   \n",
       "/artists/8984079-vanum          VANUM  Van Morrison           X   \n",
       "/artists/10100879-wueh          Wueh!        Wehbba           X   \n",
       "/artists/8680104-whitecut    Whitecut      Whiteout           X   \n",
       "/artists/7462934-wolve          Wolve        Wolves           X   \n",
       "/artists/531180-za                Za!           Zaz           X   \n",
       "\n",
       "                                       spotify_id  spotify_popularity  \\\n",
       "artist_id                                                               \n",
       "/artists/4323041-aeby      4rNhP2V4a54UCel3QaVgGp                  24   \n",
       "/artists/8375378-agcrew    3y43zXffnLmhyQD1K4QCmD                  29   \n",
       "/artists/183136-alex       6lcwlkAjBPSKnFBZjjZFJs                  60   \n",
       "/artists/4635043-alexs     6lcwlkAjBPSKnFBZjjZFJs                  60   \n",
       "/artists/296901-almanach   2EJxcRlcIa5W1u2v42PvTv                  49   \n",
       "...                                           ...                 ...   \n",
       "/artists/8984079-vanum     44NX2ffIYHr6D4n7RaZF7A                  73   \n",
       "/artists/10100879-wueh     2UzAShzs3DO53bSZqvf8Ri                  36   \n",
       "/artists/8680104-whitecut  35wRsBUrfQziBPzvJTr9bt                  42   \n",
       "/artists/7462934-wolve     5vF8F6ItVnaHxwBnnYqrmA                  22   \n",
       "/artists/531180-za         1mbgj8ERPs8lWi7t5cYrdy                  65   \n",
       "\n",
       "                           spotify_followers  spotify_listeners  \n",
       "artist_id                                                        \n",
       "/artists/4323041-aeby                    182               6900  \n",
       "/artists/8375378-agcrew                17632              28100  \n",
       "/artists/183136-alex                  201082            1200000  \n",
       "/artists/4635043-alexs                201082            1200000  \n",
       "/artists/296901-almanach               48024             333000  \n",
       "...                                      ...                ...  \n",
       "/artists/8984079-vanum               2214081            9900000  \n",
       "/artists/10100879-wueh                 34037              95900  \n",
       "/artists/8680104-whitecut               1416             274900  \n",
       "/artists/7462934-wolve                     5               2900  \n",
       "/artists/531180-za                   1195585            2100000  \n",
       "\n",
       "[138 rows x 7 columns]"
      ]
     },
     "execution_count": 63,
     "metadata": {},
     "output_type": "execute_result"
    }
   ],
   "source": [
    "matches_error_df = multiple_matches_df.loc[multiple_matches_df['match_error'] != '']\n",
    "matches_error_df"
   ]
  },
  {
   "cell_type": "code",
   "execution_count": 71,
   "id": "2d6e288f-35d8-45ce-8cf5-4aac65ade2b1",
   "metadata": {},
   "outputs": [
    {
     "name": "stderr",
     "output_type": "stream",
     "text": [
      "0it [00:00, ?it/s]"
     ]
    },
    {
     "name": "stdout",
     "output_type": "stream",
     "text": [
      "Aeby aeby\n",
      "Abby 4rNhP2V4a54UCel3QaVgGp\n",
      "{'spotify_name': 'ABBY', 'spotify_id': '1Ppujw75tt7kUv9gEdrFpz', 'spotify_similarity': 0.75, 'spotify_popularity': 28}\n"
     ]
    },
    {
     "name": "stderr",
     "output_type": "stream",
     "text": [
      "1it [00:01,  1.11s/it]"
     ]
    },
    {
     "name": "stdout",
     "output_type": "stream",
     "text": [
      "#AGCrew #agcrew\n",
      "Acres 3y43zXffnLmhyQD1K4QCmD\n",
      "{'spotify_name': 'Acres', 'spotify_id': '3y43zXffnLmhyQD1K4QCmD', 'spotify_similarity': 0.67, 'spotify_popularity': 31}\n"
     ]
    },
    {
     "name": "stderr",
     "output_type": "stream",
     "text": [
      "2it [00:02,  1.09s/it]"
     ]
    },
    {
     "name": "stdout",
     "output_type": "stream",
     "text": [
      "Alex alex\n",
      "Alex G 6lcwlkAjBPSKnFBZjjZFJs\n",
      "{'spotify_name': 'ALEX', 'spotify_id': '65sChHf6etCvSFdXn8NPUO', 'spotify_similarity': 1.0, 'spotify_popularity': 50}\n"
     ]
    },
    {
     "name": "stderr",
     "output_type": "stream",
     "text": [
      "3it [00:03,  1.10s/it]"
     ]
    },
    {
     "name": "stdout",
     "output_type": "stream",
     "text": [
      "Alex-s alex-s\n",
      "Alex G 6lcwlkAjBPSKnFBZjjZFJs\n",
      "{'spotify_name': 'Alex S', 'spotify_id': '1pXMjL8g30cp8t4AAjxxyH', 'spotify_similarity': 0.83, 'spotify_popularity': 27}\n"
     ]
    },
    {
     "name": "stderr",
     "output_type": "stream",
     "text": [
      "4it [00:04,  1.10s/it]"
     ]
    },
    {
     "name": "stdout",
     "output_type": "stream",
     "text": [
      "Almanach almanach\n",
      "Almanac 2EJxcRlcIa5W1u2v42PvTv\n",
      "{'spotify_name': 'Almanac', 'spotify_id': '2EJxcRlcIa5W1u2v42PvTv', 'spotify_similarity': 0.93, 'spotify_popularity': 51}\n"
     ]
    },
    {
     "name": "stderr",
     "output_type": "stream",
     "text": [
      "5it [00:05,  1.09s/it]"
     ]
    },
    {
     "name": "stdout",
     "output_type": "stream",
     "text": [
      "Alt alt\n",
      "Altan 6koEjb4607APXtFtjxvA5T\n",
      "{'spotify_name': 'Alt', 'spotify_id': '3cgqGFgSiqcdcAmVP0RT48', 'spotify_similarity': 1.0, 'spotify_popularity': 16}\n"
     ]
    },
    {
     "name": "stderr",
     "output_type": "stream",
     "text": [
      "6it [00:06,  1.10s/it]"
     ]
    },
    {
     "name": "stdout",
     "output_type": "stream",
     "text": [
      "Ami ami\n",
      "Amir 6rl53MP8HSoiugpqzA50Zh\n",
      "{'spotify_name': 'AMI', 'spotify_id': '6ZQhxROkDyYGsijIBDBrhF', 'spotify_similarity': 1.0, 'spotify_popularity': 44}\n"
     ]
    },
    {
     "name": "stderr",
     "output_type": "stream",
     "text": [
      "7it [00:07,  1.11s/it]"
     ]
    },
    {
     "name": "stdout",
     "output_type": "stream",
     "text": [
      "ANAHEIM anaheim\n",
      "Andhim 6XJeFzmI6vrWyHcdB7EImP\n",
      "{'spotify_name': 'Anaheim', 'spotify_id': '7H7pnkN6cKOfi1m62gLDyS', 'spotify_similarity': 1.0, 'spotify_popularity': 6}\n"
     ]
    },
    {
     "name": "stderr",
     "output_type": "stream",
     "text": [
      "8it [00:08,  1.11s/it]"
     ]
    },
    {
     "name": "stdout",
     "output_type": "stream",
     "text": [
      "Arnika arnika\n",
      "Anika 6fimwBQkUgYS2HweErgxN5\n",
      "{'spotify_name': 'Anika', 'spotify_id': '6fimwBQkUgYS2HweErgxN5', 'spotify_similarity': 0.91, 'spotify_popularity': 45}\n"
     ]
    },
    {
     "name": "stderr",
     "output_type": "stream",
     "text": [
      "9it [00:09,  1.10s/it]"
     ]
    },
    {
     "name": "stdout",
     "output_type": "stream",
     "text": [
      "aNNika annika\n",
      "Anika 6fimwBQkUgYS2HweErgxN5\n",
      "{'spotify_name': 'Annika', 'spotify_id': '7buSpDfGpMZwpTs45IT9uo', 'spotify_similarity': 1.0, 'spotify_popularity': 24}\n"
     ]
    },
    {
     "name": "stderr",
     "output_type": "stream",
     "text": [
      "10it [00:11,  1.11s/it]"
     ]
    },
    {
     "name": "stdout",
     "output_type": "stream",
     "text": [
      "Anthony anthony\n",
      "Anthony B 7Lij2ZLJJQOfGojVR3Wmqa\n",
      "{'spotify_name': 'Anthony', 'spotify_id': '4kAf149Iextkiu3MpCX4ut', 'spotify_similarity': 1.0, 'spotify_popularity': 54}\n"
     ]
    },
    {
     "name": "stderr",
     "output_type": "stream",
     "text": [
      "11it [00:12,  1.12s/it]"
     ]
    },
    {
     "name": "stdout",
     "output_type": "stream",
     "text": [
      "Artmaillé artmaillé\n",
      "Artillery 6N62Sla6F2uuEzNALo6720\n",
      "{'spotify_name': 'Artillery', 'spotify_id': '6N62Sla6F2uuEzNALo6720', 'spotify_similarity': 0.67, 'spotify_popularity': 32}\n"
     ]
    },
    {
     "name": "stderr",
     "output_type": "stream",
     "text": [
      "12it [00:13,  1.11s/it]"
     ]
    },
    {
     "name": "stdout",
     "output_type": "stream",
     "text": [
      "As Blood Runs as blood runs\n",
      "As Blood Runs Black 4LjQpQc5NB5G02zqfEIex7\n",
      "{'spotify_name': 'As Blood Runs Black', 'spotify_id': '4LjQpQc5NB5G02zqfEIex7', 'spotify_similarity': 0.81, 'spotify_popularity': 41}\n"
     ]
    },
    {
     "name": "stderr",
     "output_type": "stream",
     "text": [
      "13it [00:14,  1.09s/it]"
     ]
    },
    {
     "name": "stdout",
     "output_type": "stream",
     "text": [
      "Aust aust\n",
      "Austra 1o43SzzuLoyOxqThmp7s0g\n",
      "{'spotify_name': 'AUST', 'spotify_id': '5vKWepuMbUEPh8iRpbpoxp', 'spotify_similarity': 1.0, 'spotify_popularity': 31}\n"
     ]
    },
    {
     "name": "stderr",
     "output_type": "stream",
     "text": [
      "14it [00:15,  1.11s/it]"
     ]
    },
    {
     "name": "stdout",
     "output_type": "stream",
     "text": [
      "Avatark avatark\n",
      "Avatar 4jpaXieuls7LVzG1uma5Rs\n",
      "{'spotify_name': 'Avatar', 'spotify_id': '4jpaXieuls7LVzG1uma5Rs', 'spotify_similarity': 0.92, 'spotify_popularity': 57}\n"
     ]
    },
    {
     "name": "stderr",
     "output_type": "stream",
     "text": [
      "15it [00:16,  1.12s/it]"
     ]
    },
    {
     "name": "stdout",
     "output_type": "stream",
     "text": [
      "Bassmodul bassmodul\n",
      "Bass Modulators 1Uk4IDpF1OIuTzANugS5JC\n",
      "{'spotify_name': 'Bass Modulators', 'spotify_id': '1Uk4IDpF1OIuTzANugS5JC', 'spotify_similarity': 0.75, 'spotify_popularity': 52}\n"
     ]
    },
    {
     "name": "stderr",
     "output_type": "stream",
     "text": [
      "16it [00:17,  1.11s/it]"
     ]
    },
    {
     "name": "stdout",
     "output_type": "stream",
     "text": [
      "Bärnstei bärnstei\n",
      "Bernstein 7zbpim75Oizpo0isUllS11\n",
      "{'spotify_name': 'Bernstein', 'spotify_id': '7zbpim75Oizpo0isUllS11', 'spotify_similarity': 0.82, 'spotify_popularity': 11}\n"
     ]
    },
    {
     "name": "stderr",
     "output_type": "stream",
     "text": [
      "17it [00:18,  1.13s/it]"
     ]
    },
    {
     "name": "stdout",
     "output_type": "stream",
     "text": [
      "Billie Geilish billie geilish\n",
      "Billie Eilish 6qqNVTkY8uBg9cP3Jd7DAH\n",
      "{'spotify_name': 'Billie Eilish', 'spotify_id': '6qqNVTkY8uBg9cP3Jd7DAH', 'spotify_similarity': 0.96, 'spotify_popularity': 94}\n"
     ]
    },
    {
     "name": "stderr",
     "output_type": "stream",
     "text": [
      "18it [00:19,  1.12s/it]"
     ]
    },
    {
     "name": "stdout",
     "output_type": "stream",
     "text": [
      "Bird bird\n",
      "Birdy 2WX2uTcsvV5OnS0inACecP\n",
      "{'spotify_name': 'bird', 'spotify_id': '5gn3mKyq8QM4TxKNX2nxXi', 'spotify_similarity': 1.0, 'spotify_popularity': 36}\n"
     ]
    },
    {
     "name": "stderr",
     "output_type": "stream",
     "text": [
      "19it [00:21,  1.12s/it]"
     ]
    },
    {
     "name": "stdout",
     "output_type": "stream",
     "text": [
      "Abba Gold abba gold\n",
      "Bonnie Tyler 0SD4eZCN4Kr0wQk56hCdh2\n",
      "{'spotify_name': 'The Real Abba Gold', 'spotify_id': '0Jd60SaoeEqWcNoURcmkbN', 'spotify_similarity': 0.67, 'spotify_popularity': 2}\n"
     ]
    },
    {
     "name": "stderr",
     "output_type": "stream",
     "text": [
      "20it [00:22,  1.11s/it]"
     ]
    },
    {
     "name": "stdout",
     "output_type": "stream",
     "text": [
      "Boris WHY boris why\n",
      "Boris Way 6B4RvAzPbZcxMjhZvFSDis\n",
      "{'spotify_name': 'Boris Way', 'spotify_id': '6B4RvAzPbZcxMjhZvFSDis', 'spotify_similarity': 0.89, 'spotify_popularity': 47}\n"
     ]
    },
    {
     "name": "stderr",
     "output_type": "stream",
     "text": [
      "21it [00:23,  1.12s/it]"
     ]
    },
    {
     "name": "stdout",
     "output_type": "stream",
     "text": [
      "Bus bus\n",
      "Bush 78SHxLdtysAXgywQ4vE0Oa\n",
      "{'spotify_name': 'Bus', 'spotify_id': '0Ul2Yt5xUzraI7tLWRXFtH', 'spotify_similarity': 1.0, 'spotify_popularity': 13}\n"
     ]
    },
    {
     "name": "stderr",
     "output_type": "stream",
     "text": [
      "22it [00:24,  1.14s/it]"
     ]
    },
    {
     "name": "stdout",
     "output_type": "stream",
     "text": [
      "CHRCH chrch\n",
      "CHVRCHES 3CjlHNtplJyTf9npxaPl5w\n",
      "{'spotify_name': 'Chrch', 'spotify_id': '45ZnYmcJBhnh3zGn5csFkn', 'spotify_similarity': 1.0, 'spotify_popularity': 9}\n"
     ]
    },
    {
     "name": "stderr",
     "output_type": "stream",
     "text": [
      "23it [00:25,  1.12s/it]"
     ]
    },
    {
     "name": "stdout",
     "output_type": "stream",
     "text": [
      "Say Yeah say yeah\n",
      "Clap Your Hands Say Yeah 1jSaZgaKHmgc7VTgML528r\n",
      "{'spotify_name': \"SAY'YEAH\", 'spotify_id': '3xfK3waJh7HOYmlxGQx63j', 'spotify_similarity': 0.88, 'spotify_popularity': 0}\n"
     ]
    },
    {
     "name": "stderr",
     "output_type": "stream",
     "text": [
      "24it [00:26,  1.11s/it]"
     ]
    },
    {
     "name": "stdout",
     "output_type": "stream",
     "text": [
      "Devo devo\n",
      "Devon 2CXVeT982HeechgvKI3f2v\n",
      "{'spotify_name': 'DEVO', 'spotify_id': '0UKfenbZb15sqhfPC6zbt3', 'spotify_similarity': 1.0, 'spotify_popularity': 58}\n"
     ]
    },
    {
     "name": "stderr",
     "output_type": "stream",
     "text": [
      "25it [00:27,  1.13s/it]"
     ]
    },
    {
     "name": "stdout",
     "output_type": "stream",
     "text": [
      "Ночные Снайперы ночные снайперы\n",
      "Diana Arbenina 3agWPIiWtN5ARZj1iMz5gk\n",
      "{'spotify_name': 'Diana Arbenina', 'spotify_id': '3agWPIiWtN5ARZj1iMz5gk', 'spotify_similarity': 0.07, 'spotify_popularity': 45}\n"
     ]
    },
    {
     "name": "stderr",
     "output_type": "stream",
     "text": [
      "26it [00:28,  1.11s/it]"
     ]
    },
    {
     "name": "stdout",
     "output_type": "stream",
     "text": [
      "Die Bap die bap\n",
      "Die Happy 5WvEHnWRNfz9AOLYclfsLM\n",
      "{'spotify_name': 'Die Happy', 'spotify_id': '5WvEHnWRNfz9AOLYclfsLM', 'spotify_similarity': 0.75, 'spotify_popularity': 34}\n"
     ]
    },
    {
     "name": "stderr",
     "output_type": "stream",
     "text": [
      "27it [00:30,  1.13s/it]"
     ]
    },
    {
     "name": "stdout",
     "output_type": "stream",
     "text": [
      "Dreams dreams\n",
      "Dream 6LArUyIoMiHmDvvOAsE2cd\n",
      "{'spotify_name': 'DREAMS', 'spotify_id': '0jDpmJ1LfnLzEni52cgvuq', 'spotify_similarity': 1.0, 'spotify_popularity': 19}\n"
     ]
    },
    {
     "name": "stderr",
     "output_type": "stream",
     "text": [
      "28it [00:31,  1.14s/it]"
     ]
    },
    {
     "name": "stdout",
     "output_type": "stream",
     "text": [
      "Dusties dusties\n",
      "Duster 5AyEXCtu3xnnsTGCo4RVZh\n",
      "{'spotify_name': 'Duster', 'spotify_id': '5AyEXCtu3xnnsTGCo4RVZh', 'spotify_similarity': 0.77, 'spotify_popularity': 62}\n"
     ]
    },
    {
     "name": "stderr",
     "output_type": "stream",
     "text": [
      "29it [00:32,  1.13s/it]"
     ]
    },
    {
     "name": "stdout",
     "output_type": "stream",
     "text": [
      "DYSTERA dystera\n",
      "Duster 5AyEXCtu3xnnsTGCo4RVZh\n",
      "{'spotify_name': 'Dyster', 'spotify_id': '2npmFqbj5dX1B4Rqi4715a', 'spotify_similarity': 0.92, 'spotify_popularity': 7}\n"
     ]
    },
    {
     "name": "stderr",
     "output_type": "stream",
     "text": [
      "30it [00:33,  1.12s/it]"
     ]
    },
    {
     "name": "stdout",
     "output_type": "stream",
     "text": [
      "EarthGang earthgang\n",
      "Earth, Wind & Fire 4QQgXkCYTt3BlENzhyNETg\n",
      "{'spotify_name': 'EARTHGANG', 'spotify_id': '5MbNzCW3qokGyoo9giHA3V', 'spotify_similarity': 1.0, 'spotify_popularity': 70}\n"
     ]
    },
    {
     "name": "stderr",
     "output_type": "stream",
     "text": [
      "31it [00:34,  1.11s/it]"
     ]
    },
    {
     "name": "stdout",
     "output_type": "stream",
     "text": [
      "EGOGRILL egogrill\n",
      "Ego Kill Talent 2FkHoIxJdhomebqlsXKZ3i\n",
      "{'spotify_name': 'Ego Kill Talent', 'spotify_id': '2FkHoIxJdhomebqlsXKZ3i', 'spotify_similarity': 0.52, 'spotify_popularity': 43}\n"
     ]
    },
    {
     "name": "stderr",
     "output_type": "stream",
     "text": [
      "32it [00:35,  1.10s/it]"
     ]
    },
    {
     "name": "stdout",
     "output_type": "stream",
     "text": [
      "AESOP aesop\n",
      "El-P 57UnSUpae3SbRekxNa5Kgl\n",
      "{'spotify_name': 'Aesop', 'spotify_id': '2uYUih5Jm8xzw6nfi9Sp9J', 'spotify_similarity': 1.0, 'spotify_popularity': 3}\n"
     ]
    },
    {
     "name": "stderr",
     "output_type": "stream",
     "text": [
      "33it [00:36,  1.10s/it]"
     ]
    },
    {
     "name": "stdout",
     "output_type": "stream",
     "text": [
      "Elis elis\n",
      "Elisa 2ARH58Hit3yC6ziGdhma23\n",
      "{'spotify_name': 'Elis', 'spotify_id': '2SBGFN4SWI1avoQDc39osF', 'spotify_similarity': 1.0, 'spotify_popularity': 25}\n"
     ]
    },
    {
     "name": "stderr",
     "output_type": "stream",
     "text": [
      "34it [00:37,  1.12s/it]"
     ]
    },
    {
     "name": "stdout",
     "output_type": "stream",
     "text": [
      "EllenV ellenv\n",
      "Ellende 1iLdVM2KFAHUbpaC5wpMbO\n",
      "{'spotify_name': 'Ellende', 'spotify_id': '1iLdVM2KFAHUbpaC5wpMbO', 'spotify_similarity': 0.77, 'spotify_popularity': 29}\n"
     ]
    },
    {
     "name": "stderr",
     "output_type": "stream",
     "text": [
      "35it [00:39,  1.13s/it]"
     ]
    },
    {
     "name": "stdout",
     "output_type": "stream",
     "text": [
      "Emo. emo.\n",
      "Emok 0n7N0GtNzbN6xgx7J14pWg\n",
      "{'spotify_name': 'Emo.', 'spotify_id': '2OlXqXto5l3nawogqrdmSc', 'spotify_similarity': 1.0, 'spotify_popularity': 0}\n"
     ]
    },
    {
     "name": "stderr",
     "output_type": "stream",
     "text": [
      "36it [00:40,  1.14s/it]"
     ]
    },
    {
     "name": "stdout",
     "output_type": "stream",
     "text": [
      "Eric Jim eric jim\n",
      "Eric Jimenez 3b6hg1eC3oAlqj5cSsscTc\n",
      "{'spotify_name': 'Eric Jimenez', 'spotify_id': '3b6hg1eC3oAlqj5cSsscTc', 'spotify_similarity': 0.8, 'spotify_popularity': 0}\n"
     ]
    },
    {
     "name": "stderr",
     "output_type": "stream",
     "text": [
      "37it [00:41,  1.13s/it]"
     ]
    },
    {
     "name": "stdout",
     "output_type": "stream",
     "text": [
      "Eric Ji eric ji\n",
      "Eric Jimenez 3b6hg1eC3oAlqj5cSsscTc\n",
      "{'spotify_name': 'Eric Jimenez', 'spotify_id': '3b6hg1eC3oAlqj5cSsscTc', 'spotify_similarity': 0.74, 'spotify_popularity': 0}\n"
     ]
    },
    {
     "name": "stderr",
     "output_type": "stream",
     "text": [
      "38it [00:42,  1.14s/it]"
     ]
    },
    {
     "name": "stdout",
     "output_type": "stream",
     "text": [
      "Eric Jime eric jime\n",
      "Eric Jimenez 3b6hg1eC3oAlqj5cSsscTc\n",
      "{'spotify_name': 'Eric Jimenez', 'spotify_id': '3b6hg1eC3oAlqj5cSsscTc', 'spotify_similarity': 0.86, 'spotify_popularity': 0}\n"
     ]
    },
    {
     "name": "stderr",
     "output_type": "stream",
     "text": [
      "39it [00:43,  1.13s/it]"
     ]
    },
    {
     "name": "stdout",
     "output_type": "stream",
     "text": [
      "Es.mob es.mob\n",
      "Eskmo 4gDnyPfguK0da9K2QR7WfW\n",
      "{'spotify_name': 'Eskmo', 'spotify_id': '4gDnyPfguK0da9K2QR7WfW', 'spotify_similarity': 0.73, 'spotify_popularity': 39}\n"
     ]
    },
    {
     "name": "stderr",
     "output_type": "stream",
     "text": [
      "40it [00:44,  1.11s/it]"
     ]
    },
    {
     "name": "stdout",
     "output_type": "stream",
     "text": [
      "Gabriano gabriano\n",
      "Fabiano 7BdIIgJH5SZUuIv1AtuJlR\n",
      "{'spotify_name': 'Fabiano', 'spotify_id': '7BdIIgJH5SZUuIv1AtuJlR', 'spotify_similarity': 0.8, 'spotify_popularity': 57}\n"
     ]
    },
    {
     "name": "stderr",
     "output_type": "stream",
     "text": [
      "41it [00:45,  1.12s/it]"
     ]
    },
    {
     "name": "stdout",
     "output_type": "stream",
     "text": [
      "Fykewar fykewar\n",
      "Fakear 4eFImh8D3F15dtZk0JQlpT\n",
      "{'spotify_name': 'Fakear', 'spotify_id': '4eFImh8D3F15dtZk0JQlpT', 'spotify_similarity': 0.77, 'spotify_popularity': 57}\n"
     ]
    },
    {
     "name": "stderr",
     "output_type": "stream",
     "text": [
      "42it [00:46,  1.11s/it]"
     ]
    },
    {
     "name": "stdout",
     "output_type": "stream",
     "text": [
      "Faith Of Fate faith of fate\n",
      "Fate Of Faith 3DrOUT1RtTf37Qz1fhFncR\n",
      "{'spotify_name': 'FAITH of FATE', 'spotify_id': '2kQbfBc6eLTcH9Y26cNk1d', 'spotify_similarity': 1.0, 'spotify_popularity': 0}\n"
     ]
    },
    {
     "name": "stderr",
     "output_type": "stream",
     "text": [
      "43it [00:47,  1.10s/it]"
     ]
    },
    {
     "name": "stdout",
     "output_type": "stream",
     "text": [
      "FELL  fell\n",
      "Felix Jaehn 4bL2B6hmLlMWnUEZnorEtG\n",
      "{'spotify_name': 'FELL', 'spotify_id': '0tiAA1lSHnRZapINp4gMBB', 'spotify_similarity': 1.0, 'spotify_popularity': 15}\n"
     ]
    },
    {
     "name": "stderr",
     "output_type": "stream",
     "text": [
      "44it [00:49,  1.12s/it]"
     ]
    },
    {
     "name": "stdout",
     "output_type": "stream",
     "text": [
      "Frank.  frank.\n",
      "Frankie J 3sMYEBy0CZFxedcnm9i9hf\n",
      "{'spotify_name': 'Frank.', 'spotify_id': '0M8xu9GBrU5KQ0dybcggJP', 'spotify_similarity': 1.0, 'spotify_popularity': 3}\n"
     ]
    },
    {
     "name": "stderr",
     "output_type": "stream",
     "text": [
      "45it [00:50,  1.13s/it]"
     ]
    },
    {
     "name": "stdout",
     "output_type": "stream",
     "text": [
      "FRANK  frank\n",
      "Frankie J 3sMYEBy0CZFxedcnm9i9hf\n",
      "{'spotify_name': 'Frank', 'spotify_id': '1c1zan5bb0iXtzLDHrptRe', 'spotify_similarity': 1.0, 'spotify_popularity': 37}\n"
     ]
    },
    {
     "name": "stderr",
     "output_type": "stream",
     "text": [
      "46it [00:51,  1.13s/it]"
     ]
    },
    {
     "name": "stdout",
     "output_type": "stream",
     "text": [
      "& Friends & friends\n",
      "Friends 0R2qhaNYSKYhYKeRMYwrpN\n",
      "{'spotify_name': '& Friends', 'spotify_id': '2eRxdRJPlhgdDk9SC6UJD2', 'spotify_similarity': 1.0, 'spotify_popularity': 0}\n"
     ]
    },
    {
     "name": "stderr",
     "output_type": "stream",
     "text": [
      "47it [00:52,  1.14s/it]"
     ]
    },
    {
     "name": "stdout",
     "output_type": "stream",
     "text": [
      "Friend friend\n",
      "Friends 0R2qhaNYSKYhYKeRMYwrpN\n",
      "{'spotify_name': 'Friend', 'spotify_id': '6a89shmNCtjzoMMX47z2Iq', 'spotify_similarity': 1.0, 'spotify_popularity': 20}\n"
     ]
    },
    {
     "name": "stderr",
     "output_type": "stream",
     "text": [
      "48it [00:53,  1.13s/it]"
     ]
    },
    {
     "name": "stdout",
     "output_type": "stream",
     "text": [
      "Front  front\n",
      "Front 242 2tyMOS8xKREgpEwHnLc6EX\n",
      "{'spotify_name': 'Front', 'spotify_id': '26HR7SskICo74DIZOxJXo6', 'spotify_similarity': 1.0, 'spotify_popularity': 5}\n"
     ]
    },
    {
     "name": "stderr",
     "output_type": "stream",
     "text": [
      "49it [00:54,  1.14s/it]"
     ]
    },
    {
     "name": "stdout",
     "output_type": "stream",
     "text": [
      "Gary Curtin gary curtin\n",
      "Gary Burton 4iovNkf44dsELmo3E7XSKX\n",
      "{'spotify_name': 'Gary Burton', 'spotify_id': '4iovNkf44dsELmo3E7XSKX', 'spotify_similarity': 0.82, 'spotify_popularity': 43}\n"
     ]
    },
    {
     "name": "stderr",
     "output_type": "stream",
     "text": [
      "50it [00:55,  1.13s/it]"
     ]
    },
    {
     "name": "stdout",
     "output_type": "stream",
     "text": [
      "Gene gene\n",
      "Genesis 3CkvROUTQ6nRi9yQOcsB50\n",
      "{'spotify_name': 'Gene', 'spotify_id': '5Rsu72e1qrjIUtxH6Zmy9K', 'spotify_similarity': 1.0, 'spotify_popularity': 35}\n"
     ]
    },
    {
     "name": "stderr",
     "output_type": "stream",
     "text": [
      "51it [00:57,  1.14s/it]"
     ]
    },
    {
     "name": "stdout",
     "output_type": "stream",
     "text": [
      "HELMUT helmut\n",
      "Helmut Lotti 2nO2dO0kAVom6pa0Dcvgjn\n",
      "{'spotify_name': 'Helmut', 'spotify_id': '6ReyaIMVxJYKqQnmQHM5Vt', 'spotify_similarity': 1.0, 'spotify_popularity': 30}\n"
     ]
    },
    {
     "name": "stderr",
     "output_type": "stream",
     "text": [
      "52it [00:58,  1.14s/it]"
     ]
    },
    {
     "name": "stdout",
     "output_type": "stream",
     "text": [
      "IAM iam\n",
      "IAMX 223iUzG0kb5V166FJP9ovD\n",
      "{'spotify_name': 'IAM', 'spotify_id': '56Q6weEROZ1RsVrTak8Bm7', 'spotify_similarity': 1.0, 'spotify_popularity': 58}\n"
     ]
    },
    {
     "name": "stderr",
     "output_type": "stream",
     "text": [
      "53it [00:59,  1.15s/it]"
     ]
    },
    {
     "name": "stdout",
     "output_type": "stream",
     "text": [
      "Jakob Ogawa jakob ogawa\n",
      "Jakob 4ub2v80S4RIceZRGnlhjTr\n",
      "{'spotify_name': 'Jakob', 'spotify_id': '4ub2v80S4RIceZRGnlhjTr', 'spotify_similarity': 0.62, 'spotify_popularity': 59}\n"
     ]
    },
    {
     "name": "stderr",
     "output_type": "stream",
     "text": [
      "54it [01:00,  1.13s/it]"
     ]
    },
    {
     "name": "stdout",
     "output_type": "stream",
     "text": [
      "Jenn jenn\n",
      "Jenny 6i5X4jYvJKUGQX0HXC0Ewh\n",
      "{'spotify_name': 'Jenn', 'spotify_id': '0hoIzn6wEWHsywjsNKmPDm', 'spotify_similarity': 1.0, 'spotify_popularity': 10}\n"
     ]
    },
    {
     "name": "stderr",
     "output_type": "stream",
     "text": [
      "55it [01:01,  1.14s/it]"
     ]
    },
    {
     "name": "stdout",
     "output_type": "stream",
     "text": [
      "Bonas Brothers bonas brothers\n",
      "Jonas Brothers 7gOdHgIoIKoe4i9Tta6qdD\n",
      "{'spotify_name': 'Jonas Brothers', 'spotify_id': '7gOdHgIoIKoe4i9Tta6qdD', 'spotify_similarity': 0.93, 'spotify_popularity': 82}\n"
     ]
    },
    {
     "name": "stderr",
     "output_type": "stream",
     "text": [
      "56it [01:02,  1.13s/it]"
     ]
    },
    {
     "name": "stdout",
     "output_type": "stream",
     "text": [
      "JOSH  josh\n",
      "Josh A 2rWCIhENZyPVDAeFC0ESWN\n",
      "{'spotify_name': 'Josh', 'spotify_id': '7inbx3OpLVuQ4vv9XZO11I', 'spotify_similarity': 1.0, 'spotify_popularity': 27}\n"
     ]
    },
    {
     "name": "stderr",
     "output_type": "stream",
     "text": [
      "57it [01:03,  1.15s/it]"
     ]
    },
    {
     "name": "stdout",
     "output_type": "stream",
     "text": [
      "Josh.  josh.\n",
      "Josh A 2rWCIhENZyPVDAeFC0ESWN\n",
      "{'spotify_name': 'Josh.', 'spotify_id': '1nngQyj8LCicyLKclbWTmU', 'spotify_similarity': 1.0, 'spotify_popularity': 55}\n"
     ]
    },
    {
     "name": "stderr",
     "output_type": "stream",
     "text": [
      "58it [01:05,  1.15s/it]"
     ]
    },
    {
     "name": "stdout",
     "output_type": "stream",
     "text": [
      "jukip2 jukip2\n",
      "Junip 7HcipAIJatVGT4U6HQrnFW\n",
      "{'spotify_name': 'Junip', 'spotify_id': '7HcipAIJatVGT4U6HQrnFW', 'spotify_similarity': 0.73, 'spotify_popularity': 49}\n"
     ]
    },
    {
     "name": "stderr",
     "output_type": "stream",
     "text": [
      "59it [01:06,  1.13s/it]"
     ]
    },
    {
     "name": "stdout",
     "output_type": "stream",
     "text": [
      "KOQA koqa\n",
      "KOAN Sound 1NCLweIUpq8knzemBwAwoo\n",
      "{'spotify_name': 'Koa', 'spotify_id': '4bTth1ur0qKM60o2f5kEXU', 'spotify_similarity': 0.86, 'spotify_popularity': 48}\n"
     ]
    },
    {
     "name": "stderr",
     "output_type": "stream",
     "text": [
      "60it [01:07,  1.13s/it]"
     ]
    },
    {
     "name": "stdout",
     "output_type": "stream",
     "text": [
      "-NESSERIA - -nesseria -\n",
      "KSI 1nzgtKYFckznkcVMR3Gg4z\n",
      "{'spotify_name': 'Nesseria', 'spotify_id': '4JwOufSgwNfYW2l62ZWVuT', 'spotify_similarity': 0.84, 'spotify_popularity': 2}\n"
     ]
    },
    {
     "name": "stderr",
     "output_type": "stream",
     "text": [
      "61it [01:08,  1.13s/it]"
     ]
    },
    {
     "name": "stdout",
     "output_type": "stream",
     "text": [
      "K k\n",
      "KSI 1nzgtKYFckznkcVMR3Gg4z\n",
      "{'spotify_name': 'KSI', 'spotify_id': '1nzgtKYFckznkcVMR3Gg4z', 'spotify_similarity': 0.5, 'spotify_popularity': 77}\n"
     ]
    },
    {
     "name": "stderr",
     "output_type": "stream",
     "text": [
      "62it [01:09,  1.18s/it]"
     ]
    },
    {
     "name": "stdout",
     "output_type": "stream",
     "text": [
      "Kal kal\n",
      "Kali 1YRqgFNXqRyMDRr8ClS1NL\n",
      "{'spotify_name': 'Kal', 'spotify_id': '5OBCPePFOX7HFZH3zct3EZ', 'spotify_similarity': 1.0, 'spotify_popularity': 23}\n"
     ]
    },
    {
     "name": "stderr",
     "output_type": "stream",
     "text": [
      "63it [01:11,  1.20s/it]"
     ]
    },
    {
     "name": "stdout",
     "output_type": "stream",
     "text": [
      "Khaladj khaladj\n",
      "Khalid 6LuN9FCkKOj5PcnpouEgny\n",
      "{'spotify_name': 'Khalid', 'spotify_id': '6LuN9FCkKOj5PcnpouEgny', 'spotify_similarity': 0.77, 'spotify_popularity': 89}\n"
     ]
    },
    {
     "name": "stderr",
     "output_type": "stream",
     "text": [
      "64it [01:12,  1.17s/it]"
     ]
    },
    {
     "name": "stdout",
     "output_type": "stream",
     "text": [
      "Krug krug\n",
      "Kruger 28BpWcNSS8iZIXXaQIL7VU\n",
      "{'spotify_name': 'Krug', 'spotify_id': '6axCpXPRHRoFeB3tq8dyJ4', 'spotify_similarity': 1.0, 'spotify_popularity': 1}\n"
     ]
    },
    {
     "name": "stderr",
     "output_type": "stream",
     "text": [
      "65it [01:13,  1.17s/it]"
     ]
    },
    {
     "name": "stdout",
     "output_type": "stream",
     "text": [
      "LCP lcp\n",
      "LP 0J7U24vlOOIeMpuaO6Q85A\n",
      "{'spotify_name': 'Lcp', 'spotify_id': '6BIYXoxckrhyOBsbS1xixJ', 'spotify_similarity': 1.0, 'spotify_popularity': 0}\n"
     ]
    },
    {
     "name": "stderr",
     "output_type": "stream",
     "text": [
      "66it [01:14,  1.16s/it]"
     ]
    },
    {
     "name": "stdout",
     "output_type": "stream",
     "text": [
      "Licht Aus licht aus\n",
      "Light Asylum 2y98d6N81pArQNXYvkupr8\n",
      "{'spotify_name': 'Light Asylum', 'spotify_id': '2y98d6N81pArQNXYvkupr8', 'spotify_similarity': 0.67, 'spotify_popularity': 33}\n"
     ]
    },
    {
     "name": "stderr",
     "output_type": "stream",
     "text": [
      "67it [01:15,  1.14s/it]"
     ]
    },
    {
     "name": "stdout",
     "output_type": "stream",
     "text": [
      "Ligna ligna\n",
      "Lina 3YPpKFZGAT0O8SJca2Aaj8\n",
      "{'spotify_name': 'Lina', 'spotify_id': '3YPpKFZGAT0O8SJca2Aaj8', 'spotify_similarity': 0.89, 'spotify_popularity': 48}\n"
     ]
    },
    {
     "name": "stderr",
     "output_type": "stream",
     "text": [
      "68it [01:16,  1.13s/it]"
     ]
    },
    {
     "name": "stdout",
     "output_type": "stream",
     "text": [
      "Luck3y luck3y\n",
      "Lucky 6EVH8rZ1EAJxprA8Izh6Je\n",
      "{'spotify_name': 'luck3y', 'spotify_id': '6h7F9mx6g0aRQD8J0CFa4O', 'spotify_similarity': 1.0, 'spotify_popularity': 0}\n"
     ]
    },
    {
     "name": "stderr",
     "output_type": "stream",
     "text": [
      "69it [01:17,  1.12s/it]"
     ]
    },
    {
     "name": "stdout",
     "output_type": "stream",
     "text": [
      "MSLM mslm\n",
      "MS MR 4XaUmUGjidSklcDHxv3XWf\n",
      "{'spotify_name': 'Mlma', 'spotify_id': '1XZWPu5MtDqYjj7CSIghPE', 'spotify_similarity': 0.75, 'spotify_popularity': 33}\n"
     ]
    },
    {
     "name": "stderr",
     "output_type": "stream",
     "text": [
      "70it [01:18,  1.12s/it]"
     ]
    },
    {
     "name": "stdout",
     "output_type": "stream",
     "text": [
      "Manuel Wülse manuel wülse\n",
      "Manuel Walser 3LNGosVeFYo11zTHZ7oj2j\n",
      "{'spotify_name': 'Manuel Walser', 'spotify_id': '3LNGosVeFYo11zTHZ7oj2j', 'spotify_similarity': 0.88, 'spotify_popularity': 5}\n"
     ]
    },
    {
     "name": "stderr",
     "output_type": "stream",
     "text": [
      "71it [01:19,  1.11s/it]"
     ]
    },
    {
     "name": "stdout",
     "output_type": "stream",
     "text": [
      "MARILOU  marilou\n",
      "Maribou State 7zrkALJ9ayRjzysp4QYoEg\n",
      "{'spotify_name': 'Marilou', 'spotify_id': '502LJ9OJfK5m2p1CGDx8vf', 'spotify_similarity': 1.0, 'spotify_popularity': 27}\n"
     ]
    },
    {
     "name": "stderr",
     "output_type": "stream",
     "text": [
      "72it [01:21,  1.11s/it]"
     ]
    },
    {
     "name": "stdout",
     "output_type": "stream",
     "text": [
      "Man Man Man man man man\n",
      "Marilyn Manson 2VYQTNDsvvKN9wmU5W7xpj\n",
      "{'spotify_name': 'Marilyn Manson', 'spotify_id': '2VYQTNDsvvKN9wmU5W7xpj', 'spotify_similarity': 0.64, 'spotify_popularity': 73}\n"
     ]
    },
    {
     "name": "stderr",
     "output_type": "stream",
     "text": [
      "73it [01:22,  1.16s/it]"
     ]
    },
    {
     "name": "stdout",
     "output_type": "stream",
     "text": [
      "M.a.t.c.h. m.a.t.c.h.\n",
      "Maurice André 12LdOpXPkvTuU6nauFBh41\n",
      "{'spotify_name': 'M.I.T.C.H. 3 Stacks', 'spotify_id': '25OU8n5nLDcAPAsgZCyIHq', 'spotify_similarity': 0.62, 'spotify_popularity': 0}\n"
     ]
    },
    {
     "name": "stderr",
     "output_type": "stream",
     "text": [
      "74it [01:23,  1.18s/it]"
     ]
    },
    {
     "name": "stdout",
     "output_type": "stream",
     "text": [
      "Mit F.o.o.l mit f.o.o.l\n",
      "Maurice André 12LdOpXPkvTuU6nauFBh41\n",
      "{'spotify_name': 'Ian Bostridge', 'spotify_id': '0QVlaFCrge4YWt0yftF8FE', 'spotify_similarity': 0.25, 'spotify_popularity': 38}\n"
     ]
    },
    {
     "name": "stderr",
     "output_type": "stream",
     "text": [
      "75it [01:24,  1.18s/it]"
     ]
    },
    {
     "name": "stdout",
     "output_type": "stream",
     "text": [
      "Me me\n",
      "Mew 6kDMoHTcBICPILP2aclPWZ\n",
      "{'spotify_name': 'Me', 'spotify_id': '3RsK1NQlnCyWzrIGj3FOQW', 'spotify_similarity': 1.0, 'spotify_popularity': 22}\n"
     ]
    },
    {
     "name": "stderr",
     "output_type": "stream",
     "text": [
      "76it [01:25,  1.21s/it]"
     ]
    },
    {
     "name": "stdout",
     "output_type": "stream",
     "text": [
      "Midilik midilik\n",
      "Midlake 4YsP5zmteLQ7etNjHAOu30\n",
      "{'spotify_name': 'Midlake', 'spotify_id': '4YsP5zmteLQ7etNjHAOu30', 'spotify_similarity': 0.71, 'spotify_popularity': 48}\n"
     ]
    },
    {
     "name": "stderr",
     "output_type": "stream",
     "text": [
      "77it [01:27,  1.17s/it]"
     ]
    },
    {
     "name": "stdout",
     "output_type": "stream",
     "text": [
      "-M- -m-\n",
      "Migos 6oMuImdp5ZcFhWP0ESe6mG\n",
      "{'spotify_name': '-M-', 'spotify_id': '6soPpJHlCtN6SY8pWlfbC6', 'spotify_similarity': 1.0, 'spotify_popularity': 60}\n"
     ]
    },
    {
     "name": "stderr",
     "output_type": "stream",
     "text": [
      "78it [01:28,  1.18s/it]"
     ]
    },
    {
     "name": "stdout",
     "output_type": "stream",
     "text": [
      "Miracle Four miracle four\n",
      "Miracle Fortress 5IBqn0XSlmonqBm9Vf5T2x\n",
      "{'spotify_name': 'Miracle Fortress', 'spotify_id': '5IBqn0XSlmonqBm9Vf5T2x', 'spotify_similarity': 0.79, 'spotify_popularity': 18}\n"
     ]
    },
    {
     "name": "stderr",
     "output_type": "stream",
     "text": [
      "79it [01:29,  1.15s/it]"
     ]
    },
    {
     "name": "stdout",
     "output_type": "stream",
     "text": [
      "Mono Blues Band mono blues band\n",
      "Mojo Blues Band 4Ry4wFq0m8FwZx1J5OKSSk\n",
      "{'spotify_name': 'Mojo Blues Band', 'spotify_id': '4Ry4wFq0m8FwZx1J5OKSSk', 'spotify_similarity': 0.93, 'spotify_popularity': 31}\n"
     ]
    },
    {
     "name": "stderr",
     "output_type": "stream",
     "text": [
      "80it [01:30,  1.14s/it]"
     ]
    },
    {
     "name": "stdout",
     "output_type": "stream",
     "text": [
      "Motor motor\n",
      "Motorama 3j0kMFxXTTYsuw1twLClw3\n",
      "{'spotify_name': 'Motor', 'spotify_id': '1RbzUx3ULKWgM4c9XJQf1o', 'spotify_similarity': 1.0, 'spotify_popularity': 12}\n"
     ]
    },
    {
     "name": "stderr",
     "output_type": "stream",
     "text": [
      "81it [01:31,  1.14s/it]"
     ]
    },
    {
     "name": "stdout",
     "output_type": "stream",
     "text": [
      "Mudbath  mudbath\n",
      "Mudeth 6ERwcThkHmFXYHH3TagPOY\n",
      "{'spotify_name': 'Mudeth', 'spotify_id': '6ERwcThkHmFXYHH3TagPOY', 'spotify_similarity': 0.77, 'spotify_popularity': 41}\n"
     ]
    },
    {
     "name": "stderr",
     "output_type": "stream",
     "text": [
      "82it [01:32,  1.13s/it]"
     ]
    },
    {
     "name": "stdout",
     "output_type": "stream",
     "text": [
      "Mudbath mudbath\n",
      "Mudeth 6ERwcThkHmFXYHH3TagPOY\n",
      "{'spotify_name': 'Mudeth', 'spotify_id': '6ERwcThkHmFXYHH3TagPOY', 'spotify_similarity': 0.77, 'spotify_popularity': 41}\n"
     ]
    },
    {
     "name": "stderr",
     "output_type": "stream",
     "text": [
      "83it [01:33,  1.12s/it]"
     ]
    },
    {
     "name": "stdout",
     "output_type": "stream",
     "text": [
      "Mfmf mfmf\n",
      "Mumford & Sons 3gd8FJtBJtkRxdfbTu19U2\n",
      "{'spotify_name': 'MFMF', 'spotify_id': '30lBBmohCIJWuNkl4oiOb1', 'spotify_similarity': 1.0, 'spotify_popularity': 16}\n"
     ]
    },
    {
     "name": "stderr",
     "output_type": "stream",
     "text": [
      "84it [01:34,  1.11s/it]"
     ]
    },
    {
     "name": "stdout",
     "output_type": "stream",
     "text": [
      "Mur mur\n",
      "Murs 2dWF6m2ksP9GN75fufFp16\n",
      "{'spotify_name': 'Mur', 'spotify_id': '3IVDCjzqGlwMNWAqdKE2Mk', 'spotify_similarity': 1.0, 'spotify_popularity': 5}\n"
     ]
    },
    {
     "name": "stderr",
     "output_type": "stream",
     "text": [
      "85it [01:36,  1.12s/it]"
     ]
    },
    {
     "name": "stdout",
     "output_type": "stream",
     "text": [
      "Mu mu\n",
      "Muse 12Chz98pHFMPJEknJQMWvI\n",
      "{'spotify_name': 'Mu', 'spotify_id': '5jDCSocdkBXGvaCAtsIzO1', 'spotify_similarity': 1.0, 'spotify_popularity': 29}\n"
     ]
    },
    {
     "name": "stderr",
     "output_type": "stream",
     "text": [
      "86it [01:37,  1.16s/it]"
     ]
    },
    {
     "name": "stdout",
     "output_type": "stream",
     "text": [
      "Neo neo\n",
      "Ne-Yo 21E3waRsmPlU7jZsS13rcj\n",
      "{'spotify_name': 'NEO', 'spotify_id': '4ftj3tl5MTSjftxnQD1Auz', 'spotify_similarity': 1.0, 'spotify_popularity': 31}\n"
     ]
    },
    {
     "name": "stderr",
     "output_type": "stream",
     "text": [
      "87it [01:38,  1.16s/it]"
     ]
    },
    {
     "name": "stdout",
     "output_type": "stream",
     "text": [
      "Nen nen\n",
      "Nena 6Tz0QRoe083BcOo2YbG9lV\n",
      "{'spotify_name': 'Nen', 'spotify_id': '5zaBiKEQeYD80nVBhvG9to', 'spotify_similarity': 1.0, 'spotify_popularity': 11}\n"
     ]
    },
    {
     "name": "stderr",
     "output_type": "stream",
     "text": [
      "88it [01:39,  1.16s/it]"
     ]
    },
    {
     "name": "stdout",
     "output_type": "stream",
     "text": [
      "NECKLESS  neckless\n",
      "Nickless 1qhcP0Cfa1bJtE8JmbQ4Ea\n",
      "{'spotify_name': 'Neckless', 'spotify_id': '2WhhywzY2akALRe1av6LXs', 'spotify_similarity': 1.0, 'spotify_popularity': 1}\n"
     ]
    },
    {
     "name": "stderr",
     "output_type": "stream",
     "text": [
      "89it [01:40,  1.14s/it]"
     ]
    },
    {
     "name": "stdout",
     "output_type": "stream",
     "text": [
      "Nockalm Quintett nockalm quintett\n",
      "Nockis 5zhgr2K8b8Zmp5exDcyM8y\n",
      "{'spotify_name': 'Nockis', 'spotify_id': '5zhgr2K8b8Zmp5exDcyM8y', 'spotify_similarity': 0.45, 'spotify_popularity': 47}\n"
     ]
    },
    {
     "name": "stderr",
     "output_type": "stream",
     "text": [
      "90it [01:41,  1.12s/it]"
     ]
    },
    {
     "name": "stdout",
     "output_type": "stream",
     "text": [
      "Noise noise\n",
      "NoiseZ 0sfBeyU3aHvVFEGrPBU3xq\n",
      "{'spotify_name': 'NOISE', 'spotify_id': '6RqVIbrZLkRa1fAqFp4Vx7', 'spotify_similarity': 1.0, 'spotify_popularity': 19}\n"
     ]
    },
    {
     "name": "stderr",
     "output_type": "stream",
     "text": [
      "91it [01:42,  1.13s/it]"
     ]
    },
    {
     "name": "stdout",
     "output_type": "stream",
     "text": [
      "XNoise xnoise\n",
      "NoiseZ 0sfBeyU3aHvVFEGrPBU3xq\n",
      "{'spotify_name': 'NOISE', 'spotify_id': '6RqVIbrZLkRa1fAqFp4Vx7', 'spotify_similarity': 0.91, 'spotify_popularity': 19}\n"
     ]
    },
    {
     "name": "stderr",
     "output_type": "stream",
     "text": [
      "92it [01:44,  1.13s/it]"
     ]
    },
    {
     "name": "stdout",
     "output_type": "stream",
     "text": [
      "Nur nur\n",
      "Nura 3gkbRDj7pkIylWVBpRfrQf\n",
      "{'spotify_name': 'Nur', 'spotify_id': '3ydQcovhJPM8O45C8dDHUG', 'spotify_similarity': 1.0, 'spotify_popularity': 14}\n"
     ]
    },
    {
     "name": "stderr",
     "output_type": "stream",
     "text": [
      "93it [01:45,  1.13s/it]"
     ]
    },
    {
     "name": "stdout",
     "output_type": "stream",
     "text": [
      "Ørefik ørefik\n",
      "Orezi 6voVBz1bN1mWZCLpNZGqzD\n",
      "{'spotify_name': 'Orfik', 'spotify_id': '6Zo4265dXQWYtoxdz7k9a7', 'spotify_similarity': 0.73, 'spotify_popularity': 0}\n"
     ]
    },
    {
     "name": "stderr",
     "output_type": "stream",
     "text": [
      "94it [01:46,  1.12s/it]"
     ]
    },
    {
     "name": "stdout",
     "output_type": "stream",
     "text": [
      "Oré oré\n",
      "Orezi 6voVBz1bN1mWZCLpNZGqzD\n",
      "{'spotify_name': 'Oré', 'spotify_id': '0VX9r6wU2vWrUg3EnKZVj4', 'spotify_similarity': 1.0, 'spotify_popularity': 12}\n"
     ]
    },
    {
     "name": "stderr",
     "output_type": "stream",
     "text": [
      "95it [01:47,  1.13s/it]"
     ]
    },
    {
     "name": "stdout",
     "output_type": "stream",
     "text": [
      "OSOMO osomo\n",
      "Oso Oso 63GTn25wbdRNX3ijCHvYxD\n",
      "{'spotify_name': 'Osmo', 'spotify_id': '7e23iz8DcwRsCGUNI8EYOj', 'spotify_similarity': 0.89, 'spotify_popularity': 27}\n"
     ]
    },
    {
     "name": "stderr",
     "output_type": "stream",
     "text": [
      "96it [01:48,  1.12s/it]"
     ]
    },
    {
     "name": "stdout",
     "output_type": "stream",
     "text": [
      "Brit Floyd brit floyd\n",
      "Pink Floyd 0k17h0D3J5VfsdmQ1iZtE9\n",
      "{'spotify_name': 'Pink Floyd', 'spotify_id': '0k17h0D3J5VfsdmQ1iZtE9', 'spotify_similarity': 0.7, 'spotify_popularity': 81}\n"
     ]
    },
    {
     "name": "stderr",
     "output_type": "stream",
     "text": [
      "97it [01:49,  1.11s/it]"
     ]
    },
    {
     "name": "stdout",
     "output_type": "stream",
     "text": [
      "E.a.r e.a.r\n",
      "R.E.M. 4KWTAlx2RvbpseOGMEmROg\n",
      "{'spotify_name': 'E.A.R', 'spotify_id': '54KCYNPSPTLqLfuj6wca6h', 'spotify_similarity': 1.0, 'spotify_popularity': 0}\n"
     ]
    },
    {
     "name": "stderr",
     "output_type": "stream",
     "text": [
      "98it [01:50,  1.16s/it]"
     ]
    },
    {
     "name": "stdout",
     "output_type": "stream",
     "text": [
      "Rc5 rc5\n",
      "R5 5aptPwTkTKmlPx6csmNJLA\n",
      "{'spotify_name': 'RC5', 'spotify_id': '4sDaLbs00HWyic7hXzX4GU', 'spotify_similarity': 1.0, 'spotify_popularity': 0}\n"
     ]
    },
    {
     "name": "stderr",
     "output_type": "stream",
     "text": [
      "99it [01:51,  1.14s/it]"
     ]
    },
    {
     "name": "stdout",
     "output_type": "stream",
     "text": [
      "Rek rek\n",
      "Reks 6Apw0ReFBi9C1QBultw8pn\n",
      "{'spotify_name': 'REK', 'spotify_id': '0oFdbn4ojzqGRqeUP9thzI', 'spotify_similarity': 1.0, 'spotify_popularity': 14}\n"
     ]
    },
    {
     "name": "stderr",
     "output_type": "stream",
     "text": [
      "100it [01:53,  1.14s/it]"
     ]
    },
    {
     "name": "stdout",
     "output_type": "stream",
     "text": [
      "Repeatles repeatles\n",
      "Relentless 66greqz1vUMiMFywu5KsAw\n",
      "{'spotify_name': 'Relentless', 'spotify_id': '66greqz1vUMiMFywu5KsAw', 'spotify_similarity': 0.74, 'spotify_popularity': 14}\n"
     ]
    },
    {
     "name": "stderr",
     "output_type": "stream",
     "text": [
      "101it [01:54,  1.17s/it]"
     ]
    },
    {
     "name": "stdout",
     "output_type": "stream",
     "text": [
      "Nici Faerber nici faerber\n",
      "Riccardo Muti 7silW8RiEOoLBgAg5JBCL1\n",
      "{'spotify_name': 'Riccardo Muti', 'spotify_id': '7silW8RiEOoLBgAg5JBCL1', 'spotify_similarity': 0.32, 'spotify_popularity': 58}\n"
     ]
    },
    {
     "name": "stderr",
     "output_type": "stream",
     "text": [
      "102it [01:55,  1.15s/it]"
     ]
    },
    {
     "name": "stdout",
     "output_type": "stream",
     "text": [
      "Rob Mo rob mo\n",
      "Rob Moir 1Pa4BHYwxqvemHWy3UGEze\n",
      "{'spotify_name': 'Rob Mo', 'spotify_id': '1zktEudTGlKlq2zPWRwkHx', 'spotify_similarity': 1.0, 'spotify_popularity': 1}\n"
     ]
    },
    {
     "name": "stderr",
     "output_type": "stream",
     "text": [
      "103it [01:56,  1.16s/it]"
     ]
    },
    {
     "name": "stdout",
     "output_type": "stream",
     "text": [
      "Rodri rodri\n",
      "Rodrigo 235Vf4hkmwvxjVEMuCbRxm\n",
      "{'spotify_name': 'Rodrigo', 'spotify_id': '235Vf4hkmwvxjVEMuCbRxm', 'spotify_similarity': 0.83, 'spotify_popularity': 63}\n"
     ]
    },
    {
     "name": "stderr",
     "output_type": "stream",
     "text": [
      "104it [01:57,  1.16s/it]"
     ]
    },
    {
     "name": "stdout",
     "output_type": "stream",
     "text": [
      "Sad sad\n",
      "Sade 47zz7sob9NUcODy0BTDvKx\n",
      "{'spotify_name': 'Sad', 'spotify_id': '2Gp9KNnlmGLKxaZEUCq8Ke', 'spotify_similarity': 1.0, 'spotify_popularity': 25}\n"
     ]
    },
    {
     "name": "stderr",
     "output_type": "stream",
     "text": [
      "105it [01:58,  1.16s/it]"
     ]
    },
    {
     "name": "stdout",
     "output_type": "stream",
     "text": [
      "Sal sal\n",
      "Salmo 3hBQ4zniNdQf1cqqo6hzuW\n",
      "{'spotify_name': 'Sal', 'spotify_id': '0Qc6blGI2sStd0n3r0kZNV', 'spotify_similarity': 1.0, 'spotify_popularity': 23}\n"
     ]
    },
    {
     "name": "stderr",
     "output_type": "stream",
     "text": [
      "106it [02:00,  1.17s/it]"
     ]
    },
    {
     "name": "stdout",
     "output_type": "stream",
     "text": [
      "Sataŋ sataŋ\n",
      "Satan 1LNgvz72fQVLe7ZNIw6Ipo\n",
      "{'spotify_name': 'Satan', 'spotify_id': '1LNgvz72fQVLe7ZNIw6Ipo', 'spotify_similarity': 0.8, 'spotify_popularity': 26}\n"
     ]
    },
    {
     "name": "stderr",
     "output_type": "stream",
     "text": [
      "107it [02:01,  1.16s/it]"
     ]
    },
    {
     "name": "stdout",
     "output_type": "stream",
     "text": [
      "SCHON schon\n",
      "ScHoolboy Q 5IcR3N7QB1j6KBL8eImZ8m\n",
      "{'spotify_name': 'Schon', 'spotify_id': '4oeIlSk4pxksg9g4FPKDvj', 'spotify_similarity': 1.0, 'spotify_popularity': 0}\n"
     ]
    },
    {
     "name": "stderr",
     "output_type": "stream",
     "text": [
      "108it [02:02,  1.15s/it]"
     ]
    },
    {
     "name": "stdout",
     "output_type": "stream",
     "text": [
      "SCHNITT schnitt\n",
      "Schnittmann MC 0G1QLtiDM8kM0MgNyRMuVO\n",
      "{'spotify_name': 'Schnitt', 'spotify_id': '6Xu0DN0adClRrFHNQC54pu', 'spotify_similarity': 1.0, 'spotify_popularity': 18}\n"
     ]
    },
    {
     "name": "stderr",
     "output_type": "stream",
     "text": [
      "109it [02:03,  1.15s/it]"
     ]
    },
    {
     "name": "stdout",
     "output_type": "stream",
     "text": [
      "Set set\n",
      "Seth 0mZohnzbCiVv54VIEA6Wb7\n",
      "{'spotify_name': 'Set', 'spotify_id': '19Rza4zry4FH12uXxbUsib', 'spotify_similarity': 1.0, 'spotify_popularity': 27}\n"
     ]
    },
    {
     "name": "stderr",
     "output_type": "stream",
     "text": [
      "110it [02:04,  1.15s/it]"
     ]
    },
    {
     "name": "stdout",
     "output_type": "stream",
     "text": [
      "Sevdalinka sevdalinka\n",
      "Sevdaliza 5MraexJKZDrQYzS98kNwie\n",
      "{'spotify_name': 'Sevdaliza', 'spotify_id': '5MraexJKZDrQYzS98kNwie', 'spotify_similarity': 0.84, 'spotify_popularity': 55}\n"
     ]
    },
    {
     "name": "stderr",
     "output_type": "stream",
     "text": [
      "111it [02:05,  1.13s/it]"
     ]
    },
    {
     "name": "stdout",
     "output_type": "stream",
     "text": [
      "shEver shever\n",
      "Shiver 7MROzi0mO8LUN78dwABLTF\n",
      "{'spotify_name': 'SheveR', 'spotify_id': '4euDK3DaDCdpKyXQmIPoQF', 'spotify_similarity': 1.0, 'spotify_popularity': 0}\n"
     ]
    },
    {
     "name": "stderr",
     "output_type": "stream",
     "text": [
      "112it [02:07,  1.17s/it]"
     ]
    },
    {
     "name": "stdout",
     "output_type": "stream",
     "text": [
      "SOLARTONES solartones\n",
      "Solarstone 1PfOXooPSLQhOTNZGrXM90\n",
      "{'spotify_name': 'Solartones', 'spotify_id': '5K2x1YijFFoMj1NUpT9HBa', 'spotify_similarity': 1.0, 'spotify_popularity': 0}\n"
     ]
    },
    {
     "name": "stderr",
     "output_type": "stream",
     "text": [
      "113it [02:08,  1.17s/it]"
     ]
    },
    {
     "name": "stdout",
     "output_type": "stream",
     "text": [
      "Star star\n",
      "Stars 2EO56JK4txid1Pss9GVbOL\n",
      "{'spotify_name': 'Star', 'spotify_id': '3UdflxrsmHfYHVSHmweMFY', 'spotify_similarity': 1.0, 'spotify_popularity': 16}\n"
     ]
    },
    {
     "name": "stderr",
     "output_type": "stream",
     "text": [
      "114it [02:09,  1.17s/it]"
     ]
    },
    {
     "name": "stdout",
     "output_type": "stream",
     "text": [
      "Stonefloor stonefloor\n",
      "Stone Sour 49qiE8dj4JuNdpYGRPdKbF\n",
      "{'spotify_name': 'Stone Sour', 'spotify_id': '49qiE8dj4JuNdpYGRPdKbF', 'spotify_similarity': 0.7, 'spotify_popularity': 68}\n"
     ]
    },
    {
     "name": "stderr",
     "output_type": "stream",
     "text": [
      "115it [02:10,  1.15s/it]"
     ]
    },
    {
     "name": "stdout",
     "output_type": "stream",
     "text": [
      "Summer summer\n",
      "Summer Cem 3drqpTL4sQOckmAfF9i1wg\n",
      "{'spotify_name': 'Summer', 'spotify_id': '6ZxXZjMdHTCUV0in7KAep4', 'spotify_similarity': 1.0, 'spotify_popularity': 25}\n"
     ]
    },
    {
     "name": "stderr",
     "output_type": "stream",
     "text": [
      "116it [02:11,  1.15s/it]"
     ]
    },
    {
     "name": "stdout",
     "output_type": "stream",
     "text": [
      "SONS sons\n",
      "Sunset Sons 6yY9g2nwqyduN2RpxRHWdy\n",
      "{'spotify_name': 'SONS', 'spotify_id': '4smQzo74d24VIhwRf5K59S', 'spotify_similarity': 1.0, 'spotify_popularity': 26}\n"
     ]
    },
    {
     "name": "stderr",
     "output_type": "stream",
     "text": [
      "117it [02:12,  1.15s/it]"
     ]
    },
    {
     "name": "stdout",
     "output_type": "stream",
     "text": [
      "syk syk\n",
      "Syke 6kXRDOhy73hpUJuIzLLwvm\n",
      "{'spotify_name': 'SYK', 'spotify_id': '2PMMybFQkL3VaSCzTxzY7P', 'spotify_similarity': 1.0, 'spotify_popularity': 19}\n"
     ]
    },
    {
     "name": "stderr",
     "output_type": "stream",
     "text": [
      "118it [02:13,  1.15s/it]"
     ]
    },
    {
     "name": "stdout",
     "output_type": "stream",
     "text": [
      "Synkie synkie\n",
      "Syke 6kXRDOhy73hpUJuIzLLwvm\n",
      "{'spotify_name': 'Syke', 'spotify_id': '6kXRDOhy73hpUJuIzLLwvm', 'spotify_similarity': 0.8, 'spotify_popularity': 45}\n"
     ]
    },
    {
     "name": "stderr",
     "output_type": "stream",
     "text": [
      "119it [02:15,  1.14s/it]"
     ]
    },
    {
     "name": "stdout",
     "output_type": "stream",
     "text": [
      "Take take\n",
      "Take 6 31zQEL3ARiYe63jn3jtM18\n",
      "{'spotify_name': 'TAKE', 'spotify_id': '3icmjt7uULl8uGEuXzHbVs', 'spotify_similarity': 1.0, 'spotify_popularity': 29}\n"
     ]
    },
    {
     "name": "stderr",
     "output_type": "stream",
     "text": [
      "120it [02:16,  1.14s/it]"
     ]
    },
    {
     "name": "stdout",
     "output_type": "stream",
     "text": [
      "Tal tal\n",
      "Talos 5pdzKTGQAcRcxDOfN4mXSc\n",
      "{'spotify_name': 'TAL', 'spotify_id': '6JLwyyc3LBwRXEODjugQ4D', 'spotify_similarity': 1.0, 'spotify_popularity': 50}\n"
     ]
    },
    {
     "name": "stderr",
     "output_type": "stream",
     "text": [
      "121it [02:17,  1.15s/it]"
     ]
    },
    {
     "name": "stdout",
     "output_type": "stream",
     "text": [
      "The Bad  the bad\n",
      "The Bad Egg 3EcRsTN6TVGZUdoH6XYhji\n",
      "{'spotify_name': 'The Bad', 'spotify_id': '53FlKYEt89nf5lBnAnWYtW', 'spotify_similarity': 1.0, 'spotify_popularity': 0}\n"
     ]
    },
    {
     "name": "stderr",
     "output_type": "stream",
     "text": [
      "122it [02:18,  1.15s/it]"
     ]
    },
    {
     "name": "stdout",
     "output_type": "stream",
     "text": [
      "The Belp the belp\n",
      "The Help 1oPXnpMoiGmM8TsIqeg4Xy\n",
      "{'spotify_name': 'The Help', 'spotify_id': '1oPXnpMoiGmM8TsIqeg4Xy', 'spotify_similarity': 0.88, 'spotify_popularity': 0}\n"
     ]
    },
    {
     "name": "stderr",
     "output_type": "stream",
     "text": [
      "123it [02:19,  1.15s/it]"
     ]
    },
    {
     "name": "stdout",
     "output_type": "stream",
     "text": [
      "The Pint the pint\n",
      "The Pints 1hAbdez73YAvALhBLoRTED\n",
      "{'spotify_name': 'The Pints', 'spotify_id': '1hAbdez73YAvALhBLoRTED', 'spotify_similarity': 0.94, 'spotify_popularity': 19}\n"
     ]
    },
    {
     "name": "stderr",
     "output_type": "stream",
     "text": [
      "124it [02:20,  1.18s/it]"
     ]
    },
    {
     "name": "stdout",
     "output_type": "stream",
     "text": [
      "The Pint  the pint\n",
      "The Pints 1hAbdez73YAvALhBLoRTED\n",
      "{'spotify_name': 'The Pints', 'spotify_id': '1hAbdez73YAvALhBLoRTED', 'spotify_similarity': 0.94, 'spotify_popularity': 19}\n"
     ]
    },
    {
     "name": "stderr",
     "output_type": "stream",
     "text": [
      "125it [02:22,  1.16s/it]"
     ]
    },
    {
     "name": "stdout",
     "output_type": "stream",
     "text": [
      "The Scriptor the scriptor\n",
      "The Script 3AQRLZ9PuTAozP28Skbq8V\n",
      "{'spotify_name': 'The Script', 'spotify_id': '3AQRLZ9PuTAozP28Skbq8V', 'spotify_similarity': 0.91, 'spotify_popularity': 77}\n"
     ]
    },
    {
     "name": "stderr",
     "output_type": "stream",
     "text": [
      "126it [02:23,  1.13s/it]"
     ]
    },
    {
     "name": "stdout",
     "output_type": "stream",
     "text": [
      "The Tarantinos the tarantinos\n",
      "The Tarantino Experience 3mRInWVq7iwEyr5DbEns2r\n",
      "{'spotify_name': 'The Tarantino Experience', 'spotify_id': '3mRInWVq7iwEyr5DbEns2r', 'spotify_similarity': 0.68, 'spotify_popularity': 0}\n"
     ]
    },
    {
     "name": "stderr",
     "output_type": "stream",
     "text": [
      "127it [02:24,  1.12s/it]"
     ]
    },
    {
     "name": "stdout",
     "output_type": "stream",
     "text": [
      "TURN  turn\n",
      "Tina Turner 1zuJe6b1roixEKMOtyrEak\n",
      "{'spotify_name': 'Turn', 'spotify_id': '7ILCtCOKhbiqPuMs8UOPyB', 'spotify_similarity': 1.0, 'spotify_popularity': 18}\n"
     ]
    },
    {
     "name": "stderr",
     "output_type": "stream",
     "text": [
      "128it [02:25,  1.13s/it]"
     ]
    },
    {
     "name": "stdout",
     "output_type": "stream",
     "text": [
      "TÖRS  törs\n",
      "Tory Lanez 2jku7tDXc6XoB6MO2hFuqg\n",
      "{'spotify_name': 'TÖRS', 'spotify_id': '6hSNRxH5WHLuZ3XFxrNJLm', 'spotify_similarity': 1.0, 'spotify_popularity': 4}\n"
     ]
    },
    {
     "name": "stderr",
     "output_type": "stream",
     "text": [
      "129it [02:26,  1.14s/it]"
     ]
    },
    {
     "name": "stdout",
     "output_type": "stream",
     "text": [
      "Uns  uns\n",
      "Unsane 2C3gpQ0UMPjrOQ4FYdylRS\n",
      "{'spotify_name': 'UNS', 'spotify_id': '3GRqR2HroZVdUmGzmTbHt3', 'spotify_similarity': 1.0, 'spotify_popularity': 24}\n"
     ]
    },
    {
     "name": "stderr",
     "output_type": "stream",
     "text": [
      "130it [02:27,  1.14s/it]"
     ]
    },
    {
     "name": "stdout",
     "output_type": "stream",
     "text": [
      "Us4 us4\n",
      "Us3 4LtIfuFeAamus9OOItuWDD\n",
      "{'spotify_name': 'US4', 'spotify_id': '4NX4jEKp8i0h0busKoRy7r', 'spotify_similarity': 1.0, 'spotify_popularity': 1}\n"
     ]
    },
    {
     "name": "stderr",
     "output_type": "stream",
     "text": [
      "131it [02:28,  1.14s/it]"
     ]
    },
    {
     "name": "stdout",
     "output_type": "stream",
     "text": [
      "Usé  usé\n",
      "Use Me 3Hoiyy4b4zd4WQWKRbHCJX\n",
      "{'spotify_name': 'Usé', 'spotify_id': '5v5MbC43sP6SB4IDhnkaYi', 'spotify_similarity': 1.0, 'spotify_popularity': 4}\n"
     ]
    },
    {
     "name": "stderr",
     "output_type": "stream",
     "text": [
      "132it [02:29,  1.14s/it]"
     ]
    },
    {
     "name": "stdout",
     "output_type": "stream",
     "text": [
      "Use  use\n",
      "Use Me 3Hoiyy4b4zd4WQWKRbHCJX\n",
      "{'spotify_name': 'USE', 'spotify_id': '19sJ1AkeUQaRji8KCafk87', 'spotify_similarity': 1.0, 'spotify_popularity': 15}\n"
     ]
    },
    {
     "name": "stderr",
     "output_type": "stream",
     "text": [
      "133it [02:31,  1.14s/it]"
     ]
    },
    {
     "name": "stdout",
     "output_type": "stream",
     "text": [
      "VANUM vanum\n",
      "Van Morrison 44NX2ffIYHr6D4n7RaZF7A\n",
      "{'spotify_name': 'Vanum', 'spotify_id': '5fRnNOrEt6z1TDudpbzAcC', 'spotify_similarity': 1.0, 'spotify_popularity': 11}\n"
     ]
    },
    {
     "name": "stderr",
     "output_type": "stream",
     "text": [
      "134it [02:32,  1.12s/it]"
     ]
    },
    {
     "name": "stdout",
     "output_type": "stream",
     "text": [
      "Wueh! wueh!\n",
      "Wehbba 2UzAShzs3DO53bSZqvf8Ri\n",
      "{'spotify_name': 'WUEH!', 'spotify_id': '1cYvNzzQ1cZB8KVdtOdj4E', 'spotify_similarity': 1.0, 'spotify_popularity': 0}\n"
     ]
    },
    {
     "name": "stderr",
     "output_type": "stream",
     "text": [
      "135it [02:33,  1.11s/it]"
     ]
    },
    {
     "name": "stdout",
     "output_type": "stream",
     "text": [
      "Whitecut whitecut\n",
      "Whiteout 35wRsBUrfQziBPzvJTr9bt\n",
      "{'spotify_name': 'Whiteout', 'spotify_id': '35wRsBUrfQziBPzvJTr9bt', 'spotify_similarity': 0.88, 'spotify_popularity': 45}\n"
     ]
    },
    {
     "name": "stderr",
     "output_type": "stream",
     "text": [
      "136it [02:34,  1.13s/it]"
     ]
    },
    {
     "name": "stdout",
     "output_type": "stream",
     "text": [
      "Wolve wolve\n",
      "Wolves 5vF8F6ItVnaHxwBnnYqrmA\n",
      "{'spotify_name': 'Wolve', 'spotify_id': '0JAKkAIbs8ygPqznTiSqLx', 'spotify_similarity': 1.0, 'spotify_popularity': 0}\n"
     ]
    },
    {
     "name": "stderr",
     "output_type": "stream",
     "text": [
      "137it [02:35,  1.13s/it]"
     ]
    },
    {
     "name": "stdout",
     "output_type": "stream",
     "text": [
      "Za! za!\n",
      "Zaz 1mbgj8ERPs8lWi7t5cYrdy\n",
      "{'spotify_name': 'Za!', 'spotify_id': '5id3QE9SvJCxWwHVa0zRcD', 'spotify_similarity': 1.0, 'spotify_popularity': 7}\n"
     ]
    },
    {
     "name": "stderr",
     "output_type": "stream",
     "text": [
      "138it [02:36,  1.14s/it]\n"
     ]
    },
    {
     "data": {
      "text/html": [
       "<div>\n",
       "<style scoped>\n",
       "    .dataframe tbody tr th:only-of-type {\n",
       "        vertical-align: middle;\n",
       "    }\n",
       "\n",
       "    .dataframe tbody tr th {\n",
       "        vertical-align: top;\n",
       "    }\n",
       "\n",
       "    .dataframe thead th {\n",
       "        text-align: right;\n",
       "    }\n",
       "</style>\n",
       "<table border=\"1\" class=\"dataframe\">\n",
       "  <thead>\n",
       "    <tr style=\"text-align: right;\">\n",
       "      <th></th>\n",
       "      <th>artist_name</th>\n",
       "      <th>spotify_name</th>\n",
       "      <th>match_error</th>\n",
       "      <th>spotify_id</th>\n",
       "      <th>spotify_popularity</th>\n",
       "      <th>spotify_followers</th>\n",
       "      <th>spotify_listeners</th>\n",
       "      <th>spotify_similarity</th>\n",
       "      <th>new_match</th>\n",
       "    </tr>\n",
       "    <tr>\n",
       "      <th>artist_id</th>\n",
       "      <th></th>\n",
       "      <th></th>\n",
       "      <th></th>\n",
       "      <th></th>\n",
       "      <th></th>\n",
       "      <th></th>\n",
       "      <th></th>\n",
       "      <th></th>\n",
       "      <th></th>\n",
       "    </tr>\n",
       "  </thead>\n",
       "  <tbody>\n",
       "    <tr>\n",
       "      <th>/artists/4323041-aeby</th>\n",
       "      <td>Aeby</td>\n",
       "      <td>ABBY</td>\n",
       "      <td>X</td>\n",
       "      <td>1Ppujw75tt7kUv9gEdrFpz</td>\n",
       "      <td>28</td>\n",
       "      <td>182</td>\n",
       "      <td>6900</td>\n",
       "      <td>0.75</td>\n",
       "      <td>X</td>\n",
       "    </tr>\n",
       "    <tr>\n",
       "      <th>/artists/8375378-agcrew</th>\n",
       "      <td>#AGCrew</td>\n",
       "      <td>Acres</td>\n",
       "      <td>X</td>\n",
       "      <td>3y43zXffnLmhyQD1K4QCmD</td>\n",
       "      <td>31</td>\n",
       "      <td>17632</td>\n",
       "      <td>28100</td>\n",
       "      <td>0.67</td>\n",
       "      <td></td>\n",
       "    </tr>\n",
       "    <tr>\n",
       "      <th>/artists/183136-alex</th>\n",
       "      <td>Alex</td>\n",
       "      <td>ALEX</td>\n",
       "      <td>X</td>\n",
       "      <td>65sChHf6etCvSFdXn8NPUO</td>\n",
       "      <td>50</td>\n",
       "      <td>201082</td>\n",
       "      <td>1200000</td>\n",
       "      <td>1.00</td>\n",
       "      <td>X</td>\n",
       "    </tr>\n",
       "    <tr>\n",
       "      <th>/artists/4635043-alexs</th>\n",
       "      <td>Alex-s</td>\n",
       "      <td>Alex S</td>\n",
       "      <td>X</td>\n",
       "      <td>1pXMjL8g30cp8t4AAjxxyH</td>\n",
       "      <td>27</td>\n",
       "      <td>201082</td>\n",
       "      <td>1200000</td>\n",
       "      <td>0.83</td>\n",
       "      <td>X</td>\n",
       "    </tr>\n",
       "    <tr>\n",
       "      <th>/artists/296901-almanach</th>\n",
       "      <td>Almanach</td>\n",
       "      <td>Almanac</td>\n",
       "      <td>X</td>\n",
       "      <td>2EJxcRlcIa5W1u2v42PvTv</td>\n",
       "      <td>51</td>\n",
       "      <td>48024</td>\n",
       "      <td>333000</td>\n",
       "      <td>0.93</td>\n",
       "      <td></td>\n",
       "    </tr>\n",
       "    <tr>\n",
       "      <th>...</th>\n",
       "      <td>...</td>\n",
       "      <td>...</td>\n",
       "      <td>...</td>\n",
       "      <td>...</td>\n",
       "      <td>...</td>\n",
       "      <td>...</td>\n",
       "      <td>...</td>\n",
       "      <td>...</td>\n",
       "      <td>...</td>\n",
       "    </tr>\n",
       "    <tr>\n",
       "      <th>/artists/8984079-vanum</th>\n",
       "      <td>VANUM</td>\n",
       "      <td>Vanum</td>\n",
       "      <td>X</td>\n",
       "      <td>5fRnNOrEt6z1TDudpbzAcC</td>\n",
       "      <td>11</td>\n",
       "      <td>2214081</td>\n",
       "      <td>9900000</td>\n",
       "      <td>1.00</td>\n",
       "      <td>X</td>\n",
       "    </tr>\n",
       "    <tr>\n",
       "      <th>/artists/10100879-wueh</th>\n",
       "      <td>Wueh!</td>\n",
       "      <td>WUEH!</td>\n",
       "      <td>X</td>\n",
       "      <td>1cYvNzzQ1cZB8KVdtOdj4E</td>\n",
       "      <td>0</td>\n",
       "      <td>34037</td>\n",
       "      <td>95900</td>\n",
       "      <td>1.00</td>\n",
       "      <td>X</td>\n",
       "    </tr>\n",
       "    <tr>\n",
       "      <th>/artists/8680104-whitecut</th>\n",
       "      <td>Whitecut</td>\n",
       "      <td>Whiteout</td>\n",
       "      <td>X</td>\n",
       "      <td>35wRsBUrfQziBPzvJTr9bt</td>\n",
       "      <td>45</td>\n",
       "      <td>1416</td>\n",
       "      <td>274900</td>\n",
       "      <td>0.88</td>\n",
       "      <td></td>\n",
       "    </tr>\n",
       "    <tr>\n",
       "      <th>/artists/7462934-wolve</th>\n",
       "      <td>Wolve</td>\n",
       "      <td>Wolve</td>\n",
       "      <td>X</td>\n",
       "      <td>0JAKkAIbs8ygPqznTiSqLx</td>\n",
       "      <td>0</td>\n",
       "      <td>5</td>\n",
       "      <td>2900</td>\n",
       "      <td>1.00</td>\n",
       "      <td>X</td>\n",
       "    </tr>\n",
       "    <tr>\n",
       "      <th>/artists/531180-za</th>\n",
       "      <td>Za!</td>\n",
       "      <td>Za!</td>\n",
       "      <td>X</td>\n",
       "      <td>5id3QE9SvJCxWwHVa0zRcD</td>\n",
       "      <td>7</td>\n",
       "      <td>1195585</td>\n",
       "      <td>2100000</td>\n",
       "      <td>1.00</td>\n",
       "      <td>X</td>\n",
       "    </tr>\n",
       "  </tbody>\n",
       "</table>\n",
       "<p>138 rows × 9 columns</p>\n",
       "</div>"
      ],
      "text/plain": [
       "                          artist_name spotify_name match_error  \\\n",
       "artist_id                                                        \n",
       "/artists/4323041-aeby            Aeby         ABBY           X   \n",
       "/artists/8375378-agcrew       #AGCrew        Acres           X   \n",
       "/artists/183136-alex             Alex         ALEX           X   \n",
       "/artists/4635043-alexs         Alex-s       Alex S           X   \n",
       "/artists/296901-almanach     Almanach      Almanac           X   \n",
       "...                               ...          ...         ...   \n",
       "/artists/8984079-vanum          VANUM        Vanum           X   \n",
       "/artists/10100879-wueh          Wueh!        WUEH!           X   \n",
       "/artists/8680104-whitecut    Whitecut     Whiteout           X   \n",
       "/artists/7462934-wolve          Wolve        Wolve           X   \n",
       "/artists/531180-za                Za!          Za!           X   \n",
       "\n",
       "                                       spotify_id  spotify_popularity  \\\n",
       "artist_id                                                               \n",
       "/artists/4323041-aeby      1Ppujw75tt7kUv9gEdrFpz                  28   \n",
       "/artists/8375378-agcrew    3y43zXffnLmhyQD1K4QCmD                  31   \n",
       "/artists/183136-alex       65sChHf6etCvSFdXn8NPUO                  50   \n",
       "/artists/4635043-alexs     1pXMjL8g30cp8t4AAjxxyH                  27   \n",
       "/artists/296901-almanach   2EJxcRlcIa5W1u2v42PvTv                  51   \n",
       "...                                           ...                 ...   \n",
       "/artists/8984079-vanum     5fRnNOrEt6z1TDudpbzAcC                  11   \n",
       "/artists/10100879-wueh     1cYvNzzQ1cZB8KVdtOdj4E                   0   \n",
       "/artists/8680104-whitecut  35wRsBUrfQziBPzvJTr9bt                  45   \n",
       "/artists/7462934-wolve     0JAKkAIbs8ygPqznTiSqLx                   0   \n",
       "/artists/531180-za         5id3QE9SvJCxWwHVa0zRcD                   7   \n",
       "\n",
       "                           spotify_followers  spotify_listeners  \\\n",
       "artist_id                                                         \n",
       "/artists/4323041-aeby                    182               6900   \n",
       "/artists/8375378-agcrew                17632              28100   \n",
       "/artists/183136-alex                  201082            1200000   \n",
       "/artists/4635043-alexs                201082            1200000   \n",
       "/artists/296901-almanach               48024             333000   \n",
       "...                                      ...                ...   \n",
       "/artists/8984079-vanum               2214081            9900000   \n",
       "/artists/10100879-wueh                 34037              95900   \n",
       "/artists/8680104-whitecut               1416             274900   \n",
       "/artists/7462934-wolve                     5               2900   \n",
       "/artists/531180-za                   1195585            2100000   \n",
       "\n",
       "                           spotify_similarity new_match  \n",
       "artist_id                                                \n",
       "/artists/4323041-aeby                    0.75         X  \n",
       "/artists/8375378-agcrew                  0.67            \n",
       "/artists/183136-alex                     1.00         X  \n",
       "/artists/4635043-alexs                   0.83         X  \n",
       "/artists/296901-almanach                 0.93            \n",
       "...                                       ...       ...  \n",
       "/artists/8984079-vanum                   1.00         X  \n",
       "/artists/10100879-wueh                   1.00         X  \n",
       "/artists/8680104-whitecut                0.88            \n",
       "/artists/7462934-wolve                   1.00         X  \n",
       "/artists/531180-za                       1.00         X  \n",
       "\n",
       "[138 rows x 9 columns]"
      ]
     },
     "execution_count": 71,
     "metadata": {},
     "output_type": "execute_result"
    }
   ],
   "source": [
    "# get the spotify id of every artist by searching the artist name on spotify\n",
    "\n",
    "new_matches_df = matches_error_df.copy()\n",
    "\n",
    "for idx, row in tqdm(matches_error_df.iloc[:].iterrows()):\n",
    "    artist_name = row['artist_name']\n",
    "    artist_name_lower = artist_name.lower().rstrip()  #rstrip removes trailing whitespaces\n",
    "    spotify_id = row['spotify_id']\n",
    "    spotify_name = row['spotify_name']\n",
    "    print(artist_name, artist_name_lower)\n",
    "    print(spotify_name, spotify_id)\n",
    "    \n",
    "    new_matches_df = search_spotify_artist(artist_name_lower, new_matches_df)\n",
    "    new_spotify_id = new_matches_df.loc[idx, 'spotify_id']\n",
    "    \n",
    "    if spotify_id != new_spotify_id:\n",
    "        new_matches_df.loc[idx, 'new_match'] = 'X'\n",
    "    else:\n",
    "        new_matches_df.loc[idx, 'new_match'] = ''\n",
    "    \n",
    "    time.sleep(1)\n",
    "    counter += 1\n",
    "    \n",
    "new_matches_df"
   ]
  },
  {
   "cell_type": "code",
   "execution_count": 76,
   "id": "f6bc7385-63d1-454b-a2f4-0bc27749c8b7",
   "metadata": {},
   "outputs": [
    {
     "data": {
      "text/html": [
       "<div>\n",
       "<style scoped>\n",
       "    .dataframe tbody tr th:only-of-type {\n",
       "        vertical-align: middle;\n",
       "    }\n",
       "\n",
       "    .dataframe tbody tr th {\n",
       "        vertical-align: top;\n",
       "    }\n",
       "\n",
       "    .dataframe thead th {\n",
       "        text-align: right;\n",
       "    }\n",
       "</style>\n",
       "<table border=\"1\" class=\"dataframe\">\n",
       "  <thead>\n",
       "    <tr style=\"text-align: right;\">\n",
       "      <th></th>\n",
       "      <th>artist_name</th>\n",
       "      <th>spotify_name</th>\n",
       "      <th>spotify_id</th>\n",
       "      <th>spotify_popularity</th>\n",
       "      <th>spotify_followers</th>\n",
       "      <th>spotify_listeners</th>\n",
       "      <th>spotify_similarity</th>\n",
       "    </tr>\n",
       "    <tr>\n",
       "      <th>artist_id</th>\n",
       "      <th></th>\n",
       "      <th></th>\n",
       "      <th></th>\n",
       "      <th></th>\n",
       "      <th></th>\n",
       "      <th></th>\n",
       "      <th></th>\n",
       "    </tr>\n",
       "  </thead>\n",
       "  <tbody>\n",
       "    <tr>\n",
       "      <th>/artists/4323041-aeby</th>\n",
       "      <td>Aeby</td>\n",
       "      <td>ABBY</td>\n",
       "      <td>1Ppujw75tt7kUv9gEdrFpz</td>\n",
       "      <td>28</td>\n",
       "      <td></td>\n",
       "      <td></td>\n",
       "      <td>0.75</td>\n",
       "    </tr>\n",
       "    <tr>\n",
       "      <th>/artists/183136-alex</th>\n",
       "      <td>Alex</td>\n",
       "      <td>ALEX</td>\n",
       "      <td>65sChHf6etCvSFdXn8NPUO</td>\n",
       "      <td>50</td>\n",
       "      <td></td>\n",
       "      <td></td>\n",
       "      <td>1.00</td>\n",
       "    </tr>\n",
       "    <tr>\n",
       "      <th>/artists/4635043-alexs</th>\n",
       "      <td>Alex-s</td>\n",
       "      <td>Alex S</td>\n",
       "      <td>1pXMjL8g30cp8t4AAjxxyH</td>\n",
       "      <td>27</td>\n",
       "      <td></td>\n",
       "      <td></td>\n",
       "      <td>0.83</td>\n",
       "    </tr>\n",
       "    <tr>\n",
       "      <th>/artists/286952-alt</th>\n",
       "      <td>Alt</td>\n",
       "      <td>Alt</td>\n",
       "      <td>3cgqGFgSiqcdcAmVP0RT48</td>\n",
       "      <td>16</td>\n",
       "      <td></td>\n",
       "      <td></td>\n",
       "      <td>1.00</td>\n",
       "    </tr>\n",
       "    <tr>\n",
       "      <th>/artists/292385-ami</th>\n",
       "      <td>Ami</td>\n",
       "      <td>AMI</td>\n",
       "      <td>6ZQhxROkDyYGsijIBDBrhF</td>\n",
       "      <td>44</td>\n",
       "      <td></td>\n",
       "      <td></td>\n",
       "      <td>1.00</td>\n",
       "    </tr>\n",
       "    <tr>\n",
       "      <th>...</th>\n",
       "      <td>...</td>\n",
       "      <td>...</td>\n",
       "      <td>...</td>\n",
       "      <td>...</td>\n",
       "      <td>...</td>\n",
       "      <td>...</td>\n",
       "      <td>...</td>\n",
       "    </tr>\n",
       "    <tr>\n",
       "      <th>/artists/9070664-use-us</th>\n",
       "      <td>Use</td>\n",
       "      <td>USE</td>\n",
       "      <td>19sJ1AkeUQaRji8KCafk87</td>\n",
       "      <td>15</td>\n",
       "      <td></td>\n",
       "      <td></td>\n",
       "      <td>1.00</td>\n",
       "    </tr>\n",
       "    <tr>\n",
       "      <th>/artists/8984079-vanum</th>\n",
       "      <td>VANUM</td>\n",
       "      <td>Vanum</td>\n",
       "      <td>5fRnNOrEt6z1TDudpbzAcC</td>\n",
       "      <td>11</td>\n",
       "      <td></td>\n",
       "      <td></td>\n",
       "      <td>1.00</td>\n",
       "    </tr>\n",
       "    <tr>\n",
       "      <th>/artists/10100879-wueh</th>\n",
       "      <td>Wueh!</td>\n",
       "      <td>WUEH!</td>\n",
       "      <td>1cYvNzzQ1cZB8KVdtOdj4E</td>\n",
       "      <td>0</td>\n",
       "      <td></td>\n",
       "      <td></td>\n",
       "      <td>1.00</td>\n",
       "    </tr>\n",
       "    <tr>\n",
       "      <th>/artists/7462934-wolve</th>\n",
       "      <td>Wolve</td>\n",
       "      <td>Wolve</td>\n",
       "      <td>0JAKkAIbs8ygPqznTiSqLx</td>\n",
       "      <td>0</td>\n",
       "      <td></td>\n",
       "      <td></td>\n",
       "      <td>1.00</td>\n",
       "    </tr>\n",
       "    <tr>\n",
       "      <th>/artists/531180-za</th>\n",
       "      <td>Za!</td>\n",
       "      <td>Za!</td>\n",
       "      <td>5id3QE9SvJCxWwHVa0zRcD</td>\n",
       "      <td>7</td>\n",
       "      <td></td>\n",
       "      <td></td>\n",
       "      <td>1.00</td>\n",
       "    </tr>\n",
       "  </tbody>\n",
       "</table>\n",
       "<p>87 rows × 7 columns</p>\n",
       "</div>"
      ],
      "text/plain": [
       "                        artist_name spotify_name              spotify_id  \\\n",
       "artist_id                                                                  \n",
       "/artists/4323041-aeby          Aeby         ABBY  1Ppujw75tt7kUv9gEdrFpz   \n",
       "/artists/183136-alex           Alex         ALEX  65sChHf6etCvSFdXn8NPUO   \n",
       "/artists/4635043-alexs       Alex-s       Alex S  1pXMjL8g30cp8t4AAjxxyH   \n",
       "/artists/286952-alt             Alt          Alt  3cgqGFgSiqcdcAmVP0RT48   \n",
       "/artists/292385-ami             Ami          AMI  6ZQhxROkDyYGsijIBDBrhF   \n",
       "...                             ...          ...                     ...   \n",
       "/artists/9070664-use-us        Use           USE  19sJ1AkeUQaRji8KCafk87   \n",
       "/artists/8984079-vanum        VANUM        Vanum  5fRnNOrEt6z1TDudpbzAcC   \n",
       "/artists/10100879-wueh        Wueh!        WUEH!  1cYvNzzQ1cZB8KVdtOdj4E   \n",
       "/artists/7462934-wolve        Wolve        Wolve  0JAKkAIbs8ygPqznTiSqLx   \n",
       "/artists/531180-za              Za!          Za!  5id3QE9SvJCxWwHVa0zRcD   \n",
       "\n",
       "                         spotify_popularity spotify_followers  \\\n",
       "artist_id                                                       \n",
       "/artists/4323041-aeby                    28                     \n",
       "/artists/183136-alex                     50                     \n",
       "/artists/4635043-alexs                   27                     \n",
       "/artists/286952-alt                      16                     \n",
       "/artists/292385-ami                      44                     \n",
       "...                                     ...               ...   \n",
       "/artists/9070664-use-us                  15                     \n",
       "/artists/8984079-vanum                   11                     \n",
       "/artists/10100879-wueh                    0                     \n",
       "/artists/7462934-wolve                    0                     \n",
       "/artists/531180-za                        7                     \n",
       "\n",
       "                        spotify_listeners  spotify_similarity  \n",
       "artist_id                                                      \n",
       "/artists/4323041-aeby                                    0.75  \n",
       "/artists/183136-alex                                     1.00  \n",
       "/artists/4635043-alexs                                   0.83  \n",
       "/artists/286952-alt                                      1.00  \n",
       "/artists/292385-ami                                      1.00  \n",
       "...                                   ...                 ...  \n",
       "/artists/9070664-use-us                                  1.00  \n",
       "/artists/8984079-vanum                                   1.00  \n",
       "/artists/10100879-wueh                                   1.00  \n",
       "/artists/7462934-wolve                                   1.00  \n",
       "/artists/531180-za                                       1.00  \n",
       "\n",
       "[87 rows x 7 columns]"
      ]
     },
     "execution_count": 76,
     "metadata": {},
     "output_type": "execute_result"
    }
   ],
   "source": [
    "new_matches_df = new_matches_df.loc[new_matches_df['new_match'] == 'X']\n",
    "new_matches_df = new_matches_df.drop(columns=['match_error', 'new_match'])\n",
    "new_matches_df['spotify_followers'] = ''\n",
    "new_matches_df['spotify_listeners'] = ''\n",
    "new_matches_df"
   ]
  },
  {
   "cell_type": "code",
   "execution_count": 79,
   "id": "f4b11644-230f-465d-83cd-47aa12e0999d",
   "metadata": {},
   "outputs": [
    {
     "name": "stderr",
     "output_type": "stream",
     "text": [
      "87it [02:19,  1.61s/it]\n"
     ]
    },
    {
     "data": {
      "text/html": [
       "<div>\n",
       "<style scoped>\n",
       "    .dataframe tbody tr th:only-of-type {\n",
       "        vertical-align: middle;\n",
       "    }\n",
       "\n",
       "    .dataframe tbody tr th {\n",
       "        vertical-align: top;\n",
       "    }\n",
       "\n",
       "    .dataframe thead th {\n",
       "        text-align: right;\n",
       "    }\n",
       "</style>\n",
       "<table border=\"1\" class=\"dataframe\">\n",
       "  <thead>\n",
       "    <tr style=\"text-align: right;\">\n",
       "      <th></th>\n",
       "      <th>artist_name</th>\n",
       "      <th>spotify_name</th>\n",
       "      <th>spotify_id</th>\n",
       "      <th>spotify_popularity</th>\n",
       "      <th>spotify_followers</th>\n",
       "      <th>spotify_listeners</th>\n",
       "      <th>spotify_similarity</th>\n",
       "      <th>spotify_genre_1</th>\n",
       "      <th>spotify_genre_2</th>\n",
       "      <th>spotify_genre_3</th>\n",
       "      <th>spotify_genre_4</th>\n",
       "      <th>spotify_genre_5</th>\n",
       "      <th>spotify_genre_6</th>\n",
       "      <th>spotify_genre_7</th>\n",
       "      <th>spotify_genre_8</th>\n",
       "      <th>spotify_genre_9</th>\n",
       "      <th>spotify_genre_10</th>\n",
       "      <th>spotify_genre_11</th>\n",
       "    </tr>\n",
       "    <tr>\n",
       "      <th>artist_id</th>\n",
       "      <th></th>\n",
       "      <th></th>\n",
       "      <th></th>\n",
       "      <th></th>\n",
       "      <th></th>\n",
       "      <th></th>\n",
       "      <th></th>\n",
       "      <th></th>\n",
       "      <th></th>\n",
       "      <th></th>\n",
       "      <th></th>\n",
       "      <th></th>\n",
       "      <th></th>\n",
       "      <th></th>\n",
       "      <th></th>\n",
       "      <th></th>\n",
       "      <th></th>\n",
       "      <th></th>\n",
       "    </tr>\n",
       "  </thead>\n",
       "  <tbody>\n",
       "    <tr>\n",
       "      <th>/artists/4323041-aeby</th>\n",
       "      <td>Aeby</td>\n",
       "      <td>ABBY</td>\n",
       "      <td>1Ppujw75tt7kUv9gEdrFpz</td>\n",
       "      <td>28</td>\n",
       "      <td>14194</td>\n",
       "      <td>17500</td>\n",
       "      <td>0.75</td>\n",
       "      <td>german alternative rock</td>\n",
       "      <td>NaN</td>\n",
       "      <td>NaN</td>\n",
       "      <td>NaN</td>\n",
       "      <td>NaN</td>\n",
       "      <td>NaN</td>\n",
       "      <td>NaN</td>\n",
       "      <td>NaN</td>\n",
       "      <td>NaN</td>\n",
       "      <td>NaN</td>\n",
       "      <td>NaN</td>\n",
       "    </tr>\n",
       "    <tr>\n",
       "      <th>/artists/183136-alex</th>\n",
       "      <td>Alex</td>\n",
       "      <td>ALEX</td>\n",
       "      <td>65sChHf6etCvSFdXn8NPUO</td>\n",
       "      <td>50</td>\n",
       "      <td>28736</td>\n",
       "      <td>304400</td>\n",
       "      <td>1.00</td>\n",
       "      <td>cyberpunk</td>\n",
       "      <td>dark clubbing</td>\n",
       "      <td>darksynth</td>\n",
       "      <td>synthwave</td>\n",
       "      <td>NaN</td>\n",
       "      <td>NaN</td>\n",
       "      <td>NaN</td>\n",
       "      <td>NaN</td>\n",
       "      <td>NaN</td>\n",
       "      <td>NaN</td>\n",
       "      <td>NaN</td>\n",
       "    </tr>\n",
       "    <tr>\n",
       "      <th>/artists/4635043-alexs</th>\n",
       "      <td>Alex-s</td>\n",
       "      <td>Alex S</td>\n",
       "      <td>1pXMjL8g30cp8t4AAjxxyH</td>\n",
       "      <td>27</td>\n",
       "      <td>154</td>\n",
       "      <td>15200</td>\n",
       "      <td>0.83</td>\n",
       "      <td>NaN</td>\n",
       "      <td>NaN</td>\n",
       "      <td>NaN</td>\n",
       "      <td>NaN</td>\n",
       "      <td>NaN</td>\n",
       "      <td>NaN</td>\n",
       "      <td>NaN</td>\n",
       "      <td>NaN</td>\n",
       "      <td>NaN</td>\n",
       "      <td>NaN</td>\n",
       "      <td>NaN</td>\n",
       "    </tr>\n",
       "    <tr>\n",
       "      <th>/artists/286952-alt</th>\n",
       "      <td>Alt</td>\n",
       "      <td>Alt</td>\n",
       "      <td>3cgqGFgSiqcdcAmVP0RT48</td>\n",
       "      <td>16</td>\n",
       "      <td>66</td>\n",
       "      <td>241</td>\n",
       "      <td>1.00</td>\n",
       "      <td>NaN</td>\n",
       "      <td>NaN</td>\n",
       "      <td>NaN</td>\n",
       "      <td>NaN</td>\n",
       "      <td>NaN</td>\n",
       "      <td>NaN</td>\n",
       "      <td>NaN</td>\n",
       "      <td>NaN</td>\n",
       "      <td>NaN</td>\n",
       "      <td>NaN</td>\n",
       "      <td>NaN</td>\n",
       "    </tr>\n",
       "    <tr>\n",
       "      <th>/artists/292385-ami</th>\n",
       "      <td>Ami</td>\n",
       "      <td>AMI</td>\n",
       "      <td>6ZQhxROkDyYGsijIBDBrhF</td>\n",
       "      <td>44</td>\n",
       "      <td>25966</td>\n",
       "      <td>97500</td>\n",
       "      <td>1.00</td>\n",
       "      <td>romanian pop</td>\n",
       "      <td>NaN</td>\n",
       "      <td>NaN</td>\n",
       "      <td>NaN</td>\n",
       "      <td>NaN</td>\n",
       "      <td>NaN</td>\n",
       "      <td>NaN</td>\n",
       "      <td>NaN</td>\n",
       "      <td>NaN</td>\n",
       "      <td>NaN</td>\n",
       "      <td>NaN</td>\n",
       "    </tr>\n",
       "    <tr>\n",
       "      <th>...</th>\n",
       "      <td>...</td>\n",
       "      <td>...</td>\n",
       "      <td>...</td>\n",
       "      <td>...</td>\n",
       "      <td>...</td>\n",
       "      <td>...</td>\n",
       "      <td>...</td>\n",
       "      <td>...</td>\n",
       "      <td>...</td>\n",
       "      <td>...</td>\n",
       "      <td>...</td>\n",
       "      <td>...</td>\n",
       "      <td>...</td>\n",
       "      <td>...</td>\n",
       "      <td>...</td>\n",
       "      <td>...</td>\n",
       "      <td>...</td>\n",
       "      <td>...</td>\n",
       "    </tr>\n",
       "    <tr>\n",
       "      <th>/artists/9070664-use-us</th>\n",
       "      <td>Use</td>\n",
       "      <td>USE</td>\n",
       "      <td>19sJ1AkeUQaRji8KCafk87</td>\n",
       "      <td>15</td>\n",
       "      <td>202</td>\n",
       "      <td>360</td>\n",
       "      <td>1.00</td>\n",
       "      <td>NaN</td>\n",
       "      <td>NaN</td>\n",
       "      <td>NaN</td>\n",
       "      <td>NaN</td>\n",
       "      <td>NaN</td>\n",
       "      <td>NaN</td>\n",
       "      <td>NaN</td>\n",
       "      <td>NaN</td>\n",
       "      <td>NaN</td>\n",
       "      <td>NaN</td>\n",
       "      <td>NaN</td>\n",
       "    </tr>\n",
       "    <tr>\n",
       "      <th>/artists/8984079-vanum</th>\n",
       "      <td>VANUM</td>\n",
       "      <td>Vanum</td>\n",
       "      <td>5fRnNOrEt6z1TDudpbzAcC</td>\n",
       "      <td>11</td>\n",
       "      <td>6745</td>\n",
       "      <td>1300</td>\n",
       "      <td>1.00</td>\n",
       "      <td>voidgaze</td>\n",
       "      <td>NaN</td>\n",
       "      <td>NaN</td>\n",
       "      <td>NaN</td>\n",
       "      <td>NaN</td>\n",
       "      <td>NaN</td>\n",
       "      <td>NaN</td>\n",
       "      <td>NaN</td>\n",
       "      <td>NaN</td>\n",
       "      <td>NaN</td>\n",
       "      <td>NaN</td>\n",
       "    </tr>\n",
       "    <tr>\n",
       "      <th>/artists/10100879-wueh</th>\n",
       "      <td>Wueh!</td>\n",
       "      <td>WUEH!</td>\n",
       "      <td>1cYvNzzQ1cZB8KVdtOdj4E</td>\n",
       "      <td>0</td>\n",
       "      <td>185</td>\n",
       "      <td>27</td>\n",
       "      <td>1.00</td>\n",
       "      <td>NaN</td>\n",
       "      <td>NaN</td>\n",
       "      <td>NaN</td>\n",
       "      <td>NaN</td>\n",
       "      <td>NaN</td>\n",
       "      <td>NaN</td>\n",
       "      <td>NaN</td>\n",
       "      <td>NaN</td>\n",
       "      <td>NaN</td>\n",
       "      <td>NaN</td>\n",
       "      <td>NaN</td>\n",
       "    </tr>\n",
       "    <tr>\n",
       "      <th>/artists/7462934-wolve</th>\n",
       "      <td>Wolve</td>\n",
       "      <td>Wolve</td>\n",
       "      <td>0JAKkAIbs8ygPqznTiSqLx</td>\n",
       "      <td>0</td>\n",
       "      <td>45</td>\n",
       "      <td>4</td>\n",
       "      <td>1.00</td>\n",
       "      <td>NaN</td>\n",
       "      <td>NaN</td>\n",
       "      <td>NaN</td>\n",
       "      <td>NaN</td>\n",
       "      <td>NaN</td>\n",
       "      <td>NaN</td>\n",
       "      <td>NaN</td>\n",
       "      <td>NaN</td>\n",
       "      <td>NaN</td>\n",
       "      <td>NaN</td>\n",
       "      <td>NaN</td>\n",
       "    </tr>\n",
       "    <tr>\n",
       "      <th>/artists/531180-za</th>\n",
       "      <td>Za!</td>\n",
       "      <td>Za!</td>\n",
       "      <td>5id3QE9SvJCxWwHVa0zRcD</td>\n",
       "      <td>7</td>\n",
       "      <td>2864</td>\n",
       "      <td>637</td>\n",
       "      <td>1.00</td>\n",
       "      <td>spanish experimental</td>\n",
       "      <td>spanish indie rock</td>\n",
       "      <td>NaN</td>\n",
       "      <td>NaN</td>\n",
       "      <td>NaN</td>\n",
       "      <td>NaN</td>\n",
       "      <td>NaN</td>\n",
       "      <td>NaN</td>\n",
       "      <td>NaN</td>\n",
       "      <td>NaN</td>\n",
       "      <td>NaN</td>\n",
       "    </tr>\n",
       "  </tbody>\n",
       "</table>\n",
       "<p>87 rows × 18 columns</p>\n",
       "</div>"
      ],
      "text/plain": [
       "                        artist_name spotify_name              spotify_id  \\\n",
       "artist_id                                                                  \n",
       "/artists/4323041-aeby          Aeby         ABBY  1Ppujw75tt7kUv9gEdrFpz   \n",
       "/artists/183136-alex           Alex         ALEX  65sChHf6etCvSFdXn8NPUO   \n",
       "/artists/4635043-alexs       Alex-s       Alex S  1pXMjL8g30cp8t4AAjxxyH   \n",
       "/artists/286952-alt             Alt          Alt  3cgqGFgSiqcdcAmVP0RT48   \n",
       "/artists/292385-ami             Ami          AMI  6ZQhxROkDyYGsijIBDBrhF   \n",
       "...                             ...          ...                     ...   \n",
       "/artists/9070664-use-us        Use           USE  19sJ1AkeUQaRji8KCafk87   \n",
       "/artists/8984079-vanum        VANUM        Vanum  5fRnNOrEt6z1TDudpbzAcC   \n",
       "/artists/10100879-wueh        Wueh!        WUEH!  1cYvNzzQ1cZB8KVdtOdj4E   \n",
       "/artists/7462934-wolve        Wolve        Wolve  0JAKkAIbs8ygPqznTiSqLx   \n",
       "/artists/531180-za              Za!          Za!  5id3QE9SvJCxWwHVa0zRcD   \n",
       "\n",
       "                         spotify_popularity spotify_followers  \\\n",
       "artist_id                                                       \n",
       "/artists/4323041-aeby                    28             14194   \n",
       "/artists/183136-alex                     50             28736   \n",
       "/artists/4635043-alexs                   27               154   \n",
       "/artists/286952-alt                      16                66   \n",
       "/artists/292385-ami                      44             25966   \n",
       "...                                     ...               ...   \n",
       "/artists/9070664-use-us                  15               202   \n",
       "/artists/8984079-vanum                   11              6745   \n",
       "/artists/10100879-wueh                    0               185   \n",
       "/artists/7462934-wolve                    0                45   \n",
       "/artists/531180-za                        7              2864   \n",
       "\n",
       "                        spotify_listeners  spotify_similarity  \\\n",
       "artist_id                                                       \n",
       "/artists/4323041-aeby               17500                0.75   \n",
       "/artists/183136-alex               304400                1.00   \n",
       "/artists/4635043-alexs              15200                0.83   \n",
       "/artists/286952-alt                   241                1.00   \n",
       "/artists/292385-ami                 97500                1.00   \n",
       "...                                   ...                 ...   \n",
       "/artists/9070664-use-us               360                1.00   \n",
       "/artists/8984079-vanum               1300                1.00   \n",
       "/artists/10100879-wueh                 27                1.00   \n",
       "/artists/7462934-wolve                  4                1.00   \n",
       "/artists/531180-za                    637                1.00   \n",
       "\n",
       "                                 spotify_genre_1     spotify_genre_2  \\\n",
       "artist_id                                                              \n",
       "/artists/4323041-aeby    german alternative rock                 NaN   \n",
       "/artists/183136-alex                   cyberpunk       dark clubbing   \n",
       "/artists/4635043-alexs                       NaN                 NaN   \n",
       "/artists/286952-alt                          NaN                 NaN   \n",
       "/artists/292385-ami                 romanian pop                 NaN   \n",
       "...                                          ...                 ...   \n",
       "/artists/9070664-use-us                      NaN                 NaN   \n",
       "/artists/8984079-vanum                  voidgaze                 NaN   \n",
       "/artists/10100879-wueh                       NaN                 NaN   \n",
       "/artists/7462934-wolve                       NaN                 NaN   \n",
       "/artists/531180-za          spanish experimental  spanish indie rock   \n",
       "\n",
       "                        spotify_genre_3 spotify_genre_4 spotify_genre_5  \\\n",
       "artist_id                                                                 \n",
       "/artists/4323041-aeby               NaN             NaN             NaN   \n",
       "/artists/183136-alex          darksynth       synthwave             NaN   \n",
       "/artists/4635043-alexs              NaN             NaN             NaN   \n",
       "/artists/286952-alt                 NaN             NaN             NaN   \n",
       "/artists/292385-ami                 NaN             NaN             NaN   \n",
       "...                                 ...             ...             ...   \n",
       "/artists/9070664-use-us             NaN             NaN             NaN   \n",
       "/artists/8984079-vanum              NaN             NaN             NaN   \n",
       "/artists/10100879-wueh              NaN             NaN             NaN   \n",
       "/artists/7462934-wolve              NaN             NaN             NaN   \n",
       "/artists/531180-za                  NaN             NaN             NaN   \n",
       "\n",
       "                        spotify_genre_6 spotify_genre_7 spotify_genre_8  \\\n",
       "artist_id                                                                 \n",
       "/artists/4323041-aeby               NaN             NaN             NaN   \n",
       "/artists/183136-alex                NaN             NaN             NaN   \n",
       "/artists/4635043-alexs              NaN             NaN             NaN   \n",
       "/artists/286952-alt                 NaN             NaN             NaN   \n",
       "/artists/292385-ami                 NaN             NaN             NaN   \n",
       "...                                 ...             ...             ...   \n",
       "/artists/9070664-use-us             NaN             NaN             NaN   \n",
       "/artists/8984079-vanum              NaN             NaN             NaN   \n",
       "/artists/10100879-wueh              NaN             NaN             NaN   \n",
       "/artists/7462934-wolve              NaN             NaN             NaN   \n",
       "/artists/531180-za                  NaN             NaN             NaN   \n",
       "\n",
       "                        spotify_genre_9 spotify_genre_10 spotify_genre_11  \n",
       "artist_id                                                                  \n",
       "/artists/4323041-aeby               NaN              NaN              NaN  \n",
       "/artists/183136-alex                NaN              NaN              NaN  \n",
       "/artists/4635043-alexs              NaN              NaN              NaN  \n",
       "/artists/286952-alt                 NaN              NaN              NaN  \n",
       "/artists/292385-ami                 NaN              NaN              NaN  \n",
       "...                                 ...              ...              ...  \n",
       "/artists/9070664-use-us             NaN              NaN              NaN  \n",
       "/artists/8984079-vanum              NaN              NaN              NaN  \n",
       "/artists/10100879-wueh              NaN              NaN              NaN  \n",
       "/artists/7462934-wolve              NaN              NaN              NaN  \n",
       "/artists/531180-za                  NaN              NaN              NaN  \n",
       "\n",
       "[87 rows x 18 columns]"
      ]
     },
     "execution_count": 79,
     "metadata": {},
     "output_type": "execute_result"
    }
   ],
   "source": [
    "# get spotify data for each artist\n",
    "\n",
    "new_matches_data_df = new_matches_df.copy()\n",
    "counter = 0\n",
    "\n",
    "for idx, row in tqdm(new_matches_data_df.iloc[:].iterrows()):\n",
    "    spotify_id = row['spotify_id']\n",
    "    \n",
    "    # if artist has a spotify id\n",
    "    if pd.notna(spotify_id):\n",
    "        artist_info = sp.artist(spotify_id)\n",
    "        \n",
    "        url = artist_info['external_urls']['spotify']\n",
    "        followers = artist_info['followers']['total']\n",
    "        genres_list = artist_info['genres']\n",
    "        \n",
    "        try:\n",
    "            listeners = get_spotify_listeners(url)\n",
    "        except IndexError:\n",
    "            pass\n",
    "        \n",
    "        new_matches_data_df.loc[idx, 'spotify_followers'] = followers\n",
    "        new_matches_data_df.loc[idx, 'spotify_listeners'] = listeners\n",
    "        \n",
    "        genre_count = 1\n",
    "        for genre in genres_list:\n",
    "            genre_col_name = 'spotify_genre_' + str(genre_count)\n",
    "            new_matches_data_df.loc[idx, genre_col_name] = genre\n",
    "            genre_count += 1\n",
    "\n",
    "        time.sleep(1)\n",
    "        counter += 1\n",
    "        \n",
    "        # save data at regular interval\n",
    "        if counter % 100 == 0:\n",
    "            save_path = CRAWL_SPOTIFY_FOLDER + 'temp_data_spotify_artists.csv'\n",
    "            #spotify_artists_df.to_csv(save_path, encoding='utf-8')\n",
    "        \n",
    "new_matches_data_df"
   ]
  },
  {
   "cell_type": "markdown",
   "id": "e7afedfc-9426-4bbf-8652-06a9ca574603",
   "metadata": {
    "jp-MarkdownHeadingCollapsed": true,
    "tags": []
   },
   "source": [
    "---\n",
    "## Compare spotify matches results between v1 and v2\n",
    "---"
   ]
  },
  {
   "cell_type": "code",
   "execution_count": 26,
   "id": "3ffc7d5c-e74c-4107-940a-d7ab53e88294",
   "metadata": {},
   "outputs": [
    {
     "data": {
      "text/html": [
       "<div>\n",
       "<style scoped>\n",
       "    .dataframe tbody tr th:only-of-type {\n",
       "        vertical-align: middle;\n",
       "    }\n",
       "\n",
       "    .dataframe tbody tr th {\n",
       "        vertical-align: top;\n",
       "    }\n",
       "\n",
       "    .dataframe thead th {\n",
       "        text-align: right;\n",
       "    }\n",
       "</style>\n",
       "<table border=\"1\" class=\"dataframe\">\n",
       "  <thead>\n",
       "    <tr style=\"text-align: right;\">\n",
       "      <th></th>\n",
       "      <th>artist_name</th>\n",
       "      <th>spotify_name</th>\n",
       "      <th>spotify_id</th>\n",
       "      <th>spotify_similarity</th>\n",
       "      <th>spotify_popularity</th>\n",
       "    </tr>\n",
       "  </thead>\n",
       "  <tbody>\n",
       "    <tr>\n",
       "      <th>/artists/3684861-chk-chk-chk</th>\n",
       "      <td>!!! (Chk Chk Chk)</td>\n",
       "      <td>!!!</td>\n",
       "      <td>1mmehjf7eHA10uHMisZGJg</td>\n",
       "      <td>0.30</td>\n",
       "      <td>47.0</td>\n",
       "    </tr>\n",
       "    <tr>\n",
       "      <th>/artists/694091-kadebostan</th>\n",
       "      <td>!!!Kadebostan!!!</td>\n",
       "      <td>Kadebostan</td>\n",
       "      <td>6hWRK8VkzbYP9p17M5APJR</td>\n",
       "      <td>0.77</td>\n",
       "      <td>11.0</td>\n",
       "    </tr>\n",
       "    <tr>\n",
       "      <th>/artists/5929284-brothers-in-bamako</th>\n",
       "      <td>\"Brothers In Bamako\"</td>\n",
       "      <td>NaN</td>\n",
       "      <td>NaN</td>\n",
       "      <td>NaN</td>\n",
       "      <td>NaN</td>\n",
       "    </tr>\n",
       "    <tr>\n",
       "      <th>/artists/8704378-floyd-division-the-austrian-pink-floyd-tribute-band</th>\n",
       "      <td>\"Floyd Division\" The Austrian Pink Floyd Tribu...</td>\n",
       "      <td>NaN</td>\n",
       "      <td>NaN</td>\n",
       "      <td>NaN</td>\n",
       "      <td>NaN</td>\n",
       "    </tr>\n",
       "    <tr>\n",
       "      <th>/artists/7172094-jazzetcetera-stewy-von-wattenwyl-group-feat-lisette-spinnler</th>\n",
       "      <td>\"Jazz...etcetera\" Stewy von Wattenwyl Group,  ...</td>\n",
       "      <td>NaN</td>\n",
       "      <td>NaN</td>\n",
       "      <td>NaN</td>\n",
       "      <td>NaN</td>\n",
       "    </tr>\n",
       "    <tr>\n",
       "      <th>...</th>\n",
       "      <td>...</td>\n",
       "      <td>...</td>\n",
       "      <td>...</td>\n",
       "      <td>...</td>\n",
       "      <td>...</td>\n",
       "    </tr>\n",
       "    <tr>\n",
       "      <th>/artists/4301-and-you-will-know-us-by-the-trail-of-dead</th>\n",
       "      <td>…And You Will Know Us by the Trail of Dead</td>\n",
       "      <td>...And You Will Know Us by the Trail of Dead</td>\n",
       "      <td>6wBUn8gMP85n8dPu6LoUcF</td>\n",
       "      <td>0.95</td>\n",
       "      <td>41.0</td>\n",
       "    </tr>\n",
       "    <tr>\n",
       "      <th>/artists/1099500-euuroshima</th>\n",
       "      <td>€urOshima</td>\n",
       "      <td>Taro Urashima</td>\n",
       "      <td>5RSxs4Rb82wINvjv5KJ7JK</td>\n",
       "      <td>0.64</td>\n",
       "      <td>36.0</td>\n",
       "    </tr>\n",
       "    <tr>\n",
       "      <th>/artists/9573874-belize-it</th>\n",
       "      <td>≈ Belize ≈</td>\n",
       "      <td>≈ Belize ≈</td>\n",
       "      <td>3b8bBMsmGoBd8gYn1pngNc</td>\n",
       "      <td>1.00</td>\n",
       "      <td>18.0</td>\n",
       "    </tr>\n",
       "    <tr>\n",
       "      <th>/artists/8889739-luo-chai-cao-yuan-wwww-prairie-wwww</th>\n",
       "      <td>落差草原 WWWW / Prairie WWWW</td>\n",
       "      <td>NaN</td>\n",
       "      <td>NaN</td>\n",
       "      <td>NaN</td>\n",
       "      <td>NaN</td>\n",
       "    </tr>\n",
       "    <tr>\n",
       "      <th>/artists/5427898-heymoonshaker</th>\n",
       "      <td>﻿﻿heymoonshaker</td>\n",
       "      <td>Heymoonshaker</td>\n",
       "      <td>1ar2o79WFRJbq4lci6jq55</td>\n",
       "      <td>0.93</td>\n",
       "      <td>28.0</td>\n",
       "    </tr>\n",
       "  </tbody>\n",
       "</table>\n",
       "<p>32231 rows × 5 columns</p>\n",
       "</div>"
      ],
      "text/plain": [
       "                                                                                          artist_name  \\\n",
       "/artists/3684861-chk-chk-chk                                                        !!! (Chk Chk Chk)   \n",
       "/artists/694091-kadebostan                                                           !!!Kadebostan!!!   \n",
       "/artists/5929284-brothers-in-bamako                                              \"Brothers In Bamako\"   \n",
       "/artists/8704378-floyd-division-the-austrian-pi...  \"Floyd Division\" The Austrian Pink Floyd Tribu...   \n",
       "/artists/7172094-jazzetcetera-stewy-von-wattenw...  \"Jazz...etcetera\" Stewy von Wattenwyl Group,  ...   \n",
       "...                                                                                               ...   \n",
       "/artists/4301-and-you-will-know-us-by-the-trail...         …And You Will Know Us by the Trail of Dead   \n",
       "/artists/1099500-euuroshima                                                                 €urOshima   \n",
       "/artists/9573874-belize-it                                                                ≈ Belize ≈    \n",
       "/artists/8889739-luo-chai-cao-yuan-wwww-prairie...                           落差草原 WWWW / Prairie WWWW   \n",
       "/artists/5427898-heymoonshaker                                                        ﻿﻿heymoonshaker   \n",
       "\n",
       "                                                                                    spotify_name  \\\n",
       "/artists/3684861-chk-chk-chk                                                                 !!!   \n",
       "/artists/694091-kadebostan                                                            Kadebostan   \n",
       "/artists/5929284-brothers-in-bamako                                                          NaN   \n",
       "/artists/8704378-floyd-division-the-austrian-pi...                                           NaN   \n",
       "/artists/7172094-jazzetcetera-stewy-von-wattenw...                                           NaN   \n",
       "...                                                                                          ...   \n",
       "/artists/4301-and-you-will-know-us-by-the-trail...  ...And You Will Know Us by the Trail of Dead   \n",
       "/artists/1099500-euuroshima                                                        Taro Urashima   \n",
       "/artists/9573874-belize-it                                                            ≈ Belize ≈   \n",
       "/artists/8889739-luo-chai-cao-yuan-wwww-prairie...                                           NaN   \n",
       "/artists/5427898-heymoonshaker                                                     Heymoonshaker   \n",
       "\n",
       "                                                                spotify_id  \\\n",
       "/artists/3684861-chk-chk-chk                        1mmehjf7eHA10uHMisZGJg   \n",
       "/artists/694091-kadebostan                          6hWRK8VkzbYP9p17M5APJR   \n",
       "/artists/5929284-brothers-in-bamako                                    NaN   \n",
       "/artists/8704378-floyd-division-the-austrian-pi...                     NaN   \n",
       "/artists/7172094-jazzetcetera-stewy-von-wattenw...                     NaN   \n",
       "...                                                                    ...   \n",
       "/artists/4301-and-you-will-know-us-by-the-trail...  6wBUn8gMP85n8dPu6LoUcF   \n",
       "/artists/1099500-euuroshima                         5RSxs4Rb82wINvjv5KJ7JK   \n",
       "/artists/9573874-belize-it                          3b8bBMsmGoBd8gYn1pngNc   \n",
       "/artists/8889739-luo-chai-cao-yuan-wwww-prairie...                     NaN   \n",
       "/artists/5427898-heymoonshaker                      1ar2o79WFRJbq4lci6jq55   \n",
       "\n",
       "                                                    spotify_similarity  \\\n",
       "/artists/3684861-chk-chk-chk                                      0.30   \n",
       "/artists/694091-kadebostan                                        0.77   \n",
       "/artists/5929284-brothers-in-bamako                                NaN   \n",
       "/artists/8704378-floyd-division-the-austrian-pi...                 NaN   \n",
       "/artists/7172094-jazzetcetera-stewy-von-wattenw...                 NaN   \n",
       "...                                                                ...   \n",
       "/artists/4301-and-you-will-know-us-by-the-trail...                0.95   \n",
       "/artists/1099500-euuroshima                                       0.64   \n",
       "/artists/9573874-belize-it                                        1.00   \n",
       "/artists/8889739-luo-chai-cao-yuan-wwww-prairie...                 NaN   \n",
       "/artists/5427898-heymoonshaker                                    0.93   \n",
       "\n",
       "                                                    spotify_popularity  \n",
       "/artists/3684861-chk-chk-chk                                      47.0  \n",
       "/artists/694091-kadebostan                                        11.0  \n",
       "/artists/5929284-brothers-in-bamako                                NaN  \n",
       "/artists/8704378-floyd-division-the-austrian-pi...                 NaN  \n",
       "/artists/7172094-jazzetcetera-stewy-von-wattenw...                 NaN  \n",
       "...                                                                ...  \n",
       "/artists/4301-and-you-will-know-us-by-the-trail...                41.0  \n",
       "/artists/1099500-euuroshima                                       36.0  \n",
       "/artists/9573874-belize-it                                        18.0  \n",
       "/artists/8889739-luo-chai-cao-yuan-wwww-prairie...                 NaN  \n",
       "/artists/5427898-heymoonshaker                                    28.0  \n",
       "\n",
       "[32231 rows x 5 columns]"
      ]
     },
     "execution_count": 26,
     "metadata": {},
     "output_type": "execute_result"
    }
   ],
   "source": [
    "with open('data/spotify/data_spotify_artists_matched_v2.csv', encoding='utf-8') as matched_file:\n",
    "    artists_matched_v2_df = pd.read_csv(matched_file, index_col=0)\n",
    "    \n",
    "with open('data/spotify/data_spotify_artists_matched.csv', encoding='utf-8') as matched_file:\n",
    "    artists_matched_v1_df = pd.read_csv(matched_file, index_col=0)\n",
    "    \n",
    "artists_matched_v2_df"
   ]
  },
  {
   "cell_type": "code",
   "execution_count": 28,
   "id": "0f394d4c-5369-47d9-9236-0b21a64280b9",
   "metadata": {},
   "outputs": [
    {
     "name": "stdout",
     "output_type": "stream",
     "text": [
      "Number of new matches: 2481\n"
     ]
    },
    {
     "data": {
      "text/html": [
       "<div>\n",
       "<style scoped>\n",
       "    .dataframe tbody tr th:only-of-type {\n",
       "        vertical-align: middle;\n",
       "    }\n",
       "\n",
       "    .dataframe tbody tr th {\n",
       "        vertical-align: top;\n",
       "    }\n",
       "\n",
       "    .dataframe thead th {\n",
       "        text-align: right;\n",
       "    }\n",
       "</style>\n",
       "<table border=\"1\" class=\"dataframe\">\n",
       "  <thead>\n",
       "    <tr style=\"text-align: right;\">\n",
       "      <th></th>\n",
       "      <th>artist_name</th>\n",
       "      <th>spotify_name_x</th>\n",
       "      <th>spotify_id_x</th>\n",
       "      <th>spotify_similarity</th>\n",
       "      <th>spotify_popularity</th>\n",
       "      <th>spotify_name_y</th>\n",
       "      <th>spotify_id_y</th>\n",
       "    </tr>\n",
       "  </thead>\n",
       "  <tbody>\n",
       "    <tr>\n",
       "      <th>/artists/7433784-pyramids-jazz</th>\n",
       "      <td>\"The Pyramids\"</td>\n",
       "      <td>The Pyramids</td>\n",
       "      <td>7Krj6vYZibCNyVu9iLqlt8</td>\n",
       "      <td>0.92</td>\n",
       "      <td>28.0</td>\n",
       "      <td>The Pyramids</td>\n",
       "      <td>3kCWVwcSSSggzNsjm8a6h2</td>\n",
       "    </tr>\n",
       "    <tr>\n",
       "      <th>/artists/44425-smoove</th>\n",
       "      <td>$MOOVE</td>\n",
       "      <td>$moove</td>\n",
       "      <td>3fPGaOzFjcynEbxfinAGi4</td>\n",
       "      <td>1.00</td>\n",
       "      <td>4.0</td>\n",
       "      <td>$MOOVE</td>\n",
       "      <td>38DshhONySNb65KLMDMCMY</td>\n",
       "    </tr>\n",
       "    <tr>\n",
       "      <th>/artists/8672184-and-friends</th>\n",
       "      <td>&amp; Friends</td>\n",
       "      <td>&amp; Friends</td>\n",
       "      <td>2eRxdRJPlhgdDk9SC6UJD2</td>\n",
       "      <td>1.00</td>\n",
       "      <td>0.0</td>\n",
       "      <td>Friends</td>\n",
       "      <td>0R2qhaNYSKYhYKeRMYwrpN</td>\n",
       "    </tr>\n",
       "    <tr>\n",
       "      <th>/artists/1301647-meer</th>\n",
       "      <td>**@meer**</td>\n",
       "      <td>MEER</td>\n",
       "      <td>4pAX6VBnbccF9uVcb9EGiq</td>\n",
       "      <td>0.62</td>\n",
       "      <td>21.0</td>\n",
       "      <td>Meer</td>\n",
       "      <td>6DmyMZv3lelGiNWVoceuYj</td>\n",
       "    </tr>\n",
       "    <tr>\n",
       "      <th>/artists/5563503-</th>\n",
       "      <td>+++</td>\n",
       "      <td>+++</td>\n",
       "      <td>2omFrAln7XB3qMAc79qR6q</td>\n",
       "      <td>1.00</td>\n",
       "      <td>3.0</td>\n",
       "      <td>NaN</td>\n",
       "      <td>NaN</td>\n",
       "    </tr>\n",
       "    <tr>\n",
       "      <th>...</th>\n",
       "      <td>...</td>\n",
       "      <td>...</td>\n",
       "      <td>...</td>\n",
       "      <td>...</td>\n",
       "      <td>...</td>\n",
       "      <td>...</td>\n",
       "      <td>...</td>\n",
       "    </tr>\n",
       "    <tr>\n",
       "      <th>/artists/9876474-aecht</th>\n",
       "      <td>Äecht</td>\n",
       "      <td>Acht</td>\n",
       "      <td>4rkDXwv8sSHyb82SlsJD8G</td>\n",
       "      <td>0.67</td>\n",
       "      <td>1.0</td>\n",
       "      <td>Aech</td>\n",
       "      <td>2WfK8cOktfb3xgQNoYny9Z</td>\n",
       "    </tr>\n",
       "    <tr>\n",
       "      <th>/artists/9220344-orefik</th>\n",
       "      <td>Ørefik</td>\n",
       "      <td>Orfik</td>\n",
       "      <td>6Zo4265dXQWYtoxdz7k9a7</td>\n",
       "      <td>0.73</td>\n",
       "      <td>0.0</td>\n",
       "      <td>Orezi</td>\n",
       "      <td>6voVBz1bN1mWZCLpNZGqzD</td>\n",
       "    </tr>\n",
       "    <tr>\n",
       "      <th>/artists/4808018-uber-you</th>\n",
       "      <td>Über You</td>\n",
       "      <td>Überyou</td>\n",
       "      <td>1bWY1OUdZHaLFpOMtpHM7C</td>\n",
       "      <td>0.93</td>\n",
       "      <td>12.0</td>\n",
       "      <td>User Youth</td>\n",
       "      <td>0cxNfEa3UFPqeMaUudfKtj</td>\n",
       "    </tr>\n",
       "    <tr>\n",
       "      <th>/artists/4331501-ubereel</th>\n",
       "      <td>Übereel</td>\n",
       "      <td>Übermensch</td>\n",
       "      <td>75rCRvYp14u4zLfTyv8GCu</td>\n",
       "      <td>0.59</td>\n",
       "      <td>39.0</td>\n",
       "      <td>ubermellow.</td>\n",
       "      <td>5CIUhDzFDyEH61IC2nyfF1</td>\n",
       "    </tr>\n",
       "    <tr>\n",
       "      <th>/artists/9915344-stas-mikhailov</th>\n",
       "      <td>Стас Михайлов</td>\n",
       "      <td>Стас Михайлов и Зара</td>\n",
       "      <td>0uTgsWx58ii4oAHL5DHAZq</td>\n",
       "      <td>0.79</td>\n",
       "      <td>4.0</td>\n",
       "      <td>Emin и Стас Михайлов</td>\n",
       "      <td>3laixzXhrLHXKE5hqLKlVR</td>\n",
       "    </tr>\n",
       "  </tbody>\n",
       "</table>\n",
       "<p>2481 rows × 7 columns</p>\n",
       "</div>"
      ],
      "text/plain": [
       "                                     artist_name        spotify_name_x  \\\n",
       "/artists/7433784-pyramids-jazz   \"The Pyramids\"           The Pyramids   \n",
       "/artists/44425-smoove                     $MOOVE                $moove   \n",
       "/artists/8672184-and-friends           & Friends             & Friends   \n",
       "/artists/1301647-meer                  **@meer**                  MEER   \n",
       "/artists/5563503-                            +++                   +++   \n",
       "...                                          ...                   ...   \n",
       "/artists/9876474-aecht                     Äecht                  Acht   \n",
       "/artists/9220344-orefik                   Ørefik                 Orfik   \n",
       "/artists/4808018-uber-you               Über You               Überyou   \n",
       "/artists/4331501-ubereel                 Übereel            Übermensch   \n",
       "/artists/9915344-stas-mikhailov    Стас Михайлов  Стас Михайлов и Зара   \n",
       "\n",
       "                                           spotify_id_x  spotify_similarity  \\\n",
       "/artists/7433784-pyramids-jazz   7Krj6vYZibCNyVu9iLqlt8                0.92   \n",
       "/artists/44425-smoove            3fPGaOzFjcynEbxfinAGi4                1.00   \n",
       "/artists/8672184-and-friends     2eRxdRJPlhgdDk9SC6UJD2                1.00   \n",
       "/artists/1301647-meer            4pAX6VBnbccF9uVcb9EGiq                0.62   \n",
       "/artists/5563503-                2omFrAln7XB3qMAc79qR6q                1.00   \n",
       "...                                                 ...                 ...   \n",
       "/artists/9876474-aecht           4rkDXwv8sSHyb82SlsJD8G                0.67   \n",
       "/artists/9220344-orefik          6Zo4265dXQWYtoxdz7k9a7                0.73   \n",
       "/artists/4808018-uber-you        1bWY1OUdZHaLFpOMtpHM7C                0.93   \n",
       "/artists/4331501-ubereel         75rCRvYp14u4zLfTyv8GCu                0.59   \n",
       "/artists/9915344-stas-mikhailov  0uTgsWx58ii4oAHL5DHAZq                0.79   \n",
       "\n",
       "                                 spotify_popularity        spotify_name_y  \\\n",
       "/artists/7433784-pyramids-jazz                 28.0          The Pyramids   \n",
       "/artists/44425-smoove                           4.0                $MOOVE   \n",
       "/artists/8672184-and-friends                    0.0               Friends   \n",
       "/artists/1301647-meer                          21.0                  Meer   \n",
       "/artists/5563503-                               3.0                   NaN   \n",
       "...                                             ...                   ...   \n",
       "/artists/9876474-aecht                          1.0                  Aech   \n",
       "/artists/9220344-orefik                         0.0                 Orezi   \n",
       "/artists/4808018-uber-you                      12.0            User Youth   \n",
       "/artists/4331501-ubereel                       39.0           ubermellow.   \n",
       "/artists/9915344-stas-mikhailov                 4.0  Emin и Стас Михайлов   \n",
       "\n",
       "                                           spotify_id_y  \n",
       "/artists/7433784-pyramids-jazz   3kCWVwcSSSggzNsjm8a6h2  \n",
       "/artists/44425-smoove            38DshhONySNb65KLMDMCMY  \n",
       "/artists/8672184-and-friends     0R2qhaNYSKYhYKeRMYwrpN  \n",
       "/artists/1301647-meer            6DmyMZv3lelGiNWVoceuYj  \n",
       "/artists/5563503-                                   NaN  \n",
       "...                                                 ...  \n",
       "/artists/9876474-aecht           2WfK8cOktfb3xgQNoYny9Z  \n",
       "/artists/9220344-orefik          6voVBz1bN1mWZCLpNZGqzD  \n",
       "/artists/4808018-uber-you        0cxNfEa3UFPqeMaUudfKtj  \n",
       "/artists/4331501-ubereel         5CIUhDzFDyEH61IC2nyfF1  \n",
       "/artists/9915344-stas-mikhailov  3laixzXhrLHXKE5hqLKlVR  \n",
       "\n",
       "[2481 rows x 7 columns]"
      ]
     },
     "execution_count": 28,
     "metadata": {},
     "output_type": "execute_result"
    }
   ],
   "source": [
    "# compare matches v1 vs v2\n",
    "\n",
    "id_v1 = list(artists_matched_v1_df['spotify_id'])\n",
    "id_v2 = list(artists_matched_v2_df['spotify_id'])\n",
    "idx_list = list()\n",
    "\n",
    "for x in range(len(id_v1)):\n",
    "    if id_v1[x] != id_v2[x]:\n",
    "        if pd.notna(id_v1[x]) or pd.notna(id_v2[x]):\n",
    "            idx_list.append(x)\n",
    "\n",
    "print('Number of new matches:', len(idx_list))\n",
    "artists_matched_v2_df.iloc[idx_list].merge(artists_matched_v1_df[['spotify_name', 'spotify_id']].iloc[idx_list], right_index=True, left_index=True)"
   ]
  },
  {
   "cell_type": "markdown",
   "id": "3527c9b9-900c-4aba-93ea-33ab4697593d",
   "metadata": {
    "tags": []
   },
   "source": [
    "## Get spotify data for each artist\n",
    "---"
   ]
  },
  {
   "cell_type": "code",
   "execution_count": 37,
   "id": "aebda425-9075-4a66-9318-8fd7f5c73223",
   "metadata": {},
   "outputs": [
    {
     "data": {
      "text/html": [
       "<div>\n",
       "<style scoped>\n",
       "    .dataframe tbody tr th:only-of-type {\n",
       "        vertical-align: middle;\n",
       "    }\n",
       "\n",
       "    .dataframe tbody tr th {\n",
       "        vertical-align: top;\n",
       "    }\n",
       "\n",
       "    .dataframe thead th {\n",
       "        text-align: right;\n",
       "    }\n",
       "</style>\n",
       "<table border=\"1\" class=\"dataframe\">\n",
       "  <thead>\n",
       "    <tr style=\"text-align: right;\">\n",
       "      <th></th>\n",
       "      <th>artist_name</th>\n",
       "      <th>spotify_name</th>\n",
       "      <th>spotify_id</th>\n",
       "      <th>spotify_similarity</th>\n",
       "      <th>spotify_popularity</th>\n",
       "    </tr>\n",
       "  </thead>\n",
       "  <tbody>\n",
       "    <tr>\n",
       "      <th>/artists/4924528-tom-pea</th>\n",
       "      <td>Tom Pea</td>\n",
       "      <td>Tom Pear</td>\n",
       "      <td>0aVSHaOR2StPZJPJRXVDqG</td>\n",
       "      <td>0.93</td>\n",
       "      <td>0.0</td>\n",
       "    </tr>\n",
       "  </tbody>\n",
       "</table>\n",
       "</div>"
      ],
      "text/plain": [
       "                         artist_name spotify_name              spotify_id  \\\n",
       "/artists/4924528-tom-pea     Tom Pea     Tom Pear  0aVSHaOR2StPZJPJRXVDqG   \n",
       "\n",
       "                          spotify_similarity  spotify_popularity  \n",
       "/artists/4924528-tom-pea                0.93                 0.0  "
      ]
     },
     "execution_count": 37,
     "metadata": {},
     "output_type": "execute_result"
    }
   ],
   "source": [
    "with open('data/spotify/data_spotify_artists_matched_v2.csv', encoding='utf-8') as matched_file:\n",
    "    artists_matched_df = pd.read_csv(matched_file, index_col=0)\n",
    "    \n",
    "spotify_artists_df = artists_matched_df.copy()\n",
    "spotify_artists_df.loc[spotify_artists_df['artist_name'] == 'Tom Pea']"
   ]
  },
  {
   "cell_type": "code",
   "execution_count": 31,
   "id": "e8035178-c283-465e-9e0f-d7912a424c1f",
   "metadata": {},
   "outputs": [],
   "source": [
    "# get monthly number of listeners of an artist by scrapping Spotify website (data not available through API)\n",
    "\n",
    "def get_spotify_listeners(artist_url):\n",
    "    response = requests.get(artist_url)\n",
    "    soup = BeautifulSoup(response.content, 'html.parser')\n",
    "    listeners_text = str(soup.find('meta', {'property': 'og:description'}))\n",
    "    listeners_nbr = re.findall(r'[0-9]+\\.*[0-9]*[MK]*', listeners_text)[0]\n",
    "    \n",
    "    # remove K and M and multiply by 1,000 or 1,000,000\n",
    "    if 'K' in listeners_nbr:\n",
    "        listeners_nbr = listeners_nbr.replace('K', '')\n",
    "        listeners_nbr = float(listeners_nbr)*1000\n",
    "    elif 'M' in listeners_nbr:\n",
    "        listeners_nbr = listeners_nbr.replace('M', '')\n",
    "        listeners_nbr = float(listeners_nbr)*1000000\n",
    "    \n",
    "    return int(listeners_nbr)"
   ]
  },
  {
   "cell_type": "code",
   "execution_count": 32,
   "id": "47f3531c-64b1-4fd3-aedc-d20600e6f405",
   "metadata": {},
   "outputs": [],
   "source": [
    "# get spotify related artists for an artist\n",
    "\n",
    "def get_spotify_related_artists(spotify_id):\n",
    "    related_artist_count = 1\n",
    "    related_artists_list = list()\n",
    "    related_artists_dict = dict()\n",
    "    \n",
    "    related_artists = sp.artist_related_artists(spotify_id)\n",
    "    \n",
    "    for related_artist in related_artists['artists']:\n",
    "        related_name = related_artist['name']\n",
    "        related_id = related_artist['id']\n",
    "        related_popularity = related_artist['popularity']\n",
    "        related_artists_list.append({\n",
    "            'spotify_id': related_id,\n",
    "            'spotify_name': related_name,\n",
    "            'spotify_popularity': related_popularity,\n",
    "        })\n",
    "    \n",
    "    # sort list of related artists by popularity (desc.)\n",
    "    related_artists_list = sorted(related_artists_list, key=lambda k: (k['spotify_popularity']), reverse=True)\n",
    "    \n",
    "    # limit to 10 related artists (10 most popular)\n",
    "    related_artists_list = related_artists_list[:10]\n",
    "\n",
    "    for related_artist in related_artists_list:\n",
    "        related_id = related_artist['spotify_id']\n",
    "        related_id_col_name = 'spotify_related_id_' + str(related_artist_count)\n",
    "        related_artists_dict[related_id_col_name] = related_id\n",
    "\n",
    "        related_name = related_artist['spotify_name']\n",
    "        related_name_col_name = 'spotify_related_name_' + str(related_artist_count)\n",
    "        related_artists_dict[related_name_col_name] = related_name\n",
    "\n",
    "        related_artist_count += 1\n",
    "    \n",
    "    return related_artists_dict"
   ]
  },
  {
   "cell_type": "code",
   "execution_count": null,
   "id": "87a4d3ff-112a-4d0d-b190-08302449d5ab",
   "metadata": {},
   "outputs": [
    {
     "name": "stderr",
     "output_type": "stream",
     "text": [
      "22532it [10:03:16,  1.41s/it]"
     ]
    }
   ],
   "source": [
    "# get spotify data for each artist (listeners, followers, genres)\n",
    "\n",
    "counter = 0\n",
    "\n",
    "for idx, row in tqdm(spotify_artists_df.iloc[:].iterrows()):\n",
    "    spotify_id = row['spotify_id']\n",
    "    \n",
    "    # if artist has a spotify id\n",
    "    if pd.notna(spotify_id):\n",
    "        artist_info = sp.artist(spotify_id)\n",
    "        \n",
    "        url = artist_info['external_urls']['spotify']\n",
    "        followers = artist_info['followers']['total']\n",
    "        genres_list = artist_info['genres']\n",
    "        \n",
    "        try:\n",
    "            listeners = get_spotify_listeners(url)\n",
    "        except IndexError:\n",
    "            pass\n",
    "        \n",
    "        spotify_artists_df.loc[idx, 'spotify_followers'] = followers\n",
    "        spotify_artists_df.loc[idx, 'spotify_listeners'] = listeners\n",
    "        \n",
    "        genre_count = 1\n",
    "        for genre in genres_list:\n",
    "            genre_col_name = 'spotify_genre_' + str(genre_count)\n",
    "            spotify_artists_df.loc[idx, genre_col_name] = genre\n",
    "            genre_count += 1\n",
    "\n",
    "        time.sleep(1)\n",
    "        counter += 1\n",
    "        \n",
    "        # save data at regular interval\n",
    "        if counter % 100 == 0:\n",
    "            save_path = CRAWL_SPOTIFY_FOLDER + 'temp_data_spotify_artists.csv'\n",
    "            spotify_artists_df.to_csv(save_path, encoding='utf-8')\n",
    "        \n",
    "spotify_artists_df.to_csv('data/spotify/data_spotify_artists_v2.csv', encoding='utf-8')\n",
    "spotify_artists_df"
   ]
  },
  {
   "cell_type": "markdown",
   "id": "1ba9878d-3344-4c44-b2e0-8b510d8bdc00",
   "metadata": {},
   "source": [
    "---\n",
    "## Get audio features for each artist\n",
    "---"
   ]
  },
  {
   "cell_type": "code",
   "execution_count": 8,
   "id": "fe3af457-3aa4-434c-bc3c-b242121bcad5",
   "metadata": {},
   "outputs": [
    {
     "data": {
      "text/html": [
       "<div>\n",
       "<style scoped>\n",
       "    .dataframe tbody tr th:only-of-type {\n",
       "        vertical-align: middle;\n",
       "    }\n",
       "\n",
       "    .dataframe tbody tr th {\n",
       "        vertical-align: top;\n",
       "    }\n",
       "\n",
       "    .dataframe thead th {\n",
       "        text-align: right;\n",
       "    }\n",
       "</style>\n",
       "<table border=\"1\" class=\"dataframe\">\n",
       "  <thead>\n",
       "    <tr style=\"text-align: right;\">\n",
       "      <th></th>\n",
       "      <th>artist_name</th>\n",
       "      <th>spotify_name</th>\n",
       "      <th>spotify_id</th>\n",
       "      <th>spotify_similarity</th>\n",
       "      <th>spotify_popularity</th>\n",
       "      <th>spotify_followers</th>\n",
       "      <th>spotify_listeners</th>\n",
       "      <th>spotify_genre_1</th>\n",
       "      <th>spotify_genre_2</th>\n",
       "      <th>spotify_genre_3</th>\n",
       "      <th>...</th>\n",
       "      <th>spotify_genre_9</th>\n",
       "      <th>spotify_genre_10</th>\n",
       "      <th>spotify_genre_11</th>\n",
       "      <th>spotify_genre_12</th>\n",
       "      <th>spotify_genre_13</th>\n",
       "      <th>spotify_genre_14</th>\n",
       "      <th>spotify_genre_15</th>\n",
       "      <th>spotify_genre_16</th>\n",
       "      <th>spotify_genre_17</th>\n",
       "      <th>spotify_genre_18</th>\n",
       "    </tr>\n",
       "  </thead>\n",
       "  <tbody>\n",
       "    <tr>\n",
       "      <th>/artists/3684861-chk-chk-chk</th>\n",
       "      <td>!!! (Chk Chk Chk)</td>\n",
       "      <td>!!!</td>\n",
       "      <td>1mmehjf7eHA10uHMisZGJg</td>\n",
       "      <td>0.30</td>\n",
       "      <td>47.0</td>\n",
       "      <td>135100.0</td>\n",
       "      <td>305800.0</td>\n",
       "      <td>alternative dance</td>\n",
       "      <td>dance rock</td>\n",
       "      <td>dance-punk</td>\n",
       "      <td>...</td>\n",
       "      <td>NaN</td>\n",
       "      <td>NaN</td>\n",
       "      <td>NaN</td>\n",
       "      <td>NaN</td>\n",
       "      <td>NaN</td>\n",
       "      <td>NaN</td>\n",
       "      <td>NaN</td>\n",
       "      <td>NaN</td>\n",
       "      <td>NaN</td>\n",
       "      <td>NaN</td>\n",
       "    </tr>\n",
       "    <tr>\n",
       "      <th>/artists/694091-kadebostan</th>\n",
       "      <td>!!!Kadebostan!!!</td>\n",
       "      <td>Kadebostan</td>\n",
       "      <td>6hWRK8VkzbYP9p17M5APJR</td>\n",
       "      <td>0.77</td>\n",
       "      <td>11.0</td>\n",
       "      <td>1348.0</td>\n",
       "      <td>2000.0</td>\n",
       "      <td>swiss techno</td>\n",
       "      <td>NaN</td>\n",
       "      <td>NaN</td>\n",
       "      <td>...</td>\n",
       "      <td>NaN</td>\n",
       "      <td>NaN</td>\n",
       "      <td>NaN</td>\n",
       "      <td>NaN</td>\n",
       "      <td>NaN</td>\n",
       "      <td>NaN</td>\n",
       "      <td>NaN</td>\n",
       "      <td>NaN</td>\n",
       "      <td>NaN</td>\n",
       "      <td>NaN</td>\n",
       "    </tr>\n",
       "    <tr>\n",
       "      <th>/artists/5929284-brothers-in-bamako</th>\n",
       "      <td>\"Brothers In Bamako\"</td>\n",
       "      <td>NaN</td>\n",
       "      <td>NaN</td>\n",
       "      <td>NaN</td>\n",
       "      <td>NaN</td>\n",
       "      <td>NaN</td>\n",
       "      <td>NaN</td>\n",
       "      <td>NaN</td>\n",
       "      <td>NaN</td>\n",
       "      <td>NaN</td>\n",
       "      <td>...</td>\n",
       "      <td>NaN</td>\n",
       "      <td>NaN</td>\n",
       "      <td>NaN</td>\n",
       "      <td>NaN</td>\n",
       "      <td>NaN</td>\n",
       "      <td>NaN</td>\n",
       "      <td>NaN</td>\n",
       "      <td>NaN</td>\n",
       "      <td>NaN</td>\n",
       "      <td>NaN</td>\n",
       "    </tr>\n",
       "    <tr>\n",
       "      <th>/artists/8704378-floyd-division-the-austrian-pink-floyd-tribute-band</th>\n",
       "      <td>\"Floyd Division\" The Austrian Pink Floyd Tribu...</td>\n",
       "      <td>NaN</td>\n",
       "      <td>NaN</td>\n",
       "      <td>NaN</td>\n",
       "      <td>NaN</td>\n",
       "      <td>NaN</td>\n",
       "      <td>NaN</td>\n",
       "      <td>NaN</td>\n",
       "      <td>NaN</td>\n",
       "      <td>NaN</td>\n",
       "      <td>...</td>\n",
       "      <td>NaN</td>\n",
       "      <td>NaN</td>\n",
       "      <td>NaN</td>\n",
       "      <td>NaN</td>\n",
       "      <td>NaN</td>\n",
       "      <td>NaN</td>\n",
       "      <td>NaN</td>\n",
       "      <td>NaN</td>\n",
       "      <td>NaN</td>\n",
       "      <td>NaN</td>\n",
       "    </tr>\n",
       "    <tr>\n",
       "      <th>/artists/7172094-jazzetcetera-stewy-von-wattenwyl-group-feat-lisette-spinnler</th>\n",
       "      <td>\"Jazz...etcetera\" Stewy von Wattenwyl Group,  ...</td>\n",
       "      <td>NaN</td>\n",
       "      <td>NaN</td>\n",
       "      <td>NaN</td>\n",
       "      <td>NaN</td>\n",
       "      <td>NaN</td>\n",
       "      <td>NaN</td>\n",
       "      <td>NaN</td>\n",
       "      <td>NaN</td>\n",
       "      <td>NaN</td>\n",
       "      <td>...</td>\n",
       "      <td>NaN</td>\n",
       "      <td>NaN</td>\n",
       "      <td>NaN</td>\n",
       "      <td>NaN</td>\n",
       "      <td>NaN</td>\n",
       "      <td>NaN</td>\n",
       "      <td>NaN</td>\n",
       "      <td>NaN</td>\n",
       "      <td>NaN</td>\n",
       "      <td>NaN</td>\n",
       "    </tr>\n",
       "    <tr>\n",
       "      <th>...</th>\n",
       "      <td>...</td>\n",
       "      <td>...</td>\n",
       "      <td>...</td>\n",
       "      <td>...</td>\n",
       "      <td>...</td>\n",
       "      <td>...</td>\n",
       "      <td>...</td>\n",
       "      <td>...</td>\n",
       "      <td>...</td>\n",
       "      <td>...</td>\n",
       "      <td>...</td>\n",
       "      <td>...</td>\n",
       "      <td>...</td>\n",
       "      <td>...</td>\n",
       "      <td>...</td>\n",
       "      <td>...</td>\n",
       "      <td>...</td>\n",
       "      <td>...</td>\n",
       "      <td>...</td>\n",
       "      <td>...</td>\n",
       "      <td>...</td>\n",
       "    </tr>\n",
       "    <tr>\n",
       "      <th>/artists/4301-and-you-will-know-us-by-the-trail-of-dead</th>\n",
       "      <td>…And You Will Know Us by the Trail of Dead</td>\n",
       "      <td>...And You Will Know Us by the Trail of Dead</td>\n",
       "      <td>6wBUn8gMP85n8dPu6LoUcF</td>\n",
       "      <td>0.95</td>\n",
       "      <td>41.0</td>\n",
       "      <td>64802.0</td>\n",
       "      <td>99200.0</td>\n",
       "      <td>alternative rock</td>\n",
       "      <td>double drumming</td>\n",
       "      <td>indie rock</td>\n",
       "      <td>...</td>\n",
       "      <td>NaN</td>\n",
       "      <td>NaN</td>\n",
       "      <td>NaN</td>\n",
       "      <td>NaN</td>\n",
       "      <td>NaN</td>\n",
       "      <td>NaN</td>\n",
       "      <td>NaN</td>\n",
       "      <td>NaN</td>\n",
       "      <td>NaN</td>\n",
       "      <td>NaN</td>\n",
       "    </tr>\n",
       "    <tr>\n",
       "      <th>/artists/1099500-euuroshima</th>\n",
       "      <td>€urOshima</td>\n",
       "      <td>Taro Urashima</td>\n",
       "      <td>5RSxs4Rb82wINvjv5KJ7JK</td>\n",
       "      <td>0.64</td>\n",
       "      <td>36.0</td>\n",
       "      <td>14600.0</td>\n",
       "      <td>79300.0</td>\n",
       "      <td>okinawan pop</td>\n",
       "      <td>NaN</td>\n",
       "      <td>NaN</td>\n",
       "      <td>...</td>\n",
       "      <td>NaN</td>\n",
       "      <td>NaN</td>\n",
       "      <td>NaN</td>\n",
       "      <td>NaN</td>\n",
       "      <td>NaN</td>\n",
       "      <td>NaN</td>\n",
       "      <td>NaN</td>\n",
       "      <td>NaN</td>\n",
       "      <td>NaN</td>\n",
       "      <td>NaN</td>\n",
       "    </tr>\n",
       "    <tr>\n",
       "      <th>/artists/9573874-belize-it</th>\n",
       "      <td>≈ Belize ≈</td>\n",
       "      <td>≈ Belize ≈</td>\n",
       "      <td>3b8bBMsmGoBd8gYn1pngNc</td>\n",
       "      <td>1.00</td>\n",
       "      <td>18.0</td>\n",
       "      <td>6697.0</td>\n",
       "      <td>4900.0</td>\n",
       "      <td>italian indie pop</td>\n",
       "      <td>milan indie</td>\n",
       "      <td>NaN</td>\n",
       "      <td>...</td>\n",
       "      <td>NaN</td>\n",
       "      <td>NaN</td>\n",
       "      <td>NaN</td>\n",
       "      <td>NaN</td>\n",
       "      <td>NaN</td>\n",
       "      <td>NaN</td>\n",
       "      <td>NaN</td>\n",
       "      <td>NaN</td>\n",
       "      <td>NaN</td>\n",
       "      <td>NaN</td>\n",
       "    </tr>\n",
       "    <tr>\n",
       "      <th>/artists/8889739-luo-chai-cao-yuan-wwww-prairie-wwww</th>\n",
       "      <td>落差草原 WWWW / Prairie WWWW</td>\n",
       "      <td>NaN</td>\n",
       "      <td>NaN</td>\n",
       "      <td>NaN</td>\n",
       "      <td>NaN</td>\n",
       "      <td>NaN</td>\n",
       "      <td>NaN</td>\n",
       "      <td>NaN</td>\n",
       "      <td>NaN</td>\n",
       "      <td>NaN</td>\n",
       "      <td>...</td>\n",
       "      <td>NaN</td>\n",
       "      <td>NaN</td>\n",
       "      <td>NaN</td>\n",
       "      <td>NaN</td>\n",
       "      <td>NaN</td>\n",
       "      <td>NaN</td>\n",
       "      <td>NaN</td>\n",
       "      <td>NaN</td>\n",
       "      <td>NaN</td>\n",
       "      <td>NaN</td>\n",
       "    </tr>\n",
       "    <tr>\n",
       "      <th>/artists/5427898-heymoonshaker</th>\n",
       "      <td>﻿﻿heymoonshaker</td>\n",
       "      <td>Heymoonshaker</td>\n",
       "      <td>1ar2o79WFRJbq4lci6jq55</td>\n",
       "      <td>0.93</td>\n",
       "      <td>28.0</td>\n",
       "      <td>16021.0</td>\n",
       "      <td>17500.0</td>\n",
       "      <td>beatboxing</td>\n",
       "      <td>NaN</td>\n",
       "      <td>NaN</td>\n",
       "      <td>...</td>\n",
       "      <td>NaN</td>\n",
       "      <td>NaN</td>\n",
       "      <td>NaN</td>\n",
       "      <td>NaN</td>\n",
       "      <td>NaN</td>\n",
       "      <td>NaN</td>\n",
       "      <td>NaN</td>\n",
       "      <td>NaN</td>\n",
       "      <td>NaN</td>\n",
       "      <td>NaN</td>\n",
       "    </tr>\n",
       "  </tbody>\n",
       "</table>\n",
       "<p>32231 rows × 25 columns</p>\n",
       "</div>"
      ],
      "text/plain": [
       "                                                                                          artist_name  \\\n",
       "/artists/3684861-chk-chk-chk                                                        !!! (Chk Chk Chk)   \n",
       "/artists/694091-kadebostan                                                           !!!Kadebostan!!!   \n",
       "/artists/5929284-brothers-in-bamako                                              \"Brothers In Bamako\"   \n",
       "/artists/8704378-floyd-division-the-austrian-pi...  \"Floyd Division\" The Austrian Pink Floyd Tribu...   \n",
       "/artists/7172094-jazzetcetera-stewy-von-wattenw...  \"Jazz...etcetera\" Stewy von Wattenwyl Group,  ...   \n",
       "...                                                                                               ...   \n",
       "/artists/4301-and-you-will-know-us-by-the-trail...         …And You Will Know Us by the Trail of Dead   \n",
       "/artists/1099500-euuroshima                                                                 €urOshima   \n",
       "/artists/9573874-belize-it                                                                ≈ Belize ≈    \n",
       "/artists/8889739-luo-chai-cao-yuan-wwww-prairie...                           落差草原 WWWW / Prairie WWWW   \n",
       "/artists/5427898-heymoonshaker                                                        ﻿﻿heymoonshaker   \n",
       "\n",
       "                                                                                    spotify_name  \\\n",
       "/artists/3684861-chk-chk-chk                                                                 !!!   \n",
       "/artists/694091-kadebostan                                                            Kadebostan   \n",
       "/artists/5929284-brothers-in-bamako                                                          NaN   \n",
       "/artists/8704378-floyd-division-the-austrian-pi...                                           NaN   \n",
       "/artists/7172094-jazzetcetera-stewy-von-wattenw...                                           NaN   \n",
       "...                                                                                          ...   \n",
       "/artists/4301-and-you-will-know-us-by-the-trail...  ...And You Will Know Us by the Trail of Dead   \n",
       "/artists/1099500-euuroshima                                                        Taro Urashima   \n",
       "/artists/9573874-belize-it                                                            ≈ Belize ≈   \n",
       "/artists/8889739-luo-chai-cao-yuan-wwww-prairie...                                           NaN   \n",
       "/artists/5427898-heymoonshaker                                                     Heymoonshaker   \n",
       "\n",
       "                                                                spotify_id  \\\n",
       "/artists/3684861-chk-chk-chk                        1mmehjf7eHA10uHMisZGJg   \n",
       "/artists/694091-kadebostan                          6hWRK8VkzbYP9p17M5APJR   \n",
       "/artists/5929284-brothers-in-bamako                                    NaN   \n",
       "/artists/8704378-floyd-division-the-austrian-pi...                     NaN   \n",
       "/artists/7172094-jazzetcetera-stewy-von-wattenw...                     NaN   \n",
       "...                                                                    ...   \n",
       "/artists/4301-and-you-will-know-us-by-the-trail...  6wBUn8gMP85n8dPu6LoUcF   \n",
       "/artists/1099500-euuroshima                         5RSxs4Rb82wINvjv5KJ7JK   \n",
       "/artists/9573874-belize-it                          3b8bBMsmGoBd8gYn1pngNc   \n",
       "/artists/8889739-luo-chai-cao-yuan-wwww-prairie...                     NaN   \n",
       "/artists/5427898-heymoonshaker                      1ar2o79WFRJbq4lci6jq55   \n",
       "\n",
       "                                                    spotify_similarity  \\\n",
       "/artists/3684861-chk-chk-chk                                      0.30   \n",
       "/artists/694091-kadebostan                                        0.77   \n",
       "/artists/5929284-brothers-in-bamako                                NaN   \n",
       "/artists/8704378-floyd-division-the-austrian-pi...                 NaN   \n",
       "/artists/7172094-jazzetcetera-stewy-von-wattenw...                 NaN   \n",
       "...                                                                ...   \n",
       "/artists/4301-and-you-will-know-us-by-the-trail...                0.95   \n",
       "/artists/1099500-euuroshima                                       0.64   \n",
       "/artists/9573874-belize-it                                        1.00   \n",
       "/artists/8889739-luo-chai-cao-yuan-wwww-prairie...                 NaN   \n",
       "/artists/5427898-heymoonshaker                                    0.93   \n",
       "\n",
       "                                                    spotify_popularity  \\\n",
       "/artists/3684861-chk-chk-chk                                      47.0   \n",
       "/artists/694091-kadebostan                                        11.0   \n",
       "/artists/5929284-brothers-in-bamako                                NaN   \n",
       "/artists/8704378-floyd-division-the-austrian-pi...                 NaN   \n",
       "/artists/7172094-jazzetcetera-stewy-von-wattenw...                 NaN   \n",
       "...                                                                ...   \n",
       "/artists/4301-and-you-will-know-us-by-the-trail...                41.0   \n",
       "/artists/1099500-euuroshima                                       36.0   \n",
       "/artists/9573874-belize-it                                        18.0   \n",
       "/artists/8889739-luo-chai-cao-yuan-wwww-prairie...                 NaN   \n",
       "/artists/5427898-heymoonshaker                                    28.0   \n",
       "\n",
       "                                                    spotify_followers  \\\n",
       "/artists/3684861-chk-chk-chk                                 135100.0   \n",
       "/artists/694091-kadebostan                                     1348.0   \n",
       "/artists/5929284-brothers-in-bamako                               NaN   \n",
       "/artists/8704378-floyd-division-the-austrian-pi...                NaN   \n",
       "/artists/7172094-jazzetcetera-stewy-von-wattenw...                NaN   \n",
       "...                                                               ...   \n",
       "/artists/4301-and-you-will-know-us-by-the-trail...            64802.0   \n",
       "/artists/1099500-euuroshima                                   14600.0   \n",
       "/artists/9573874-belize-it                                     6697.0   \n",
       "/artists/8889739-luo-chai-cao-yuan-wwww-prairie...                NaN   \n",
       "/artists/5427898-heymoonshaker                                16021.0   \n",
       "\n",
       "                                                    spotify_listeners  \\\n",
       "/artists/3684861-chk-chk-chk                                 305800.0   \n",
       "/artists/694091-kadebostan                                     2000.0   \n",
       "/artists/5929284-brothers-in-bamako                               NaN   \n",
       "/artists/8704378-floyd-division-the-austrian-pi...                NaN   \n",
       "/artists/7172094-jazzetcetera-stewy-von-wattenw...                NaN   \n",
       "...                                                               ...   \n",
       "/artists/4301-and-you-will-know-us-by-the-trail...            99200.0   \n",
       "/artists/1099500-euuroshima                                   79300.0   \n",
       "/artists/9573874-belize-it                                     4900.0   \n",
       "/artists/8889739-luo-chai-cao-yuan-wwww-prairie...                NaN   \n",
       "/artists/5427898-heymoonshaker                                17500.0   \n",
       "\n",
       "                                                      spotify_genre_1  \\\n",
       "/artists/3684861-chk-chk-chk                        alternative dance   \n",
       "/artists/694091-kadebostan                               swiss techno   \n",
       "/artists/5929284-brothers-in-bamako                               NaN   \n",
       "/artists/8704378-floyd-division-the-austrian-pi...                NaN   \n",
       "/artists/7172094-jazzetcetera-stewy-von-wattenw...                NaN   \n",
       "...                                                               ...   \n",
       "/artists/4301-and-you-will-know-us-by-the-trail...   alternative rock   \n",
       "/artists/1099500-euuroshima                              okinawan pop   \n",
       "/artists/9573874-belize-it                          italian indie pop   \n",
       "/artists/8889739-luo-chai-cao-yuan-wwww-prairie...                NaN   \n",
       "/artists/5427898-heymoonshaker                             beatboxing   \n",
       "\n",
       "                                                    spotify_genre_2  \\\n",
       "/artists/3684861-chk-chk-chk                             dance rock   \n",
       "/artists/694091-kadebostan                                      NaN   \n",
       "/artists/5929284-brothers-in-bamako                             NaN   \n",
       "/artists/8704378-floyd-division-the-austrian-pi...              NaN   \n",
       "/artists/7172094-jazzetcetera-stewy-von-wattenw...              NaN   \n",
       "...                                                             ...   \n",
       "/artists/4301-and-you-will-know-us-by-the-trail...  double drumming   \n",
       "/artists/1099500-euuroshima                                     NaN   \n",
       "/artists/9573874-belize-it                              milan indie   \n",
       "/artists/8889739-luo-chai-cao-yuan-wwww-prairie...              NaN   \n",
       "/artists/5427898-heymoonshaker                                  NaN   \n",
       "\n",
       "                                                   spotify_genre_3  ...  \\\n",
       "/artists/3684861-chk-chk-chk                            dance-punk  ...   \n",
       "/artists/694091-kadebostan                                     NaN  ...   \n",
       "/artists/5929284-brothers-in-bamako                            NaN  ...   \n",
       "/artists/8704378-floyd-division-the-austrian-pi...             NaN  ...   \n",
       "/artists/7172094-jazzetcetera-stewy-von-wattenw...             NaN  ...   \n",
       "...                                                            ...  ...   \n",
       "/artists/4301-and-you-will-know-us-by-the-trail...      indie rock  ...   \n",
       "/artists/1099500-euuroshima                                    NaN  ...   \n",
       "/artists/9573874-belize-it                                     NaN  ...   \n",
       "/artists/8889739-luo-chai-cao-yuan-wwww-prairie...             NaN  ...   \n",
       "/artists/5427898-heymoonshaker                                 NaN  ...   \n",
       "\n",
       "                                                   spotify_genre_9  \\\n",
       "/artists/3684861-chk-chk-chk                                   NaN   \n",
       "/artists/694091-kadebostan                                     NaN   \n",
       "/artists/5929284-brothers-in-bamako                            NaN   \n",
       "/artists/8704378-floyd-division-the-austrian-pi...             NaN   \n",
       "/artists/7172094-jazzetcetera-stewy-von-wattenw...             NaN   \n",
       "...                                                            ...   \n",
       "/artists/4301-and-you-will-know-us-by-the-trail...             NaN   \n",
       "/artists/1099500-euuroshima                                    NaN   \n",
       "/artists/9573874-belize-it                                     NaN   \n",
       "/artists/8889739-luo-chai-cao-yuan-wwww-prairie...             NaN   \n",
       "/artists/5427898-heymoonshaker                                 NaN   \n",
       "\n",
       "                                                   spotify_genre_10  \\\n",
       "/artists/3684861-chk-chk-chk                                    NaN   \n",
       "/artists/694091-kadebostan                                      NaN   \n",
       "/artists/5929284-brothers-in-bamako                             NaN   \n",
       "/artists/8704378-floyd-division-the-austrian-pi...              NaN   \n",
       "/artists/7172094-jazzetcetera-stewy-von-wattenw...              NaN   \n",
       "...                                                             ...   \n",
       "/artists/4301-and-you-will-know-us-by-the-trail...              NaN   \n",
       "/artists/1099500-euuroshima                                     NaN   \n",
       "/artists/9573874-belize-it                                      NaN   \n",
       "/artists/8889739-luo-chai-cao-yuan-wwww-prairie...              NaN   \n",
       "/artists/5427898-heymoonshaker                                  NaN   \n",
       "\n",
       "                                                   spotify_genre_11  \\\n",
       "/artists/3684861-chk-chk-chk                                    NaN   \n",
       "/artists/694091-kadebostan                                      NaN   \n",
       "/artists/5929284-brothers-in-bamako                             NaN   \n",
       "/artists/8704378-floyd-division-the-austrian-pi...              NaN   \n",
       "/artists/7172094-jazzetcetera-stewy-von-wattenw...              NaN   \n",
       "...                                                             ...   \n",
       "/artists/4301-and-you-will-know-us-by-the-trail...              NaN   \n",
       "/artists/1099500-euuroshima                                     NaN   \n",
       "/artists/9573874-belize-it                                      NaN   \n",
       "/artists/8889739-luo-chai-cao-yuan-wwww-prairie...              NaN   \n",
       "/artists/5427898-heymoonshaker                                  NaN   \n",
       "\n",
       "                                                   spotify_genre_12  \\\n",
       "/artists/3684861-chk-chk-chk                                    NaN   \n",
       "/artists/694091-kadebostan                                      NaN   \n",
       "/artists/5929284-brothers-in-bamako                             NaN   \n",
       "/artists/8704378-floyd-division-the-austrian-pi...              NaN   \n",
       "/artists/7172094-jazzetcetera-stewy-von-wattenw...              NaN   \n",
       "...                                                             ...   \n",
       "/artists/4301-and-you-will-know-us-by-the-trail...              NaN   \n",
       "/artists/1099500-euuroshima                                     NaN   \n",
       "/artists/9573874-belize-it                                      NaN   \n",
       "/artists/8889739-luo-chai-cao-yuan-wwww-prairie...              NaN   \n",
       "/artists/5427898-heymoonshaker                                  NaN   \n",
       "\n",
       "                                                   spotify_genre_13  \\\n",
       "/artists/3684861-chk-chk-chk                                    NaN   \n",
       "/artists/694091-kadebostan                                      NaN   \n",
       "/artists/5929284-brothers-in-bamako                             NaN   \n",
       "/artists/8704378-floyd-division-the-austrian-pi...              NaN   \n",
       "/artists/7172094-jazzetcetera-stewy-von-wattenw...              NaN   \n",
       "...                                                             ...   \n",
       "/artists/4301-and-you-will-know-us-by-the-trail...              NaN   \n",
       "/artists/1099500-euuroshima                                     NaN   \n",
       "/artists/9573874-belize-it                                      NaN   \n",
       "/artists/8889739-luo-chai-cao-yuan-wwww-prairie...              NaN   \n",
       "/artists/5427898-heymoonshaker                                  NaN   \n",
       "\n",
       "                                                   spotify_genre_14  \\\n",
       "/artists/3684861-chk-chk-chk                                    NaN   \n",
       "/artists/694091-kadebostan                                      NaN   \n",
       "/artists/5929284-brothers-in-bamako                             NaN   \n",
       "/artists/8704378-floyd-division-the-austrian-pi...              NaN   \n",
       "/artists/7172094-jazzetcetera-stewy-von-wattenw...              NaN   \n",
       "...                                                             ...   \n",
       "/artists/4301-and-you-will-know-us-by-the-trail...              NaN   \n",
       "/artists/1099500-euuroshima                                     NaN   \n",
       "/artists/9573874-belize-it                                      NaN   \n",
       "/artists/8889739-luo-chai-cao-yuan-wwww-prairie...              NaN   \n",
       "/artists/5427898-heymoonshaker                                  NaN   \n",
       "\n",
       "                                                   spotify_genre_15  \\\n",
       "/artists/3684861-chk-chk-chk                                    NaN   \n",
       "/artists/694091-kadebostan                                      NaN   \n",
       "/artists/5929284-brothers-in-bamako                             NaN   \n",
       "/artists/8704378-floyd-division-the-austrian-pi...              NaN   \n",
       "/artists/7172094-jazzetcetera-stewy-von-wattenw...              NaN   \n",
       "...                                                             ...   \n",
       "/artists/4301-and-you-will-know-us-by-the-trail...              NaN   \n",
       "/artists/1099500-euuroshima                                     NaN   \n",
       "/artists/9573874-belize-it                                      NaN   \n",
       "/artists/8889739-luo-chai-cao-yuan-wwww-prairie...              NaN   \n",
       "/artists/5427898-heymoonshaker                                  NaN   \n",
       "\n",
       "                                                   spotify_genre_16  \\\n",
       "/artists/3684861-chk-chk-chk                                    NaN   \n",
       "/artists/694091-kadebostan                                      NaN   \n",
       "/artists/5929284-brothers-in-bamako                             NaN   \n",
       "/artists/8704378-floyd-division-the-austrian-pi...              NaN   \n",
       "/artists/7172094-jazzetcetera-stewy-von-wattenw...              NaN   \n",
       "...                                                             ...   \n",
       "/artists/4301-and-you-will-know-us-by-the-trail...              NaN   \n",
       "/artists/1099500-euuroshima                                     NaN   \n",
       "/artists/9573874-belize-it                                      NaN   \n",
       "/artists/8889739-luo-chai-cao-yuan-wwww-prairie...              NaN   \n",
       "/artists/5427898-heymoonshaker                                  NaN   \n",
       "\n",
       "                                                   spotify_genre_17  \\\n",
       "/artists/3684861-chk-chk-chk                                    NaN   \n",
       "/artists/694091-kadebostan                                      NaN   \n",
       "/artists/5929284-brothers-in-bamako                             NaN   \n",
       "/artists/8704378-floyd-division-the-austrian-pi...              NaN   \n",
       "/artists/7172094-jazzetcetera-stewy-von-wattenw...              NaN   \n",
       "...                                                             ...   \n",
       "/artists/4301-and-you-will-know-us-by-the-trail...              NaN   \n",
       "/artists/1099500-euuroshima                                     NaN   \n",
       "/artists/9573874-belize-it                                      NaN   \n",
       "/artists/8889739-luo-chai-cao-yuan-wwww-prairie...              NaN   \n",
       "/artists/5427898-heymoonshaker                                  NaN   \n",
       "\n",
       "                                                   spotify_genre_18  \n",
       "/artists/3684861-chk-chk-chk                                    NaN  \n",
       "/artists/694091-kadebostan                                      NaN  \n",
       "/artists/5929284-brothers-in-bamako                             NaN  \n",
       "/artists/8704378-floyd-division-the-austrian-pi...              NaN  \n",
       "/artists/7172094-jazzetcetera-stewy-von-wattenw...              NaN  \n",
       "...                                                             ...  \n",
       "/artists/4301-and-you-will-know-us-by-the-trail...              NaN  \n",
       "/artists/1099500-euuroshima                                     NaN  \n",
       "/artists/9573874-belize-it                                      NaN  \n",
       "/artists/8889739-luo-chai-cao-yuan-wwww-prairie...              NaN  \n",
       "/artists/5427898-heymoonshaker                                  NaN  \n",
       "\n",
       "[32231 rows x 25 columns]"
      ]
     },
     "execution_count": 8,
     "metadata": {},
     "output_type": "execute_result"
    }
   ],
   "source": [
    "with open('data/spotify/data_spotify_artists_v2.csv', encoding='utf-8') as artists_file:\n",
    "    spotify_artists_df = pd.read_csv(artists_file, index_col=0)\n",
    "    \n",
    "spotify_artists_df"
   ]
  },
  {
   "cell_type": "code",
   "execution_count": 9,
   "id": "1028631e-9150-49e6-85f5-26a0b1267acd",
   "metadata": {},
   "outputs": [],
   "source": [
    "# get audio features for a list of tracks\n",
    "\n",
    "def get_audio_features(tracks_id_list):\n",
    "    audio_features_dict = dict()\n",
    "    \n",
    "    audio_features_list = sp.audio_features(tracks=tracks_id_list)\n",
    "    for audio_features in audio_features_list:\n",
    "        if audio_features:\n",
    "            audio_features_dict[audio_features['id']] = audio_features\n",
    "        \n",
    "    return audio_features_dict"
   ]
  },
  {
   "cell_type": "code",
   "execution_count": 12,
   "id": "0049a564-8702-4aa8-9da9-b973b3f84d8f",
   "metadata": {
    "tags": []
   },
   "outputs": [
    {
     "name": "stderr",
     "output_type": "stream",
     "text": [
      "32231it [9:37:27,  1.07s/it]\n"
     ]
    },
    {
     "data": {
      "text/html": [
       "<div>\n",
       "<style scoped>\n",
       "    .dataframe tbody tr th:only-of-type {\n",
       "        vertical-align: middle;\n",
       "    }\n",
       "\n",
       "    .dataframe tbody tr th {\n",
       "        vertical-align: top;\n",
       "    }\n",
       "\n",
       "    .dataframe thead th {\n",
       "        text-align: right;\n",
       "    }\n",
       "</style>\n",
       "<table border=\"1\" class=\"dataframe\">\n",
       "  <thead>\n",
       "    <tr style=\"text-align: right;\">\n",
       "      <th></th>\n",
       "      <th>track_name</th>\n",
       "      <th>spotify_name</th>\n",
       "      <th>spotify_id</th>\n",
       "      <th>artist_id</th>\n",
       "      <th>track_popularity</th>\n",
       "      <th>danceability</th>\n",
       "      <th>energy</th>\n",
       "      <th>key</th>\n",
       "      <th>loudness</th>\n",
       "      <th>mode</th>\n",
       "      <th>...</th>\n",
       "      <th>liveness</th>\n",
       "      <th>valence</th>\n",
       "      <th>tempo</th>\n",
       "      <th>type</th>\n",
       "      <th>id</th>\n",
       "      <th>uri</th>\n",
       "      <th>track_href</th>\n",
       "      <th>analysis_url</th>\n",
       "      <th>duration_ms</th>\n",
       "      <th>time_signature</th>\n",
       "    </tr>\n",
       "  </thead>\n",
       "  <tbody>\n",
       "    <tr>\n",
       "      <th>2UjEyfnKzaY7qpBEeESJjv</th>\n",
       "      <td>Even When The Water's Cold</td>\n",
       "      <td>!!!</td>\n",
       "      <td>1mmehjf7eHA10uHMisZGJg</td>\n",
       "      <td>/artists/3684861-chk-chk-chk</td>\n",
       "      <td>49</td>\n",
       "      <td>0.709</td>\n",
       "      <td>0.831</td>\n",
       "      <td>2.0</td>\n",
       "      <td>-6.847</td>\n",
       "      <td>0.0</td>\n",
       "      <td>...</td>\n",
       "      <td>0.1590</td>\n",
       "      <td>0.866</td>\n",
       "      <td>104.971</td>\n",
       "      <td>audio_features</td>\n",
       "      <td>2UjEyfnKzaY7qpBEeESJjv</td>\n",
       "      <td>spotify:track:2UjEyfnKzaY7qpBEeESJjv</td>\n",
       "      <td>https://api.spotify.com/v1/tracks/2UjEyfnKzaY7...</td>\n",
       "      <td>https://api.spotify.com/v1/audio-analysis/2UjE...</td>\n",
       "      <td>227067.0</td>\n",
       "      <td>4.0</td>\n",
       "    </tr>\n",
       "    <tr>\n",
       "      <th>7y8aVfDkqt6qirGNivvs0M</th>\n",
       "      <td>One Girl / One Boy</td>\n",
       "      <td>!!!</td>\n",
       "      <td>1mmehjf7eHA10uHMisZGJg</td>\n",
       "      <td>/artists/3684861-chk-chk-chk</td>\n",
       "      <td>46</td>\n",
       "      <td>0.702</td>\n",
       "      <td>0.851</td>\n",
       "      <td>10.0</td>\n",
       "      <td>-5.747</td>\n",
       "      <td>0.0</td>\n",
       "      <td>...</td>\n",
       "      <td>0.3220</td>\n",
       "      <td>0.870</td>\n",
       "      <td>117.004</td>\n",
       "      <td>audio_features</td>\n",
       "      <td>7y8aVfDkqt6qirGNivvs0M</td>\n",
       "      <td>spotify:track:7y8aVfDkqt6qirGNivvs0M</td>\n",
       "      <td>https://api.spotify.com/v1/tracks/7y8aVfDkqt6q...</td>\n",
       "      <td>https://api.spotify.com/v1/audio-analysis/7y8a...</td>\n",
       "      <td>243627.0</td>\n",
       "      <td>4.0</td>\n",
       "    </tr>\n",
       "    <tr>\n",
       "      <th>2PAn8J9dbmSnR4fLjpgehC</th>\n",
       "      <td>Dancing Is The Best Revenge</td>\n",
       "      <td>!!!</td>\n",
       "      <td>1mmehjf7eHA10uHMisZGJg</td>\n",
       "      <td>/artists/3684861-chk-chk-chk</td>\n",
       "      <td>43</td>\n",
       "      <td>0.857</td>\n",
       "      <td>0.762</td>\n",
       "      <td>1.0</td>\n",
       "      <td>-6.327</td>\n",
       "      <td>1.0</td>\n",
       "      <td>...</td>\n",
       "      <td>0.0643</td>\n",
       "      <td>0.804</td>\n",
       "      <td>120.010</td>\n",
       "      <td>audio_features</td>\n",
       "      <td>2PAn8J9dbmSnR4fLjpgehC</td>\n",
       "      <td>spotify:track:2PAn8J9dbmSnR4fLjpgehC</td>\n",
       "      <td>https://api.spotify.com/v1/tracks/2PAn8J9dbmSn...</td>\n",
       "      <td>https://api.spotify.com/v1/audio-analysis/2PAn...</td>\n",
       "      <td>281558.0</td>\n",
       "      <td>4.0</td>\n",
       "    </tr>\n",
       "    <tr>\n",
       "      <th>0BjOgTLP0kLC88XqMoyrv8</th>\n",
       "      <td>Slyd</td>\n",
       "      <td>!!!</td>\n",
       "      <td>1mmehjf7eHA10uHMisZGJg</td>\n",
       "      <td>/artists/3684861-chk-chk-chk</td>\n",
       "      <td>40</td>\n",
       "      <td>0.858</td>\n",
       "      <td>0.717</td>\n",
       "      <td>0.0</td>\n",
       "      <td>-8.734</td>\n",
       "      <td>1.0</td>\n",
       "      <td>...</td>\n",
       "      <td>0.2160</td>\n",
       "      <td>0.582</td>\n",
       "      <td>120.004</td>\n",
       "      <td>audio_features</td>\n",
       "      <td>0BjOgTLP0kLC88XqMoyrv8</td>\n",
       "      <td>spotify:track:0BjOgTLP0kLC88XqMoyrv8</td>\n",
       "      <td>https://api.spotify.com/v1/tracks/0BjOgTLP0kLC...</td>\n",
       "      <td>https://api.spotify.com/v1/audio-analysis/0BjO...</td>\n",
       "      <td>254920.0</td>\n",
       "      <td>4.0</td>\n",
       "    </tr>\n",
       "    <tr>\n",
       "      <th>19plwOsYLdF68361d17aAb</th>\n",
       "      <td>Myth Takes</td>\n",
       "      <td>!!!</td>\n",
       "      <td>1mmehjf7eHA10uHMisZGJg</td>\n",
       "      <td>/artists/3684861-chk-chk-chk</td>\n",
       "      <td>36</td>\n",
       "      <td>0.754</td>\n",
       "      <td>0.770</td>\n",
       "      <td>11.0</td>\n",
       "      <td>-7.830</td>\n",
       "      <td>0.0</td>\n",
       "      <td>...</td>\n",
       "      <td>0.2930</td>\n",
       "      <td>0.904</td>\n",
       "      <td>97.109</td>\n",
       "      <td>audio_features</td>\n",
       "      <td>19plwOsYLdF68361d17aAb</td>\n",
       "      <td>spotify:track:19plwOsYLdF68361d17aAb</td>\n",
       "      <td>https://api.spotify.com/v1/tracks/19plwOsYLdF6...</td>\n",
       "      <td>https://api.spotify.com/v1/audio-analysis/19pl...</td>\n",
       "      <td>143987.0</td>\n",
       "      <td>4.0</td>\n",
       "    </tr>\n",
       "    <tr>\n",
       "      <th>...</th>\n",
       "      <td>...</td>\n",
       "      <td>...</td>\n",
       "      <td>...</td>\n",
       "      <td>...</td>\n",
       "      <td>...</td>\n",
       "      <td>...</td>\n",
       "      <td>...</td>\n",
       "      <td>...</td>\n",
       "      <td>...</td>\n",
       "      <td>...</td>\n",
       "      <td>...</td>\n",
       "      <td>...</td>\n",
       "      <td>...</td>\n",
       "      <td>...</td>\n",
       "      <td>...</td>\n",
       "      <td>...</td>\n",
       "      <td>...</td>\n",
       "      <td>...</td>\n",
       "      <td>...</td>\n",
       "      <td>...</td>\n",
       "      <td>...</td>\n",
       "    </tr>\n",
       "    <tr>\n",
       "      <th>2TU6JSgRLKgks1ydHdPQpC</th>\n",
       "      <td>Wheels in Motion</td>\n",
       "      <td>Heymoonshaker</td>\n",
       "      <td>1ar2o79WFRJbq4lci6jq55</td>\n",
       "      <td>/artists/5427898-heymoonshaker</td>\n",
       "      <td>18</td>\n",
       "      <td>0.810</td>\n",
       "      <td>0.378</td>\n",
       "      <td>2.0</td>\n",
       "      <td>-9.397</td>\n",
       "      <td>1.0</td>\n",
       "      <td>...</td>\n",
       "      <td>0.0909</td>\n",
       "      <td>0.320</td>\n",
       "      <td>91.957</td>\n",
       "      <td>audio_features</td>\n",
       "      <td>2TU6JSgRLKgks1ydHdPQpC</td>\n",
       "      <td>spotify:track:2TU6JSgRLKgks1ydHdPQpC</td>\n",
       "      <td>https://api.spotify.com/v1/tracks/2TU6JSgRLKgk...</td>\n",
       "      <td>https://api.spotify.com/v1/audio-analysis/2TU6...</td>\n",
       "      <td>200844.0</td>\n",
       "      <td>4.0</td>\n",
       "    </tr>\n",
       "    <tr>\n",
       "      <th>66lXofi3mf385buHSMiKZN</th>\n",
       "      <td>Find Myself a Home</td>\n",
       "      <td>Heymoonshaker</td>\n",
       "      <td>1ar2o79WFRJbq4lci6jq55</td>\n",
       "      <td>/artists/5427898-heymoonshaker</td>\n",
       "      <td>16</td>\n",
       "      <td>0.740</td>\n",
       "      <td>0.635</td>\n",
       "      <td>11.0</td>\n",
       "      <td>-9.484</td>\n",
       "      <td>0.0</td>\n",
       "      <td>...</td>\n",
       "      <td>0.0818</td>\n",
       "      <td>0.114</td>\n",
       "      <td>120.498</td>\n",
       "      <td>audio_features</td>\n",
       "      <td>66lXofi3mf385buHSMiKZN</td>\n",
       "      <td>spotify:track:66lXofi3mf385buHSMiKZN</td>\n",
       "      <td>https://api.spotify.com/v1/tracks/66lXofi3mf38...</td>\n",
       "      <td>https://api.spotify.com/v1/audio-analysis/66lX...</td>\n",
       "      <td>236453.0</td>\n",
       "      <td>4.0</td>\n",
       "    </tr>\n",
       "    <tr>\n",
       "      <th>5Fl64Ztk3D90gTQbdhZqj0</th>\n",
       "      <td>Devil in Mind</td>\n",
       "      <td>Heymoonshaker</td>\n",
       "      <td>1ar2o79WFRJbq4lci6jq55</td>\n",
       "      <td>/artists/5427898-heymoonshaker</td>\n",
       "      <td>13</td>\n",
       "      <td>0.703</td>\n",
       "      <td>0.595</td>\n",
       "      <td>1.0</td>\n",
       "      <td>-9.310</td>\n",
       "      <td>0.0</td>\n",
       "      <td>...</td>\n",
       "      <td>0.1090</td>\n",
       "      <td>0.573</td>\n",
       "      <td>75.863</td>\n",
       "      <td>audio_features</td>\n",
       "      <td>5Fl64Ztk3D90gTQbdhZqj0</td>\n",
       "      <td>spotify:track:5Fl64Ztk3D90gTQbdhZqj0</td>\n",
       "      <td>https://api.spotify.com/v1/tracks/5Fl64Ztk3D90...</td>\n",
       "      <td>https://api.spotify.com/v1/audio-analysis/5Fl6...</td>\n",
       "      <td>271440.0</td>\n",
       "      <td>4.0</td>\n",
       "    </tr>\n",
       "    <tr>\n",
       "      <th>1JA12esXthNQiikiQDmbrv</th>\n",
       "      <td>Coz I Luv U</td>\n",
       "      <td>Heymoonshaker</td>\n",
       "      <td>1ar2o79WFRJbq4lci6jq55</td>\n",
       "      <td>/artists/5427898-heymoonshaker</td>\n",
       "      <td>13</td>\n",
       "      <td>0.746</td>\n",
       "      <td>0.706</td>\n",
       "      <td>2.0</td>\n",
       "      <td>-6.560</td>\n",
       "      <td>0.0</td>\n",
       "      <td>...</td>\n",
       "      <td>0.1230</td>\n",
       "      <td>0.519</td>\n",
       "      <td>134.147</td>\n",
       "      <td>audio_features</td>\n",
       "      <td>1JA12esXthNQiikiQDmbrv</td>\n",
       "      <td>spotify:track:1JA12esXthNQiikiQDmbrv</td>\n",
       "      <td>https://api.spotify.com/v1/tracks/1JA12esXthNQ...</td>\n",
       "      <td>https://api.spotify.com/v1/audio-analysis/1JA1...</td>\n",
       "      <td>184477.0</td>\n",
       "      <td>4.0</td>\n",
       "    </tr>\n",
       "    <tr>\n",
       "      <th>2AluTdQnl4vn35kqaskcZo</th>\n",
       "      <td>Mf45</td>\n",
       "      <td>Heymoonshaker</td>\n",
       "      <td>1ar2o79WFRJbq4lci6jq55</td>\n",
       "      <td>/artists/5427898-heymoonshaker</td>\n",
       "      <td>13</td>\n",
       "      <td>0.577</td>\n",
       "      <td>0.394</td>\n",
       "      <td>2.0</td>\n",
       "      <td>-8.366</td>\n",
       "      <td>1.0</td>\n",
       "      <td>...</td>\n",
       "      <td>0.1020</td>\n",
       "      <td>0.108</td>\n",
       "      <td>82.055</td>\n",
       "      <td>audio_features</td>\n",
       "      <td>2AluTdQnl4vn35kqaskcZo</td>\n",
       "      <td>spotify:track:2AluTdQnl4vn35kqaskcZo</td>\n",
       "      <td>https://api.spotify.com/v1/tracks/2AluTdQnl4vn...</td>\n",
       "      <td>https://api.spotify.com/v1/audio-analysis/2Alu...</td>\n",
       "      <td>231418.0</td>\n",
       "      <td>4.0</td>\n",
       "    </tr>\n",
       "  </tbody>\n",
       "</table>\n",
       "<p>248625 rows × 23 columns</p>\n",
       "</div>"
      ],
      "text/plain": [
       "                                         track_name   spotify_name  \\\n",
       "2UjEyfnKzaY7qpBEeESJjv   Even When The Water's Cold            !!!   \n",
       "7y8aVfDkqt6qirGNivvs0M           One Girl / One Boy            !!!   \n",
       "2PAn8J9dbmSnR4fLjpgehC  Dancing Is The Best Revenge            !!!   \n",
       "0BjOgTLP0kLC88XqMoyrv8                         Slyd            !!!   \n",
       "19plwOsYLdF68361d17aAb                   Myth Takes            !!!   \n",
       "...                                             ...            ...   \n",
       "2TU6JSgRLKgks1ydHdPQpC             Wheels in Motion  Heymoonshaker   \n",
       "66lXofi3mf385buHSMiKZN           Find Myself a Home  Heymoonshaker   \n",
       "5Fl64Ztk3D90gTQbdhZqj0                Devil in Mind  Heymoonshaker   \n",
       "1JA12esXthNQiikiQDmbrv                  Coz I Luv U  Heymoonshaker   \n",
       "2AluTdQnl4vn35kqaskcZo                         Mf45  Heymoonshaker   \n",
       "\n",
       "                                    spotify_id  \\\n",
       "2UjEyfnKzaY7qpBEeESJjv  1mmehjf7eHA10uHMisZGJg   \n",
       "7y8aVfDkqt6qirGNivvs0M  1mmehjf7eHA10uHMisZGJg   \n",
       "2PAn8J9dbmSnR4fLjpgehC  1mmehjf7eHA10uHMisZGJg   \n",
       "0BjOgTLP0kLC88XqMoyrv8  1mmehjf7eHA10uHMisZGJg   \n",
       "19plwOsYLdF68361d17aAb  1mmehjf7eHA10uHMisZGJg   \n",
       "...                                        ...   \n",
       "2TU6JSgRLKgks1ydHdPQpC  1ar2o79WFRJbq4lci6jq55   \n",
       "66lXofi3mf385buHSMiKZN  1ar2o79WFRJbq4lci6jq55   \n",
       "5Fl64Ztk3D90gTQbdhZqj0  1ar2o79WFRJbq4lci6jq55   \n",
       "1JA12esXthNQiikiQDmbrv  1ar2o79WFRJbq4lci6jq55   \n",
       "2AluTdQnl4vn35kqaskcZo  1ar2o79WFRJbq4lci6jq55   \n",
       "\n",
       "                                             artist_id  track_popularity  \\\n",
       "2UjEyfnKzaY7qpBEeESJjv    /artists/3684861-chk-chk-chk                49   \n",
       "7y8aVfDkqt6qirGNivvs0M    /artists/3684861-chk-chk-chk                46   \n",
       "2PAn8J9dbmSnR4fLjpgehC    /artists/3684861-chk-chk-chk                43   \n",
       "0BjOgTLP0kLC88XqMoyrv8    /artists/3684861-chk-chk-chk                40   \n",
       "19plwOsYLdF68361d17aAb    /artists/3684861-chk-chk-chk                36   \n",
       "...                                                ...               ...   \n",
       "2TU6JSgRLKgks1ydHdPQpC  /artists/5427898-heymoonshaker                18   \n",
       "66lXofi3mf385buHSMiKZN  /artists/5427898-heymoonshaker                16   \n",
       "5Fl64Ztk3D90gTQbdhZqj0  /artists/5427898-heymoonshaker                13   \n",
       "1JA12esXthNQiikiQDmbrv  /artists/5427898-heymoonshaker                13   \n",
       "2AluTdQnl4vn35kqaskcZo  /artists/5427898-heymoonshaker                13   \n",
       "\n",
       "                        danceability  energy   key  loudness  mode  ...  \\\n",
       "2UjEyfnKzaY7qpBEeESJjv         0.709   0.831   2.0    -6.847   0.0  ...   \n",
       "7y8aVfDkqt6qirGNivvs0M         0.702   0.851  10.0    -5.747   0.0  ...   \n",
       "2PAn8J9dbmSnR4fLjpgehC         0.857   0.762   1.0    -6.327   1.0  ...   \n",
       "0BjOgTLP0kLC88XqMoyrv8         0.858   0.717   0.0    -8.734   1.0  ...   \n",
       "19plwOsYLdF68361d17aAb         0.754   0.770  11.0    -7.830   0.0  ...   \n",
       "...                              ...     ...   ...       ...   ...  ...   \n",
       "2TU6JSgRLKgks1ydHdPQpC         0.810   0.378   2.0    -9.397   1.0  ...   \n",
       "66lXofi3mf385buHSMiKZN         0.740   0.635  11.0    -9.484   0.0  ...   \n",
       "5Fl64Ztk3D90gTQbdhZqj0         0.703   0.595   1.0    -9.310   0.0  ...   \n",
       "1JA12esXthNQiikiQDmbrv         0.746   0.706   2.0    -6.560   0.0  ...   \n",
       "2AluTdQnl4vn35kqaskcZo         0.577   0.394   2.0    -8.366   1.0  ...   \n",
       "\n",
       "                        liveness  valence    tempo            type  \\\n",
       "2UjEyfnKzaY7qpBEeESJjv    0.1590    0.866  104.971  audio_features   \n",
       "7y8aVfDkqt6qirGNivvs0M    0.3220    0.870  117.004  audio_features   \n",
       "2PAn8J9dbmSnR4fLjpgehC    0.0643    0.804  120.010  audio_features   \n",
       "0BjOgTLP0kLC88XqMoyrv8    0.2160    0.582  120.004  audio_features   \n",
       "19plwOsYLdF68361d17aAb    0.2930    0.904   97.109  audio_features   \n",
       "...                          ...      ...      ...             ...   \n",
       "2TU6JSgRLKgks1ydHdPQpC    0.0909    0.320   91.957  audio_features   \n",
       "66lXofi3mf385buHSMiKZN    0.0818    0.114  120.498  audio_features   \n",
       "5Fl64Ztk3D90gTQbdhZqj0    0.1090    0.573   75.863  audio_features   \n",
       "1JA12esXthNQiikiQDmbrv    0.1230    0.519  134.147  audio_features   \n",
       "2AluTdQnl4vn35kqaskcZo    0.1020    0.108   82.055  audio_features   \n",
       "\n",
       "                                            id  \\\n",
       "2UjEyfnKzaY7qpBEeESJjv  2UjEyfnKzaY7qpBEeESJjv   \n",
       "7y8aVfDkqt6qirGNivvs0M  7y8aVfDkqt6qirGNivvs0M   \n",
       "2PAn8J9dbmSnR4fLjpgehC  2PAn8J9dbmSnR4fLjpgehC   \n",
       "0BjOgTLP0kLC88XqMoyrv8  0BjOgTLP0kLC88XqMoyrv8   \n",
       "19plwOsYLdF68361d17aAb  19plwOsYLdF68361d17aAb   \n",
       "...                                        ...   \n",
       "2TU6JSgRLKgks1ydHdPQpC  2TU6JSgRLKgks1ydHdPQpC   \n",
       "66lXofi3mf385buHSMiKZN  66lXofi3mf385buHSMiKZN   \n",
       "5Fl64Ztk3D90gTQbdhZqj0  5Fl64Ztk3D90gTQbdhZqj0   \n",
       "1JA12esXthNQiikiQDmbrv  1JA12esXthNQiikiQDmbrv   \n",
       "2AluTdQnl4vn35kqaskcZo  2AluTdQnl4vn35kqaskcZo   \n",
       "\n",
       "                                                         uri  \\\n",
       "2UjEyfnKzaY7qpBEeESJjv  spotify:track:2UjEyfnKzaY7qpBEeESJjv   \n",
       "7y8aVfDkqt6qirGNivvs0M  spotify:track:7y8aVfDkqt6qirGNivvs0M   \n",
       "2PAn8J9dbmSnR4fLjpgehC  spotify:track:2PAn8J9dbmSnR4fLjpgehC   \n",
       "0BjOgTLP0kLC88XqMoyrv8  spotify:track:0BjOgTLP0kLC88XqMoyrv8   \n",
       "19plwOsYLdF68361d17aAb  spotify:track:19plwOsYLdF68361d17aAb   \n",
       "...                                                      ...   \n",
       "2TU6JSgRLKgks1ydHdPQpC  spotify:track:2TU6JSgRLKgks1ydHdPQpC   \n",
       "66lXofi3mf385buHSMiKZN  spotify:track:66lXofi3mf385buHSMiKZN   \n",
       "5Fl64Ztk3D90gTQbdhZqj0  spotify:track:5Fl64Ztk3D90gTQbdhZqj0   \n",
       "1JA12esXthNQiikiQDmbrv  spotify:track:1JA12esXthNQiikiQDmbrv   \n",
       "2AluTdQnl4vn35kqaskcZo  spotify:track:2AluTdQnl4vn35kqaskcZo   \n",
       "\n",
       "                                                               track_href  \\\n",
       "2UjEyfnKzaY7qpBEeESJjv  https://api.spotify.com/v1/tracks/2UjEyfnKzaY7...   \n",
       "7y8aVfDkqt6qirGNivvs0M  https://api.spotify.com/v1/tracks/7y8aVfDkqt6q...   \n",
       "2PAn8J9dbmSnR4fLjpgehC  https://api.spotify.com/v1/tracks/2PAn8J9dbmSn...   \n",
       "0BjOgTLP0kLC88XqMoyrv8  https://api.spotify.com/v1/tracks/0BjOgTLP0kLC...   \n",
       "19plwOsYLdF68361d17aAb  https://api.spotify.com/v1/tracks/19plwOsYLdF6...   \n",
       "...                                                                   ...   \n",
       "2TU6JSgRLKgks1ydHdPQpC  https://api.spotify.com/v1/tracks/2TU6JSgRLKgk...   \n",
       "66lXofi3mf385buHSMiKZN  https://api.spotify.com/v1/tracks/66lXofi3mf38...   \n",
       "5Fl64Ztk3D90gTQbdhZqj0  https://api.spotify.com/v1/tracks/5Fl64Ztk3D90...   \n",
       "1JA12esXthNQiikiQDmbrv  https://api.spotify.com/v1/tracks/1JA12esXthNQ...   \n",
       "2AluTdQnl4vn35kqaskcZo  https://api.spotify.com/v1/tracks/2AluTdQnl4vn...   \n",
       "\n",
       "                                                             analysis_url  \\\n",
       "2UjEyfnKzaY7qpBEeESJjv  https://api.spotify.com/v1/audio-analysis/2UjE...   \n",
       "7y8aVfDkqt6qirGNivvs0M  https://api.spotify.com/v1/audio-analysis/7y8a...   \n",
       "2PAn8J9dbmSnR4fLjpgehC  https://api.spotify.com/v1/audio-analysis/2PAn...   \n",
       "0BjOgTLP0kLC88XqMoyrv8  https://api.spotify.com/v1/audio-analysis/0BjO...   \n",
       "19plwOsYLdF68361d17aAb  https://api.spotify.com/v1/audio-analysis/19pl...   \n",
       "...                                                                   ...   \n",
       "2TU6JSgRLKgks1ydHdPQpC  https://api.spotify.com/v1/audio-analysis/2TU6...   \n",
       "66lXofi3mf385buHSMiKZN  https://api.spotify.com/v1/audio-analysis/66lX...   \n",
       "5Fl64Ztk3D90gTQbdhZqj0  https://api.spotify.com/v1/audio-analysis/5Fl6...   \n",
       "1JA12esXthNQiikiQDmbrv  https://api.spotify.com/v1/audio-analysis/1JA1...   \n",
       "2AluTdQnl4vn35kqaskcZo  https://api.spotify.com/v1/audio-analysis/2Alu...   \n",
       "\n",
       "                       duration_ms time_signature  \n",
       "2UjEyfnKzaY7qpBEeESJjv    227067.0            4.0  \n",
       "7y8aVfDkqt6qirGNivvs0M    243627.0            4.0  \n",
       "2PAn8J9dbmSnR4fLjpgehC    281558.0            4.0  \n",
       "0BjOgTLP0kLC88XqMoyrv8    254920.0            4.0  \n",
       "19plwOsYLdF68361d17aAb    143987.0            4.0  \n",
       "...                            ...            ...  \n",
       "2TU6JSgRLKgks1ydHdPQpC    200844.0            4.0  \n",
       "66lXofi3mf385buHSMiKZN    236453.0            4.0  \n",
       "5Fl64Ztk3D90gTQbdhZqj0    271440.0            4.0  \n",
       "1JA12esXthNQiikiQDmbrv    184477.0            4.0  \n",
       "2AluTdQnl4vn35kqaskcZo    231418.0            4.0  \n",
       "\n",
       "[248625 rows x 23 columns]"
      ]
     },
     "execution_count": 12,
     "metadata": {},
     "output_type": "execute_result"
    }
   ],
   "source": [
    "# get audio features for each artist's top 10 tracks\n",
    "\n",
    "tracks_dict = dict()\n",
    "counter = 0\n",
    "\n",
    "for idx, row in tqdm(spotify_artists_df.iloc[:].iterrows()):\n",
    "    spotify_id = row['spotify_id']\n",
    "    artist_id = idx\n",
    "    spotify_name = row['spotify_name']\n",
    "    \n",
    "    # if artist has a spotify id\n",
    "    if pd.notna(spotify_id):\n",
    "        top_tracks = sp.artist_top_tracks(spotify_id)\n",
    "        tracks_id_list = [track['id'] for track in top_tracks['tracks']]\n",
    "        audio_features_dict = get_audio_features(tracks_id_list)\n",
    "        \n",
    "        for track in top_tracks['tracks']:\n",
    "            track_name = track['name']\n",
    "            track_id = track['id']\n",
    "            track_popularity = track['popularity']\n",
    "            \n",
    "            tracks_dict[track_id] = {\n",
    "                'track_name': track_name,\n",
    "                'spotify_name': spotify_name,\n",
    "                'spotify_id': spotify_id,\n",
    "                'artist_id': artist_id,\n",
    "                'track_popularity': track_popularity,\n",
    "            }\n",
    "            try:\n",
    "                tracks_dict[track_id].update(audio_features_dict[track_id])\n",
    "            except KeyError:\n",
    "                pass\n",
    "            \n",
    "        time.sleep(1)\n",
    "        counter += 1\n",
    "        \n",
    "        # save data at regular interval\n",
    "        if counter % 100 == 0:\n",
    "            spotify_tracks_df = pd.DataFrame.from_dict(tracks_dict, orient='index')\n",
    "            save_path = CRAWL_TRACKS_FOLDER + 'temp_data_spotify_tracks.csv'\n",
    "            spotify_tracks_df.to_csv(save_path, encoding='utf-8')\n",
    "\n",
    "spotify_tracks_df = pd.DataFrame.from_dict(tracks_dict, orient='index')\n",
    "spotify_tracks_df.to_csv('data/spotify/data_spotify_tracks_v2.csv', encoding='utf-8')\n",
    "spotify_tracks_df"
   ]
  },
  {
   "cell_type": "code",
   "execution_count": 13,
   "id": "260da898-1958-47a0-b3d7-f6c7e08c5136",
   "metadata": {},
   "outputs": [
    {
     "data": {
      "text/html": [
       "<div>\n",
       "<style scoped>\n",
       "    .dataframe tbody tr th:only-of-type {\n",
       "        vertical-align: middle;\n",
       "    }\n",
       "\n",
       "    .dataframe tbody tr th {\n",
       "        vertical-align: top;\n",
       "    }\n",
       "\n",
       "    .dataframe thead th {\n",
       "        text-align: right;\n",
       "    }\n",
       "</style>\n",
       "<table border=\"1\" class=\"dataframe\">\n",
       "  <thead>\n",
       "    <tr style=\"text-align: right;\">\n",
       "      <th></th>\n",
       "      <th>track_name</th>\n",
       "      <th>spotify_name</th>\n",
       "      <th>spotify_id</th>\n",
       "      <th>artist_id</th>\n",
       "      <th>track_popularity</th>\n",
       "      <th>danceability</th>\n",
       "      <th>energy</th>\n",
       "      <th>key</th>\n",
       "      <th>loudness</th>\n",
       "      <th>mode</th>\n",
       "      <th>speechiness</th>\n",
       "      <th>acousticness</th>\n",
       "      <th>instrumentalness</th>\n",
       "      <th>liveness</th>\n",
       "      <th>valence</th>\n",
       "      <th>tempo</th>\n",
       "      <th>duration_ms</th>\n",
       "      <th>time_signature</th>\n",
       "    </tr>\n",
       "  </thead>\n",
       "  <tbody>\n",
       "    <tr>\n",
       "      <th>2UjEyfnKzaY7qpBEeESJjv</th>\n",
       "      <td>Even When The Water's Cold</td>\n",
       "      <td>!!!</td>\n",
       "      <td>1mmehjf7eHA10uHMisZGJg</td>\n",
       "      <td>/artists/3684861-chk-chk-chk</td>\n",
       "      <td>49</td>\n",
       "      <td>0.709</td>\n",
       "      <td>0.831</td>\n",
       "      <td>2.0</td>\n",
       "      <td>-6.847</td>\n",
       "      <td>0.0</td>\n",
       "      <td>0.0391</td>\n",
       "      <td>0.10800</td>\n",
       "      <td>0.001280</td>\n",
       "      <td>0.1590</td>\n",
       "      <td>0.866</td>\n",
       "      <td>104.971</td>\n",
       "      <td>227067.0</td>\n",
       "      <td>4.0</td>\n",
       "    </tr>\n",
       "    <tr>\n",
       "      <th>7y8aVfDkqt6qirGNivvs0M</th>\n",
       "      <td>One Girl / One Boy</td>\n",
       "      <td>!!!</td>\n",
       "      <td>1mmehjf7eHA10uHMisZGJg</td>\n",
       "      <td>/artists/3684861-chk-chk-chk</td>\n",
       "      <td>46</td>\n",
       "      <td>0.702</td>\n",
       "      <td>0.851</td>\n",
       "      <td>10.0</td>\n",
       "      <td>-5.747</td>\n",
       "      <td>0.0</td>\n",
       "      <td>0.0407</td>\n",
       "      <td>0.00255</td>\n",
       "      <td>0.000059</td>\n",
       "      <td>0.3220</td>\n",
       "      <td>0.870</td>\n",
       "      <td>117.004</td>\n",
       "      <td>243627.0</td>\n",
       "      <td>4.0</td>\n",
       "    </tr>\n",
       "    <tr>\n",
       "      <th>2PAn8J9dbmSnR4fLjpgehC</th>\n",
       "      <td>Dancing Is The Best Revenge</td>\n",
       "      <td>!!!</td>\n",
       "      <td>1mmehjf7eHA10uHMisZGJg</td>\n",
       "      <td>/artists/3684861-chk-chk-chk</td>\n",
       "      <td>43</td>\n",
       "      <td>0.857</td>\n",
       "      <td>0.762</td>\n",
       "      <td>1.0</td>\n",
       "      <td>-6.327</td>\n",
       "      <td>1.0</td>\n",
       "      <td>0.0535</td>\n",
       "      <td>0.00339</td>\n",
       "      <td>0.310000</td>\n",
       "      <td>0.0643</td>\n",
       "      <td>0.804</td>\n",
       "      <td>120.010</td>\n",
       "      <td>281558.0</td>\n",
       "      <td>4.0</td>\n",
       "    </tr>\n",
       "    <tr>\n",
       "      <th>0BjOgTLP0kLC88XqMoyrv8</th>\n",
       "      <td>Slyd</td>\n",
       "      <td>!!!</td>\n",
       "      <td>1mmehjf7eHA10uHMisZGJg</td>\n",
       "      <td>/artists/3684861-chk-chk-chk</td>\n",
       "      <td>40</td>\n",
       "      <td>0.858</td>\n",
       "      <td>0.717</td>\n",
       "      <td>0.0</td>\n",
       "      <td>-8.734</td>\n",
       "      <td>1.0</td>\n",
       "      <td>0.0995</td>\n",
       "      <td>0.06260</td>\n",
       "      <td>0.243000</td>\n",
       "      <td>0.2160</td>\n",
       "      <td>0.582</td>\n",
       "      <td>120.004</td>\n",
       "      <td>254920.0</td>\n",
       "      <td>4.0</td>\n",
       "    </tr>\n",
       "    <tr>\n",
       "      <th>19plwOsYLdF68361d17aAb</th>\n",
       "      <td>Myth Takes</td>\n",
       "      <td>!!!</td>\n",
       "      <td>1mmehjf7eHA10uHMisZGJg</td>\n",
       "      <td>/artists/3684861-chk-chk-chk</td>\n",
       "      <td>36</td>\n",
       "      <td>0.754</td>\n",
       "      <td>0.770</td>\n",
       "      <td>11.0</td>\n",
       "      <td>-7.830</td>\n",
       "      <td>0.0</td>\n",
       "      <td>0.0272</td>\n",
       "      <td>0.13300</td>\n",
       "      <td>0.747000</td>\n",
       "      <td>0.2930</td>\n",
       "      <td>0.904</td>\n",
       "      <td>97.109</td>\n",
       "      <td>143987.0</td>\n",
       "      <td>4.0</td>\n",
       "    </tr>\n",
       "    <tr>\n",
       "      <th>...</th>\n",
       "      <td>...</td>\n",
       "      <td>...</td>\n",
       "      <td>...</td>\n",
       "      <td>...</td>\n",
       "      <td>...</td>\n",
       "      <td>...</td>\n",
       "      <td>...</td>\n",
       "      <td>...</td>\n",
       "      <td>...</td>\n",
       "      <td>...</td>\n",
       "      <td>...</td>\n",
       "      <td>...</td>\n",
       "      <td>...</td>\n",
       "      <td>...</td>\n",
       "      <td>...</td>\n",
       "      <td>...</td>\n",
       "      <td>...</td>\n",
       "      <td>...</td>\n",
       "    </tr>\n",
       "    <tr>\n",
       "      <th>2TU6JSgRLKgks1ydHdPQpC</th>\n",
       "      <td>Wheels in Motion</td>\n",
       "      <td>Heymoonshaker</td>\n",
       "      <td>1ar2o79WFRJbq4lci6jq55</td>\n",
       "      <td>/artists/5427898-heymoonshaker</td>\n",
       "      <td>18</td>\n",
       "      <td>0.810</td>\n",
       "      <td>0.378</td>\n",
       "      <td>2.0</td>\n",
       "      <td>-9.397</td>\n",
       "      <td>1.0</td>\n",
       "      <td>0.0596</td>\n",
       "      <td>0.52600</td>\n",
       "      <td>0.009470</td>\n",
       "      <td>0.0909</td>\n",
       "      <td>0.320</td>\n",
       "      <td>91.957</td>\n",
       "      <td>200844.0</td>\n",
       "      <td>4.0</td>\n",
       "    </tr>\n",
       "    <tr>\n",
       "      <th>66lXofi3mf385buHSMiKZN</th>\n",
       "      <td>Find Myself a Home</td>\n",
       "      <td>Heymoonshaker</td>\n",
       "      <td>1ar2o79WFRJbq4lci6jq55</td>\n",
       "      <td>/artists/5427898-heymoonshaker</td>\n",
       "      <td>16</td>\n",
       "      <td>0.740</td>\n",
       "      <td>0.635</td>\n",
       "      <td>11.0</td>\n",
       "      <td>-9.484</td>\n",
       "      <td>0.0</td>\n",
       "      <td>0.0602</td>\n",
       "      <td>0.53800</td>\n",
       "      <td>0.001940</td>\n",
       "      <td>0.0818</td>\n",
       "      <td>0.114</td>\n",
       "      <td>120.498</td>\n",
       "      <td>236453.0</td>\n",
       "      <td>4.0</td>\n",
       "    </tr>\n",
       "    <tr>\n",
       "      <th>5Fl64Ztk3D90gTQbdhZqj0</th>\n",
       "      <td>Devil in Mind</td>\n",
       "      <td>Heymoonshaker</td>\n",
       "      <td>1ar2o79WFRJbq4lci6jq55</td>\n",
       "      <td>/artists/5427898-heymoonshaker</td>\n",
       "      <td>13</td>\n",
       "      <td>0.703</td>\n",
       "      <td>0.595</td>\n",
       "      <td>1.0</td>\n",
       "      <td>-9.310</td>\n",
       "      <td>0.0</td>\n",
       "      <td>0.1190</td>\n",
       "      <td>0.00850</td>\n",
       "      <td>0.483000</td>\n",
       "      <td>0.1090</td>\n",
       "      <td>0.573</td>\n",
       "      <td>75.863</td>\n",
       "      <td>271440.0</td>\n",
       "      <td>4.0</td>\n",
       "    </tr>\n",
       "    <tr>\n",
       "      <th>1JA12esXthNQiikiQDmbrv</th>\n",
       "      <td>Coz I Luv U</td>\n",
       "      <td>Heymoonshaker</td>\n",
       "      <td>1ar2o79WFRJbq4lci6jq55</td>\n",
       "      <td>/artists/5427898-heymoonshaker</td>\n",
       "      <td>13</td>\n",
       "      <td>0.746</td>\n",
       "      <td>0.706</td>\n",
       "      <td>2.0</td>\n",
       "      <td>-6.560</td>\n",
       "      <td>0.0</td>\n",
       "      <td>0.1140</td>\n",
       "      <td>0.51700</td>\n",
       "      <td>0.000005</td>\n",
       "      <td>0.1230</td>\n",
       "      <td>0.519</td>\n",
       "      <td>134.147</td>\n",
       "      <td>184477.0</td>\n",
       "      <td>4.0</td>\n",
       "    </tr>\n",
       "    <tr>\n",
       "      <th>2AluTdQnl4vn35kqaskcZo</th>\n",
       "      <td>Mf45</td>\n",
       "      <td>Heymoonshaker</td>\n",
       "      <td>1ar2o79WFRJbq4lci6jq55</td>\n",
       "      <td>/artists/5427898-heymoonshaker</td>\n",
       "      <td>13</td>\n",
       "      <td>0.577</td>\n",
       "      <td>0.394</td>\n",
       "      <td>2.0</td>\n",
       "      <td>-8.366</td>\n",
       "      <td>1.0</td>\n",
       "      <td>0.0275</td>\n",
       "      <td>0.00258</td>\n",
       "      <td>0.097700</td>\n",
       "      <td>0.1020</td>\n",
       "      <td>0.108</td>\n",
       "      <td>82.055</td>\n",
       "      <td>231418.0</td>\n",
       "      <td>4.0</td>\n",
       "    </tr>\n",
       "  </tbody>\n",
       "</table>\n",
       "<p>248625 rows × 18 columns</p>\n",
       "</div>"
      ],
      "text/plain": [
       "                                         track_name   spotify_name  \\\n",
       "2UjEyfnKzaY7qpBEeESJjv   Even When The Water's Cold            !!!   \n",
       "7y8aVfDkqt6qirGNivvs0M           One Girl / One Boy            !!!   \n",
       "2PAn8J9dbmSnR4fLjpgehC  Dancing Is The Best Revenge            !!!   \n",
       "0BjOgTLP0kLC88XqMoyrv8                         Slyd            !!!   \n",
       "19plwOsYLdF68361d17aAb                   Myth Takes            !!!   \n",
       "...                                             ...            ...   \n",
       "2TU6JSgRLKgks1ydHdPQpC             Wheels in Motion  Heymoonshaker   \n",
       "66lXofi3mf385buHSMiKZN           Find Myself a Home  Heymoonshaker   \n",
       "5Fl64Ztk3D90gTQbdhZqj0                Devil in Mind  Heymoonshaker   \n",
       "1JA12esXthNQiikiQDmbrv                  Coz I Luv U  Heymoonshaker   \n",
       "2AluTdQnl4vn35kqaskcZo                         Mf45  Heymoonshaker   \n",
       "\n",
       "                                    spotify_id  \\\n",
       "2UjEyfnKzaY7qpBEeESJjv  1mmehjf7eHA10uHMisZGJg   \n",
       "7y8aVfDkqt6qirGNivvs0M  1mmehjf7eHA10uHMisZGJg   \n",
       "2PAn8J9dbmSnR4fLjpgehC  1mmehjf7eHA10uHMisZGJg   \n",
       "0BjOgTLP0kLC88XqMoyrv8  1mmehjf7eHA10uHMisZGJg   \n",
       "19plwOsYLdF68361d17aAb  1mmehjf7eHA10uHMisZGJg   \n",
       "...                                        ...   \n",
       "2TU6JSgRLKgks1ydHdPQpC  1ar2o79WFRJbq4lci6jq55   \n",
       "66lXofi3mf385buHSMiKZN  1ar2o79WFRJbq4lci6jq55   \n",
       "5Fl64Ztk3D90gTQbdhZqj0  1ar2o79WFRJbq4lci6jq55   \n",
       "1JA12esXthNQiikiQDmbrv  1ar2o79WFRJbq4lci6jq55   \n",
       "2AluTdQnl4vn35kqaskcZo  1ar2o79WFRJbq4lci6jq55   \n",
       "\n",
       "                                             artist_id  track_popularity  \\\n",
       "2UjEyfnKzaY7qpBEeESJjv    /artists/3684861-chk-chk-chk                49   \n",
       "7y8aVfDkqt6qirGNivvs0M    /artists/3684861-chk-chk-chk                46   \n",
       "2PAn8J9dbmSnR4fLjpgehC    /artists/3684861-chk-chk-chk                43   \n",
       "0BjOgTLP0kLC88XqMoyrv8    /artists/3684861-chk-chk-chk                40   \n",
       "19plwOsYLdF68361d17aAb    /artists/3684861-chk-chk-chk                36   \n",
       "...                                                ...               ...   \n",
       "2TU6JSgRLKgks1ydHdPQpC  /artists/5427898-heymoonshaker                18   \n",
       "66lXofi3mf385buHSMiKZN  /artists/5427898-heymoonshaker                16   \n",
       "5Fl64Ztk3D90gTQbdhZqj0  /artists/5427898-heymoonshaker                13   \n",
       "1JA12esXthNQiikiQDmbrv  /artists/5427898-heymoonshaker                13   \n",
       "2AluTdQnl4vn35kqaskcZo  /artists/5427898-heymoonshaker                13   \n",
       "\n",
       "                        danceability  energy   key  loudness  mode  \\\n",
       "2UjEyfnKzaY7qpBEeESJjv         0.709   0.831   2.0    -6.847   0.0   \n",
       "7y8aVfDkqt6qirGNivvs0M         0.702   0.851  10.0    -5.747   0.0   \n",
       "2PAn8J9dbmSnR4fLjpgehC         0.857   0.762   1.0    -6.327   1.0   \n",
       "0BjOgTLP0kLC88XqMoyrv8         0.858   0.717   0.0    -8.734   1.0   \n",
       "19plwOsYLdF68361d17aAb         0.754   0.770  11.0    -7.830   0.0   \n",
       "...                              ...     ...   ...       ...   ...   \n",
       "2TU6JSgRLKgks1ydHdPQpC         0.810   0.378   2.0    -9.397   1.0   \n",
       "66lXofi3mf385buHSMiKZN         0.740   0.635  11.0    -9.484   0.0   \n",
       "5Fl64Ztk3D90gTQbdhZqj0         0.703   0.595   1.0    -9.310   0.0   \n",
       "1JA12esXthNQiikiQDmbrv         0.746   0.706   2.0    -6.560   0.0   \n",
       "2AluTdQnl4vn35kqaskcZo         0.577   0.394   2.0    -8.366   1.0   \n",
       "\n",
       "                        speechiness  acousticness  instrumentalness  liveness  \\\n",
       "2UjEyfnKzaY7qpBEeESJjv       0.0391       0.10800          0.001280    0.1590   \n",
       "7y8aVfDkqt6qirGNivvs0M       0.0407       0.00255          0.000059    0.3220   \n",
       "2PAn8J9dbmSnR4fLjpgehC       0.0535       0.00339          0.310000    0.0643   \n",
       "0BjOgTLP0kLC88XqMoyrv8       0.0995       0.06260          0.243000    0.2160   \n",
       "19plwOsYLdF68361d17aAb       0.0272       0.13300          0.747000    0.2930   \n",
       "...                             ...           ...               ...       ...   \n",
       "2TU6JSgRLKgks1ydHdPQpC       0.0596       0.52600          0.009470    0.0909   \n",
       "66lXofi3mf385buHSMiKZN       0.0602       0.53800          0.001940    0.0818   \n",
       "5Fl64Ztk3D90gTQbdhZqj0       0.1190       0.00850          0.483000    0.1090   \n",
       "1JA12esXthNQiikiQDmbrv       0.1140       0.51700          0.000005    0.1230   \n",
       "2AluTdQnl4vn35kqaskcZo       0.0275       0.00258          0.097700    0.1020   \n",
       "\n",
       "                        valence    tempo  duration_ms  time_signature  \n",
       "2UjEyfnKzaY7qpBEeESJjv    0.866  104.971     227067.0             4.0  \n",
       "7y8aVfDkqt6qirGNivvs0M    0.870  117.004     243627.0             4.0  \n",
       "2PAn8J9dbmSnR4fLjpgehC    0.804  120.010     281558.0             4.0  \n",
       "0BjOgTLP0kLC88XqMoyrv8    0.582  120.004     254920.0             4.0  \n",
       "19plwOsYLdF68361d17aAb    0.904   97.109     143987.0             4.0  \n",
       "...                         ...      ...          ...             ...  \n",
       "2TU6JSgRLKgks1ydHdPQpC    0.320   91.957     200844.0             4.0  \n",
       "66lXofi3mf385buHSMiKZN    0.114  120.498     236453.0             4.0  \n",
       "5Fl64Ztk3D90gTQbdhZqj0    0.573   75.863     271440.0             4.0  \n",
       "1JA12esXthNQiikiQDmbrv    0.519  134.147     184477.0             4.0  \n",
       "2AluTdQnl4vn35kqaskcZo    0.108   82.055     231418.0             4.0  \n",
       "\n",
       "[248625 rows x 18 columns]"
      ]
     },
     "execution_count": 13,
     "metadata": {},
     "output_type": "execute_result"
    }
   ],
   "source": [
    "spotify_tracks_df = spotify_tracks_df.drop(columns=['id', 'uri', 'track_href', 'analysis_url', 'type'])\n",
    "spotify_tracks_df.to_csv('data/spotify/data_spotify_tracks_v2.csv', encoding='utf-8')\n",
    "spotify_tracks_df"
   ]
  },
  {
   "cell_type": "markdown",
   "id": "e6834898-ca03-471b-9040-dc7711eb551a",
   "metadata": {},
   "source": [
    "---\n",
    "### Get list of music genres\n",
    "---"
   ]
  },
  {
   "cell_type": "code",
   "execution_count": 14,
   "id": "851c6c0d-243b-4e84-a602-3b0861c4b353",
   "metadata": {},
   "outputs": [
    {
     "data": {
      "text/html": [
       "<div>\n",
       "<style scoped>\n",
       "    .dataframe tbody tr th:only-of-type {\n",
       "        vertical-align: middle;\n",
       "    }\n",
       "\n",
       "    .dataframe tbody tr th {\n",
       "        vertical-align: top;\n",
       "    }\n",
       "\n",
       "    .dataframe thead th {\n",
       "        text-align: right;\n",
       "    }\n",
       "</style>\n",
       "<table border=\"1\" class=\"dataframe\">\n",
       "  <thead>\n",
       "    <tr style=\"text-align: right;\">\n",
       "      <th></th>\n",
       "      <th>artist_name</th>\n",
       "      <th>spotify_name</th>\n",
       "      <th>spotify_id</th>\n",
       "      <th>spotify_similarity</th>\n",
       "      <th>spotify_popularity</th>\n",
       "      <th>spotify_followers</th>\n",
       "      <th>spotify_listeners</th>\n",
       "      <th>spotify_genre_1</th>\n",
       "      <th>spotify_genre_2</th>\n",
       "      <th>spotify_genre_3</th>\n",
       "      <th>...</th>\n",
       "      <th>spotify_genre_9</th>\n",
       "      <th>spotify_genre_10</th>\n",
       "      <th>spotify_genre_11</th>\n",
       "      <th>spotify_genre_12</th>\n",
       "      <th>spotify_genre_13</th>\n",
       "      <th>spotify_genre_14</th>\n",
       "      <th>spotify_genre_15</th>\n",
       "      <th>spotify_genre_16</th>\n",
       "      <th>spotify_genre_17</th>\n",
       "      <th>spotify_genre_18</th>\n",
       "    </tr>\n",
       "  </thead>\n",
       "  <tbody>\n",
       "    <tr>\n",
       "      <th>/artists/3684861-chk-chk-chk</th>\n",
       "      <td>!!! (Chk Chk Chk)</td>\n",
       "      <td>!!!</td>\n",
       "      <td>1mmehjf7eHA10uHMisZGJg</td>\n",
       "      <td>0.30</td>\n",
       "      <td>47.0</td>\n",
       "      <td>135100.0</td>\n",
       "      <td>305800.0</td>\n",
       "      <td>alternative dance</td>\n",
       "      <td>dance rock</td>\n",
       "      <td>dance-punk</td>\n",
       "      <td>...</td>\n",
       "      <td>NaN</td>\n",
       "      <td>NaN</td>\n",
       "      <td>NaN</td>\n",
       "      <td>NaN</td>\n",
       "      <td>NaN</td>\n",
       "      <td>NaN</td>\n",
       "      <td>NaN</td>\n",
       "      <td>NaN</td>\n",
       "      <td>NaN</td>\n",
       "      <td>NaN</td>\n",
       "    </tr>\n",
       "    <tr>\n",
       "      <th>/artists/694091-kadebostan</th>\n",
       "      <td>!!!Kadebostan!!!</td>\n",
       "      <td>Kadebostan</td>\n",
       "      <td>6hWRK8VkzbYP9p17M5APJR</td>\n",
       "      <td>0.77</td>\n",
       "      <td>11.0</td>\n",
       "      <td>1348.0</td>\n",
       "      <td>2000.0</td>\n",
       "      <td>swiss techno</td>\n",
       "      <td>NaN</td>\n",
       "      <td>NaN</td>\n",
       "      <td>...</td>\n",
       "      <td>NaN</td>\n",
       "      <td>NaN</td>\n",
       "      <td>NaN</td>\n",
       "      <td>NaN</td>\n",
       "      <td>NaN</td>\n",
       "      <td>NaN</td>\n",
       "      <td>NaN</td>\n",
       "      <td>NaN</td>\n",
       "      <td>NaN</td>\n",
       "      <td>NaN</td>\n",
       "    </tr>\n",
       "    <tr>\n",
       "      <th>/artists/5929284-brothers-in-bamako</th>\n",
       "      <td>\"Brothers In Bamako\"</td>\n",
       "      <td>NaN</td>\n",
       "      <td>NaN</td>\n",
       "      <td>NaN</td>\n",
       "      <td>NaN</td>\n",
       "      <td>NaN</td>\n",
       "      <td>NaN</td>\n",
       "      <td>NaN</td>\n",
       "      <td>NaN</td>\n",
       "      <td>NaN</td>\n",
       "      <td>...</td>\n",
       "      <td>NaN</td>\n",
       "      <td>NaN</td>\n",
       "      <td>NaN</td>\n",
       "      <td>NaN</td>\n",
       "      <td>NaN</td>\n",
       "      <td>NaN</td>\n",
       "      <td>NaN</td>\n",
       "      <td>NaN</td>\n",
       "      <td>NaN</td>\n",
       "      <td>NaN</td>\n",
       "    </tr>\n",
       "    <tr>\n",
       "      <th>/artists/8704378-floyd-division-the-austrian-pink-floyd-tribute-band</th>\n",
       "      <td>\"Floyd Division\" The Austrian Pink Floyd Tribu...</td>\n",
       "      <td>NaN</td>\n",
       "      <td>NaN</td>\n",
       "      <td>NaN</td>\n",
       "      <td>NaN</td>\n",
       "      <td>NaN</td>\n",
       "      <td>NaN</td>\n",
       "      <td>NaN</td>\n",
       "      <td>NaN</td>\n",
       "      <td>NaN</td>\n",
       "      <td>...</td>\n",
       "      <td>NaN</td>\n",
       "      <td>NaN</td>\n",
       "      <td>NaN</td>\n",
       "      <td>NaN</td>\n",
       "      <td>NaN</td>\n",
       "      <td>NaN</td>\n",
       "      <td>NaN</td>\n",
       "      <td>NaN</td>\n",
       "      <td>NaN</td>\n",
       "      <td>NaN</td>\n",
       "    </tr>\n",
       "    <tr>\n",
       "      <th>/artists/7172094-jazzetcetera-stewy-von-wattenwyl-group-feat-lisette-spinnler</th>\n",
       "      <td>\"Jazz...etcetera\" Stewy von Wattenwyl Group,  ...</td>\n",
       "      <td>NaN</td>\n",
       "      <td>NaN</td>\n",
       "      <td>NaN</td>\n",
       "      <td>NaN</td>\n",
       "      <td>NaN</td>\n",
       "      <td>NaN</td>\n",
       "      <td>NaN</td>\n",
       "      <td>NaN</td>\n",
       "      <td>NaN</td>\n",
       "      <td>...</td>\n",
       "      <td>NaN</td>\n",
       "      <td>NaN</td>\n",
       "      <td>NaN</td>\n",
       "      <td>NaN</td>\n",
       "      <td>NaN</td>\n",
       "      <td>NaN</td>\n",
       "      <td>NaN</td>\n",
       "      <td>NaN</td>\n",
       "      <td>NaN</td>\n",
       "      <td>NaN</td>\n",
       "    </tr>\n",
       "    <tr>\n",
       "      <th>...</th>\n",
       "      <td>...</td>\n",
       "      <td>...</td>\n",
       "      <td>...</td>\n",
       "      <td>...</td>\n",
       "      <td>...</td>\n",
       "      <td>...</td>\n",
       "      <td>...</td>\n",
       "      <td>...</td>\n",
       "      <td>...</td>\n",
       "      <td>...</td>\n",
       "      <td>...</td>\n",
       "      <td>...</td>\n",
       "      <td>...</td>\n",
       "      <td>...</td>\n",
       "      <td>...</td>\n",
       "      <td>...</td>\n",
       "      <td>...</td>\n",
       "      <td>...</td>\n",
       "      <td>...</td>\n",
       "      <td>...</td>\n",
       "      <td>...</td>\n",
       "    </tr>\n",
       "    <tr>\n",
       "      <th>/artists/4301-and-you-will-know-us-by-the-trail-of-dead</th>\n",
       "      <td>…And You Will Know Us by the Trail of Dead</td>\n",
       "      <td>...And You Will Know Us by the Trail of Dead</td>\n",
       "      <td>6wBUn8gMP85n8dPu6LoUcF</td>\n",
       "      <td>0.95</td>\n",
       "      <td>41.0</td>\n",
       "      <td>64802.0</td>\n",
       "      <td>99200.0</td>\n",
       "      <td>alternative rock</td>\n",
       "      <td>double drumming</td>\n",
       "      <td>indie rock</td>\n",
       "      <td>...</td>\n",
       "      <td>NaN</td>\n",
       "      <td>NaN</td>\n",
       "      <td>NaN</td>\n",
       "      <td>NaN</td>\n",
       "      <td>NaN</td>\n",
       "      <td>NaN</td>\n",
       "      <td>NaN</td>\n",
       "      <td>NaN</td>\n",
       "      <td>NaN</td>\n",
       "      <td>NaN</td>\n",
       "    </tr>\n",
       "    <tr>\n",
       "      <th>/artists/1099500-euuroshima</th>\n",
       "      <td>€urOshima</td>\n",
       "      <td>Taro Urashima</td>\n",
       "      <td>5RSxs4Rb82wINvjv5KJ7JK</td>\n",
       "      <td>0.64</td>\n",
       "      <td>36.0</td>\n",
       "      <td>14600.0</td>\n",
       "      <td>79300.0</td>\n",
       "      <td>okinawan pop</td>\n",
       "      <td>NaN</td>\n",
       "      <td>NaN</td>\n",
       "      <td>...</td>\n",
       "      <td>NaN</td>\n",
       "      <td>NaN</td>\n",
       "      <td>NaN</td>\n",
       "      <td>NaN</td>\n",
       "      <td>NaN</td>\n",
       "      <td>NaN</td>\n",
       "      <td>NaN</td>\n",
       "      <td>NaN</td>\n",
       "      <td>NaN</td>\n",
       "      <td>NaN</td>\n",
       "    </tr>\n",
       "    <tr>\n",
       "      <th>/artists/9573874-belize-it</th>\n",
       "      <td>≈ Belize ≈</td>\n",
       "      <td>≈ Belize ≈</td>\n",
       "      <td>3b8bBMsmGoBd8gYn1pngNc</td>\n",
       "      <td>1.00</td>\n",
       "      <td>18.0</td>\n",
       "      <td>6697.0</td>\n",
       "      <td>4900.0</td>\n",
       "      <td>italian indie pop</td>\n",
       "      <td>milan indie</td>\n",
       "      <td>NaN</td>\n",
       "      <td>...</td>\n",
       "      <td>NaN</td>\n",
       "      <td>NaN</td>\n",
       "      <td>NaN</td>\n",
       "      <td>NaN</td>\n",
       "      <td>NaN</td>\n",
       "      <td>NaN</td>\n",
       "      <td>NaN</td>\n",
       "      <td>NaN</td>\n",
       "      <td>NaN</td>\n",
       "      <td>NaN</td>\n",
       "    </tr>\n",
       "    <tr>\n",
       "      <th>/artists/8889739-luo-chai-cao-yuan-wwww-prairie-wwww</th>\n",
       "      <td>落差草原 WWWW / Prairie WWWW</td>\n",
       "      <td>NaN</td>\n",
       "      <td>NaN</td>\n",
       "      <td>NaN</td>\n",
       "      <td>NaN</td>\n",
       "      <td>NaN</td>\n",
       "      <td>NaN</td>\n",
       "      <td>NaN</td>\n",
       "      <td>NaN</td>\n",
       "      <td>NaN</td>\n",
       "      <td>...</td>\n",
       "      <td>NaN</td>\n",
       "      <td>NaN</td>\n",
       "      <td>NaN</td>\n",
       "      <td>NaN</td>\n",
       "      <td>NaN</td>\n",
       "      <td>NaN</td>\n",
       "      <td>NaN</td>\n",
       "      <td>NaN</td>\n",
       "      <td>NaN</td>\n",
       "      <td>NaN</td>\n",
       "    </tr>\n",
       "    <tr>\n",
       "      <th>/artists/5427898-heymoonshaker</th>\n",
       "      <td>﻿﻿heymoonshaker</td>\n",
       "      <td>Heymoonshaker</td>\n",
       "      <td>1ar2o79WFRJbq4lci6jq55</td>\n",
       "      <td>0.93</td>\n",
       "      <td>28.0</td>\n",
       "      <td>16021.0</td>\n",
       "      <td>17500.0</td>\n",
       "      <td>beatboxing</td>\n",
       "      <td>NaN</td>\n",
       "      <td>NaN</td>\n",
       "      <td>...</td>\n",
       "      <td>NaN</td>\n",
       "      <td>NaN</td>\n",
       "      <td>NaN</td>\n",
       "      <td>NaN</td>\n",
       "      <td>NaN</td>\n",
       "      <td>NaN</td>\n",
       "      <td>NaN</td>\n",
       "      <td>NaN</td>\n",
       "      <td>NaN</td>\n",
       "      <td>NaN</td>\n",
       "    </tr>\n",
       "  </tbody>\n",
       "</table>\n",
       "<p>32231 rows × 25 columns</p>\n",
       "</div>"
      ],
      "text/plain": [
       "                                                                                          artist_name  \\\n",
       "/artists/3684861-chk-chk-chk                                                        !!! (Chk Chk Chk)   \n",
       "/artists/694091-kadebostan                                                           !!!Kadebostan!!!   \n",
       "/artists/5929284-brothers-in-bamako                                              \"Brothers In Bamako\"   \n",
       "/artists/8704378-floyd-division-the-austrian-pi...  \"Floyd Division\" The Austrian Pink Floyd Tribu...   \n",
       "/artists/7172094-jazzetcetera-stewy-von-wattenw...  \"Jazz...etcetera\" Stewy von Wattenwyl Group,  ...   \n",
       "...                                                                                               ...   \n",
       "/artists/4301-and-you-will-know-us-by-the-trail...         …And You Will Know Us by the Trail of Dead   \n",
       "/artists/1099500-euuroshima                                                                 €urOshima   \n",
       "/artists/9573874-belize-it                                                                ≈ Belize ≈    \n",
       "/artists/8889739-luo-chai-cao-yuan-wwww-prairie...                           落差草原 WWWW / Prairie WWWW   \n",
       "/artists/5427898-heymoonshaker                                                        ﻿﻿heymoonshaker   \n",
       "\n",
       "                                                                                    spotify_name  \\\n",
       "/artists/3684861-chk-chk-chk                                                                 !!!   \n",
       "/artists/694091-kadebostan                                                            Kadebostan   \n",
       "/artists/5929284-brothers-in-bamako                                                          NaN   \n",
       "/artists/8704378-floyd-division-the-austrian-pi...                                           NaN   \n",
       "/artists/7172094-jazzetcetera-stewy-von-wattenw...                                           NaN   \n",
       "...                                                                                          ...   \n",
       "/artists/4301-and-you-will-know-us-by-the-trail...  ...And You Will Know Us by the Trail of Dead   \n",
       "/artists/1099500-euuroshima                                                        Taro Urashima   \n",
       "/artists/9573874-belize-it                                                            ≈ Belize ≈   \n",
       "/artists/8889739-luo-chai-cao-yuan-wwww-prairie...                                           NaN   \n",
       "/artists/5427898-heymoonshaker                                                     Heymoonshaker   \n",
       "\n",
       "                                                                spotify_id  \\\n",
       "/artists/3684861-chk-chk-chk                        1mmehjf7eHA10uHMisZGJg   \n",
       "/artists/694091-kadebostan                          6hWRK8VkzbYP9p17M5APJR   \n",
       "/artists/5929284-brothers-in-bamako                                    NaN   \n",
       "/artists/8704378-floyd-division-the-austrian-pi...                     NaN   \n",
       "/artists/7172094-jazzetcetera-stewy-von-wattenw...                     NaN   \n",
       "...                                                                    ...   \n",
       "/artists/4301-and-you-will-know-us-by-the-trail...  6wBUn8gMP85n8dPu6LoUcF   \n",
       "/artists/1099500-euuroshima                         5RSxs4Rb82wINvjv5KJ7JK   \n",
       "/artists/9573874-belize-it                          3b8bBMsmGoBd8gYn1pngNc   \n",
       "/artists/8889739-luo-chai-cao-yuan-wwww-prairie...                     NaN   \n",
       "/artists/5427898-heymoonshaker                      1ar2o79WFRJbq4lci6jq55   \n",
       "\n",
       "                                                    spotify_similarity  \\\n",
       "/artists/3684861-chk-chk-chk                                      0.30   \n",
       "/artists/694091-kadebostan                                        0.77   \n",
       "/artists/5929284-brothers-in-bamako                                NaN   \n",
       "/artists/8704378-floyd-division-the-austrian-pi...                 NaN   \n",
       "/artists/7172094-jazzetcetera-stewy-von-wattenw...                 NaN   \n",
       "...                                                                ...   \n",
       "/artists/4301-and-you-will-know-us-by-the-trail...                0.95   \n",
       "/artists/1099500-euuroshima                                       0.64   \n",
       "/artists/9573874-belize-it                                        1.00   \n",
       "/artists/8889739-luo-chai-cao-yuan-wwww-prairie...                 NaN   \n",
       "/artists/5427898-heymoonshaker                                    0.93   \n",
       "\n",
       "                                                    spotify_popularity  \\\n",
       "/artists/3684861-chk-chk-chk                                      47.0   \n",
       "/artists/694091-kadebostan                                        11.0   \n",
       "/artists/5929284-brothers-in-bamako                                NaN   \n",
       "/artists/8704378-floyd-division-the-austrian-pi...                 NaN   \n",
       "/artists/7172094-jazzetcetera-stewy-von-wattenw...                 NaN   \n",
       "...                                                                ...   \n",
       "/artists/4301-and-you-will-know-us-by-the-trail...                41.0   \n",
       "/artists/1099500-euuroshima                                       36.0   \n",
       "/artists/9573874-belize-it                                        18.0   \n",
       "/artists/8889739-luo-chai-cao-yuan-wwww-prairie...                 NaN   \n",
       "/artists/5427898-heymoonshaker                                    28.0   \n",
       "\n",
       "                                                    spotify_followers  \\\n",
       "/artists/3684861-chk-chk-chk                                 135100.0   \n",
       "/artists/694091-kadebostan                                     1348.0   \n",
       "/artists/5929284-brothers-in-bamako                               NaN   \n",
       "/artists/8704378-floyd-division-the-austrian-pi...                NaN   \n",
       "/artists/7172094-jazzetcetera-stewy-von-wattenw...                NaN   \n",
       "...                                                               ...   \n",
       "/artists/4301-and-you-will-know-us-by-the-trail...            64802.0   \n",
       "/artists/1099500-euuroshima                                   14600.0   \n",
       "/artists/9573874-belize-it                                     6697.0   \n",
       "/artists/8889739-luo-chai-cao-yuan-wwww-prairie...                NaN   \n",
       "/artists/5427898-heymoonshaker                                16021.0   \n",
       "\n",
       "                                                    spotify_listeners  \\\n",
       "/artists/3684861-chk-chk-chk                                 305800.0   \n",
       "/artists/694091-kadebostan                                     2000.0   \n",
       "/artists/5929284-brothers-in-bamako                               NaN   \n",
       "/artists/8704378-floyd-division-the-austrian-pi...                NaN   \n",
       "/artists/7172094-jazzetcetera-stewy-von-wattenw...                NaN   \n",
       "...                                                               ...   \n",
       "/artists/4301-and-you-will-know-us-by-the-trail...            99200.0   \n",
       "/artists/1099500-euuroshima                                   79300.0   \n",
       "/artists/9573874-belize-it                                     4900.0   \n",
       "/artists/8889739-luo-chai-cao-yuan-wwww-prairie...                NaN   \n",
       "/artists/5427898-heymoonshaker                                17500.0   \n",
       "\n",
       "                                                      spotify_genre_1  \\\n",
       "/artists/3684861-chk-chk-chk                        alternative dance   \n",
       "/artists/694091-kadebostan                               swiss techno   \n",
       "/artists/5929284-brothers-in-bamako                               NaN   \n",
       "/artists/8704378-floyd-division-the-austrian-pi...                NaN   \n",
       "/artists/7172094-jazzetcetera-stewy-von-wattenw...                NaN   \n",
       "...                                                               ...   \n",
       "/artists/4301-and-you-will-know-us-by-the-trail...   alternative rock   \n",
       "/artists/1099500-euuroshima                              okinawan pop   \n",
       "/artists/9573874-belize-it                          italian indie pop   \n",
       "/artists/8889739-luo-chai-cao-yuan-wwww-prairie...                NaN   \n",
       "/artists/5427898-heymoonshaker                             beatboxing   \n",
       "\n",
       "                                                    spotify_genre_2  \\\n",
       "/artists/3684861-chk-chk-chk                             dance rock   \n",
       "/artists/694091-kadebostan                                      NaN   \n",
       "/artists/5929284-brothers-in-bamako                             NaN   \n",
       "/artists/8704378-floyd-division-the-austrian-pi...              NaN   \n",
       "/artists/7172094-jazzetcetera-stewy-von-wattenw...              NaN   \n",
       "...                                                             ...   \n",
       "/artists/4301-and-you-will-know-us-by-the-trail...  double drumming   \n",
       "/artists/1099500-euuroshima                                     NaN   \n",
       "/artists/9573874-belize-it                              milan indie   \n",
       "/artists/8889739-luo-chai-cao-yuan-wwww-prairie...              NaN   \n",
       "/artists/5427898-heymoonshaker                                  NaN   \n",
       "\n",
       "                                                   spotify_genre_3  ...  \\\n",
       "/artists/3684861-chk-chk-chk                            dance-punk  ...   \n",
       "/artists/694091-kadebostan                                     NaN  ...   \n",
       "/artists/5929284-brothers-in-bamako                            NaN  ...   \n",
       "/artists/8704378-floyd-division-the-austrian-pi...             NaN  ...   \n",
       "/artists/7172094-jazzetcetera-stewy-von-wattenw...             NaN  ...   \n",
       "...                                                            ...  ...   \n",
       "/artists/4301-and-you-will-know-us-by-the-trail...      indie rock  ...   \n",
       "/artists/1099500-euuroshima                                    NaN  ...   \n",
       "/artists/9573874-belize-it                                     NaN  ...   \n",
       "/artists/8889739-luo-chai-cao-yuan-wwww-prairie...             NaN  ...   \n",
       "/artists/5427898-heymoonshaker                                 NaN  ...   \n",
       "\n",
       "                                                   spotify_genre_9  \\\n",
       "/artists/3684861-chk-chk-chk                                   NaN   \n",
       "/artists/694091-kadebostan                                     NaN   \n",
       "/artists/5929284-brothers-in-bamako                            NaN   \n",
       "/artists/8704378-floyd-division-the-austrian-pi...             NaN   \n",
       "/artists/7172094-jazzetcetera-stewy-von-wattenw...             NaN   \n",
       "...                                                            ...   \n",
       "/artists/4301-and-you-will-know-us-by-the-trail...             NaN   \n",
       "/artists/1099500-euuroshima                                    NaN   \n",
       "/artists/9573874-belize-it                                     NaN   \n",
       "/artists/8889739-luo-chai-cao-yuan-wwww-prairie...             NaN   \n",
       "/artists/5427898-heymoonshaker                                 NaN   \n",
       "\n",
       "                                                   spotify_genre_10  \\\n",
       "/artists/3684861-chk-chk-chk                                    NaN   \n",
       "/artists/694091-kadebostan                                      NaN   \n",
       "/artists/5929284-brothers-in-bamako                             NaN   \n",
       "/artists/8704378-floyd-division-the-austrian-pi...              NaN   \n",
       "/artists/7172094-jazzetcetera-stewy-von-wattenw...              NaN   \n",
       "...                                                             ...   \n",
       "/artists/4301-and-you-will-know-us-by-the-trail...              NaN   \n",
       "/artists/1099500-euuroshima                                     NaN   \n",
       "/artists/9573874-belize-it                                      NaN   \n",
       "/artists/8889739-luo-chai-cao-yuan-wwww-prairie...              NaN   \n",
       "/artists/5427898-heymoonshaker                                  NaN   \n",
       "\n",
       "                                                   spotify_genre_11  \\\n",
       "/artists/3684861-chk-chk-chk                                    NaN   \n",
       "/artists/694091-kadebostan                                      NaN   \n",
       "/artists/5929284-brothers-in-bamako                             NaN   \n",
       "/artists/8704378-floyd-division-the-austrian-pi...              NaN   \n",
       "/artists/7172094-jazzetcetera-stewy-von-wattenw...              NaN   \n",
       "...                                                             ...   \n",
       "/artists/4301-and-you-will-know-us-by-the-trail...              NaN   \n",
       "/artists/1099500-euuroshima                                     NaN   \n",
       "/artists/9573874-belize-it                                      NaN   \n",
       "/artists/8889739-luo-chai-cao-yuan-wwww-prairie...              NaN   \n",
       "/artists/5427898-heymoonshaker                                  NaN   \n",
       "\n",
       "                                                   spotify_genre_12  \\\n",
       "/artists/3684861-chk-chk-chk                                    NaN   \n",
       "/artists/694091-kadebostan                                      NaN   \n",
       "/artists/5929284-brothers-in-bamako                             NaN   \n",
       "/artists/8704378-floyd-division-the-austrian-pi...              NaN   \n",
       "/artists/7172094-jazzetcetera-stewy-von-wattenw...              NaN   \n",
       "...                                                             ...   \n",
       "/artists/4301-and-you-will-know-us-by-the-trail...              NaN   \n",
       "/artists/1099500-euuroshima                                     NaN   \n",
       "/artists/9573874-belize-it                                      NaN   \n",
       "/artists/8889739-luo-chai-cao-yuan-wwww-prairie...              NaN   \n",
       "/artists/5427898-heymoonshaker                                  NaN   \n",
       "\n",
       "                                                   spotify_genre_13  \\\n",
       "/artists/3684861-chk-chk-chk                                    NaN   \n",
       "/artists/694091-kadebostan                                      NaN   \n",
       "/artists/5929284-brothers-in-bamako                             NaN   \n",
       "/artists/8704378-floyd-division-the-austrian-pi...              NaN   \n",
       "/artists/7172094-jazzetcetera-stewy-von-wattenw...              NaN   \n",
       "...                                                             ...   \n",
       "/artists/4301-and-you-will-know-us-by-the-trail...              NaN   \n",
       "/artists/1099500-euuroshima                                     NaN   \n",
       "/artists/9573874-belize-it                                      NaN   \n",
       "/artists/8889739-luo-chai-cao-yuan-wwww-prairie...              NaN   \n",
       "/artists/5427898-heymoonshaker                                  NaN   \n",
       "\n",
       "                                                   spotify_genre_14  \\\n",
       "/artists/3684861-chk-chk-chk                                    NaN   \n",
       "/artists/694091-kadebostan                                      NaN   \n",
       "/artists/5929284-brothers-in-bamako                             NaN   \n",
       "/artists/8704378-floyd-division-the-austrian-pi...              NaN   \n",
       "/artists/7172094-jazzetcetera-stewy-von-wattenw...              NaN   \n",
       "...                                                             ...   \n",
       "/artists/4301-and-you-will-know-us-by-the-trail...              NaN   \n",
       "/artists/1099500-euuroshima                                     NaN   \n",
       "/artists/9573874-belize-it                                      NaN   \n",
       "/artists/8889739-luo-chai-cao-yuan-wwww-prairie...              NaN   \n",
       "/artists/5427898-heymoonshaker                                  NaN   \n",
       "\n",
       "                                                   spotify_genre_15  \\\n",
       "/artists/3684861-chk-chk-chk                                    NaN   \n",
       "/artists/694091-kadebostan                                      NaN   \n",
       "/artists/5929284-brothers-in-bamako                             NaN   \n",
       "/artists/8704378-floyd-division-the-austrian-pi...              NaN   \n",
       "/artists/7172094-jazzetcetera-stewy-von-wattenw...              NaN   \n",
       "...                                                             ...   \n",
       "/artists/4301-and-you-will-know-us-by-the-trail...              NaN   \n",
       "/artists/1099500-euuroshima                                     NaN   \n",
       "/artists/9573874-belize-it                                      NaN   \n",
       "/artists/8889739-luo-chai-cao-yuan-wwww-prairie...              NaN   \n",
       "/artists/5427898-heymoonshaker                                  NaN   \n",
       "\n",
       "                                                   spotify_genre_16  \\\n",
       "/artists/3684861-chk-chk-chk                                    NaN   \n",
       "/artists/694091-kadebostan                                      NaN   \n",
       "/artists/5929284-brothers-in-bamako                             NaN   \n",
       "/artists/8704378-floyd-division-the-austrian-pi...              NaN   \n",
       "/artists/7172094-jazzetcetera-stewy-von-wattenw...              NaN   \n",
       "...                                                             ...   \n",
       "/artists/4301-and-you-will-know-us-by-the-trail...              NaN   \n",
       "/artists/1099500-euuroshima                                     NaN   \n",
       "/artists/9573874-belize-it                                      NaN   \n",
       "/artists/8889739-luo-chai-cao-yuan-wwww-prairie...              NaN   \n",
       "/artists/5427898-heymoonshaker                                  NaN   \n",
       "\n",
       "                                                   spotify_genre_17  \\\n",
       "/artists/3684861-chk-chk-chk                                    NaN   \n",
       "/artists/694091-kadebostan                                      NaN   \n",
       "/artists/5929284-brothers-in-bamako                             NaN   \n",
       "/artists/8704378-floyd-division-the-austrian-pi...              NaN   \n",
       "/artists/7172094-jazzetcetera-stewy-von-wattenw...              NaN   \n",
       "...                                                             ...   \n",
       "/artists/4301-and-you-will-know-us-by-the-trail...              NaN   \n",
       "/artists/1099500-euuroshima                                     NaN   \n",
       "/artists/9573874-belize-it                                      NaN   \n",
       "/artists/8889739-luo-chai-cao-yuan-wwww-prairie...              NaN   \n",
       "/artists/5427898-heymoonshaker                                  NaN   \n",
       "\n",
       "                                                   spotify_genre_18  \n",
       "/artists/3684861-chk-chk-chk                                    NaN  \n",
       "/artists/694091-kadebostan                                      NaN  \n",
       "/artists/5929284-brothers-in-bamako                             NaN  \n",
       "/artists/8704378-floyd-division-the-austrian-pi...              NaN  \n",
       "/artists/7172094-jazzetcetera-stewy-von-wattenw...              NaN  \n",
       "...                                                             ...  \n",
       "/artists/4301-and-you-will-know-us-by-the-trail...              NaN  \n",
       "/artists/1099500-euuroshima                                     NaN  \n",
       "/artists/9573874-belize-it                                      NaN  \n",
       "/artists/8889739-luo-chai-cao-yuan-wwww-prairie...              NaN  \n",
       "/artists/5427898-heymoonshaker                                  NaN  \n",
       "\n",
       "[32231 rows x 25 columns]"
      ]
     },
     "execution_count": 14,
     "metadata": {},
     "output_type": "execute_result"
    }
   ],
   "source": [
    "with open('data/spotify/data_spotify_artists_v2.csv', encoding='utf-8') as artists_file:\n",
    "    spotify_artists_df = pd.read_csv(artists_file, index_col=0)\n",
    "    \n",
    "spotify_artists_df"
   ]
  },
  {
   "cell_type": "code",
   "execution_count": 15,
   "id": "b0a54852-348d-430d-8f30-811a16109feb",
   "metadata": {},
   "outputs": [
    {
     "data": {
      "text/html": [
       "<div>\n",
       "<style scoped>\n",
       "    .dataframe tbody tr th:only-of-type {\n",
       "        vertical-align: middle;\n",
       "    }\n",
       "\n",
       "    .dataframe tbody tr th {\n",
       "        vertical-align: top;\n",
       "    }\n",
       "\n",
       "    .dataframe thead th {\n",
       "        text-align: right;\n",
       "    }\n",
       "</style>\n",
       "<table border=\"1\" class=\"dataframe\">\n",
       "  <thead>\n",
       "    <tr style=\"text-align: right;\">\n",
       "      <th></th>\n",
       "      <th>occurrences</th>\n",
       "    </tr>\n",
       "    <tr>\n",
       "      <th>spotify_genre</th>\n",
       "      <th></th>\n",
       "    </tr>\n",
       "  </thead>\n",
       "  <tbody>\n",
       "    <tr>\n",
       "      <th>21st century classical</th>\n",
       "      <td>6</td>\n",
       "    </tr>\n",
       "    <tr>\n",
       "      <th>5th wave emo</th>\n",
       "      <td>6</td>\n",
       "    </tr>\n",
       "    <tr>\n",
       "      <th>a cappella</th>\n",
       "      <td>13</td>\n",
       "    </tr>\n",
       "    <tr>\n",
       "      <th>aarhus indie</th>\n",
       "      <td>5</td>\n",
       "    </tr>\n",
       "    <tr>\n",
       "      <th>aberdeen indie</th>\n",
       "      <td>1</td>\n",
       "    </tr>\n",
       "    <tr>\n",
       "      <th>...</th>\n",
       "      <td>...</td>\n",
       "    </tr>\n",
       "    <tr>\n",
       "      <th>zillertal</th>\n",
       "      <td>6</td>\n",
       "    </tr>\n",
       "    <tr>\n",
       "      <th>zim urban groove</th>\n",
       "      <td>3</td>\n",
       "    </tr>\n",
       "    <tr>\n",
       "      <th>zolo</th>\n",
       "      <td>18</td>\n",
       "    </tr>\n",
       "    <tr>\n",
       "      <th>zouk</th>\n",
       "      <td>5</td>\n",
       "    </tr>\n",
       "    <tr>\n",
       "      <th>zurich indie</th>\n",
       "      <td>43</td>\n",
       "    </tr>\n",
       "  </tbody>\n",
       "</table>\n",
       "<p>3744 rows × 1 columns</p>\n",
       "</div>"
      ],
      "text/plain": [
       "                        occurrences\n",
       "spotify_genre                      \n",
       "21st century classical            6\n",
       "5th wave emo                      6\n",
       "a cappella                       13\n",
       "aarhus indie                      5\n",
       "aberdeen indie                    1\n",
       "...                             ...\n",
       "zillertal                         6\n",
       "zim urban groove                  3\n",
       "zolo                             18\n",
       "zouk                              5\n",
       "zurich indie                     43\n",
       "\n",
       "[3744 rows x 1 columns]"
      ]
     },
     "execution_count": 15,
     "metadata": {},
     "output_type": "execute_result"
    }
   ],
   "source": [
    "# get the list of spotify genres\n",
    "\n",
    "columns_list = ['spotify_genre_' + str(x) for x in range(1, 20)]\n",
    "genres_df = spotify_artists_df[spotify_artists_df.columns.intersection(columns_list)]\n",
    "genres_dict = genres_df.stack().value_counts().to_dict()\n",
    "\n",
    "genres_df = pd.DataFrame.from_dict(genres_dict, orient='index')\n",
    "genres_df = genres_df.rename(columns={0: 'occurrences'}).sort_index()\n",
    "genres_df.index.name = 'spotify_genre'\n",
    "\n",
    "genres_df.to_csv('data/spotify/data_spotify_genres_v2.csv', encoding='utf-8')\n",
    "genres_df"
   ]
  }
 ],
 "metadata": {
  "kernelspec": {
   "display_name": "Python 3 (ipykernel)",
   "language": "python",
   "name": "python3"
  },
  "language_info": {
   "codemirror_mode": {
    "name": "ipython",
    "version": 3
   },
   "file_extension": ".py",
   "mimetype": "text/x-python",
   "name": "python",
   "nbconvert_exporter": "python",
   "pygments_lexer": "ipython3",
   "version": "3.8.10"
  }
 },
 "nbformat": 4,
 "nbformat_minor": 5
}
