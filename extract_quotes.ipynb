{
 "cells": [
  {
   "cell_type": "code",
   "execution_count": 19,
   "id": "75d4572d-8da1-42b0-bb81-e85b93f1d561",
   "metadata": {},
   "outputs": [],
   "source": [
    "import codecs\n",
    "\n",
    "def slashescape(err):\n",
    "    \"\"\" codecs error handler. err is UnicodeDecode instance. return\n",
    "    a tuple with a replacement for the unencodable part of the input\n",
    "    and a position where encoding should continue\"\"\"\n",
    "    #print err, dir(err), err.start, err.end, err.object[:err.start]\n",
    "    thebyte = err.object[err.start:err.end]\n",
    "    repl = u'\\\\x'+hex(ord(thebyte))[2:]\n",
    "    return (repl, err.end)\n",
    "\n",
    "codecs.register_error('slashescape', slashescape)"
   ]
  },
  {
   "cell_type": "code",
   "execution_count": 29,
   "id": "242a904f-23cc-4aa3-96f5-25f5935c65ee",
   "metadata": {},
   "outputs": [
    {
     "name": "stdout",
     "output_type": "stream",
     "text": [
      "4315\n"
     ]
    }
   ],
   "source": [
    "from pdfminer.pdfparser import PDFParser\n",
    "from pdfminer.pdfdocument import PDFDocument\n",
    "from pdfminer.pdftypes import resolve1\n",
    "import pyperclip\n",
    "\n",
    "with open('paper/pdf_comments/Perrenoud et al. - 2020 - Les musiciennes de « musiques actuelles » en Suiss.fdf', 'rb') as fdf_file:\n",
    "    parser = PDFParser(fdf_file)\n",
    "    doc = PDFDocument(parser)\n",
    "\n",
    "    fields = resolve1(doc.catalog['FDF'])['Annots']\n",
    "    previous_page = 0\n",
    "    base_page = 103\n",
    "    content_string = ''\n",
    "    \n",
    "    for i in fields:\n",
    "        field = resolve1(i)\n",
    "        #print(field)\n",
    "        if str(field['Subtype']) == \"/'Highlight'\":\n",
    "            try:\n",
    "                current_page = field['Page']\n",
    "                    \n",
    "                content = field['Contents']\n",
    "                #print(content)\n",
    "                content_decoded = content.decode('utf-8', 'slashescape')\n",
    "                # replacing byte code of return carriage by white space\n",
    "                content_decoded = content_decoded.replace('\\r', ' ')\n",
    "                # replacing byte codes of quotation marks by regular quotation marks\n",
    "                content_decoded = content_decoded.replace('\\\\x8e', '\"')\n",
    "                content_decoded = content_decoded.replace('\\\\x8f', \"'\")\n",
    "                content_decoded = content_decoded.replace('\\\\x90', \"'\")\n",
    "                content_decoded = content_decoded.replace('\\\\x8d', '\"')\n",
    "                content_decoded = content_decoded.replace('\\\\xe9', 'é')\n",
    "                content_decoded = content_decoded.replace('\\\\xe8', 'è')\n",
    "                content_decoded = content_decoded.replace('\\\\xea', 'ê')\n",
    "                content_decoded = content_decoded.replace('\\\\xc9', 'É')\n",
    "                content_decoded = content_decoded.replace('\\\\xf4', 'ô')\n",
    "                content_decoded = content_decoded.replace('\\\\xe0', 'à')\n",
    "                content_decoded = content_decoded.replace('\\\\xe2', 'â')\n",
    "                content_decoded = content_decoded.replace('\\\\xc0', 'À')\n",
    "                content_decoded = content_decoded.replace('\\\\xfc', 'ü')\n",
    "                content_decoded = content_decoded.replace('\\\\xf9', 'ù')\n",
    "                content_decoded = content_decoded.replace('\\\\xe7', 'ç')\n",
    "                content_decoded = content_decoded.replace('\\\\xee', 'î')\n",
    "                content_decoded = content_decoded.replace('\\\\xab ', '\"')\n",
    "                content_decoded = content_decoded.replace(' \\\\xbb', '\"')\n",
    "                content_decoded = content_decoded.replace('\\\\x85', '-')\n",
    "                content_decoded = content_decoded.replace('\\\\x80', '\\n•')\n",
    "                \n",
    "                content_string += content_decoded + '\\n' + '\\t' + str(base_page + current_page) + '\\n'\n",
    "            except KeyError:\n",
    "                pass\n",
    "    \n",
    "    #print(content_string)\n",
    "    pyperclip.copy(content_string)\n",
    "    print(len(content_string))"
   ]
  }
 ],
 "metadata": {
  "kernelspec": {
   "display_name": "Python 3 (ipykernel)",
   "language": "python",
   "name": "python3"
  },
  "language_info": {
   "codemirror_mode": {
    "name": "ipython",
    "version": 3
   },
   "file_extension": ".py",
   "mimetype": "text/x-python",
   "name": "python",
   "nbconvert_exporter": "python",
   "pygments_lexer": "ipython3",
   "version": "3.8.10"
  }
 },
 "nbformat": 4,
 "nbformat_minor": 5
}
